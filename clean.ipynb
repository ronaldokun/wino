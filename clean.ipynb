{
 "cells": [
  {
   "cell_type": "code",
   "execution_count": 1,
   "metadata": {},
   "outputs": [],
   "source": [
    "import pandas_profiling as pp\n",
    "import pandas as pd\n",
    "import numpy as np\n",
    "from pathlib import Path\n",
    "import seaborn as sns\n",
    "import matplotlib.pyplot as plt"
   ]
  },
  {
   "cell_type": "code",
   "execution_count": 2,
   "metadata": {},
   "outputs": [],
   "source": [
    "def CalcOutliers(df_num): \n",
    "    '''\n",
    "    \n",
    "    Leonardo Ferreira 20/10/2018\n",
    "    Set a numerical value and it will calculate the upper, lower and total number of outliers\n",
    "    It will print a lot of statistics of the numerical feature that you set on input\n",
    "    \n",
    "    '''\n",
    "    # calculating mean and std of the array\n",
    "    data_mean, data_std = np.mean(df_num), np.std(df_num)\n",
    "\n",
    "    # seting the cut line to both higher and lower values\n",
    "    # You can change this value\n",
    "    cut = data_std * 3\n",
    "\n",
    "    #Calculating the higher and lower cut values\n",
    "    lower, upper = data_mean - cut, data_mean + cut\n",
    "\n",
    "    # creating an array of lower, higher and total outlier values \n",
    "    outliers_lower = [x for x in df_num if x < lower]\n",
    "    outliers_higher = [x for x in df_num if x > upper]\n",
    "    outliers_total = [x for x in df_num if x < lower or x > upper]\n",
    "\n",
    "    # array without outlier values\n",
    "    outliers_removed = [x for x in df_num if x > lower and x < upper]\n",
    "    \n",
    "    print('Identified lowest outliers: %d' % len(outliers_lower)) # printing total number of values in lower cut of outliers\n",
    "    print('Identified upper outliers: %d' % len(outliers_higher)) # printing total number of values in higher cut of outliers\n",
    "    print('Identified outliers: %d' % len(outliers_total)) # printing total number of values outliers of both sides\n",
    "    print('Non-outlier observations: %d' % len(outliers_removed)) # printing total number of non outlier values\n",
    "    print(\"Total percentual of Outliers: \", round((len(outliers_total) / len(outliers_removed) )*100, 4)) # Percentual of outliers in points\n",
    "    \n",
    "    return"
   ]
  },
  {
   "cell_type": "code",
   "execution_count": 3,
   "metadata": {},
   "outputs": [],
   "source": [
    "def dist(df, col, title, x, y):\n",
    "\n",
    "    # define the size of figures that I will build\n",
    "    plt.figure(figsize=(16,5))\n",
    "\n",
    "    g = sns.countplot(x=col, data=df, color='forestgreen') # seting the seaborn countplot to known the points distribuition\n",
    "    g.set_title(title, fontsize=20) # seting title and size of font\n",
    "    g.set_xlabel(x, fontsize=15) # seting xlabel and size of font\n",
    "    g.set_ylabel(y, fontsize=15) # seting ylabel and size of font\n",
    "    plt.show() #rendering the graphs"
   ]
  },
  {
   "cell_type": "code",
   "execution_count": 4,
   "metadata": {},
   "outputs": [],
   "source": [
    "def analise_cat_1(df,var,label = '',fl_ordena=0, num = False, q = 0, q2 = 0, y = 'ratingValue_flag'):\n",
    "    if label == '':\n",
    "        label = var\n",
    "    df_ = df.copy()\n",
    "    if num:\n",
    "        if q == 0:\n",
    "            if q2 == 0:\n",
    "                df_[var+'_cat'] = pd.qcut(df_[var],q= [0.0,0.2,0.5,0.8,1.0],retbins=True,duplicates='drop')[0].cat.add_categories('missing')\n",
    "                var= var+'_cat'\n",
    "            else:\n",
    "                df_[var+'_cat'] = pd.qcut(df_[var],q= q2,retbins=True,duplicates='drop')[0].cat.add_categories('missing')\n",
    "                var= var+'_cat'\n",
    "        else :\n",
    "            df_[var+'_cat'] = pd.cut(df_[var],bins=q).cat.add_categories('missing')\n",
    "            var= var+'_cat'\n",
    "    print('\\n')\n",
    "    print('Análise da variável {}'.format(var))\n",
    "    print('# valores distintos {}'.format(df_[var].nunique()))\n",
    "    try:\n",
    "        df_[var] = df_[var].fillna('missing')\n",
    "    except :\n",
    "        df_[var] = df_[var].cat.add_categories('missing').fillna('missing')\n",
    "    total_maus = df_[y].sum()\n",
    "    total_bons = df_.shape[0] - df_[y].sum()\n",
    "    def tx(x):\n",
    "        return sum(x)*100/sum(1 -x +x)\n",
    "    def pct(x):\n",
    "        return sum(1-x+x)*1.0/ (df_.shape[0])\n",
    "    def pct_maus(x):\n",
    "        return (sum(x)/total_maus )\n",
    "    def rr(x):\n",
    "        return (sum(x)/total_maus )/(sum(1-x)/total_bons)\n",
    "    def WoE(x):\n",
    "        return np.log(rr(x))\n",
    "    def IV(x):\n",
    "        return -(sum(1-x)/total_bons - sum(x)/total_maus)*WoE(x)\n",
    "    s = df_.groupby(var).agg({y: [np.size,pct,pct_maus, tx,rr,WoE,IV]})[y]\n",
    "    def color_negative_green(val):\n",
    "        color = 'red' if val < 0 else 'black'\n",
    "        return 'color: %s' % color\n",
    "    print('IV : {:.3f}'.format(s.IV.sum()))\n",
    "    #print('Beta : {:.3f}'.format(dic_beta[var]))\n",
    "    t = s.style.applymap(color_negative_green)\n",
    "    display(pd.DataFrame(df_[var].value_counts()).join(pd.DataFrame(df_[var].value_counts(normalize= True)*100), lsuffix = 'k').rename(columns = {var+'k': '#', var: '%'}))\n",
    "    display(t)\n",
    "    by_var = df_.groupby(var).agg({y:[np.size, np.mean]})[y]\n",
    "    if fl_ordena ==1 :\n",
    "        by_var =  by_var.sort_values(by = 'mean')\n",
    "    Y1 = by_var['size']\n",
    "    Y2 = by_var['mean']\n",
    "    Y_mean = np.ones(shape=(len(Y1.index)))* df_[y].mean()\n",
    "    index =  np.arange(len(Y1.index))\n",
    "    #with plt.style.context('my_custom_style'):\n",
    "    if True:\n",
    "        plt.bar(index,Y1,alpha = 0.3, color= 'gray')\n",
    "        plt.grid(False)\n",
    "        plt.xticks(rotation = 20         if var[:2] not in ( 'fl', 'cd')  else 0)\n",
    "        plt.ylabel('# registros')\n",
    "        plt.twinx()\n",
    "        plt.gca().set_xticks(index)\n",
    "        plt.gca().set_xticklabels([Y1.index[i] for i in index], rotation = 40)\n",
    "        plt.plot(index,Y_mean,label=  'tx. média evento')\n",
    "        plt.plot(index,Y2,marker = 'o',label=  'tx. evento')\n",
    "        plt.gca().set_yticklabels([ ' {:.2f}%'.format( i*100) for i in plt.gca().get_yticks()])\n",
    "        plt.grid(False)\n",
    "        plt.title('Bivariada  {}'.format(label))\n",
    "        plt.ylabel('tx. evento')\n",
    "        plt.xlabel(label)\n",
    "        if var[:2] in ( 'fl', 'cd'):\n",
    "            plt.legend(loc= 9,bbox_to_anchor=(0.5, -0.1))\n",
    "        else:\n",
    "            plt.legend(loc= 9,bbox_to_anchor=(0.5, -0.35))\n",
    "        plt.show()\n",
    "        print('\\n')\n",
    "    return label,np.round(s.IV.sum(),3), np.round(s.rr.mean(),3)"
   ]
  },
  {
   "cell_type": "code",
   "execution_count": 5,
   "metadata": {},
   "outputs": [],
   "source": [
    "df = pd.read_csv('all_wines.csv')"
   ]
  },
  {
   "cell_type": "code",
   "execution_count": 6,
   "metadata": {},
   "outputs": [
    {
     "data": {
      "text/plain": [
       "Index(['link', 'Nome', 'País', 'Preço_Sócio', 'Preço_Normal', 'Pontuação',\n",
       "       'Avaliações', 'somelier', 'Decantação', 'Origem', 'Olfativo',\n",
       "       'Amadurecimento', 'Uvas', 'Gustativo', 'Visual', 'Harmonização',\n",
       "       'Temperatura de serviço', 'Safra', 'Classificação', 'Teor Alcoólico',\n",
       "       'Vinícola', 'Tipo', 'Potencial de guarda'],\n",
       "      dtype='object')"
      ]
     },
     "execution_count": 6,
     "metadata": {},
     "output_type": "execute_result"
    }
   ],
   "source": [
    "df.columns"
   ]
  },
  {
   "cell_type": "code",
   "execution_count": 7,
   "metadata": {},
   "outputs": [
    {
     "data": {
      "text/html": [
       "<div>\n",
       "<style scoped>\n",
       "    .dataframe tbody tr th:only-of-type {\n",
       "        vertical-align: middle;\n",
       "    }\n",
       "\n",
       "    .dataframe tbody tr th {\n",
       "        vertical-align: top;\n",
       "    }\n",
       "\n",
       "    .dataframe thead th {\n",
       "        text-align: right;\n",
       "    }\n",
       "</style>\n",
       "<table border=\"1\" class=\"dataframe\">\n",
       "  <thead>\n",
       "    <tr style=\"text-align: right;\">\n",
       "      <th></th>\n",
       "      <th>link</th>\n",
       "      <th>Nome</th>\n",
       "      <th>País</th>\n",
       "      <th>Preço_Sócio</th>\n",
       "      <th>Preço_Normal</th>\n",
       "      <th>Pontuação</th>\n",
       "      <th>Avaliações</th>\n",
       "      <th>somelier</th>\n",
       "      <th>Decantação</th>\n",
       "      <th>Origem</th>\n",
       "      <th>...</th>\n",
       "      <th>Gustativo</th>\n",
       "      <th>Visual</th>\n",
       "      <th>Harmonização</th>\n",
       "      <th>Temperatura de serviço</th>\n",
       "      <th>Safra</th>\n",
       "      <th>Classificação</th>\n",
       "      <th>Teor Alcoólico</th>\n",
       "      <th>Vinícola</th>\n",
       "      <th>Tipo</th>\n",
       "      <th>Potencial de guarda</th>\n",
       "    </tr>\n",
       "  </thead>\n",
       "  <tbody>\n",
       "    <tr>\n",
       "      <th>0</th>\n",
       "      <td>https://wine.com.br/vinhos/maison-le-star-rose...</td>\n",
       "      <td>Maison Le Star Rosé On Ice</td>\n",
       "      <td>NaN</td>\n",
       "      <td>NaN</td>\n",
       "      <td>NaN</td>\n",
       "      <td>3.5</td>\n",
       "      <td>26.0</td>\n",
       "      <td>Rosé francês frutado, leve, fresco e com doçur...</td>\n",
       "      <td>NaN</td>\n",
       "      <td>NaN</td>\n",
       "      <td>...</td>\n",
       "      <td>Leve, acidez agradável, frutado, doçura média</td>\n",
       "      <td>Rosa claro</td>\n",
       "      <td>Salada de frutos do mar, bruschettas e tapas, ...</td>\n",
       "      <td>8 °C</td>\n",
       "      <td>NaN</td>\n",
       "      <td>Meio Seco/Demi-Sec</td>\n",
       "      <td>11.50% ABV</td>\n",
       "      <td>Maison Le Star</td>\n",
       "      <td>Rosé</td>\n",
       "      <td>3 anos</td>\n",
       "    </tr>\n",
       "    <tr>\n",
       "      <th>1</th>\n",
       "      <td>https://wine.com.br/vinhos/ropiteau-freres-les...</td>\n",
       "      <td>Ropiteau Frères Les Plants Nobles Pinot Noir 2017</td>\n",
       "      <td>NaN</td>\n",
       "      <td>NaN</td>\n",
       "      <td>NaN</td>\n",
       "      <td>4.5</td>\n",
       "      <td>44.0</td>\n",
       "      <td>Com aroma de frutas vermelhas, sobre notas de ...</td>\n",
       "      <td>NaN</td>\n",
       "      <td>França-Languedoc-Roussillon</td>\n",
       "      <td>...</td>\n",
       "      <td>Corpo de leve para médio, fresco, taninos deli...</td>\n",
       "      <td>Rubi</td>\n",
       "      <td>Ratatouille, iscas de filé mignon acebolado, n...</td>\n",
       "      <td>15 °C</td>\n",
       "      <td>2017.0</td>\n",
       "      <td>Seco</td>\n",
       "      <td>12.50% ABV</td>\n",
       "      <td>Ropiteau Frères</td>\n",
       "      <td>Tinto</td>\n",
       "      <td>4 anos</td>\n",
       "    </tr>\n",
       "    <tr>\n",
       "      <th>2</th>\n",
       "      <td>https://wine.com.br/vinhos/punta-paramo-malbec...</td>\n",
       "      <td>Punta Paramo Malbec 2018</td>\n",
       "      <td>NaN</td>\n",
       "      <td>NaN</td>\n",
       "      <td>NaN</td>\n",
       "      <td>3.5</td>\n",
       "      <td>8.0</td>\n",
       "      <td>Estilo de Malbec fácil de beber e macio, ideal...</td>\n",
       "      <td>NaN</td>\n",
       "      <td>Argentina-Mendoza</td>\n",
       "      <td>...</td>\n",
       "      <td>Corpo de leve para médio, taninos macios, acid...</td>\n",
       "      <td>Rubi com reflexos violáceos</td>\n",
       "      <td>Fraldinha ao forno, pizza de calabresa, quiche...</td>\n",
       "      <td>15 °C</td>\n",
       "      <td>2018.0</td>\n",
       "      <td>Seco</td>\n",
       "      <td>13.80% ABV</td>\n",
       "      <td>Bodega Don Cristóbal 1492</td>\n",
       "      <td>Tinto</td>\n",
       "      <td>7 anos</td>\n",
       "    </tr>\n",
       "    <tr>\n",
       "      <th>3</th>\n",
       "      <td>https://wine.com.br/vinhos/gerard-bertrand-gra...</td>\n",
       "      <td>Gérard Bertrand Grand Terroir A.O.P. Les Aspre...</td>\n",
       "      <td>NaN</td>\n",
       "      <td>NaN</td>\n",
       "      <td>NaN</td>\n",
       "      <td>1.0</td>\n",
       "      <td>2.0</td>\n",
       "      <td>Nasce de videiras cultivada em Les Aspres (ári...</td>\n",
       "      <td>30 minutos</td>\n",
       "      <td>França-Les Aspres</td>\n",
       "      <td>...</td>\n",
       "      <td>Médio corpo, taninos sedosos, acidez agradável...</td>\n",
       "      <td>Rubi</td>\n",
       "      <td>Pernil de cordeiro assado, paleta de javali co...</td>\n",
       "      <td>16 °C</td>\n",
       "      <td>2015.0</td>\n",
       "      <td>Seco</td>\n",
       "      <td>14.00% ABV</td>\n",
       "      <td>Gérard Bertrand</td>\n",
       "      <td>Tinto</td>\n",
       "      <td>7 anos</td>\n",
       "    </tr>\n",
       "    <tr>\n",
       "      <th>4</th>\n",
       "      <td>https://wine.com.br/vinhos/marques-de-somera-g...</td>\n",
       "      <td>Marqués de Somera Garnacha 2018</td>\n",
       "      <td>NaN</td>\n",
       "      <td>NaN</td>\n",
       "      <td>NaN</td>\n",
       "      <td>4.0</td>\n",
       "      <td>17.0</td>\n",
       "      <td>Esse exemplar é elaborado na região espanhola ...</td>\n",
       "      <td>NaN</td>\n",
       "      <td>Espanha-Cariñena</td>\n",
       "      <td>...</td>\n",
       "      <td>Médio corpo, frutado, fresco, taninos macios,</td>\n",
       "      <td>Rubi</td>\n",
       "      <td>Nhoque à bolonhesa, filé à parmigiana, arroz c...</td>\n",
       "      <td>15 °C</td>\n",
       "      <td>2018.0</td>\n",
       "      <td>Seco</td>\n",
       "      <td>13.00% ABV</td>\n",
       "      <td>Covinca</td>\n",
       "      <td>Tinto</td>\n",
       "      <td>4 anos</td>\n",
       "    </tr>\n",
       "  </tbody>\n",
       "</table>\n",
       "<p>5 rows × 23 columns</p>\n",
       "</div>"
      ],
      "text/plain": [
       "                                                link  \\\n",
       "0  https://wine.com.br/vinhos/maison-le-star-rose...   \n",
       "1  https://wine.com.br/vinhos/ropiteau-freres-les...   \n",
       "2  https://wine.com.br/vinhos/punta-paramo-malbec...   \n",
       "3  https://wine.com.br/vinhos/gerard-bertrand-gra...   \n",
       "4  https://wine.com.br/vinhos/marques-de-somera-g...   \n",
       "\n",
       "                                                Nome  País  Preço_Sócio  \\\n",
       "0                         Maison Le Star Rosé On Ice   NaN          NaN   \n",
       "1  Ropiteau Frères Les Plants Nobles Pinot Noir 2017   NaN          NaN   \n",
       "2                           Punta Paramo Malbec 2018   NaN          NaN   \n",
       "3  Gérard Bertrand Grand Terroir A.O.P. Les Aspre...   NaN          NaN   \n",
       "4                    Marqués de Somera Garnacha 2018   NaN          NaN   \n",
       "\n",
       "   Preço_Normal  Pontuação  Avaliações  \\\n",
       "0           NaN        3.5        26.0   \n",
       "1           NaN        4.5        44.0   \n",
       "2           NaN        3.5         8.0   \n",
       "3           NaN        1.0         2.0   \n",
       "4           NaN        4.0        17.0   \n",
       "\n",
       "                                            somelier  Decantação  \\\n",
       "0  Rosé francês frutado, leve, fresco e com doçur...         NaN   \n",
       "1  Com aroma de frutas vermelhas, sobre notas de ...         NaN   \n",
       "2  Estilo de Malbec fácil de beber e macio, ideal...         NaN   \n",
       "3  Nasce de videiras cultivada em Les Aspres (ári...  30 minutos   \n",
       "4  Esse exemplar é elaborado na região espanhola ...         NaN   \n",
       "\n",
       "                        Origem  ...  \\\n",
       "0                          NaN  ...   \n",
       "1  França-Languedoc-Roussillon  ...   \n",
       "2            Argentina-Mendoza  ...   \n",
       "3            França-Les Aspres  ...   \n",
       "4             Espanha-Cariñena  ...   \n",
       "\n",
       "                                           Gustativo  \\\n",
       "0      Leve, acidez agradável, frutado, doçura média   \n",
       "1  Corpo de leve para médio, fresco, taninos deli...   \n",
       "2  Corpo de leve para médio, taninos macios, acid...   \n",
       "3  Médio corpo, taninos sedosos, acidez agradável...   \n",
       "4     Médio corpo, frutado, fresco, taninos macios,    \n",
       "\n",
       "                        Visual  \\\n",
       "0                   Rosa claro   \n",
       "1                         Rubi   \n",
       "2  Rubi com reflexos violáceos   \n",
       "3                         Rubi   \n",
       "4                         Rubi   \n",
       "\n",
       "                                        Harmonização Temperatura de serviço  \\\n",
       "0  Salada de frutos do mar, bruschettas e tapas, ...                   8 °C   \n",
       "1  Ratatouille, iscas de filé mignon acebolado, n...                  15 °C   \n",
       "2  Fraldinha ao forno, pizza de calabresa, quiche...                  15 °C   \n",
       "3  Pernil de cordeiro assado, paleta de javali co...                  16 °C   \n",
       "4  Nhoque à bolonhesa, filé à parmigiana, arroz c...                  15 °C   \n",
       "\n",
       "    Safra       Classificação Teor Alcoólico                   Vinícola  \\\n",
       "0     NaN  Meio Seco/Demi-Sec     11.50% ABV             Maison Le Star   \n",
       "1  2017.0                Seco     12.50% ABV            Ropiteau Frères   \n",
       "2  2018.0                Seco     13.80% ABV  Bodega Don Cristóbal 1492   \n",
       "3  2015.0                Seco     14.00% ABV            Gérard Bertrand   \n",
       "4  2018.0                Seco     13.00% ABV                    Covinca   \n",
       "\n",
       "    Tipo Potencial de guarda  \n",
       "0   Rosé              3 anos  \n",
       "1  Tinto              4 anos  \n",
       "2  Tinto              7 anos  \n",
       "3  Tinto              7 anos  \n",
       "4  Tinto              4 anos  \n",
       "\n",
       "[5 rows x 23 columns]"
      ]
     },
     "execution_count": 7,
     "metadata": {},
     "output_type": "execute_result"
    }
   ],
   "source": [
    "df.head()"
   ]
  },
  {
   "cell_type": "code",
   "execution_count": 8,
   "metadata": {},
   "outputs": [],
   "source": [
    "df.columns = ['Link', 'Nome', 'País', 'Preço_Sócio', 'Preço_Normal', 'Pontuação',\n",
    "       'Avaliações', 'Somelier', 'Decantação', 'Origem', 'Olfativo',\n",
    "       'Amadurecimento', 'Uvas', 'Gustativo', 'Visual', 'Harmonização',\n",
    "       'Temperatura', 'Safra', 'Classificação', 'Teor_Alcoólico',\n",
    "       'Vinícola', 'Tipo', 'Potencial_Guarda']"
   ]
  },
  {
   "cell_type": "markdown",
   "metadata": {},
   "source": [
    "Remover kits de vinhos, estes não representam amostras de interesse. "
   ]
  },
  {
   "cell_type": "code",
   "execution_count": 9,
   "metadata": {},
   "outputs": [],
   "source": [
    "kit = ((df.Nome.str.contains('Kit')) | (df.Nome.str.contains(\"KIT\")) | (df.Nome.str.contains('WineBox')))"
   ]
  },
  {
   "cell_type": "code",
   "execution_count": 10,
   "metadata": {},
   "outputs": [
    {
     "data": {
      "text/plain": [
       "(121, 23)"
      ]
     },
     "execution_count": 10,
     "metadata": {},
     "output_type": "execute_result"
    }
   ],
   "source": [
    "df[kit].shape"
   ]
  },
  {
   "cell_type": "code",
   "execution_count": 11,
   "metadata": {},
   "outputs": [],
   "source": [
    "df = df[~kit]"
   ]
  },
  {
   "cell_type": "code",
   "execution_count": 12,
   "metadata": {},
   "outputs": [
    {
     "data": {
      "text/plain": [
       "(3, 23)"
      ]
     },
     "execution_count": 12,
     "metadata": {},
     "output_type": "execute_result"
    }
   ],
   "source": [
    "df[df.Nome.str.contains('Experiencias')].shape"
   ]
  },
  {
   "cell_type": "code",
   "execution_count": 13,
   "metadata": {},
   "outputs": [],
   "source": [
    "df = df[~df.Nome.str.contains('Experiencias')]"
   ]
  },
  {
   "cell_type": "code",
   "execution_count": 14,
   "metadata": {},
   "outputs": [],
   "source": [
    "df = df[~df.Nome.str.contains(\"Vinho Misterioso\")]"
   ]
  },
  {
   "cell_type": "markdown",
   "metadata": {},
   "source": [
    "Transformar Strings em Dados Numéricos"
   ]
  },
  {
   "cell_type": "code",
   "execution_count": 15,
   "metadata": {},
   "outputs": [
    {
     "data": {
      "text/plain": [
       "array(['8 °C', '15 °C', '16 °C', '9 °C', '7 °C', '10 °C', nan, '18 °C',\n",
       "       '14 °C', '5 °C', '6 °C', '17 °C', '11 °C', '12 °C', '13 °C',\n",
       "       '4 °C'], dtype=object)"
      ]
     },
     "execution_count": 15,
     "metadata": {},
     "output_type": "execute_result"
    }
   ],
   "source": [
    "df.Temperatura.unique()"
   ]
  },
  {
   "cell_type": "code",
   "execution_count": 16,
   "metadata": {},
   "outputs": [],
   "source": [
    "df['Temperatura'] = df.Temperatura.str.replace(\" °C\", '').astype(float)"
   ]
  },
  {
   "cell_type": "code",
   "execution_count": 17,
   "metadata": {},
   "outputs": [
    {
     "data": {
      "text/plain": [
       "array([ 8., 15., 16.,  9.,  7., 10., nan, 18., 14.,  5.,  6., 17., 11.,\n",
       "       12., 13.,  4.])"
      ]
     },
     "execution_count": 17,
     "metadata": {},
     "output_type": "execute_result"
    }
   ],
   "source": [
    "df.Temperatura.unique()"
   ]
  },
  {
   "cell_type": "code",
   "execution_count": 18,
   "metadata": {},
   "outputs": [
    {
     "data": {
      "text/plain": [
       "array(['11.50% ABV', '12.50% ABV', '13.80% ABV', '14.00% ABV',\n",
       "       '13.00% ABV', '12.00% ABV', '7.50% ABV', '14.50% ABV',\n",
       "       '13.50% ABV', nan, '10.00% ABV', '15.50% ABV', '11.00% ABV',\n",
       "       '9.50% ABV', '12.80% ABV', '14.26% ABV', '15.00% ABV',\n",
       "       '14.30% ABV', '10.50% ABV', '14.10% ABV', '13.40% ABV',\n",
       "       '14.20% ABV', '15.10% ABV', '11.70% ABV', '11.80% ABV',\n",
       "       '16.00% ABV', '13.70% ABV', '8.00% ABV', '12.40% ABV',\n",
       "       '12.70% ABV', '13.90% ABV', '9.00% ABV', '15.40% ABV', '5.50% ABV',\n",
       "       '17.00% ABV', '14.40% ABV', '13.20% ABV', '13.10% ABV',\n",
       "       '11.60% ABV', '15.20% ABV', '15.30% ABV', '14.70% ABV',\n",
       "       '14.60% ABV', '20.00% ABV', '12.20% ABV', '17.50% ABV',\n",
       "       '14.90% ABV', '13.30% ABV', '15.60% ABV', '11.90% ABV',\n",
       "       '14.09% ABV', '13.95% ABV', '12.30% ABV', '13.60% ABV',\n",
       "       '14.80% ABV', '19.50% ABV', '6.50% ABV', '7.00% ABV', '19.00% ABV',\n",
       "       '20.40% ABV', '18.00% ABV', '7.80% ABV', '0.50% ABV', '14.68% ABV',\n",
       "       '12.90% ABV', '12.28% ABV'], dtype=object)"
      ]
     },
     "execution_count": 18,
     "metadata": {},
     "output_type": "execute_result"
    }
   ],
   "source": [
    "df.Teor_Alcoólico.unique()"
   ]
  },
  {
   "cell_type": "code",
   "execution_count": 19,
   "metadata": {},
   "outputs": [],
   "source": [
    "df['Teor_Alcoólico'] = df.Teor_Alcoólico.str.replace(\"% ABV\", '').astype(float)"
   ]
  },
  {
   "cell_type": "code",
   "execution_count": 20,
   "metadata": {},
   "outputs": [
    {
     "data": {
      "text/plain": [
       "array([11.5 , 12.5 , 13.8 , 14.  , 13.  , 12.  ,  7.5 , 14.5 , 13.5 ,\n",
       "         nan, 10.  , 15.5 , 11.  ,  9.5 , 12.8 , 14.26, 15.  , 14.3 ,\n",
       "       10.5 , 14.1 , 13.4 , 14.2 , 15.1 , 11.7 , 11.8 , 16.  , 13.7 ,\n",
       "        8.  , 12.4 , 12.7 , 13.9 ,  9.  , 15.4 ,  5.5 , 17.  , 14.4 ,\n",
       "       13.2 , 13.1 , 11.6 , 15.2 , 15.3 , 14.7 , 14.6 , 20.  , 12.2 ,\n",
       "       17.5 , 14.9 , 13.3 , 15.6 , 11.9 , 14.09, 13.95, 12.3 , 13.6 ,\n",
       "       14.8 , 19.5 ,  6.5 ,  7.  , 19.  , 20.4 , 18.  ,  7.8 ,  0.5 ,\n",
       "       14.68, 12.9 , 12.28])"
      ]
     },
     "execution_count": 20,
     "metadata": {},
     "output_type": "execute_result"
    }
   ],
   "source": [
    "df.Teor_Alcoólico.unique()"
   ]
  },
  {
   "cell_type": "code",
   "execution_count": 21,
   "metadata": {},
   "outputs": [
    {
     "data": {
      "text/plain": [
       "array(['3 anos', '4 anos', '7 anos', '2 anos', '6 anos', '5 anos', nan,\n",
       "       '20 anos', '10 anos', '8 anos', '9 anos', '13 anos', '15 anos',\n",
       "       '12 anos', '11 anos', '14 anos', '30 anos', '25 anos', '35 anos',\n",
       "       '40 anos', '23 anos', '50 anos', '18 anos', '17 anos', '16 anos',\n",
       "       '22 anos', '19 anos', '44 anos', '1 ano'], dtype=object)"
      ]
     },
     "execution_count": 21,
     "metadata": {},
     "output_type": "execute_result"
    }
   ],
   "source": [
    "df.Potencial_Guarda.unique()"
   ]
  },
  {
   "cell_type": "code",
   "execution_count": 22,
   "metadata": {},
   "outputs": [],
   "source": [
    "df['Potencial_Guarda'] = df.Potencial_Guarda.str.replace(\" anos\", '')\n",
    "df['Potencial_Guarda'] = df.Potencial_Guarda.str.replace(\" ano\", '').astype(float)"
   ]
  },
  {
   "cell_type": "code",
   "execution_count": 23,
   "metadata": {},
   "outputs": [
    {
     "data": {
      "text/html": [
       "<div>\n",
       "<style scoped>\n",
       "    .dataframe tbody tr th:only-of-type {\n",
       "        vertical-align: middle;\n",
       "    }\n",
       "\n",
       "    .dataframe tbody tr th {\n",
       "        vertical-align: top;\n",
       "    }\n",
       "\n",
       "    .dataframe thead th {\n",
       "        text-align: right;\n",
       "    }\n",
       "</style>\n",
       "<table border=\"1\" class=\"dataframe\">\n",
       "  <thead>\n",
       "    <tr style=\"text-align: right;\">\n",
       "      <th></th>\n",
       "      <th>Link</th>\n",
       "      <th>Nome</th>\n",
       "      <th>País</th>\n",
       "      <th>Preço_Sócio</th>\n",
       "      <th>Preço_Normal</th>\n",
       "      <th>Pontuação</th>\n",
       "      <th>Avaliações</th>\n",
       "      <th>Somelier</th>\n",
       "      <th>Decantação</th>\n",
       "      <th>Origem</th>\n",
       "      <th>...</th>\n",
       "      <th>Gustativo</th>\n",
       "      <th>Visual</th>\n",
       "      <th>Harmonização</th>\n",
       "      <th>Temperatura</th>\n",
       "      <th>Safra</th>\n",
       "      <th>Classificação</th>\n",
       "      <th>Teor_Alcoólico</th>\n",
       "      <th>Vinícola</th>\n",
       "      <th>Tipo</th>\n",
       "      <th>Potencial_Guarda</th>\n",
       "    </tr>\n",
       "  </thead>\n",
       "  <tbody>\n",
       "    <tr>\n",
       "      <th>0</th>\n",
       "      <td>https://wine.com.br/vinhos/maison-le-star-rose...</td>\n",
       "      <td>Maison Le Star Rosé On Ice</td>\n",
       "      <td>NaN</td>\n",
       "      <td>NaN</td>\n",
       "      <td>NaN</td>\n",
       "      <td>3.5</td>\n",
       "      <td>26.0</td>\n",
       "      <td>Rosé francês frutado, leve, fresco e com doçur...</td>\n",
       "      <td>NaN</td>\n",
       "      <td>NaN</td>\n",
       "      <td>...</td>\n",
       "      <td>Leve, acidez agradável, frutado, doçura média</td>\n",
       "      <td>Rosa claro</td>\n",
       "      <td>Salada de frutos do mar, bruschettas e tapas, ...</td>\n",
       "      <td>8.0</td>\n",
       "      <td>NaN</td>\n",
       "      <td>Meio Seco/Demi-Sec</td>\n",
       "      <td>11.5</td>\n",
       "      <td>Maison Le Star</td>\n",
       "      <td>Rosé</td>\n",
       "      <td>3.0</td>\n",
       "    </tr>\n",
       "    <tr>\n",
       "      <th>1</th>\n",
       "      <td>https://wine.com.br/vinhos/ropiteau-freres-les...</td>\n",
       "      <td>Ropiteau Frères Les Plants Nobles Pinot Noir 2017</td>\n",
       "      <td>NaN</td>\n",
       "      <td>NaN</td>\n",
       "      <td>NaN</td>\n",
       "      <td>4.5</td>\n",
       "      <td>44.0</td>\n",
       "      <td>Com aroma de frutas vermelhas, sobre notas de ...</td>\n",
       "      <td>NaN</td>\n",
       "      <td>França-Languedoc-Roussillon</td>\n",
       "      <td>...</td>\n",
       "      <td>Corpo de leve para médio, fresco, taninos deli...</td>\n",
       "      <td>Rubi</td>\n",
       "      <td>Ratatouille, iscas de filé mignon acebolado, n...</td>\n",
       "      <td>15.0</td>\n",
       "      <td>2017.0</td>\n",
       "      <td>Seco</td>\n",
       "      <td>12.5</td>\n",
       "      <td>Ropiteau Frères</td>\n",
       "      <td>Tinto</td>\n",
       "      <td>4.0</td>\n",
       "    </tr>\n",
       "    <tr>\n",
       "      <th>2</th>\n",
       "      <td>https://wine.com.br/vinhos/punta-paramo-malbec...</td>\n",
       "      <td>Punta Paramo Malbec 2018</td>\n",
       "      <td>NaN</td>\n",
       "      <td>NaN</td>\n",
       "      <td>NaN</td>\n",
       "      <td>3.5</td>\n",
       "      <td>8.0</td>\n",
       "      <td>Estilo de Malbec fácil de beber e macio, ideal...</td>\n",
       "      <td>NaN</td>\n",
       "      <td>Argentina-Mendoza</td>\n",
       "      <td>...</td>\n",
       "      <td>Corpo de leve para médio, taninos macios, acid...</td>\n",
       "      <td>Rubi com reflexos violáceos</td>\n",
       "      <td>Fraldinha ao forno, pizza de calabresa, quiche...</td>\n",
       "      <td>15.0</td>\n",
       "      <td>2018.0</td>\n",
       "      <td>Seco</td>\n",
       "      <td>13.8</td>\n",
       "      <td>Bodega Don Cristóbal 1492</td>\n",
       "      <td>Tinto</td>\n",
       "      <td>7.0</td>\n",
       "    </tr>\n",
       "    <tr>\n",
       "      <th>3</th>\n",
       "      <td>https://wine.com.br/vinhos/gerard-bertrand-gra...</td>\n",
       "      <td>Gérard Bertrand Grand Terroir A.O.P. Les Aspre...</td>\n",
       "      <td>NaN</td>\n",
       "      <td>NaN</td>\n",
       "      <td>NaN</td>\n",
       "      <td>1.0</td>\n",
       "      <td>2.0</td>\n",
       "      <td>Nasce de videiras cultivada em Les Aspres (ári...</td>\n",
       "      <td>30 minutos</td>\n",
       "      <td>França-Les Aspres</td>\n",
       "      <td>...</td>\n",
       "      <td>Médio corpo, taninos sedosos, acidez agradável...</td>\n",
       "      <td>Rubi</td>\n",
       "      <td>Pernil de cordeiro assado, paleta de javali co...</td>\n",
       "      <td>16.0</td>\n",
       "      <td>2015.0</td>\n",
       "      <td>Seco</td>\n",
       "      <td>14.0</td>\n",
       "      <td>Gérard Bertrand</td>\n",
       "      <td>Tinto</td>\n",
       "      <td>7.0</td>\n",
       "    </tr>\n",
       "    <tr>\n",
       "      <th>4</th>\n",
       "      <td>https://wine.com.br/vinhos/marques-de-somera-g...</td>\n",
       "      <td>Marqués de Somera Garnacha 2018</td>\n",
       "      <td>NaN</td>\n",
       "      <td>NaN</td>\n",
       "      <td>NaN</td>\n",
       "      <td>4.0</td>\n",
       "      <td>17.0</td>\n",
       "      <td>Esse exemplar é elaborado na região espanhola ...</td>\n",
       "      <td>NaN</td>\n",
       "      <td>Espanha-Cariñena</td>\n",
       "      <td>...</td>\n",
       "      <td>Médio corpo, frutado, fresco, taninos macios,</td>\n",
       "      <td>Rubi</td>\n",
       "      <td>Nhoque à bolonhesa, filé à parmigiana, arroz c...</td>\n",
       "      <td>15.0</td>\n",
       "      <td>2018.0</td>\n",
       "      <td>Seco</td>\n",
       "      <td>13.0</td>\n",
       "      <td>Covinca</td>\n",
       "      <td>Tinto</td>\n",
       "      <td>4.0</td>\n",
       "    </tr>\n",
       "  </tbody>\n",
       "</table>\n",
       "<p>5 rows × 23 columns</p>\n",
       "</div>"
      ],
      "text/plain": [
       "                                                Link  \\\n",
       "0  https://wine.com.br/vinhos/maison-le-star-rose...   \n",
       "1  https://wine.com.br/vinhos/ropiteau-freres-les...   \n",
       "2  https://wine.com.br/vinhos/punta-paramo-malbec...   \n",
       "3  https://wine.com.br/vinhos/gerard-bertrand-gra...   \n",
       "4  https://wine.com.br/vinhos/marques-de-somera-g...   \n",
       "\n",
       "                                                Nome  País  Preço_Sócio  \\\n",
       "0                         Maison Le Star Rosé On Ice   NaN          NaN   \n",
       "1  Ropiteau Frères Les Plants Nobles Pinot Noir 2017   NaN          NaN   \n",
       "2                           Punta Paramo Malbec 2018   NaN          NaN   \n",
       "3  Gérard Bertrand Grand Terroir A.O.P. Les Aspre...   NaN          NaN   \n",
       "4                    Marqués de Somera Garnacha 2018   NaN          NaN   \n",
       "\n",
       "   Preço_Normal  Pontuação  Avaliações  \\\n",
       "0           NaN        3.5        26.0   \n",
       "1           NaN        4.5        44.0   \n",
       "2           NaN        3.5         8.0   \n",
       "3           NaN        1.0         2.0   \n",
       "4           NaN        4.0        17.0   \n",
       "\n",
       "                                            Somelier  Decantação  \\\n",
       "0  Rosé francês frutado, leve, fresco e com doçur...         NaN   \n",
       "1  Com aroma de frutas vermelhas, sobre notas de ...         NaN   \n",
       "2  Estilo de Malbec fácil de beber e macio, ideal...         NaN   \n",
       "3  Nasce de videiras cultivada em Les Aspres (ári...  30 minutos   \n",
       "4  Esse exemplar é elaborado na região espanhola ...         NaN   \n",
       "\n",
       "                        Origem  ...  \\\n",
       "0                          NaN  ...   \n",
       "1  França-Languedoc-Roussillon  ...   \n",
       "2            Argentina-Mendoza  ...   \n",
       "3            França-Les Aspres  ...   \n",
       "4             Espanha-Cariñena  ...   \n",
       "\n",
       "                                           Gustativo  \\\n",
       "0      Leve, acidez agradável, frutado, doçura média   \n",
       "1  Corpo de leve para médio, fresco, taninos deli...   \n",
       "2  Corpo de leve para médio, taninos macios, acid...   \n",
       "3  Médio corpo, taninos sedosos, acidez agradável...   \n",
       "4     Médio corpo, frutado, fresco, taninos macios,    \n",
       "\n",
       "                        Visual  \\\n",
       "0                   Rosa claro   \n",
       "1                         Rubi   \n",
       "2  Rubi com reflexos violáceos   \n",
       "3                         Rubi   \n",
       "4                         Rubi   \n",
       "\n",
       "                                        Harmonização Temperatura   Safra  \\\n",
       "0  Salada de frutos do mar, bruschettas e tapas, ...         8.0     NaN   \n",
       "1  Ratatouille, iscas de filé mignon acebolado, n...        15.0  2017.0   \n",
       "2  Fraldinha ao forno, pizza de calabresa, quiche...        15.0  2018.0   \n",
       "3  Pernil de cordeiro assado, paleta de javali co...        16.0  2015.0   \n",
       "4  Nhoque à bolonhesa, filé à parmigiana, arroz c...        15.0  2018.0   \n",
       "\n",
       "        Classificação  Teor_Alcoólico                   Vinícola   Tipo  \\\n",
       "0  Meio Seco/Demi-Sec            11.5             Maison Le Star   Rosé   \n",
       "1                Seco            12.5            Ropiteau Frères  Tinto   \n",
       "2                Seco            13.8  Bodega Don Cristóbal 1492  Tinto   \n",
       "3                Seco            14.0            Gérard Bertrand  Tinto   \n",
       "4                Seco            13.0                    Covinca  Tinto   \n",
       "\n",
       "   Potencial_Guarda  \n",
       "0               3.0  \n",
       "1               4.0  \n",
       "2               7.0  \n",
       "3               7.0  \n",
       "4               4.0  \n",
       "\n",
       "[5 rows x 23 columns]"
      ]
     },
     "execution_count": 23,
     "metadata": {},
     "output_type": "execute_result"
    }
   ],
   "source": [
    "df.head()"
   ]
  },
  {
   "cell_type": "code",
   "execution_count": 24,
   "metadata": {},
   "outputs": [
    {
     "name": "stdout",
     "output_type": "stream",
     "text": [
      "<class 'pandas.core.frame.DataFrame'>\n",
      "Int64Index: 3780 entries, 0 to 3905\n",
      "Data columns (total 23 columns):\n",
      "Link                3780 non-null object\n",
      "Nome                3780 non-null object\n",
      "País                0 non-null float64\n",
      "Preço_Sócio         765 non-null float64\n",
      "Preço_Normal        765 non-null float64\n",
      "Pontuação           2623 non-null float64\n",
      "Avaliações          2631 non-null float64\n",
      "Somelier            3750 non-null object\n",
      "Decantação          901 non-null object\n",
      "Origem              3014 non-null object\n",
      "Olfativo            3757 non-null object\n",
      "Amadurecimento      3400 non-null object\n",
      "Uvas                3753 non-null object\n",
      "Gustativo           3758 non-null object\n",
      "Visual              3756 non-null object\n",
      "Harmonização        3756 non-null object\n",
      "Temperatura         3737 non-null float64\n",
      "Safra               3401 non-null float64\n",
      "Classificação       3566 non-null object\n",
      "Teor_Alcoólico      3747 non-null float64\n",
      "Vinícola            3778 non-null object\n",
      "Tipo                3753 non-null object\n",
      "Potencial_Guarda    3727 non-null float64\n",
      "dtypes: float64(9), object(14)\n",
      "memory usage: 708.8+ KB\n"
     ]
    }
   ],
   "source": [
    "df.info()"
   ]
  },
  {
   "cell_type": "code",
   "execution_count": 25,
   "metadata": {},
   "outputs": [],
   "source": [
    "df['País'] = df.Origem.apply(lambda x : str(x).split('-')[0])"
   ]
  },
  {
   "cell_type": "code",
   "execution_count": 26,
   "metadata": {},
   "outputs": [],
   "source": [
    "df['Região'] = df.Origem.fillna('-').apply(lambda x : str(x).split('-')[1])"
   ]
  },
  {
   "cell_type": "code",
   "execution_count": 27,
   "metadata": {},
   "outputs": [],
   "source": [
    "df.loc[df.País == 'nan', 'País'] = None"
   ]
  },
  {
   "cell_type": "code",
   "execution_count": 28,
   "metadata": {},
   "outputs": [],
   "source": [
    "df.loc[df.Região == '', 'Região'] = None"
   ]
  },
  {
   "cell_type": "code",
   "execution_count": 29,
   "metadata": {},
   "outputs": [],
   "source": [
    "df = df.drop('Origem', axis=1)"
   ]
  },
  {
   "cell_type": "code",
   "execution_count": 30,
   "metadata": {},
   "outputs": [],
   "source": [
    "df.set_index('Nome', inplace=True)"
   ]
  },
  {
   "cell_type": "code",
   "execution_count": 31,
   "metadata": {},
   "outputs": [],
   "source": [
    "import re\n",
    "def match(x):\n",
    "    match = re.match('\\d+', str(x))\n",
    "    if match:\n",
    "        return match.group()\n",
    "    return None"
   ]
  },
  {
   "cell_type": "code",
   "execution_count": 32,
   "metadata": {},
   "outputs": [],
   "source": [
    "df['Decantação'] = df.Decantação.apply(match)"
   ]
  },
  {
   "cell_type": "code",
   "execution_count": 33,
   "metadata": {},
   "outputs": [],
   "source": [
    "df['Decantação'] = df.Decantação.astype(float)"
   ]
  },
  {
   "cell_type": "code",
   "execution_count": 34,
   "metadata": {},
   "outputs": [
    {
     "name": "stdout",
     "output_type": "stream",
     "text": [
      "<class 'pandas.core.frame.DataFrame'>\n",
      "Index: 3780 entries, Maison Le Star Rosé On Ice to Canepa Reserva Famiglia Carménère 2017\n",
      "Data columns (total 22 columns):\n",
      "Link                3780 non-null object\n",
      "País                3014 non-null object\n",
      "Preço_Sócio         765 non-null float64\n",
      "Preço_Normal        765 non-null float64\n",
      "Pontuação           2623 non-null float64\n",
      "Avaliações          2631 non-null float64\n",
      "Somelier            3750 non-null object\n",
      "Decantação          890 non-null float64\n",
      "Olfativo            3757 non-null object\n",
      "Amadurecimento      3400 non-null object\n",
      "Uvas                3753 non-null object\n",
      "Gustativo           3758 non-null object\n",
      "Visual              3756 non-null object\n",
      "Harmonização        3756 non-null object\n",
      "Temperatura         3737 non-null float64\n",
      "Safra               3401 non-null float64\n",
      "Classificação       3566 non-null object\n",
      "Teor_Alcoólico      3747 non-null float64\n",
      "Vinícola            3778 non-null object\n",
      "Tipo                3753 non-null object\n",
      "Potencial_Guarda    3727 non-null float64\n",
      "Região              3014 non-null object\n",
      "dtypes: float64(9), object(13)\n",
      "memory usage: 679.2+ KB\n"
     ]
    }
   ],
   "source": [
    "df.info()"
   ]
  },
  {
   "cell_type": "code",
   "execution_count": 35,
   "metadata": {},
   "outputs": [],
   "source": [
    "NUM = ['Preço_Sócio', 'Preço_Normal', 'Pontuação', 'Avaliações', 'Decantação', 'Temperatura', 'Safra', 'Teor_Alcoólico', 'Potencial_Guarda']"
   ]
  },
  {
   "cell_type": "markdown",
   "metadata": {},
   "source": [
    "## Preços\n",
    "A distribuição de preços possui alta amplitude, porém dispersão muito menor (IQR), como é de se esperar para vinhos. Um intervalo de preços de aproximadamente ~ `R$ 12.100` e uma amplitude interquartil de `R$ 119,43`\n",
    "\n",
    " * Vinho mais barato: R$ 22,24\n",
    "\n",
    " * Vinho mais caro: R$ 12.121,06\n",
    "\n",
    "Claro que a maioria do catálogo tem um preço mais modesto, nesse caso a mediana e não a média é muito mais robusta a outliers.\n",
    "\n",
    " * Media: R$ 329,95\n",
    "\n",
    " * Mediana; R$ 75,18"
   ]
  },
  {
   "cell_type": "code",
   "execution_count": 36,
   "metadata": {},
   "outputs": [
    {
     "name": "stdout",
     "output_type": "stream",
     "text": [
      "Identified lowest outliers: 0\n",
      "Identified upper outliers: 15\n",
      "Identified outliers: 15\n",
      "Non-outlier observations: 750\n",
      "Total percentual of Outliers:  2.0\n"
     ]
    }
   ],
   "source": [
    "CalcOutliers(df['Preço_Normal'])"
   ]
  },
  {
   "cell_type": "code",
   "execution_count": 37,
   "metadata": {},
   "outputs": [],
   "source": [
    "preços = df.Preço_Normal.notna()"
   ]
  },
  {
   "cell_type": "code",
   "execution_count": 38,
   "metadata": {},
   "outputs": [
    {
     "data": {
      "image/png": "[encoded data removed]",
      "text/plain": [
       "<Figure size 864x360 with 1 Axes>"
      ]
     },
     "metadata": {},
     "output_type": "display_data"
    }
   ],
   "source": [
    "plt.figure(figsize=(12,5))\n",
    "\n",
    "g = sns.distplot(df[df.Preço_Normal < 300].Preço_Normal, color='darkgreen')\n",
    "g.set_title(\"Distribuição de Preços Abaixo de 300 Reais\", fontsize=20)\n",
    "g.set_xlabel(\"Preços(R$)\", fontsize=15)\n",
    "g.set_ylabel(\"Distribuição da Frequência\", fontsize=15)\n",
    "\n",
    "\n",
    "plt.show()"
   ]
  },
  {
   "cell_type": "code",
   "execution_count": 39,
   "metadata": {},
   "outputs": [
    {
     "data": {
      "text/plain": [
       "(Nome\n",
       " Champagne Montaudon Brut                                                      (113.213, 12121.06]\n",
       " Dark Horse The Original California Rosé 2018                                     (59.88, 113.213]\n",
       " Ropiteau Pinot Noir 2017                                                      (113.213, 12121.06]\n",
       " Latitud 33° Malbec 2018                                                          (59.88, 113.213]\n",
       " Sovento Sauvignon Blanc 2018                                          (22.238999999999997, 59.88]\n",
       "                                                                                  ...             \n",
       " Fantinel Tenuta SantHelena Pinot Grigio 2016                                     (59.88, 113.213]\n",
       " Canepa Reserva Famiglia Syrah 2016                                               (59.88, 113.213]\n",
       " Viña Cosos D.O. Campo de Borja Garnacha Syrah 2018                    (22.238999999999997, 59.88]\n",
       " Baron Philippe de Rothschild La Bélière A.O.C. Bordeaux Blanc 2017    (22.238999999999997, 59.88]\n",
       " Carpineto Dogajolo I.G.T. Toscano Bianco 2017                         (22.238999999999997, 59.88]\n",
       " Name: Preço_Normal, Length: 765, dtype: category\n",
       " Categories (3, interval[float64]): [(22.238999999999997, 59.88] < (59.88, 113.213] < (113.213, 12121.06]],\n",
       " array([   22.24      ,    59.88      ,   113.21333333, 12121.06      ]))"
      ]
     },
     "execution_count": 39,
     "metadata": {},
     "output_type": "execute_result"
    }
   ],
   "source": [
    "pd.qcut(df[preços].Preço_Normal, 3, retbins=True)"
   ]
  },
  {
   "cell_type": "code",
   "execution_count": 40,
   "metadata": {},
   "outputs": [],
   "source": [
    "df.loc[preços, 'Preços_Cat'] = pd.qcut(df[preços].Preço_Normal, 3, labels=[1, 2, 3])"
   ]
  },
  {
   "cell_type": "code",
   "execution_count": 41,
   "metadata": {},
   "outputs": [
    {
     "data": {
      "text/plain": [
       "Nome\n",
       "Maison Le Star Rosé On Ice                                            NaN\n",
       "Ropiteau Frères Les Plants Nobles Pinot Noir 2017                     NaN\n",
       "Punta Paramo Malbec 2018                                              NaN\n",
       "Gérard Bertrand Grand Terroir A.O.P. Les Aspres 2015                  NaN\n",
       "Marqués de Somera Garnacha 2018                                       NaN\n",
       "                                                                     ... \n",
       "Viña Cosos D.O. Campo de Borja Garnacha Syrah 2018                      1\n",
       "Baron Philippe de Rothschild La Bélière A.O.C. Bordeaux Blanc 2017      1\n",
       "Carpineto Dogajolo I.G.T. Toscano Bianco 2017                           1\n",
       "Nederburg 56 Hundred Pinot Noir 2017                                  NaN\n",
       "Canepa Reserva Famiglia Carménère 2017                                NaN\n",
       "Name: Preços_Cat, Length: 3780, dtype: object"
      ]
     },
     "execution_count": 41,
     "metadata": {},
     "output_type": "execute_result"
    }
   ],
   "source": [
    "df['Preços_Cat']"
   ]
  },
  {
   "cell_type": "code",
   "execution_count": 42,
   "metadata": {},
   "outputs": [
    {
     "data": {
      "image/png": "[encoded data removed]",
      "text/plain": [
       "<Figure size 1008x432 with 1 Axes>"
      ]
     },
     "metadata": {},
     "output_type": "display_data"
    }
   ],
   "source": [
    "total = len(df[preços])\n",
    "plt.figure(figsize=(14,6))\n",
    "\n",
    "g = sns.countplot(x='Preços_Cat', color='darkgreen',\n",
    "                  data=df[preços])\n",
    "g.set_title(\"Categoria de Preços\", fontsize=20)\n",
    "g.set_xlabel(\"Categorias \", fontsize=15)\n",
    "g.set_ylabel(\"Total\", fontsize=15)\n",
    "\n",
    "sizes=[]\n",
    "\n",
    "for p in g.patches:\n",
    "    height = p.get_height()\n",
    "    sizes.append(height)\n",
    "    g.text(p.get_x()+p.get_width()/2.,\n",
    "            height + 3,\n",
    "            '{:1.2f}%'.format((height/total)*100),\n",
    "            ha=\"center\", fontsize=14) \n",
    "    \n",
    "g.set_ylim(0, max(sizes) * 1.15)\n",
    "\n",
    "plt.show()"
   ]
  },
  {
   "cell_type": "markdown",
   "metadata": {},
   "source": [
    "Como é de se esperar, os outliers existentes são superiores, i.e. Vinhos raros e/ou altamente premiados."
   ]
  },
  {
   "cell_type": "code",
   "execution_count": 43,
   "metadata": {},
   "outputs": [],
   "source": [
    "#profile = pp.ProfileReport(df[NUM])"
   ]
  },
  {
   "cell_type": "code",
   "execution_count": 44,
   "metadata": {},
   "outputs": [],
   "source": [
    "#profile"
   ]
  },
  {
   "cell_type": "markdown",
   "metadata": {},
   "source": [
    "## Pontuação\n",
    "\n",
    "Os vinhos no geral são bem pontuados:\n",
    " * Média: 3.88\n",
    " * Mediana: 4.0"
   ]
  },
  {
   "cell_type": "markdown",
   "metadata": {},
   "source": [
    "Adaptado de https://www.kaggle.com/kabure/wine-review-s-eda-recommend-systems"
   ]
  },
  {
   "cell_type": "code",
   "execution_count": 45,
   "metadata": {},
   "outputs": [
    {
     "data": {
      "image/png": "[encoded data removed]",
      "text/plain": [
       "<Figure size 1152x360 with 2 Axes>"
      ]
     },
     "metadata": {},
     "output_type": "display_data"
    }
   ],
   "source": [
    "# define the size of figures that I will build\n",
    "plt.figure(figsize=(16,5))\n",
    "\n",
    "plt.subplot(1,2,1) # this will create a grid of 1 row and 2 columns; this is the first graphic\n",
    "g = sns.countplot(x='Pontuação', data=df, color='forestgreen') # seting the seaborn countplot to known the points distribuition\n",
    "g.set_title(\"Distribuição da Contagem dos Pontos\", fontsize=20) # seting title and size of font\n",
    "g.set_xlabel(\"Pontos\", fontsize=15) # seting xlabel and size of font\n",
    "g.set_ylabel(\"Contagem\", fontsize=15) # seting ylabel and size of font\n",
    "\n",
    "plt.subplot(1,2,2)  # this will set the second graphic of our grid\n",
    "plt.scatter(range(df.shape[0]), np.sort(df.Pontuação.values), color='forestgreen') # creating a cumulative distribution\n",
    "plt.xlabel('Index', fontsize=15)  # seting xlabel and size of font\n",
    "plt.ylabel('Distribuição dos Pontos', fontsize=15)  # seting ylabel and size of font\n",
    "plt.title(\"Distribuição dos Pontos\", fontsize=20) # seting title and size of font\n",
    "\n",
    "plt.show() #rendering the graphs"
   ]
  },
  {
   "cell_type": "markdown",
   "metadata": {},
   "source": [
    "A mediana é próxima da média e portanto a distribuição se aproxima a uma distribuição normal em torno de 4 pontos. Poucos vinhos possuem pontuação menor que 3.\n",
    "\n",
    "No entanto há algumas ressalvas a serem consideradas como o número de diferentes avaliações para o mesmo vinho, i.e. a interpretação da pontuação deve ser considerada pelo número de avaliações recebidas. Em outras palavras, a confiabilidade na pontuação é diretamente proporcional à contagem de avaliações distintas. Um vinho com 5 pontos e somente uma avaliação não possui o mesmo peso que um vinho com 4.5 porém com 100 avaliações. A confiabilidade do 2º caso é muito maior.\n",
    "\n",
    "Vamos analisar a contagem de avaliações a seguir"
   ]
  },
  {
   "cell_type": "markdown",
   "metadata": {},
   "source": [
    "## # de Avaliações\n",
    "O Número de Avaliações por vinho é altamente \"skewed\". Somente cerca de 1/3 dos vinhos somente foram avaliados e mesmo dentre esses o número de avaliações é muito baixo. Existem poucos vinhos extremamente populares com um grande número de avaliações.\n",
    "* Média: 16.5\n",
    "* Mediana: 6\n",
    "* IQR: 16\n",
    "* Máximo"
   ]
  },
  {
   "cell_type": "code",
   "execution_count": 46,
   "metadata": {},
   "outputs": [],
   "source": [
    "df['Avaliações'] = df.Avaliações.fillna(0)"
   ]
  },
  {
   "cell_type": "code",
   "execution_count": 47,
   "metadata": {},
   "outputs": [
    {
     "data": {
      "text/plain": [
       "[(22.0, 1014.0], (22.0, 1014.0], (4.0, 10.0], (0.999, 2.0], (10.0, 22.0], ..., (22.0, 1014.0], (4.0, 10.0], (10.0, 22.0], (22.0, 1014.0], (10.0, 22.0]]\n",
       "Length: 2631\n",
       "Categories (5, interval[float64]): [(0.999, 2.0] < (2.0, 4.0] < (4.0, 10.0] < (10.0, 22.0] < (22.0, 1014.0]]"
      ]
     },
     "execution_count": 47,
     "metadata": {},
     "output_type": "execute_result"
    }
   ],
   "source": [
    "pd.qcut(df[df.Avaliações != 0].Avaliações.values, 5) # , labels=['muito_baixo', 'baixo', 'médio', 'bom', 'alto'], retbins=True)"
   ]
  },
  {
   "cell_type": "code",
   "execution_count": 48,
   "metadata": {},
   "outputs": [],
   "source": [
    "def cat_avaliações(x):\n",
    "    if x == 0:\n",
    "        return 0\n",
    "    elif 0 < x <10:\n",
    "        return 1\n",
    "    #elif 5 < x <=10:\n",
    "    #    return 2\n",
    "    else:\n",
    "        return 2"
   ]
  },
  {
   "cell_type": "code",
   "execution_count": 49,
   "metadata": {},
   "outputs": [
    {
     "data": {
      "text/plain": [
       "(3780, 23)"
      ]
     },
     "execution_count": 49,
     "metadata": {},
     "output_type": "execute_result"
    }
   ],
   "source": [
    "df[df.Avaliações.notna()].shape"
   ]
  },
  {
   "cell_type": "code",
   "execution_count": 50,
   "metadata": {},
   "outputs": [],
   "source": [
    "df['Pontuação_Cat'] = df.Avaliações.apply(cat_avaliações) "
   ]
  },
  {
   "cell_type": "code",
   "execution_count": 51,
   "metadata": {},
   "outputs": [
    {
     "data": {
      "image/png": "[encoded data removed]",
      "text/plain": [
       "<Figure size 1008x432 with 1 Axes>"
      ]
     },
     "metadata": {},
     "output_type": "display_data"
    }
   ],
   "source": [
    "total = len(df)\n",
    "plt.figure(figsize=(14,6))\n",
    "\n",
    "g = sns.countplot(x='Pontuação_Cat', color='darkgreen',\n",
    "                  data=df)\n",
    "g.set_title(\"Categoria da Pontuação Ponderada pelo número de Avaliações\", fontsize=20)\n",
    "g.set_xlabel(\"Categories \", fontsize=15)\n",
    "g.set_ylabel(\"Total Count\", fontsize=15)\n",
    "\n",
    "sizes=[]\n",
    "\n",
    "for p in g.patches:\n",
    "    height = p.get_height()\n",
    "    sizes.append(height)\n",
    "    g.text(p.get_x()+p.get_width()/2.,\n",
    "            height + 3,\n",
    "            '{:1.2f}%'.format((height/total)*100),\n",
    "            ha=\"center\", fontsize=14) \n",
    "    \n",
    "g.set_ylim(0, max(sizes) * 1.15)\n",
    "\n",
    "plt.show()"
   ]
  },
  {
   "cell_type": "code",
   "execution_count": 52,
   "metadata": {},
   "outputs": [
    {
     "data": {
      "text/plain": [
       "Nome\n",
       "Maison Le Star Rosé On Ice                                            (0.999, 4.0]\n",
       "Ropiteau Frères Les Plants Nobles Pinot Noir 2017                     (0.999, 4.0]\n",
       "Punta Paramo Malbec 2018                                               (6.0, 50.0]\n",
       "Gérard Bertrand Grand Terroir A.O.P. Les Aspres 2015                   (6.0, 50.0]\n",
       "Marqués de Somera Garnacha 2018                                       (0.999, 4.0]\n",
       "                                                                          ...     \n",
       "Viña Cosos D.O. Campo de Borja Garnacha Syrah 2018                      (4.0, 6.0]\n",
       "Baron Philippe de Rothschild La Bélière A.O.C. Bordeaux Blanc 2017    (0.999, 4.0]\n",
       "Carpineto Dogajolo I.G.T. Toscano Bianco 2017                         (0.999, 4.0]\n",
       "Nederburg 56 Hundred Pinot Noir 2017                                  (0.999, 4.0]\n",
       "Canepa Reserva Famiglia Carménère 2017                                  (4.0, 6.0]\n",
       "Name: Potencial_Guarda, Length: 3727, dtype: category\n",
       "Categories (3, interval[float64]): [(0.999, 4.0] < (4.0, 6.0] < (6.0, 50.0]]"
      ]
     },
     "execution_count": 52,
     "metadata": {},
     "output_type": "execute_result"
    }
   ],
   "source": [
    "guarda = df.Potencial_Guarda.notna()\n",
    "pd.qcut(df[guarda].Potencial_Guarda, 3)"
   ]
  },
  {
   "cell_type": "code",
   "execution_count": 53,
   "metadata": {},
   "outputs": [],
   "source": [
    "def estoque_cat(points):\n",
    "    if points < 5:\n",
    "        return 1\n",
    "    elif 5 <= points <= 10:\n",
    "        return 2\n",
    "    else:\n",
    "        return 3    "
   ]
  },
  {
   "cell_type": "code",
   "execution_count": 54,
   "metadata": {},
   "outputs": [],
   "source": [
    "df['Estoque_Cat'] = df.Potencial_Guarda.apply(estoque_cat)"
   ]
  },
  {
   "cell_type": "code",
   "execution_count": 55,
   "metadata": {},
   "outputs": [
    {
     "data": {
      "image/png": "[encoded data removed]",
      "text/plain": [
       "<Figure size 1008x432 with 1 Axes>"
      ]
     },
     "metadata": {},
     "output_type": "display_data"
    }
   ],
   "source": [
    "total = len(df)\n",
    "plt.figure(figsize=(14,6))\n",
    "\n",
    "g = sns.countplot(x='Estoque_Cat', color='darkgreen',\n",
    "                  data=df)\n",
    "g.set_title(\"Categoria dos Vinhos Ponderada pelo Potencial de Guarda\", fontsize=20)\n",
    "g.set_xlabel(\"Categorias\", fontsize=15)\n",
    "g.set_ylabel(\"Total\", fontsize=15)\n",
    "\n",
    "sizes=[]\n",
    "\n",
    "for p in g.patches:\n",
    "    height = p.get_height()\n",
    "    sizes.append(height)\n",
    "    g.text(p.get_x()+p.get_width()/2.,\n",
    "            height + 3,\n",
    "            '{:1.2f}%'.format((height/total)*100),\n",
    "            ha=\"center\", fontsize=14) \n",
    "    \n",
    "g.set_ylim(0, max(sizes) * 1.15)\n",
    "\n",
    "plt.show()"
   ]
  },
  {
   "cell_type": "markdown",
   "metadata": {},
   "source": [
    "Vinhos "
   ]
  },
  {
   "cell_type": "code",
   "execution_count": 56,
   "metadata": {},
   "outputs": [
    {
     "data": {
      "text/html": [
       "<div>\n",
       "<style scoped>\n",
       "    .dataframe tbody tr th:only-of-type {\n",
       "        vertical-align: middle;\n",
       "    }\n",
       "\n",
       "    .dataframe tbody tr th {\n",
       "        vertical-align: top;\n",
       "    }\n",
       "\n",
       "    .dataframe thead th {\n",
       "        text-align: right;\n",
       "    }\n",
       "</style>\n",
       "<table border=\"1\" class=\"dataframe\">\n",
       "  <thead>\n",
       "    <tr style=\"text-align: right;\">\n",
       "      <th></th>\n",
       "      <th>Link</th>\n",
       "      <th>País</th>\n",
       "      <th>Preço_Sócio</th>\n",
       "      <th>Preço_Normal</th>\n",
       "      <th>Pontuação</th>\n",
       "      <th>Avaliações</th>\n",
       "      <th>Somelier</th>\n",
       "      <th>Decantação</th>\n",
       "      <th>Olfativo</th>\n",
       "      <th>Amadurecimento</th>\n",
       "      <th>...</th>\n",
       "      <th>Safra</th>\n",
       "      <th>Classificação</th>\n",
       "      <th>Teor_Alcoólico</th>\n",
       "      <th>Vinícola</th>\n",
       "      <th>Tipo</th>\n",
       "      <th>Potencial_Guarda</th>\n",
       "      <th>Região</th>\n",
       "      <th>Preços_Cat</th>\n",
       "      <th>Pontuação_Cat</th>\n",
       "      <th>Estoque_Cat</th>\n",
       "    </tr>\n",
       "    <tr>\n",
       "      <th>Nome</th>\n",
       "      <th></th>\n",
       "      <th></th>\n",
       "      <th></th>\n",
       "      <th></th>\n",
       "      <th></th>\n",
       "      <th></th>\n",
       "      <th></th>\n",
       "      <th></th>\n",
       "      <th></th>\n",
       "      <th></th>\n",
       "      <th></th>\n",
       "      <th></th>\n",
       "      <th></th>\n",
       "      <th></th>\n",
       "      <th></th>\n",
       "      <th></th>\n",
       "      <th></th>\n",
       "      <th></th>\n",
       "      <th></th>\n",
       "      <th></th>\n",
       "      <th></th>\n",
       "    </tr>\n",
       "  </thead>\n",
       "  <tbody>\n",
       "    <tr>\n",
       "      <th>Maison Le Star Rosé On Ice</th>\n",
       "      <td>https://wine.com.br/vinhos/maison-le-star-rose...</td>\n",
       "      <td>None</td>\n",
       "      <td>NaN</td>\n",
       "      <td>NaN</td>\n",
       "      <td>3.5</td>\n",
       "      <td>26.0</td>\n",
       "      <td>Rosé francês frutado, leve, fresco e com doçur...</td>\n",
       "      <td>NaN</td>\n",
       "      <td>Frutas vermelhas</td>\n",
       "      <td>Em tanques de aço inox.</td>\n",
       "      <td>...</td>\n",
       "      <td>NaN</td>\n",
       "      <td>Meio Seco/Demi-Sec</td>\n",
       "      <td>11.5</td>\n",
       "      <td>Maison Le Star</td>\n",
       "      <td>Rosé</td>\n",
       "      <td>3.0</td>\n",
       "      <td>None</td>\n",
       "      <td>NaN</td>\n",
       "      <td>2</td>\n",
       "      <td>1</td>\n",
       "    </tr>\n",
       "    <tr>\n",
       "      <th>Ropiteau Frères Les Plants Nobles Pinot Noir 2017</th>\n",
       "      <td>https://wine.com.br/vinhos/ropiteau-freres-les...</td>\n",
       "      <td>França</td>\n",
       "      <td>NaN</td>\n",
       "      <td>NaN</td>\n",
       "      <td>4.5</td>\n",
       "      <td>44.0</td>\n",
       "      <td>Com aroma de frutas vermelhas, sobre notas de ...</td>\n",
       "      <td>NaN</td>\n",
       "      <td>Frutas vermelhas, tosta, baunilha, coco</td>\n",
       "      <td>Um terço do vinho estagiou em barricas de carv...</td>\n",
       "      <td>...</td>\n",
       "      <td>2017.0</td>\n",
       "      <td>Seco</td>\n",
       "      <td>12.5</td>\n",
       "      <td>Ropiteau Frères</td>\n",
       "      <td>Tinto</td>\n",
       "      <td>4.0</td>\n",
       "      <td>Languedoc</td>\n",
       "      <td>NaN</td>\n",
       "      <td>2</td>\n",
       "      <td>1</td>\n",
       "    </tr>\n",
       "    <tr>\n",
       "      <th>Punta Paramo Malbec 2018</th>\n",
       "      <td>https://wine.com.br/vinhos/punta-paramo-malbec...</td>\n",
       "      <td>Argentina</td>\n",
       "      <td>NaN</td>\n",
       "      <td>NaN</td>\n",
       "      <td>3.5</td>\n",
       "      <td>8.0</td>\n",
       "      <td>Estilo de Malbec fácil de beber e macio, ideal...</td>\n",
       "      <td>NaN</td>\n",
       "      <td>Frutas vermelhas, leve amadeirado, nuances de ...</td>\n",
       "      <td>Parte do vinho amadureceu em barricas de carva...</td>\n",
       "      <td>...</td>\n",
       "      <td>2018.0</td>\n",
       "      <td>Seco</td>\n",
       "      <td>13.8</td>\n",
       "      <td>Bodega Don Cristóbal 1492</td>\n",
       "      <td>Tinto</td>\n",
       "      <td>7.0</td>\n",
       "      <td>Mendoza</td>\n",
       "      <td>NaN</td>\n",
       "      <td>1</td>\n",
       "      <td>2</td>\n",
       "    </tr>\n",
       "    <tr>\n",
       "      <th>Gérard Bertrand Grand Terroir A.O.P. Les Aspres 2015</th>\n",
       "      <td>https://wine.com.br/vinhos/gerard-bertrand-gra...</td>\n",
       "      <td>França</td>\n",
       "      <td>NaN</td>\n",
       "      <td>NaN</td>\n",
       "      <td>1.0</td>\n",
       "      <td>2.0</td>\n",
       "      <td>Nasce de videiras cultivada em Les Aspres (ári...</td>\n",
       "      <td>30.0</td>\n",
       "      <td>Frutas negras maduras, tosta, erva doce, noz-m...</td>\n",
       "      <td>33% do vinho por 9 meses em barris de carvalho.</td>\n",
       "      <td>...</td>\n",
       "      <td>2015.0</td>\n",
       "      <td>Seco</td>\n",
       "      <td>14.0</td>\n",
       "      <td>Gérard Bertrand</td>\n",
       "      <td>Tinto</td>\n",
       "      <td>7.0</td>\n",
       "      <td>Les Aspres</td>\n",
       "      <td>NaN</td>\n",
       "      <td>1</td>\n",
       "      <td>2</td>\n",
       "    </tr>\n",
       "    <tr>\n",
       "      <th>Marqués de Somera Garnacha 2018</th>\n",
       "      <td>https://wine.com.br/vinhos/marques-de-somera-g...</td>\n",
       "      <td>Espanha</td>\n",
       "      <td>NaN</td>\n",
       "      <td>NaN</td>\n",
       "      <td>4.0</td>\n",
       "      <td>17.0</td>\n",
       "      <td>Esse exemplar é elaborado na região espanhola ...</td>\n",
       "      <td>NaN</td>\n",
       "      <td>Frutas vermelhas, pimenta-preta, violeta</td>\n",
       "      <td>Em tanques de aço inox.</td>\n",
       "      <td>...</td>\n",
       "      <td>2018.0</td>\n",
       "      <td>Seco</td>\n",
       "      <td>13.0</td>\n",
       "      <td>Covinca</td>\n",
       "      <td>Tinto</td>\n",
       "      <td>4.0</td>\n",
       "      <td>Cariñena</td>\n",
       "      <td>NaN</td>\n",
       "      <td>2</td>\n",
       "      <td>1</td>\n",
       "    </tr>\n",
       "  </tbody>\n",
       "</table>\n",
       "<p>5 rows × 25 columns</p>\n",
       "</div>"
      ],
      "text/plain": [
       "                                                                                                 Link  \\\n",
       "Nome                                                                                                    \n",
       "Maison Le Star Rosé On Ice                          https://wine.com.br/vinhos/maison-le-star-rose...   \n",
       "Ropiteau Frères Les Plants Nobles Pinot Noir 2017   https://wine.com.br/vinhos/ropiteau-freres-les...   \n",
       "Punta Paramo Malbec 2018                            https://wine.com.br/vinhos/punta-paramo-malbec...   \n",
       "Gérard Bertrand Grand Terroir A.O.P. Les Aspres...  https://wine.com.br/vinhos/gerard-bertrand-gra...   \n",
       "Marqués de Somera Garnacha 2018                     https://wine.com.br/vinhos/marques-de-somera-g...   \n",
       "\n",
       "                                                         País  Preço_Sócio  \\\n",
       "Nome                                                                         \n",
       "Maison Le Star Rosé On Ice                               None          NaN   \n",
       "Ropiteau Frères Les Plants Nobles Pinot Noir 2017      França          NaN   \n",
       "Punta Paramo Malbec 2018                            Argentina          NaN   \n",
       "Gérard Bertrand Grand Terroir A.O.P. Les Aspres...     França          NaN   \n",
       "Marqués de Somera Garnacha 2018                       Espanha          NaN   \n",
       "\n",
       "                                                    Preço_Normal  Pontuação  \\\n",
       "Nome                                                                          \n",
       "Maison Le Star Rosé On Ice                                   NaN        3.5   \n",
       "Ropiteau Frères Les Plants Nobles Pinot Noir 2017            NaN        4.5   \n",
       "Punta Paramo Malbec 2018                                     NaN        3.5   \n",
       "Gérard Bertrand Grand Terroir A.O.P. Les Aspres...           NaN        1.0   \n",
       "Marqués de Somera Garnacha 2018                              NaN        4.0   \n",
       "\n",
       "                                                    Avaliações  \\\n",
       "Nome                                                             \n",
       "Maison Le Star Rosé On Ice                                26.0   \n",
       "Ropiteau Frères Les Plants Nobles Pinot Noir 2017         44.0   \n",
       "Punta Paramo Malbec 2018                                   8.0   \n",
       "Gérard Bertrand Grand Terroir A.O.P. Les Aspres...         2.0   \n",
       "Marqués de Somera Garnacha 2018                           17.0   \n",
       "\n",
       "                                                                                             Somelier  \\\n",
       "Nome                                                                                                    \n",
       "Maison Le Star Rosé On Ice                          Rosé francês frutado, leve, fresco e com doçur...   \n",
       "Ropiteau Frères Les Plants Nobles Pinot Noir 2017   Com aroma de frutas vermelhas, sobre notas de ...   \n",
       "Punta Paramo Malbec 2018                            Estilo de Malbec fácil de beber e macio, ideal...   \n",
       "Gérard Bertrand Grand Terroir A.O.P. Les Aspres...  Nasce de videiras cultivada em Les Aspres (ári...   \n",
       "Marqués de Somera Garnacha 2018                     Esse exemplar é elaborado na região espanhola ...   \n",
       "\n",
       "                                                    Decantação  \\\n",
       "Nome                                                             \n",
       "Maison Le Star Rosé On Ice                                 NaN   \n",
       "Ropiteau Frères Les Plants Nobles Pinot Noir 2017          NaN   \n",
       "Punta Paramo Malbec 2018                                   NaN   \n",
       "Gérard Bertrand Grand Terroir A.O.P. Les Aspres...        30.0   \n",
       "Marqués de Somera Garnacha 2018                            NaN   \n",
       "\n",
       "                                                                                             Olfativo  \\\n",
       "Nome                                                                                                    \n",
       "Maison Le Star Rosé On Ice                                                           Frutas vermelhas   \n",
       "Ropiteau Frères Les Plants Nobles Pinot Noir 2017             Frutas vermelhas, tosta, baunilha, coco   \n",
       "Punta Paramo Malbec 2018                            Frutas vermelhas, leve amadeirado, nuances de ...   \n",
       "Gérard Bertrand Grand Terroir A.O.P. Les Aspres...  Frutas negras maduras, tosta, erva doce, noz-m...   \n",
       "Marqués de Somera Garnacha 2018                             Frutas vermelhas, pimenta-preta, violeta    \n",
       "\n",
       "                                                                                       Amadurecimento  \\\n",
       "Nome                                                                                                    \n",
       "Maison Le Star Rosé On Ice                                                    Em tanques de aço inox.   \n",
       "Ropiteau Frères Les Plants Nobles Pinot Noir 2017   Um terço do vinho estagiou em barricas de carv...   \n",
       "Punta Paramo Malbec 2018                            Parte do vinho amadureceu em barricas de carva...   \n",
       "Gérard Bertrand Grand Terroir A.O.P. Les Aspres...    33% do vinho por 9 meses em barris de carvalho.   \n",
       "Marqués de Somera Garnacha 2018                                              Em tanques de aço inox.    \n",
       "\n",
       "                                                    ...   Safra  \\\n",
       "Nome                                                ...           \n",
       "Maison Le Star Rosé On Ice                          ...     NaN   \n",
       "Ropiteau Frères Les Plants Nobles Pinot Noir 2017   ...  2017.0   \n",
       "Punta Paramo Malbec 2018                            ...  2018.0   \n",
       "Gérard Bertrand Grand Terroir A.O.P. Les Aspres...  ...  2015.0   \n",
       "Marqués de Somera Garnacha 2018                     ...  2018.0   \n",
       "\n",
       "                                                         Classificação  \\\n",
       "Nome                                                                     \n",
       "Maison Le Star Rosé On Ice                          Meio Seco/Demi-Sec   \n",
       "Ropiteau Frères Les Plants Nobles Pinot Noir 2017                 Seco   \n",
       "Punta Paramo Malbec 2018                                          Seco   \n",
       "Gérard Bertrand Grand Terroir A.O.P. Les Aspres...                Seco   \n",
       "Marqués de Somera Garnacha 2018                                   Seco   \n",
       "\n",
       "                                                   Teor_Alcoólico  \\\n",
       "Nome                                                                \n",
       "Maison Le Star Rosé On Ice                                   11.5   \n",
       "Ropiteau Frères Les Plants Nobles Pinot Noir 2017            12.5   \n",
       "Punta Paramo Malbec 2018                                     13.8   \n",
       "Gérard Bertrand Grand Terroir A.O.P. Les Aspres...           14.0   \n",
       "Marqués de Somera Garnacha 2018                              13.0   \n",
       "\n",
       "                                                                     Vinícola  \\\n",
       "Nome                                                                            \n",
       "Maison Le Star Rosé On Ice                                     Maison Le Star   \n",
       "Ropiteau Frères Les Plants Nobles Pinot Noir 2017             Ropiteau Frères   \n",
       "Punta Paramo Malbec 2018                            Bodega Don Cristóbal 1492   \n",
       "Gérard Bertrand Grand Terroir A.O.P. Les Aspres...            Gérard Bertrand   \n",
       "Marqués de Somera Garnacha 2018                                       Covinca   \n",
       "\n",
       "                                                     Tipo  Potencial_Guarda  \\\n",
       "Nome                                                                          \n",
       "Maison Le Star Rosé On Ice                           Rosé               3.0   \n",
       "Ropiteau Frères Les Plants Nobles Pinot Noir 2017   Tinto               4.0   \n",
       "Punta Paramo Malbec 2018                            Tinto               7.0   \n",
       "Gérard Bertrand Grand Terroir A.O.P. Les Aspres...  Tinto               7.0   \n",
       "Marqués de Somera Garnacha 2018                     Tinto               4.0   \n",
       "\n",
       "                                                        Região  Preços_Cat  \\\n",
       "Nome                                                                         \n",
       "Maison Le Star Rosé On Ice                                None         NaN   \n",
       "Ropiteau Frères Les Plants Nobles Pinot Noir 2017    Languedoc         NaN   \n",
       "Punta Paramo Malbec 2018                               Mendoza         NaN   \n",
       "Gérard Bertrand Grand Terroir A.O.P. Les Aspres...  Les Aspres         NaN   \n",
       "Marqués de Somera Garnacha 2018                       Cariñena         NaN   \n",
       "\n",
       "                                                   Pontuação_Cat Estoque_Cat  \n",
       "Nome                                                                          \n",
       "Maison Le Star Rosé On Ice                                     2           1  \n",
       "Ropiteau Frères Les Plants Nobles Pinot Noir 2017              2           1  \n",
       "Punta Paramo Malbec 2018                                       1           2  \n",
       "Gérard Bertrand Grand Terroir A.O.P. Les Aspres...             1           2  \n",
       "Marqués de Somera Garnacha 2018                                2           1  \n",
       "\n",
       "[5 rows x 25 columns]"
      ]
     },
     "execution_count": 56,
     "metadata": {},
     "output_type": "execute_result"
    }
   ],
   "source": [
    "df.head()"
   ]
  },
  {
   "cell_type": "code",
   "execution_count": 57,
   "metadata": {},
   "outputs": [
    {
     "data": {
      "text/html": [
       "<div>\n",
       "<style scoped>\n",
       "    .dataframe tbody tr th:only-of-type {\n",
       "        vertical-align: middle;\n",
       "    }\n",
       "\n",
       "    .dataframe tbody tr th {\n",
       "        vertical-align: top;\n",
       "    }\n",
       "\n",
       "    .dataframe thead th {\n",
       "        text-align: right;\n",
       "    }\n",
       "</style>\n",
       "<table border=\"1\" class=\"dataframe\">\n",
       "  <thead>\n",
       "    <tr style=\"text-align: right;\">\n",
       "      <th></th>\n",
       "      <th>Link</th>\n",
       "      <th>País</th>\n",
       "      <th>Preço_Sócio</th>\n",
       "      <th>Preço_Normal</th>\n",
       "      <th>Pontuação</th>\n",
       "      <th>Avaliações</th>\n",
       "      <th>Somelier</th>\n",
       "      <th>Decantação</th>\n",
       "      <th>Olfativo</th>\n",
       "      <th>Amadurecimento</th>\n",
       "      <th>...</th>\n",
       "      <th>Safra</th>\n",
       "      <th>Classificação</th>\n",
       "      <th>Teor_Alcoólico</th>\n",
       "      <th>Vinícola</th>\n",
       "      <th>Tipo</th>\n",
       "      <th>Potencial_Guarda</th>\n",
       "      <th>Região</th>\n",
       "      <th>Preços_Cat</th>\n",
       "      <th>Pontuação_Cat</th>\n",
       "      <th>Estoque_Cat</th>\n",
       "    </tr>\n",
       "    <tr>\n",
       "      <th>Nome</th>\n",
       "      <th></th>\n",
       "      <th></th>\n",
       "      <th></th>\n",
       "      <th></th>\n",
       "      <th></th>\n",
       "      <th></th>\n",
       "      <th></th>\n",
       "      <th></th>\n",
       "      <th></th>\n",
       "      <th></th>\n",
       "      <th></th>\n",
       "      <th></th>\n",
       "      <th></th>\n",
       "      <th></th>\n",
       "      <th></th>\n",
       "      <th></th>\n",
       "      <th></th>\n",
       "      <th></th>\n",
       "      <th></th>\n",
       "      <th></th>\n",
       "      <th></th>\n",
       "    </tr>\n",
       "  </thead>\n",
       "  <tbody>\n",
       "    <tr>\n",
       "      <th>Bear Flag Red Blend 2018</th>\n",
       "      <td>https://wine.com.br/vinhos/bear-flag-red-blend...</td>\n",
       "      <td>Estados Unidos</td>\n",
       "      <td>39.9</td>\n",
       "      <td>46.94</td>\n",
       "      <td>4.0</td>\n",
       "      <td>1014.0</td>\n",
       "      <td>O Bear Flag foi feito com o esforço em comum d...</td>\n",
       "      <td>NaN</td>\n",
       "      <td>Frutas negras, com um leve tostado e um toque ...</td>\n",
       "      <td>Em tanques de aço inox</td>\n",
       "      <td>...</td>\n",
       "      <td>2018.0</td>\n",
       "      <td>Seco</td>\n",
       "      <td>13.50</td>\n",
       "      <td>Bear Flag</td>\n",
       "      <td>Tinto</td>\n",
       "      <td>5.0</td>\n",
       "      <td>Califórnia</td>\n",
       "      <td>1</td>\n",
       "      <td>2</td>\n",
       "      <td>2</td>\n",
       "    </tr>\n",
       "    <tr>\n",
       "      <th>Porta Soprana Lambrusco I.G.P. Emilia Rosso Amabile</th>\n",
       "      <td>https://wine.com.br/vinhos/porta-soprana-lambr...</td>\n",
       "      <td>Itália</td>\n",
       "      <td>NaN</td>\n",
       "      <td>NaN</td>\n",
       "      <td>4.5</td>\n",
       "      <td>424.0</td>\n",
       "      <td>Os frisantes da uva Lambrusco estão entre os v...</td>\n",
       "      <td>NaN</td>\n",
       "      <td>Frutas vermelhas frescas, como cereja e morango</td>\n",
       "      <td>Não passa em barricas de carvalho.</td>\n",
       "      <td>...</td>\n",
       "      <td>NaN</td>\n",
       "      <td>Suave/Doce</td>\n",
       "      <td>7.50</td>\n",
       "      <td>Chiarli</td>\n",
       "      <td>Frisante</td>\n",
       "      <td>2.0</td>\n",
       "      <td>Emilia</td>\n",
       "      <td>NaN</td>\n",
       "      <td>2</td>\n",
       "      <td>1</td>\n",
       "    </tr>\n",
       "    <tr>\n",
       "      <th>Pedro Teixeira Colheita Selecionada Bairrada D.O.C 2018</th>\n",
       "      <td>https://wine.com.br/vinhos/pedro-teixeira-colh...</td>\n",
       "      <td>Portugal</td>\n",
       "      <td>34.9</td>\n",
       "      <td>41.06</td>\n",
       "      <td>4.0</td>\n",
       "      <td>389.0</td>\n",
       "      <td>O renomado enólogo Osvaldo Amado fez, neste vi...</td>\n",
       "      <td>NaN</td>\n",
       "      <td>Frutas vermelhas maduras, frutas em compota, e...</td>\n",
       "      <td>6 meses em barricas de carvalho francês mais m...</td>\n",
       "      <td>...</td>\n",
       "      <td>2018.0</td>\n",
       "      <td>Meio Seco/Demi-Sec</td>\n",
       "      <td>13.00</td>\n",
       "      <td>Adega de Cantanhede</td>\n",
       "      <td>Tinto</td>\n",
       "      <td>7.0</td>\n",
       "      <td>Bairrada</td>\n",
       "      <td>1</td>\n",
       "      <td>2</td>\n",
       "      <td>2</td>\n",
       "    </tr>\n",
       "    <tr>\n",
       "      <th>Espumante Veuve D`Argent Blanc De Blancs Brut</th>\n",
       "      <td>https://wine.com.br/vinhos/espumante-veuve-d-a...</td>\n",
       "      <td>França</td>\n",
       "      <td>36.9</td>\n",
       "      <td>43.41</td>\n",
       "      <td>4.0</td>\n",
       "      <td>360.0</td>\n",
       "      <td>Frutas brancas como pera e maçã, delicadas not...</td>\n",
       "      <td>NaN</td>\n",
       "      <td>Frutas brancas como pera e maçã, delicadas not...</td>\n",
       "      <td>3 meses em tanques de aço inox.</td>\n",
       "      <td>...</td>\n",
       "      <td>NaN</td>\n",
       "      <td>Brut</td>\n",
       "      <td>11.50</td>\n",
       "      <td>Veuve d'Argent</td>\n",
       "      <td>Espumante</td>\n",
       "      <td>2.0</td>\n",
       "      <td>Bourgogne</td>\n",
       "      <td>1</td>\n",
       "      <td>2</td>\n",
       "      <td>1</td>\n",
       "    </tr>\n",
       "    <tr>\n",
       "      <th>Vistamar Reserva V Carmenère 2018</th>\n",
       "      <td>https://wine.com.br/vinhos/vistamar-reserva-v-...</td>\n",
       "      <td>None</td>\n",
       "      <td>NaN</td>\n",
       "      <td>NaN</td>\n",
       "      <td>4.5</td>\n",
       "      <td>357.0</td>\n",
       "      <td>Um exemplar de Carménère diferenciado, que tra...</td>\n",
       "      <td>NaN</td>\n",
       "      <td>Frutas vermelhas, amora, ameixa, especiarias e...</td>\n",
       "      <td>em tanques de aço inox por 5 meses</td>\n",
       "      <td>...</td>\n",
       "      <td>2018.0</td>\n",
       "      <td>Meio Seco/Demi-Sec</td>\n",
       "      <td>13.00</td>\n",
       "      <td>Viña Vistamar</td>\n",
       "      <td>Tinto</td>\n",
       "      <td>5.0</td>\n",
       "      <td>None</td>\n",
       "      <td>NaN</td>\n",
       "      <td>2</td>\n",
       "      <td>2</td>\n",
       "    </tr>\n",
       "    <tr>\n",
       "      <th>...</th>\n",
       "      <td>...</td>\n",
       "      <td>...</td>\n",
       "      <td>...</td>\n",
       "      <td>...</td>\n",
       "      <td>...</td>\n",
       "      <td>...</td>\n",
       "      <td>...</td>\n",
       "      <td>...</td>\n",
       "      <td>...</td>\n",
       "      <td>...</td>\n",
       "      <td>...</td>\n",
       "      <td>...</td>\n",
       "      <td>...</td>\n",
       "      <td>...</td>\n",
       "      <td>...</td>\n",
       "      <td>...</td>\n",
       "      <td>...</td>\n",
       "      <td>...</td>\n",
       "      <td>...</td>\n",
       "      <td>...</td>\n",
       "      <td>...</td>\n",
       "    </tr>\n",
       "    <tr>\n",
       "      <th>Julian Reynolds Branco 2013 375ml</th>\n",
       "      <td>https://wine.com.br/vinhos/julian-reynolds-bra...</td>\n",
       "      <td>Portugal</td>\n",
       "      <td>NaN</td>\n",
       "      <td>NaN</td>\n",
       "      <td>NaN</td>\n",
       "      <td>0.0</td>\n",
       "      <td>Este vinho é rico em sabores e aromas, tem bom...</td>\n",
       "      <td>NaN</td>\n",
       "      <td>Frutos tropicais como maracujá e abacaxi, com ...</td>\n",
       "      <td>Em tanques de aço inox</td>\n",
       "      <td>...</td>\n",
       "      <td>2013.0</td>\n",
       "      <td>NaN</td>\n",
       "      <td>14.00</td>\n",
       "      <td>Reynolds Wine Growers</td>\n",
       "      <td>Branco</td>\n",
       "      <td>4.0</td>\n",
       "      <td>Alentejo</td>\n",
       "      <td>NaN</td>\n",
       "      <td>0</td>\n",
       "      <td>1</td>\n",
       "    </tr>\n",
       "    <tr>\n",
       "      <th>Ventisquero Queulat Gran Reserva Syrah 2014</th>\n",
       "      <td>https://wine.com.br/vinhos/ventisquero-queulat...</td>\n",
       "      <td>None</td>\n",
       "      <td>NaN</td>\n",
       "      <td>NaN</td>\n",
       "      <td>NaN</td>\n",
       "      <td>0.0</td>\n",
       "      <td>Este é um syrah rico em aromas de frutas como ...</td>\n",
       "      <td>NaN</td>\n",
       "      <td>Frutas como amoras, ameixas e mirtilos, sobre ...</td>\n",
       "      <td>12 meses em barricas de carvalho francês e ame...</td>\n",
       "      <td>...</td>\n",
       "      <td>2014.0</td>\n",
       "      <td>Seco</td>\n",
       "      <td>13.50</td>\n",
       "      <td>Viña Ventisquero</td>\n",
       "      <td>Tinto</td>\n",
       "      <td>7.0</td>\n",
       "      <td>None</td>\n",
       "      <td>NaN</td>\n",
       "      <td>0</td>\n",
       "      <td>2</td>\n",
       "    </tr>\n",
       "    <tr>\n",
       "      <th>William Hill Napa Valley Cabernet Sauvignon 2011</th>\n",
       "      <td>https://wine.com.br/vinhos/william-hill-napa-v...</td>\n",
       "      <td>Estados Unidos</td>\n",
       "      <td>NaN</td>\n",
       "      <td>NaN</td>\n",
       "      <td>NaN</td>\n",
       "      <td>0.0</td>\n",
       "      <td>Aveludado, com taninos firmes, notas de frutas...</td>\n",
       "      <td>NaN</td>\n",
       "      <td>Frutas vermelhas, amora, cereja e groselha, co...</td>\n",
       "      <td>19 meses em barricas de carvalho francês</td>\n",
       "      <td>...</td>\n",
       "      <td>2011.0</td>\n",
       "      <td>NaN</td>\n",
       "      <td>14.68</td>\n",
       "      <td>William Hill Estate Winery</td>\n",
       "      <td>Tinto</td>\n",
       "      <td>6.0</td>\n",
       "      <td>Napa Valley</td>\n",
       "      <td>NaN</td>\n",
       "      <td>0</td>\n",
       "      <td>2</td>\n",
       "    </tr>\n",
       "    <tr>\n",
       "      <th>Yellow Tail Chardonnay 2016</th>\n",
       "      <td>https://wine.com.br/vinhos/yellow-tail-chardon...</td>\n",
       "      <td>Austrália</td>\n",
       "      <td>NaN</td>\n",
       "      <td>NaN</td>\n",
       "      <td>NaN</td>\n",
       "      <td>0.0</td>\n",
       "      <td>Vinho branco com aromas de frutas brancas fres...</td>\n",
       "      <td>NaN</td>\n",
       "      <td>Frutas brancas frescas, como melão, com notas ...</td>\n",
       "      <td>NaN</td>\n",
       "      <td>...</td>\n",
       "      <td>2016.0</td>\n",
       "      <td>Meio Seco/Demi-Sec</td>\n",
       "      <td>13.00</td>\n",
       "      <td>Casella Family Brands</td>\n",
       "      <td>Branco</td>\n",
       "      <td>3.0</td>\n",
       "      <td>South Eastern Australia</td>\n",
       "      <td>NaN</td>\n",
       "      <td>0</td>\n",
       "      <td>1</td>\n",
       "    </tr>\n",
       "    <tr>\n",
       "      <th>Jp Private Selection Tinto 2013</th>\n",
       "      <td>https://wine.com.br/vinhos/jp-private-selectio...</td>\n",
       "      <td>Portugal</td>\n",
       "      <td>NaN</td>\n",
       "      <td>NaN</td>\n",
       "      <td>NaN</td>\n",
       "      <td>0.0</td>\n",
       "      <td>Tinto de boa estrutura, taninos macios, longo ...</td>\n",
       "      <td>NaN</td>\n",
       "      <td>Notas de ameixas e amoras, com nuances de ment...</td>\n",
       "      <td>12 meses em barricas de carvalho francês.</td>\n",
       "      <td>...</td>\n",
       "      <td>2013.0</td>\n",
       "      <td>Seco</td>\n",
       "      <td>14.00</td>\n",
       "      <td>Bacalhôa Vinhos de Portugal</td>\n",
       "      <td>Tinto</td>\n",
       "      <td>7.0</td>\n",
       "      <td>Península de Setúbal</td>\n",
       "      <td>NaN</td>\n",
       "      <td>0</td>\n",
       "      <td>2</td>\n",
       "    </tr>\n",
       "  </tbody>\n",
       "</table>\n",
       "<p>3780 rows × 25 columns</p>\n",
       "</div>"
      ],
      "text/plain": [
       "                                                                                                 Link  \\\n",
       "Nome                                                                                                    \n",
       "Bear Flag Red Blend 2018                            https://wine.com.br/vinhos/bear-flag-red-blend...   \n",
       "Porta Soprana Lambrusco I.G.P. Emilia Rosso Ama...  https://wine.com.br/vinhos/porta-soprana-lambr...   \n",
       "Pedro Teixeira Colheita Selecionada Bairrada D....  https://wine.com.br/vinhos/pedro-teixeira-colh...   \n",
       "Espumante Veuve D`Argent Blanc De Blancs Brut       https://wine.com.br/vinhos/espumante-veuve-d-a...   \n",
       "Vistamar Reserva V Carmenère 2018                   https://wine.com.br/vinhos/vistamar-reserva-v-...   \n",
       "...                                                                                               ...   \n",
       "Julian Reynolds Branco 2013 375ml                   https://wine.com.br/vinhos/julian-reynolds-bra...   \n",
       "Ventisquero Queulat Gran Reserva Syrah 2014         https://wine.com.br/vinhos/ventisquero-queulat...   \n",
       "William Hill Napa Valley Cabernet Sauvignon 2011    https://wine.com.br/vinhos/william-hill-napa-v...   \n",
       "Yellow Tail Chardonnay 2016                         https://wine.com.br/vinhos/yellow-tail-chardon...   \n",
       "Jp Private Selection Tinto 2013                     https://wine.com.br/vinhos/jp-private-selectio...   \n",
       "\n",
       "                                                              País  \\\n",
       "Nome                                                                 \n",
       "Bear Flag Red Blend 2018                            Estados Unidos   \n",
       "Porta Soprana Lambrusco I.G.P. Emilia Rosso Ama...          Itália   \n",
       "Pedro Teixeira Colheita Selecionada Bairrada D....        Portugal   \n",
       "Espumante Veuve D`Argent Blanc De Blancs Brut               França   \n",
       "Vistamar Reserva V Carmenère 2018                             None   \n",
       "...                                                            ...   \n",
       "Julian Reynolds Branco 2013 375ml                         Portugal   \n",
       "Ventisquero Queulat Gran Reserva Syrah 2014                   None   \n",
       "William Hill Napa Valley Cabernet Sauvignon 2011    Estados Unidos   \n",
       "Yellow Tail Chardonnay 2016                              Austrália   \n",
       "Jp Private Selection Tinto 2013                           Portugal   \n",
       "\n",
       "                                                    Preço_Sócio  Preço_Normal  \\\n",
       "Nome                                                                            \n",
       "Bear Flag Red Blend 2018                                   39.9         46.94   \n",
       "Porta Soprana Lambrusco I.G.P. Emilia Rosso Ama...          NaN           NaN   \n",
       "Pedro Teixeira Colheita Selecionada Bairrada D....         34.9         41.06   \n",
       "Espumante Veuve D`Argent Blanc De Blancs Brut              36.9         43.41   \n",
       "Vistamar Reserva V Carmenère 2018                           NaN           NaN   \n",
       "...                                                         ...           ...   \n",
       "Julian Reynolds Branco 2013 375ml                           NaN           NaN   \n",
       "Ventisquero Queulat Gran Reserva Syrah 2014                 NaN           NaN   \n",
       "William Hill Napa Valley Cabernet Sauvignon 2011            NaN           NaN   \n",
       "Yellow Tail Chardonnay 2016                                 NaN           NaN   \n",
       "Jp Private Selection Tinto 2013                             NaN           NaN   \n",
       "\n",
       "                                                    Pontuação  Avaliações  \\\n",
       "Nome                                                                        \n",
       "Bear Flag Red Blend 2018                                  4.0      1014.0   \n",
       "Porta Soprana Lambrusco I.G.P. Emilia Rosso Ama...        4.5       424.0   \n",
       "Pedro Teixeira Colheita Selecionada Bairrada D....        4.0       389.0   \n",
       "Espumante Veuve D`Argent Blanc De Blancs Brut             4.0       360.0   \n",
       "Vistamar Reserva V Carmenère 2018                         4.5       357.0   \n",
       "...                                                       ...         ...   \n",
       "Julian Reynolds Branco 2013 375ml                         NaN         0.0   \n",
       "Ventisquero Queulat Gran Reserva Syrah 2014               NaN         0.0   \n",
       "William Hill Napa Valley Cabernet Sauvignon 2011          NaN         0.0   \n",
       "Yellow Tail Chardonnay 2016                               NaN         0.0   \n",
       "Jp Private Selection Tinto 2013                           NaN         0.0   \n",
       "\n",
       "                                                                                             Somelier  \\\n",
       "Nome                                                                                                    \n",
       "Bear Flag Red Blend 2018                            O Bear Flag foi feito com o esforço em comum d...   \n",
       "Porta Soprana Lambrusco I.G.P. Emilia Rosso Ama...  Os frisantes da uva Lambrusco estão entre os v...   \n",
       "Pedro Teixeira Colheita Selecionada Bairrada D....  O renomado enólogo Osvaldo Amado fez, neste vi...   \n",
       "Espumante Veuve D`Argent Blanc De Blancs Brut       Frutas brancas como pera e maçã, delicadas not...   \n",
       "Vistamar Reserva V Carmenère 2018                   Um exemplar de Carménère diferenciado, que tra...   \n",
       "...                                                                                               ...   \n",
       "Julian Reynolds Branco 2013 375ml                   Este vinho é rico em sabores e aromas, tem bom...   \n",
       "Ventisquero Queulat Gran Reserva Syrah 2014         Este é um syrah rico em aromas de frutas como ...   \n",
       "William Hill Napa Valley Cabernet Sauvignon 2011    Aveludado, com taninos firmes, notas de frutas...   \n",
       "Yellow Tail Chardonnay 2016                         Vinho branco com aromas de frutas brancas fres...   \n",
       "Jp Private Selection Tinto 2013                     Tinto de boa estrutura, taninos macios, longo ...   \n",
       "\n",
       "                                                    Decantação  \\\n",
       "Nome                                                             \n",
       "Bear Flag Red Blend 2018                                   NaN   \n",
       "Porta Soprana Lambrusco I.G.P. Emilia Rosso Ama...         NaN   \n",
       "Pedro Teixeira Colheita Selecionada Bairrada D....         NaN   \n",
       "Espumante Veuve D`Argent Blanc De Blancs Brut              NaN   \n",
       "Vistamar Reserva V Carmenère 2018                          NaN   \n",
       "...                                                        ...   \n",
       "Julian Reynolds Branco 2013 375ml                          NaN   \n",
       "Ventisquero Queulat Gran Reserva Syrah 2014                NaN   \n",
       "William Hill Napa Valley Cabernet Sauvignon 2011           NaN   \n",
       "Yellow Tail Chardonnay 2016                                NaN   \n",
       "Jp Private Selection Tinto 2013                            NaN   \n",
       "\n",
       "                                                                                             Olfativo  \\\n",
       "Nome                                                                                                    \n",
       "Bear Flag Red Blend 2018                            Frutas negras, com um leve tostado e um toque ...   \n",
       "Porta Soprana Lambrusco I.G.P. Emilia Rosso Ama...    Frutas vermelhas frescas, como cereja e morango   \n",
       "Pedro Teixeira Colheita Selecionada Bairrada D....  Frutas vermelhas maduras, frutas em compota, e...   \n",
       "Espumante Veuve D`Argent Blanc De Blancs Brut       Frutas brancas como pera e maçã, delicadas not...   \n",
       "Vistamar Reserva V Carmenère 2018                   Frutas vermelhas, amora, ameixa, especiarias e...   \n",
       "...                                                                                               ...   \n",
       "Julian Reynolds Branco 2013 375ml                   Frutos tropicais como maracujá e abacaxi, com ...   \n",
       "Ventisquero Queulat Gran Reserva Syrah 2014         Frutas como amoras, ameixas e mirtilos, sobre ...   \n",
       "William Hill Napa Valley Cabernet Sauvignon 2011    Frutas vermelhas, amora, cereja e groselha, co...   \n",
       "Yellow Tail Chardonnay 2016                         Frutas brancas frescas, como melão, com notas ...   \n",
       "Jp Private Selection Tinto 2013                     Notas de ameixas e amoras, com nuances de ment...   \n",
       "\n",
       "                                                                                       Amadurecimento  \\\n",
       "Nome                                                                                                    \n",
       "Bear Flag Red Blend 2018                                                       Em tanques de aço inox   \n",
       "Porta Soprana Lambrusco I.G.P. Emilia Rosso Ama...                 Não passa em barricas de carvalho.   \n",
       "Pedro Teixeira Colheita Selecionada Bairrada D....  6 meses em barricas de carvalho francês mais m...   \n",
       "Espumante Veuve D`Argent Blanc De Blancs Brut                         3 meses em tanques de aço inox.   \n",
       "Vistamar Reserva V Carmenère 2018                                  em tanques de aço inox por 5 meses   \n",
       "...                                                                                               ...   \n",
       "Julian Reynolds Branco 2013 375ml                                              Em tanques de aço inox   \n",
       "Ventisquero Queulat Gran Reserva Syrah 2014         12 meses em barricas de carvalho francês e ame...   \n",
       "William Hill Napa Valley Cabernet Sauvignon 2011            19 meses em barricas de carvalho francês    \n",
       "Yellow Tail Chardonnay 2016                                                                       NaN   \n",
       "Jp Private Selection Tinto 2013                             12 meses em barricas de carvalho francês.   \n",
       "\n",
       "                                                    ...   Safra  \\\n",
       "Nome                                                ...           \n",
       "Bear Flag Red Blend 2018                            ...  2018.0   \n",
       "Porta Soprana Lambrusco I.G.P. Emilia Rosso Ama...  ...     NaN   \n",
       "Pedro Teixeira Colheita Selecionada Bairrada D....  ...  2018.0   \n",
       "Espumante Veuve D`Argent Blanc De Blancs Brut       ...     NaN   \n",
       "Vistamar Reserva V Carmenère 2018                   ...  2018.0   \n",
       "...                                                 ...     ...   \n",
       "Julian Reynolds Branco 2013 375ml                   ...  2013.0   \n",
       "Ventisquero Queulat Gran Reserva Syrah 2014         ...  2014.0   \n",
       "William Hill Napa Valley Cabernet Sauvignon 2011    ...  2011.0   \n",
       "Yellow Tail Chardonnay 2016                         ...  2016.0   \n",
       "Jp Private Selection Tinto 2013                     ...  2013.0   \n",
       "\n",
       "                                                         Classificação  \\\n",
       "Nome                                                                     \n",
       "Bear Flag Red Blend 2018                                          Seco   \n",
       "Porta Soprana Lambrusco I.G.P. Emilia Rosso Ama...          Suave/Doce   \n",
       "Pedro Teixeira Colheita Selecionada Bairrada D....  Meio Seco/Demi-Sec   \n",
       "Espumante Veuve D`Argent Blanc De Blancs Brut                     Brut   \n",
       "Vistamar Reserva V Carmenère 2018                   Meio Seco/Demi-Sec   \n",
       "...                                                                ...   \n",
       "Julian Reynolds Branco 2013 375ml                                  NaN   \n",
       "Ventisquero Queulat Gran Reserva Syrah 2014                       Seco   \n",
       "William Hill Napa Valley Cabernet Sauvignon 2011                   NaN   \n",
       "Yellow Tail Chardonnay 2016                         Meio Seco/Demi-Sec   \n",
       "Jp Private Selection Tinto 2013                                   Seco   \n",
       "\n",
       "                                                   Teor_Alcoólico  \\\n",
       "Nome                                                                \n",
       "Bear Flag Red Blend 2018                                    13.50   \n",
       "Porta Soprana Lambrusco I.G.P. Emilia Rosso Ama...           7.50   \n",
       "Pedro Teixeira Colheita Selecionada Bairrada D....          13.00   \n",
       "Espumante Veuve D`Argent Blanc De Blancs Brut               11.50   \n",
       "Vistamar Reserva V Carmenère 2018                           13.00   \n",
       "...                                                           ...   \n",
       "Julian Reynolds Branco 2013 375ml                           14.00   \n",
       "Ventisquero Queulat Gran Reserva Syrah 2014                 13.50   \n",
       "William Hill Napa Valley Cabernet Sauvignon 2011            14.68   \n",
       "Yellow Tail Chardonnay 2016                                 13.00   \n",
       "Jp Private Selection Tinto 2013                             14.00   \n",
       "\n",
       "                                                                       Vinícola  \\\n",
       "Nome                                                                              \n",
       "Bear Flag Red Blend 2018                                              Bear Flag   \n",
       "Porta Soprana Lambrusco I.G.P. Emilia Rosso Ama...                      Chiarli   \n",
       "Pedro Teixeira Colheita Selecionada Bairrada D....          Adega de Cantanhede   \n",
       "Espumante Veuve D`Argent Blanc De Blancs Brut                    Veuve d'Argent   \n",
       "Vistamar Reserva V Carmenère 2018                                 Viña Vistamar   \n",
       "...                                                                         ...   \n",
       "Julian Reynolds Branco 2013 375ml                         Reynolds Wine Growers   \n",
       "Ventisquero Queulat Gran Reserva Syrah 2014                    Viña Ventisquero   \n",
       "William Hill Napa Valley Cabernet Sauvignon 2011     William Hill Estate Winery   \n",
       "Yellow Tail Chardonnay 2016                               Casella Family Brands   \n",
       "Jp Private Selection Tinto 2013                     Bacalhôa Vinhos de Portugal   \n",
       "\n",
       "                                                         Tipo  \\\n",
       "Nome                                                            \n",
       "Bear Flag Red Blend 2018                                Tinto   \n",
       "Porta Soprana Lambrusco I.G.P. Emilia Rosso Ama...   Frisante   \n",
       "Pedro Teixeira Colheita Selecionada Bairrada D....      Tinto   \n",
       "Espumante Veuve D`Argent Blanc De Blancs Brut       Espumante   \n",
       "Vistamar Reserva V Carmenère 2018                       Tinto   \n",
       "...                                                       ...   \n",
       "Julian Reynolds Branco 2013 375ml                      Branco   \n",
       "Ventisquero Queulat Gran Reserva Syrah 2014             Tinto   \n",
       "William Hill Napa Valley Cabernet Sauvignon 2011        Tinto   \n",
       "Yellow Tail Chardonnay 2016                            Branco   \n",
       "Jp Private Selection Tinto 2013                         Tinto   \n",
       "\n",
       "                                                    Potencial_Guarda  \\\n",
       "Nome                                                                   \n",
       "Bear Flag Red Blend 2018                                         5.0   \n",
       "Porta Soprana Lambrusco I.G.P. Emilia Rosso Ama...               2.0   \n",
       "Pedro Teixeira Colheita Selecionada Bairrada D....               7.0   \n",
       "Espumante Veuve D`Argent Blanc De Blancs Brut                    2.0   \n",
       "Vistamar Reserva V Carmenère 2018                                5.0   \n",
       "...                                                              ...   \n",
       "Julian Reynolds Branco 2013 375ml                                4.0   \n",
       "Ventisquero Queulat Gran Reserva Syrah 2014                      7.0   \n",
       "William Hill Napa Valley Cabernet Sauvignon 2011                 6.0   \n",
       "Yellow Tail Chardonnay 2016                                      3.0   \n",
       "Jp Private Selection Tinto 2013                                  7.0   \n",
       "\n",
       "                                                                     Região  \\\n",
       "Nome                                                                          \n",
       "Bear Flag Red Blend 2018                                         Califórnia   \n",
       "Porta Soprana Lambrusco I.G.P. Emilia Rosso Ama...                   Emilia   \n",
       "Pedro Teixeira Colheita Selecionada Bairrada D....                 Bairrada   \n",
       "Espumante Veuve D`Argent Blanc De Blancs Brut                     Bourgogne   \n",
       "Vistamar Reserva V Carmenère 2018                                      None   \n",
       "...                                                                     ...   \n",
       "Julian Reynolds Branco 2013 375ml                                  Alentejo   \n",
       "Ventisquero Queulat Gran Reserva Syrah 2014                            None   \n",
       "William Hill Napa Valley Cabernet Sauvignon 2011                Napa Valley   \n",
       "Yellow Tail Chardonnay 2016                         South Eastern Australia   \n",
       "Jp Private Selection Tinto 2013                        Península de Setúbal   \n",
       "\n",
       "                                                    Preços_Cat Pontuação_Cat  \\\n",
       "Nome                                                                           \n",
       "Bear Flag Red Blend 2018                                     1             2   \n",
       "Porta Soprana Lambrusco I.G.P. Emilia Rosso Ama...         NaN             2   \n",
       "Pedro Teixeira Colheita Selecionada Bairrada D....           1             2   \n",
       "Espumante Veuve D`Argent Blanc De Blancs Brut                1             2   \n",
       "Vistamar Reserva V Carmenère 2018                          NaN             2   \n",
       "...                                                        ...           ...   \n",
       "Julian Reynolds Branco 2013 375ml                          NaN             0   \n",
       "Ventisquero Queulat Gran Reserva Syrah 2014                NaN             0   \n",
       "William Hill Napa Valley Cabernet Sauvignon 2011           NaN             0   \n",
       "Yellow Tail Chardonnay 2016                                NaN             0   \n",
       "Jp Private Selection Tinto 2013                            NaN             0   \n",
       "\n",
       "                                                   Estoque_Cat  \n",
       "Nome                                                            \n",
       "Bear Flag Red Blend 2018                                     2  \n",
       "Porta Soprana Lambrusco I.G.P. Emilia Rosso Ama...           1  \n",
       "Pedro Teixeira Colheita Selecionada Bairrada D....           2  \n",
       "Espumante Veuve D`Argent Blanc De Blancs Brut                1  \n",
       "Vistamar Reserva V Carmenère 2018                            2  \n",
       "...                                                        ...  \n",
       "Julian Reynolds Branco 2013 375ml                            1  \n",
       "Ventisquero Queulat Gran Reserva Syrah 2014                  2  \n",
       "William Hill Napa Valley Cabernet Sauvignon 2011             2  \n",
       "Yellow Tail Chardonnay 2016                                  1  \n",
       "Jp Private Selection Tinto 2013                              2  \n",
       "\n",
       "[3780 rows x 25 columns]"
      ]
     },
     "execution_count": 57,
     "metadata": {},
     "output_type": "execute_result"
    }
   ],
   "source": [
    "df.sort_values('Avaliações', ascending=False)"
   ]
  },
  {
   "cell_type": "code",
   "execution_count": 58,
   "metadata": {},
   "outputs": [
    {
     "data": {
      "text/plain": [
       "array(['Meio Seco/Demi-Sec', 'Seco', 'Brut', 'Suave/Doce', nan,\n",
       "       'Extra Brut', 'Nature', 'Extra Dry'], dtype=object)"
      ]
     },
     "execution_count": 58,
     "metadata": {},
     "output_type": "execute_result"
    }
   ],
   "source": [
    "df.Classificação.unique()"
   ]
  },
  {
   "cell_type": "code",
   "execution_count": 59,
   "metadata": {},
   "outputs": [
    {
     "data": {
      "text/plain": [
       "Seco                  2560\n",
       "Meio Seco/Demi-Sec     662\n",
       "Brut                   189\n",
       "Suave/Doce             117\n",
       "Extra Brut              28\n",
       "Nature                   9\n",
       "Extra Dry                1\n",
       "Name: Classificação, dtype: int64"
      ]
     },
     "execution_count": 59,
     "metadata": {},
     "output_type": "execute_result"
    }
   ],
   "source": [
    "df.Classificação.value_counts()"
   ]
  },
  {
   "cell_type": "code",
   "execution_count": 60,
   "metadata": {},
   "outputs": [],
   "source": [
    "df['Seco'] = 0"
   ]
  },
  {
   "cell_type": "code",
   "execution_count": 61,
   "metadata": {},
   "outputs": [],
   "source": [
    "df.loc[(df.Classificação.notna()) & (df.Classificação == 'Seco'), 'Seco'] = 1"
   ]
  },
  {
   "cell_type": "code",
   "execution_count": 62,
   "metadata": {},
   "outputs": [],
   "source": [
    "df.loc[(df.Classificação.notna()) & (df.Classificação == 'Extra Dry'), 'Seco'] = 1"
   ]
  },
  {
   "cell_type": "code",
   "execution_count": 63,
   "metadata": {},
   "outputs": [
    {
     "data": {
      "text/plain": [
       "1    2561\n",
       "0    1219\n",
       "Name: Seco, dtype: int64"
      ]
     },
     "execution_count": 63,
     "metadata": {},
     "output_type": "execute_result"
    }
   ],
   "source": [
    "df.Seco.value_counts()"
   ]
  },
  {
   "cell_type": "code",
   "execution_count": 64,
   "metadata": {},
   "outputs": [
    {
     "data": {
      "text/plain": [
       "Tinto        2375\n",
       "Branco        847\n",
       "Espumante     300\n",
       "Rosé          167\n",
       "Licoroso       43\n",
       "Frisante       21\n",
       "Name: Tipo, dtype: int64"
      ]
     },
     "execution_count": 64,
     "metadata": {},
     "output_type": "execute_result"
    }
   ],
   "source": [
    "df.Tipo.value_counts()"
   ]
  },
  {
   "cell_type": "code",
   "execution_count": 65,
   "metadata": {},
   "outputs": [
    {
     "data": {
      "text/plain": [
       "País\n",
       "França            0.153704\n",
       "Argentina         0.291270\n",
       "Portugal          0.393386\n",
       "Itália            0.492328\n",
       "Espanha           0.585979\n",
       "Brasil            0.669048\n",
       "Estados Unidos    0.712963\n",
       "África do Sul     0.753175\n",
       "Uruguai           0.774603\n",
       "Austrália         0.785979\n",
       "Alemanha          0.792857\n",
       "Hungria           0.797354\n",
       "Name: Link, dtype: float64"
      ]
     },
     "execution_count": 65,
     "metadata": {},
     "output_type": "execute_result"
    }
   ],
   "source": [
    "df.groupby('País')['Link'].count().sort_values(ascending=False).cumsum().apply(lambda x : x / total)"
   ]
  },
  {
   "cell_type": "code",
   "execution_count": 66,
   "metadata": {},
   "outputs": [
    {
     "data": {
      "image/png": "[encoded data removed]",
      "text/plain": [
       "<Figure size 1008x432 with 1 Axes>"
      ]
     },
     "metadata": {},
     "output_type": "display_data"
    }
   ],
   "source": [
    "plt.figure(figsize=(14,6))\n",
    "\n",
    "country = df.País.value_counts()\n",
    "\n",
    "g = sns.countplot(x='País', \n",
    "                  data=df,\n",
    "                 color='darkgreen')\n",
    "g.set_title(\"Contagem de Vinhos por País\", fontsize=20)\n",
    "g.set_xlabel(\"País \", fontsize=15)\n",
    "g.set_ylabel(\"Contagem\", fontsize=15)\n",
    "g.set_xticklabels(g.get_xticklabels(),rotation=45)\n",
    "\n",
    "plt.show()"
   ]
  },
  {
   "cell_type": "code",
   "execution_count": 67,
   "metadata": {},
   "outputs": [],
   "source": [
    "df['Pontuação'] = df.Pontuação.fillna(0)"
   ]
  },
  {
   "cell_type": "code",
   "execution_count": 68,
   "metadata": {},
   "outputs": [],
   "source": [
    "df['Pontos_Total'] = df['Pontuação'] * df['Avaliações']"
   ]
  },
  {
   "cell_type": "code",
   "execution_count": 69,
   "metadata": {},
   "outputs": [
    {
     "data": {
      "image/png": "[encoded data removed]",
      "text/plain": [
       "<Figure size 1152x864 with 2 Axes>"
      ]
     },
     "metadata": {},
     "output_type": "display_data"
    }
   ],
   "source": [
    "plt.figure(figsize=(16,12))\n",
    "\n",
    "plt.subplot(2,1,1)\n",
    "\n",
    "g = sns.boxplot(x='País', y=np.log(df.Preço_Normal.values), data=df, color='darkgreen')\n",
    "g.set_title(\"Preço por País de Origem (log)\", fontsize=20)\n",
    "g.set_xlabel(\"País\", fontsize=15)\n",
    "g.set_ylabel(\"Distribuição de Preços\", fontsize=15)\n",
    "g.set_xticklabels(g.get_xticklabels(), rotation=45)\n",
    "\n",
    "plt.subplot(2, 1, 2)\n",
    "\n",
    "g = sns.boxplot(x='País', y=np.log(df[df.Pontos_Total != 0.0].Pontos_Total), data=df[df.Pontos_Total != 0.0], color='darkgreen')\n",
    "g.set_title(\"Pontos por País de Origem (log)\", fontsize=20)\n",
    "g.set_xlabel(\"País\", fontsize=15)\n",
    "g.set_ylabel(\"Distribuição de Pontos\", fontsize=15)\n",
    "g.set_xticklabels(g.get_xticklabels(), rotation=45)\n",
    "\n",
    "plt.subplots_adjust(hspace=0.6, top=0.9)\n",
    "\n",
    "plt.show()\n",
    "\n"
   ]
  },
  {
   "cell_type": "markdown",
   "metadata": {},
   "source": [
    "Interessante que o país de origem mais abundante, França, não possui vinhos com preço extremamente alto no nosso conjunto de dados, i.e. considerados outliers. "
   ]
  },
  {
   "cell_type": "code",
   "execution_count": 70,
   "metadata": {},
   "outputs": [
    {
     "data": {
      "text/plain": [
       "País\n",
       "África do Sul     4.00\n",
       "Estados Unidos    4.00\n",
       "Alemanha          3.75\n",
       "Uruguai           3.50\n",
       "Portugal          3.50\n",
       "Itália            3.50\n",
       "Espanha           3.50\n",
       "França            3.00\n",
       "Austrália         3.00\n",
       "Argentina         3.00\n",
       "Brasil            2.25\n",
       "Hungria           0.00\n",
       "Name: Pontuação, dtype: float64"
      ]
     },
     "execution_count": 70,
     "metadata": {},
     "output_type": "execute_result"
    }
   ],
   "source": [
    "df.groupby('País').Pontuação.median().sort_values(ascending=False)"
   ]
  },
  {
   "cell_type": "code",
   "execution_count": 71,
   "metadata": {},
   "outputs": [
    {
     "data": {
      "text/plain": [
       "País\n",
       "Hungria           409.290\n",
       "França            255.765\n",
       "Estados Unidos    114.000\n",
       "Alemanha          109.900\n",
       "Itália             81.060\n",
       "Argentina          76.350\n",
       "Austrália          71.650\n",
       "África do Sul      69.290\n",
       "Uruguai            66.940\n",
       "Espanha            66.940\n",
       "Portugal           63.400\n",
       "Brasil             54.000\n",
       "Name: Preço_Normal, dtype: float64"
      ]
     },
     "execution_count": 71,
     "metadata": {},
     "output_type": "execute_result"
    }
   ],
   "source": [
    "df.groupby('País').Preço_Normal.median().sort_values(ascending=False)"
   ]
  },
  {
   "cell_type": "code",
   "execution_count": 72,
   "metadata": {},
   "outputs": [],
   "source": [
    "for row in df.itertuples():\n",
    "    df.loc[row.Index, 'Desc_Sócio'] = 1 - (row.Preço_Sócio / row.Preço_Normal) "
   ]
  },
  {
   "cell_type": "code",
   "execution_count": 73,
   "metadata": {},
   "outputs": [
    {
     "data": {
      "text/plain": [
       "0.14982712889273675"
      ]
     },
     "execution_count": 73,
     "metadata": {},
     "output_type": "execute_result"
    }
   ],
   "source": [
    "df.Desc_Sócio.mean()"
   ]
  },
  {
   "cell_type": "code",
   "execution_count": 74,
   "metadata": {},
   "outputs": [
    {
     "data": {
      "image/png": "[encoded data removed]",
      "text/plain": [
       "<Figure size 1152x864 with 2 Axes>"
      ]
     },
     "metadata": {},
     "output_type": "display_data"
    }
   ],
   "source": [
    "plt.figure(figsize=(16,12))\n",
    "\n",
    "plt.subplot(2,1,1)\n",
    "\n",
    "g = sns.boxplot(x='Tipo', y=np.log(df.Preço_Normal.values), data=df, color='darkgreen')\n",
    "g.set_title(\"Preço por Tipo de Vinho (log)\", fontsize=20)\n",
    "g.set_xlabel(\"Tipo\", fontsize=15)\n",
    "g.set_ylabel(\"Distribuição de Preços\", fontsize=15)\n",
    "g.set_xticklabels(g.get_xticklabels(), rotation=45)\n",
    "\n",
    "plt.subplot(2, 1, 2)\n",
    "\n",
    "g = sns.boxplot(x='Tipo', y=np.log(df[df.Pontos_Total != 0.0].Pontos_Total), data=df[df.Pontos_Total != 0.0], color='darkgreen')\n",
    "g.set_title(\"Pontos por Tipo de Vinho (log)\", fontsize=20)\n",
    "g.set_xlabel(\"Tipo\", fontsize=15)\n",
    "g.set_ylabel(\"Distribuição de Pontos\", fontsize=15)\n",
    "g.set_xticklabels(g.get_xticklabels(), rotation=45)\n",
    "plt.subplots_adjust(hspace=0.6, top=0.9)\n",
    "plt.show()\n"
   ]
  },
  {
   "cell_type": "markdown",
   "metadata": {},
   "source": [
    "* Dado que a imensa maioria do catálogo é de vinhos tintos, não é surpresa que tenha o maior número de outliers. Mas os vinhos espumantes e licorosos possuem mediana de preços maior, ou seja, no geral são vinhos bem mais caros do catálogo.\n",
    "* Os vinhos frisantes são os que possuem menor preço e maior pontuação na média, claro que possuem pouquíssimos vinhos disponíveis então não devemos levar essa estatística ao pé da letra."
   ]
  },
  {
   "cell_type": "code",
   "execution_count": 75,
   "metadata": {},
   "outputs": [],
   "source": [
    "df['Uvas'] = df.Uvas.str.split(\",\")"
   ]
  },
  {
   "cell_type": "code",
   "execution_count": 76,
   "metadata": {},
   "outputs": [],
   "source": [
    "uvas = df.explode(column='Uvas')[['Uvas']]"
   ]
  },
  {
   "cell_type": "code",
   "execution_count": 77,
   "metadata": {},
   "outputs": [],
   "source": [
    "uvas = uvas.reset_index()"
   ]
  },
  {
   "cell_type": "code",
   "execution_count": 78,
   "metadata": {},
   "outputs": [],
   "source": [
    "import re\n",
    "for row in uvas[uvas.Uvas.notna()].itertuples():\n",
    "        m = re.match(r\"([\\w+ ]+)\\s*\\(?(\\d*)\\.?\\d*%?\\)?\", row.Uvas.strip(), re.UNICODE)\n",
    "        uvas.loc[row.Index, 'Uva'] = m.group(1).rstrip()\n",
    "        conc = m.group(2).rstrip()\n",
    "        uvas.loc[row.Index, 'Concentração'] = conc if conc != '' else 100 / len(uvas[uvas.Nome == row.Nome])"
   ]
  },
  {
   "cell_type": "code",
   "execution_count": 79,
   "metadata": {},
   "outputs": [],
   "source": [
    "uvas = uvas.drop('Uvas', axis=1)"
   ]
  },
  {
   "cell_type": "code",
   "execution_count": 80,
   "metadata": {},
   "outputs": [
    {
     "data": {
      "text/html": [
       "<div>\n",
       "<style scoped>\n",
       "    .dataframe tbody tr th:only-of-type {\n",
       "        vertical-align: middle;\n",
       "    }\n",
       "\n",
       "    .dataframe tbody tr th {\n",
       "        vertical-align: top;\n",
       "    }\n",
       "\n",
       "    .dataframe thead th {\n",
       "        text-align: right;\n",
       "    }\n",
       "</style>\n",
       "<table border=\"1\" class=\"dataframe\">\n",
       "  <thead>\n",
       "    <tr style=\"text-align: right;\">\n",
       "      <th></th>\n",
       "      <th>Nome</th>\n",
       "      <th>Uva</th>\n",
       "      <th>Concentração</th>\n",
       "    </tr>\n",
       "  </thead>\n",
       "  <tbody>\n",
       "    <tr>\n",
       "      <th>0</th>\n",
       "      <td>370 Léguas DOC Douro Branco 2017</td>\n",
       "      <td>Moscatel Galego Branco</td>\n",
       "      <td>33.3333</td>\n",
       "    </tr>\n",
       "    <tr>\n",
       "      <th>1</th>\n",
       "      <td>370 Léguas DOC Douro Branco 2017</td>\n",
       "      <td>Viosinho</td>\n",
       "      <td>33.3333</td>\n",
       "    </tr>\n",
       "    <tr>\n",
       "      <th>2</th>\n",
       "      <td>370 Léguas DOC Douro Branco 2017</td>\n",
       "      <td>Malvasia Fina</td>\n",
       "      <td>33.3333</td>\n",
       "    </tr>\n",
       "    <tr>\n",
       "      <th>3</th>\n",
       "      <td>370 Léguas Reserva D.O.C. Douro 2016</td>\n",
       "      <td>Tinta Roriz</td>\n",
       "      <td>35</td>\n",
       "    </tr>\n",
       "    <tr>\n",
       "      <th>4</th>\n",
       "      <td>370 Léguas Reserva D.O.C. Douro 2016</td>\n",
       "      <td>Touriga Franca</td>\n",
       "      <td>35</td>\n",
       "    </tr>\n",
       "    <tr>\n",
       "      <th>...</th>\n",
       "      <td>...</td>\n",
       "      <td>...</td>\n",
       "      <td>...</td>\n",
       "    </tr>\n",
       "    <tr>\n",
       "      <th>6694</th>\n",
       "      <td>Yellow Tail Shiraz 2016</td>\n",
       "      <td>Shiraz</td>\n",
       "      <td>100</td>\n",
       "    </tr>\n",
       "    <tr>\n",
       "      <th>6695</th>\n",
       "      <td>Zenithwirl Cabernet Gernischt 2018</td>\n",
       "      <td>Cabernet Gernisht</td>\n",
       "      <td>100</td>\n",
       "    </tr>\n",
       "    <tr>\n",
       "      <th>6696</th>\n",
       "      <td>Zenithwirl Cabernet Sauvignon 2018</td>\n",
       "      <td>Cabernet Sauvignon</td>\n",
       "      <td>100</td>\n",
       "    </tr>\n",
       "    <tr>\n",
       "      <th>6697</th>\n",
       "      <td>Zweigelt Classic Red 2017</td>\n",
       "      <td>Zweigelt</td>\n",
       "      <td>100</td>\n",
       "    </tr>\n",
       "    <tr>\n",
       "      <th>6698</th>\n",
       "      <td>Linha Vivendo Reserve</td>\n",
       "      <td>Sauvignon Blanc</td>\n",
       "      <td>100</td>\n",
       "    </tr>\n",
       "  </tbody>\n",
       "</table>\n",
       "<p>6699 rows × 3 columns</p>\n",
       "</div>"
      ],
      "text/plain": [
       "                                      Nome                     Uva  \\\n",
       "0         370 Léguas DOC Douro Branco 2017  Moscatel Galego Branco   \n",
       "1         370 Léguas DOC Douro Branco 2017                Viosinho   \n",
       "2         370 Léguas DOC Douro Branco 2017           Malvasia Fina   \n",
       "3     370 Léguas Reserva D.O.C. Douro 2016             Tinta Roriz   \n",
       "4     370 Léguas Reserva D.O.C. Douro 2016          Touriga Franca   \n",
       "...                                    ...                     ...   \n",
       "6694               Yellow Tail Shiraz 2016                  Shiraz   \n",
       "6695    Zenithwirl Cabernet Gernischt 2018       Cabernet Gernisht   \n",
       "6696    Zenithwirl Cabernet Sauvignon 2018      Cabernet Sauvignon   \n",
       "6697             Zweigelt Classic Red 2017                Zweigelt   \n",
       "6698                 Linha Vivendo Reserve         Sauvignon Blanc   \n",
       "\n",
       "     Concentração  \n",
       "0         33.3333  \n",
       "1         33.3333  \n",
       "2         33.3333  \n",
       "3              35  \n",
       "4              35  \n",
       "...           ...  \n",
       "6694          100  \n",
       "6695          100  \n",
       "6696          100  \n",
       "6697          100  \n",
       "6698          100  \n",
       "\n",
       "[6699 rows x 3 columns]"
      ]
     },
     "execution_count": 80,
     "metadata": {},
     "output_type": "execute_result"
    }
   ],
   "source": [
    "uvas"
   ]
  },
  {
   "cell_type": "code",
   "execution_count": 81,
   "metadata": {},
   "outputs": [],
   "source": [
    "top_20 = uvas.Uva.value_counts()[:30]\n",
    "\n",
    "top_20 = pd.DataFrame(top_20).reset_index()\n",
    "\n",
    "top_20.columns = ['Uva', 'Count']"
   ]
  },
  {
   "cell_type": "code",
   "execution_count": 82,
   "metadata": {},
   "outputs": [
    {
     "data": {
      "text/html": [
       "<div>\n",
       "<style scoped>\n",
       "    .dataframe tbody tr th:only-of-type {\n",
       "        vertical-align: middle;\n",
       "    }\n",
       "\n",
       "    .dataframe tbody tr th {\n",
       "        vertical-align: top;\n",
       "    }\n",
       "\n",
       "    .dataframe thead th {\n",
       "        text-align: right;\n",
       "    }\n",
       "</style>\n",
       "<table border=\"1\" class=\"dataframe\">\n",
       "  <thead>\n",
       "    <tr style=\"text-align: right;\">\n",
       "      <th></th>\n",
       "      <th>Uva</th>\n",
       "      <th>Count</th>\n",
       "    </tr>\n",
       "  </thead>\n",
       "  <tbody>\n",
       "    <tr>\n",
       "      <th>0</th>\n",
       "      <td>Cabernet Sauvignon</td>\n",
       "      <td>783</td>\n",
       "    </tr>\n",
       "    <tr>\n",
       "      <th>1</th>\n",
       "      <td>Merlot</td>\n",
       "      <td>517</td>\n",
       "    </tr>\n",
       "    <tr>\n",
       "      <th>2</th>\n",
       "      <td>Chardonnay</td>\n",
       "      <td>470</td>\n",
       "    </tr>\n",
       "    <tr>\n",
       "      <th>3</th>\n",
       "      <td>Syrah</td>\n",
       "      <td>429</td>\n",
       "    </tr>\n",
       "    <tr>\n",
       "      <th>4</th>\n",
       "      <td>Malbec</td>\n",
       "      <td>319</td>\n",
       "    </tr>\n",
       "    <tr>\n",
       "      <th>5</th>\n",
       "      <td>Pinot Noir</td>\n",
       "      <td>310</td>\n",
       "    </tr>\n",
       "    <tr>\n",
       "      <th>6</th>\n",
       "      <td>Sauvignon Blanc</td>\n",
       "      <td>211</td>\n",
       "    </tr>\n",
       "    <tr>\n",
       "      <th>7</th>\n",
       "      <td>Cabernet Franc</td>\n",
       "      <td>209</td>\n",
       "    </tr>\n",
       "    <tr>\n",
       "      <th>8</th>\n",
       "      <td>Tempranillo</td>\n",
       "      <td>163</td>\n",
       "    </tr>\n",
       "    <tr>\n",
       "      <th>9</th>\n",
       "      <td>Carménère</td>\n",
       "      <td>162</td>\n",
       "    </tr>\n",
       "    <tr>\n",
       "      <th>10</th>\n",
       "      <td>Touriga Nacional</td>\n",
       "      <td>161</td>\n",
       "    </tr>\n",
       "    <tr>\n",
       "      <th>11</th>\n",
       "      <td>Grenache</td>\n",
       "      <td>122</td>\n",
       "    </tr>\n",
       "    <tr>\n",
       "      <th>12</th>\n",
       "      <td>Petit Verdot</td>\n",
       "      <td>99</td>\n",
       "    </tr>\n",
       "    <tr>\n",
       "      <th>13</th>\n",
       "      <td>Tinta Roriz</td>\n",
       "      <td>86</td>\n",
       "    </tr>\n",
       "    <tr>\n",
       "      <th>14</th>\n",
       "      <td>Touriga Franca</td>\n",
       "      <td>81</td>\n",
       "    </tr>\n",
       "    <tr>\n",
       "      <th>15</th>\n",
       "      <td>Tannat</td>\n",
       "      <td>78</td>\n",
       "    </tr>\n",
       "    <tr>\n",
       "      <th>16</th>\n",
       "      <td>Garnacha</td>\n",
       "      <td>78</td>\n",
       "    </tr>\n",
       "    <tr>\n",
       "      <th>17</th>\n",
       "      <td>Arinto</td>\n",
       "      <td>75</td>\n",
       "    </tr>\n",
       "    <tr>\n",
       "      <th>18</th>\n",
       "      <td>Sangiovese</td>\n",
       "      <td>73</td>\n",
       "    </tr>\n",
       "    <tr>\n",
       "      <th>19</th>\n",
       "      <td>Alicante Bouschet</td>\n",
       "      <td>67</td>\n",
       "    </tr>\n",
       "    <tr>\n",
       "      <th>20</th>\n",
       "      <td>Mourvèdre</td>\n",
       "      <td>62</td>\n",
       "    </tr>\n",
       "    <tr>\n",
       "      <th>21</th>\n",
       "      <td>Shiraz</td>\n",
       "      <td>57</td>\n",
       "    </tr>\n",
       "    <tr>\n",
       "      <th>22</th>\n",
       "      <td>Trincadeira</td>\n",
       "      <td>57</td>\n",
       "    </tr>\n",
       "    <tr>\n",
       "      <th>23</th>\n",
       "      <td>Carignan</td>\n",
       "      <td>54</td>\n",
       "    </tr>\n",
       "    <tr>\n",
       "      <th>24</th>\n",
       "      <td>Viognier</td>\n",
       "      <td>51</td>\n",
       "    </tr>\n",
       "    <tr>\n",
       "      <th>25</th>\n",
       "      <td>Nebbiolo</td>\n",
       "      <td>50</td>\n",
       "    </tr>\n",
       "    <tr>\n",
       "      <th>26</th>\n",
       "      <td>Pinot Meunier</td>\n",
       "      <td>49</td>\n",
       "    </tr>\n",
       "    <tr>\n",
       "      <th>27</th>\n",
       "      <td>Gamay</td>\n",
       "      <td>44</td>\n",
       "    </tr>\n",
       "    <tr>\n",
       "      <th>28</th>\n",
       "      <td>Chenin Blanc</td>\n",
       "      <td>42</td>\n",
       "    </tr>\n",
       "    <tr>\n",
       "      <th>29</th>\n",
       "      <td>Cinsault</td>\n",
       "      <td>41</td>\n",
       "    </tr>\n",
       "  </tbody>\n",
       "</table>\n",
       "</div>"
      ],
      "text/plain": [
       "                   Uva  Count\n",
       "0   Cabernet Sauvignon    783\n",
       "1               Merlot    517\n",
       "2           Chardonnay    470\n",
       "3                Syrah    429\n",
       "4               Malbec    319\n",
       "5           Pinot Noir    310\n",
       "6      Sauvignon Blanc    211\n",
       "7       Cabernet Franc    209\n",
       "8          Tempranillo    163\n",
       "9            Carménère    162\n",
       "10    Touriga Nacional    161\n",
       "11            Grenache    122\n",
       "12        Petit Verdot     99\n",
       "13         Tinta Roriz     86\n",
       "14      Touriga Franca     81\n",
       "15              Tannat     78\n",
       "16            Garnacha     78\n",
       "17              Arinto     75\n",
       "18          Sangiovese     73\n",
       "19   Alicante Bouschet     67\n",
       "20           Mourvèdre     62\n",
       "21              Shiraz     57\n",
       "22         Trincadeira     57\n",
       "23            Carignan     54\n",
       "24            Viognier     51\n",
       "25            Nebbiolo     50\n",
       "26       Pinot Meunier     49\n",
       "27               Gamay     44\n",
       "28        Chenin Blanc     42\n",
       "29            Cinsault     41"
      ]
     },
     "execution_count": 82,
     "metadata": {},
     "output_type": "execute_result"
    }
   ],
   "source": [
    "top_20"
   ]
  },
  {
   "cell_type": "code",
   "execution_count": 83,
   "metadata": {},
   "outputs": [
    {
     "data": {
      "image/png": "[encoded data removed]",
      "text/plain": [
       "<Figure size 1152x576 with 1 Axes>"
      ]
     },
     "metadata": {},
     "output_type": "display_data"
    }
   ],
   "source": [
    "plt.figure(figsize=(16,8))\n",
    "\n",
    "\n",
    "g = sns.barplot(x='Uva',\n",
    "                y='Count',\n",
    "                data=top_20,\n",
    "                color='blue')\n",
    "g.set_title(\"Distribuição por Tipos de Uvas\", fontsize=20)\n",
    "g.set_xlabel(\"Uvas\", fontsize=15)\n",
    "g.set_ylabel(\"Contagem\", fontsize=15)\n",
    "g.set_xticklabels(g.get_xticklabels(),rotation=90)\n",
    "\n",
    "for p in g.patches:\n",
    "    height = p.get_height()\n",
    "    g.text(p.get_x()+p.get_width()/2.,\n",
    "            height + 3,\n",
    "            int(height),\n",
    "            ha=\"center\", fontsize=10) \n",
    "    \n",
    "plt.show()"
   ]
  },
  {
   "cell_type": "code",
   "execution_count": 84,
   "metadata": {},
   "outputs": [
    {
     "data": {
      "text/plain": [
       "100.000000     2159\n",
       "33.333333       948\n",
       "50.000000       683\n",
       "25.000000       421\n",
       "20.000000       331\n",
       "               ... \n",
       "31.000000         1\n",
       "2530.000000       1\n",
       "81.000000         1\n",
       "78.000000         1\n",
       "99.000000         1\n",
       "Name: Concentração, Length: 104, dtype: int64"
      ]
     },
     "execution_count": 84,
     "metadata": {},
     "output_type": "execute_result"
    }
   ],
   "source": [
    "uvas['Concentração'] = uvas.Concentração.astype(float)\n",
    "uvas.Concentração.value_counts()"
   ]
  },
  {
   "cell_type": "code",
   "execution_count": 85,
   "metadata": {},
   "outputs": [],
   "source": [
    "df['Puro'] = 0"
   ]
  },
  {
   "cell_type": "code",
   "execution_count": 86,
   "metadata": {},
   "outputs": [],
   "source": [
    "for row in uvas[uvas.Concentração == 100].itertuples():\n",
    "    df.loc[row.Nome, 'Puro'] = 1Esse vídeo mostra, ilustrando com tinta,  o modo correto de lavar as mãos."
   ]
  },
  {
   "cell_type": "code",
   "execution_count": 87,
   "metadata": {},
   "outputs": [
    {
     "data": {
      "text/plain": [
       "Index(['Maison Le Star Rosé On Ice',\n",
       "       'Ropiteau Frères Les Plants Nobles Pinot Noir 2017',\n",
       "       'Punta Paramo Malbec 2018',\n",
       "       'Gérard Bertrand Grand Terroir A.O.P. Les Aspres 2015',\n",
       "       'Marqués de Somera Garnacha 2018',\n",
       "       'Corello I.G.T. Puglia Primitivo 2018', 'Champagne Montaudon Brut',\n",
       "       'Frisante Porta Soprana Lambrusco I.G.P. Emilia Branco Amabile Suave',\n",
       "       'Dark Horse The Original California Rosé 2018',\n",
       "       'Ropiteau Pinot Noir 2017',\n",
       "       ...\n",
       "       'Alfacinha RL Branco 2018',\n",
       "       'Baron Philippe de Rothschild Cadet d'Oc Cabernet Sauvignon 2015',\n",
       "       'Fantinel Tenuta SantHelena Pinot Grigio 2016',\n",
       "       'Canepa Reserva Famiglia Syrah 2016',\n",
       "       'Cuatro Elementos Canelones Tannat Merlot Suave 2018',\n",
       "       'Viña Cosos D.O. Campo de Borja Garnacha Syrah 2018',\n",
       "       'Baron Philippe de Rothschild La Bélière A.O.C. Bordeaux Blanc 2017',\n",
       "       'Carpineto Dogajolo I.G.T. Toscano Bianco 2017',\n",
       "       'Nederburg 56 Hundred Pinot Noir 2017',\n",
       "       'Canepa Reserva Famiglia Carménère 2017'],\n",
       "      dtype='object', name='Nome', length=3780)"
      ]
     },
     "execution_count": 87,
     "metadata": {},
     "output_type": "execute_result"
    }
   ],
   "source": [
    "df.index"
   ]
  },
  {
   "cell_type": "code",
   "execution_count": 88,
   "metadata": {},
   "outputs": [],
   "source": [
    "df.to_csv('all_wines_cleaned.csv')"
   ]
  },
  {
   "cell_type": "code",
   "execution_count": 89,
   "metadata": {},
   "outputs": [],
   "source": [
    "df = pd.read_csv('all_wines_cleaned.csv')"
   ]
  },
  {
   "cell_type": "code",
   "execution_count": 90,
   "metadata": {},
   "outputs": [
    {
     "data": {
      "text/plain": [
       "Index(['Nome', 'Link', 'País', 'Preço_Sócio', 'Preço_Normal', 'Pontuação',\n",
       "       'Avaliações', 'Somelier', 'Decantação', 'Olfativo', 'Amadurecimento',\n",
       "       'Uvas', 'Gustativo', 'Visual', 'Harmonização', 'Temperatura', 'Safra',\n",
       "       'Classificação', 'Teor_Alcoólico', 'Vinícola', 'Tipo',\n",
       "       'Potencial_Guarda', 'Região', 'Preços_Cat', 'Pontuação_Cat',\n",
       "       'Estoque_Cat', 'Seco', 'Pontos_Total', 'Desc_Sócio', 'Puro'],\n",
       "      dtype='object')"
      ]
     },
     "execution_count": 90,
     "metadata": {},
     "output_type": "execute_result"
    }
   ],
   "source": [
    "df.columns"
   ]
  }
 ],
 "metadata": {
  "kernelspec": {
   "display_name": "wino",
   "language": "python",
   "name": "wino"
  },
  "language_info": {
   "codemirror_mode": {
    "name": "ipython",
    "version": 3
   },
   "file_extension": ".py",
   "mimetype": "text/x-python",
   "name": "python",
   "nbconvert_exporter": "python",
   "pygments_lexer": "ipython3",
   "version": "3.7.5"
  }
 },
 "nbformat": 4,
 "nbformat_minor": 4
}
