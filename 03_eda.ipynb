{
 "cells": [
  {
   "cell_type": "code",
   "execution_count": 84,
   "metadata": {},
   "outputs": [],
   "source": [
    "import pandas as pd\n",
    "import numpy as np\n",
    "import seaborn as sns\n",
    "import matplotlib.pyplot as plt"
   ]
  },
  {
   "cell_type": "code",
   "execution_count": 41,
   "metadata": {},
   "outputs": [],
   "source": [
    "df = pd.read_csv('ficha_tecnica.csv')\n",
    "df2 = pd.read_csv('wines2.csv')"
   ]
  },
  {
   "cell_type": "code",
   "execution_count": 27,
   "metadata": {},
   "outputs": [
    {
     "data": {
      "text/plain": [
       "(3731, 21)"
      ]
     },
     "execution_count": 27,
     "metadata": {},
     "output_type": "execute_result"
    }
   ],
   "source": [
    "df.shape"
   ]
  },
  {
   "cell_type": "code",
   "execution_count": 28,
   "metadata": {},
   "outputs": [
    {
     "data": {
      "text/plain": [
       "(756, 5)"
      ]
     },
     "execution_count": 28,
     "metadata": {},
     "output_type": "execute_result"
    }
   ],
   "source": [
    "df2.shape"
   ]
  },
  {
   "cell_type": "code",
   "execution_count": 35,
   "metadata": {},
   "outputs": [
    {
     "data": {
      "text/plain": [
       "Index(['Nome', 'Preço_Sócio', 'Preço_Normal', 'Pontuação', 'Avaliações'], dtype='object')"
      ]
     },
     "execution_count": 35,
     "metadata": {},
     "output_type": "execute_result"
    }
   ],
   "source": [
    "df2.columns"
   ]
  },
  {
   "cell_type": "code",
   "execution_count": 36,
   "metadata": {},
   "outputs": [
    {
     "data": {
      "text/plain": [
       "Index(['Nome', 'Somelier', 'Preço_Sócio', 'Preço_Normal', 'Tipo', 'Vinícola',\n",
       "       'Teor_Alcoólico', 'Amadurecimento', 'Safra', 'Classificação', 'Visual',\n",
       "       'Olfativo', 'Gustativo', 'Temperatura', 'Potencial_Guarda',\n",
       "       'Harmonização', 'Link', 'Avaliações', 'Volume', 'País', 'Região'],\n",
       "      dtype='object')"
      ]
     },
     "execution_count": 36,
     "metadata": {},
     "output_type": "execute_result"
    }
   ],
   "source": [
    "df.columns"
   ]
  },
  {
   "cell_type": "code",
   "execution_count": 42,
   "metadata": {},
   "outputs": [],
   "source": [
    "df2 = df2[~df2.Nome.str.contains(\"WineBox\")]"
   ]
  },
  {
   "cell_type": "code",
   "execution_count": 43,
   "metadata": {},
   "outputs": [],
   "source": [
    "df2 = df2[~df2.Nome.str.contains('Kit')]"
   ]
  },
  {
   "cell_type": "code",
   "execution_count": 44,
   "metadata": {},
   "outputs": [],
   "source": [
    "df2 = df2[~df2.Nome.str.contains('KIT')]"
   ]
  },
  {
   "cell_type": "code",
   "execution_count": 66,
   "metadata": {},
   "outputs": [],
   "source": [
    "df = pd.merge(df, df2, on='Nome', how='outer')"
   ]
  },
  {
   "cell_type": "code",
   "execution_count": 74,
   "metadata": {},
   "outputs": [
    {
     "data": {
      "text/plain": [
       "Index(['Nome', 'Somelier', 'Tipo', 'Vinícola', 'Teor_Alcoólico',\n",
       "       'Amadurecimento', 'Safra', 'Classificação', 'Visual', 'Olfativo',\n",
       "       'Gustativo', 'Temperatura', 'Potencial_Guarda', 'Harmonização', 'Link',\n",
       "       'Volume', 'País', 'Região', 'Preço_Sócio_y', 'Preço_Normal_y',\n",
       "       'Pontuação_x', 'Avaliações_y', 'Preço_Sócio', 'Preço_Normal',\n",
       "       'Pontuação_y', 'Avaliações'],\n",
       "      dtype='object')"
      ]
     },
     "execution_count": 74,
     "metadata": {},
     "output_type": "execute_result"
    }
   ],
   "source": [
    "df.columns"
   ]
  },
  {
   "cell_type": "code",
   "execution_count": 72,
   "metadata": {},
   "outputs": [],
   "source": [
    "df.loc[df.Preço_Normal_y.notna(), 'Preço_Normal'] = df.loc[df.Preço_Normal_y.notna(), 'Preço_Normal_y'] "
   ]
  },
  {
   "cell_type": "code",
   "execution_count": 73,
   "metadata": {},
   "outputs": [],
   "source": [
    "df.loc[df.Preço_Sócio_y.notna(), 'Preço_Sócio'] = df.loc[df.Preço_Sócio_y.notna(), 'Preço_Sócio_y'] "
   ]
  },
  {
   "cell_type": "code",
   "execution_count": 76,
   "metadata": {},
   "outputs": [],
   "source": [
    "df.loc[df.Pontuação_y.notna(), 'Pontuação'] = df.loc[df.Pontuação_y.notna(), 'Pontuação_y']"
   ]
  },
  {
   "cell_type": "code",
   "execution_count": 77,
   "metadata": {},
   "outputs": [],
   "source": [
    "df.loc[df.Avaliações_y.notna(), 'Avaliações'] = df.loc[df.Avaliações_y.notna(), 'Avaliações_y']"
   ]
  },
  {
   "cell_type": "code",
   "execution_count": 79,
   "metadata": {},
   "outputs": [],
   "source": [
    "df = df.drop(['Preço_Sócio_y', 'Preço_Normal_y', 'Pontuação_x', 'Avaliações_y', 'Pontuação_y'], axis=1)"
   ]
  },
  {
   "cell_type": "code",
   "execution_count": 82,
   "metadata": {},
   "outputs": [
    {
     "data": {
      "text/plain": [
       "522"
      ]
     },
     "execution_count": 82,
     "metadata": {},
     "output_type": "execute_result"
    }
   ],
   "source": [
    "df.Pontuação.notna().sum()"
   ]
  },
  {
   "cell_type": "code",
   "execution_count": 90,
   "metadata": {},
   "outputs": [
    {
     "data": {
      "text/plain": [
       "0"
      ]
     },
     "execution_count": 90,
     "metadata": {},
     "output_type": "execute_result"
    }
   ],
   "source": [
    "df[df.Pontuação.notna()].Avaliações.isna().sum()"
   ]
  },
  {
   "cell_type": "code",
   "execution_count": 92,
   "metadata": {},
   "outputs": [],
   "source": [
    "pontos = [] \n",
    "for row in df[df.Pontuação.notna()].itertuples():\n",
    "    pontos.extend([row.Pontuação] * int(row.Avaliações))"
   ]
  },
  {
   "cell_type": "code",
   "execution_count": 94,
   "metadata": {},
   "outputs": [
    {
     "data": {
      "text/plain": [
       "12491"
      ]
     },
     "execution_count": 94,
     "metadata": {},
     "output_type": "execute_result"
    }
   ],
   "source": [
    "len(pontos)"
   ]
  },
  {
   "cell_type": "code",
   "execution_count": 95,
   "metadata": {},
   "outputs": [],
   "source": [
    "def cat_points(points):\n",
    "    if points in list(range(0,1)):\n",
    "        return 0\n",
    "    elif points in list(range(1,2)):\n",
    "        return 1\n",
    "    elif points in list(range(2,3)):\n",
    "        return 2\n",
    "    elif points in list(range(3,4)):\n",
    "        return 3\n",
    "    elif points in list(range(4,5)):\n",
    "        return 4\n",
    "    else:\n",
    "        return 5\n",
    "\n",
    "df[\"rating_cat\"] = df[df.Pontuação.notna()].Pontuação.apply(cat_points)"
   ]
  },
  {
   "cell_type": "code",
   "execution_count": 96,
   "metadata": {},
   "outputs": [
    {
     "data": {
      "text/plain": [
       "0       NaN\n",
       "1       NaN\n",
       "2       5.0\n",
       "3       NaN\n",
       "4       4.0\n",
       "       ... \n",
       "3811    NaN\n",
       "3812    5.0\n",
       "3813    3.0\n",
       "3814    5.0\n",
       "3815    4.0\n",
       "Name: rating_cat, Length: 3816, dtype: float64"
      ]
     },
     "execution_count": 96,
     "metadata": {},
     "output_type": "execute_result"
    }
   ],
   "source": [
    "df.rating_cat"
   ]
  },
  {
   "cell_type": "code",
   "execution_count": 99,
   "metadata": {},
   "outputs": [
    {
     "data": {
      "image/png": "[encoded data removed]",
      "text/plain": [
       "<Figure size 1008x432 with 1 Axes>"
      ]
     },
     "metadata": {
      "needs_background": "light"
     },
     "output_type": "display_data"
    }
   ],
   "source": [
    "total = len(df)\n",
    "plt.figure(figsize=(14,6))\n",
    "\n",
    "g = sns.countplot(x='rating_cat', color='darkgreen',\n",
    "                  data=df)\n",
    "g.set_title(\"Distribuição da Pontuação\", fontsize=20)\n",
    "g.set_xlabel(\"Categorias\", fontsize=15)\n",
    "g.set_ylabel(\"Total\", fontsize=15)\n",
    "\n",
    "sizes=[]\n",
    "\n",
    "for p in g.patches:\n",
    "    height = p.get_height()\n",
    "    sizes.append(height)\n",
    "    g.text(p.get_x()+p.get_width()/2.,\n",
    "            height + 3,\n",
    "            '{:1.2f}%'.format((height/total)*100),\n",
    "            ha=\"center\", fontsize=14) \n",
    "    \n",
    "g.set_ylim(0, max(sizes) * 1.15)\n",
    "\n",
    "plt.show()"
   ]
  },
  {
   "cell_type": "code",
   "execution_count": 104,
   "metadata": {},
   "outputs": [
    {
     "data": {
      "text/plain": [
       "array(['Portugal', 'Espanha', nan, 'Argentina', 'África do Sul',\n",
       "       'Uruguai', 'Estados Unidos', 'França', 'Itália', 'Brasil',\n",
       "       'Austrália', 'Alemanha', 'Hungria'], dtype=object)"
      ]
     },
     "execution_count": 104,
     "metadata": {},
     "output_type": "execute_result"
    }
   ],
   "source": [
    "df.País.unique()"
   ]
  },
  {
   "cell_type": "code",
   "execution_count": 108,
   "metadata": {},
   "outputs": [
    {
     "data": {
      "text/html": [
       "<div>\n",
       "<style scoped>\n",
       "    .dataframe tbody tr th:only-of-type {\n",
       "        vertical-align: middle;\n",
       "    }\n",
       "\n",
       "    .dataframe tbody tr th {\n",
       "        vertical-align: top;\n",
       "    }\n",
       "\n",
       "    .dataframe thead th {\n",
       "        text-align: right;\n",
       "    }\n",
       "</style>\n",
       "<table border=\"1\" class=\"dataframe\">\n",
       "  <thead>\n",
       "    <tr style=\"text-align: right;\">\n",
       "      <th></th>\n",
       "      <th>Nome</th>\n",
       "      <th>Somelier</th>\n",
       "      <th>Tipo</th>\n",
       "      <th>Vinícola</th>\n",
       "      <th>Teor_Alcoólico</th>\n",
       "      <th>Amadurecimento</th>\n",
       "      <th>Safra</th>\n",
       "      <th>Classificação</th>\n",
       "      <th>Visual</th>\n",
       "      <th>Olfativo</th>\n",
       "      <th>...</th>\n",
       "      <th>Harmonização</th>\n",
       "      <th>Link</th>\n",
       "      <th>Volume</th>\n",
       "      <th>País</th>\n",
       "      <th>Região</th>\n",
       "      <th>Preço_Sócio</th>\n",
       "      <th>Preço_Normal</th>\n",
       "      <th>Avaliações</th>\n",
       "      <th>Pontuação</th>\n",
       "      <th>rating_cat</th>\n",
       "    </tr>\n",
       "  </thead>\n",
       "  <tbody>\n",
       "    <tr>\n",
       "      <th>2</th>\n",
       "      <td>5 Oros Crianza D.O.Ca. Rioja 2014</td>\n",
       "      <td>Com presença de fruta e madeira, esse vinho é ...</td>\n",
       "      <td>Tinto</td>\n",
       "      <td>Bodegas Isidro Milagro</td>\n",
       "      <td>0.140</td>\n",
       "      <td>18 meses em barricas de carvalho francês e ame...</td>\n",
       "      <td>2014.0</td>\n",
       "      <td>Seco</td>\n",
       "      <td>Rubi</td>\n",
       "      <td>Frutas vermelhas, especiarias, amadeirado</td>\n",
       "      <td>...</td>\n",
       "      <td>Maminha ao forno, abobrinha recheada, risoto d...</td>\n",
       "      <td>https://wine.com.br/vinhos/5-oros-crianza-d-o-...</td>\n",
       "      <td>750.00</td>\n",
       "      <td>Espanha</td>\n",
       "      <td>Rioja</td>\n",
       "      <td>71.90</td>\n",
       "      <td>84.59</td>\n",
       "      <td>9.0</td>\n",
       "      <td>4.5</td>\n",
       "      <td>5.0</td>\n",
       "    </tr>\n",
       "    <tr>\n",
       "      <th>4</th>\n",
       "      <td>5 Oros Vendimia Seleccionada D.O.Ca. Rioja 2016</td>\n",
       "      <td>As uvas que deram vida a esse exemplar, foram ...</td>\n",
       "      <td>Tinto</td>\n",
       "      <td>Bodegas Isidro Milagro</td>\n",
       "      <td>0.140</td>\n",
       "      <td>Não passa por barricas de carvalho.</td>\n",
       "      <td>2016.0</td>\n",
       "      <td>Seco</td>\n",
       "      <td>Rubi</td>\n",
       "      <td>Frutas vermelhas, frutas negras</td>\n",
       "      <td>...</td>\n",
       "      <td>Fraldinha recheada com parmesão e bacon, estro...</td>\n",
       "      <td>https://wine.com.br/vinhos/5-oros-vendimia-sel...</td>\n",
       "      <td>750.00</td>\n",
       "      <td>Espanha</td>\n",
       "      <td>Rioja</td>\n",
       "      <td>70.90</td>\n",
       "      <td>83.41</td>\n",
       "      <td>2.0</td>\n",
       "      <td>4.0</td>\n",
       "      <td>4.0</td>\n",
       "    </tr>\n",
       "    <tr>\n",
       "      <th>7</th>\n",
       "      <td>A Galet Tinto</td>\n",
       "      <td>Um blend tradicional da Espanha que surpreende...</td>\n",
       "      <td>Tinto</td>\n",
       "      <td>Bodegas D. Mateos</td>\n",
       "      <td>0.135</td>\n",
       "      <td>30% em barriques de 225ml francês usadas e 70%...</td>\n",
       "      <td>NaN</td>\n",
       "      <td>Seco</td>\n",
       "      <td>Rubi</td>\n",
       "      <td>Frutas vermelhas, morango, framboesa e um toqu...</td>\n",
       "      <td>...</td>\n",
       "      <td>Carpaccio de carne, rosbife, risoto de parmesã...</td>\n",
       "      <td>https://wine.com.br/vinhos/a-galet-tinto/prod2...</td>\n",
       "      <td>750.00</td>\n",
       "      <td>Espanha</td>\n",
       "      <td>La Rioja</td>\n",
       "      <td>25.95</td>\n",
       "      <td>30.53</td>\n",
       "      <td>5.0</td>\n",
       "      <td>4.0</td>\n",
       "      <td>4.0</td>\n",
       "    </tr>\n",
       "    <tr>\n",
       "      <th>39</th>\n",
       "      <td>Almaviva 2016</td>\n",
       "      <td>Pontuado por Robert Parker, James Suckling, Ja...</td>\n",
       "      <td>Tinto</td>\n",
       "      <td>Almaviva</td>\n",
       "      <td>0.140</td>\n",
       "      <td>16 meses em barricas de carvalho francês.</td>\n",
       "      <td>2016.0</td>\n",
       "      <td>Seco</td>\n",
       "      <td>Rubi</td>\n",
       "      <td>Ameixa, framboesa, cereja, groselha, ervas, es...</td>\n",
       "      <td>...</td>\n",
       "      <td>Magret de pato, risoto de funghi, medalhão de ...</td>\n",
       "      <td>https://wine.com.br/vinhos/almaviva-2016/prod2...</td>\n",
       "      <td>750.00</td>\n",
       "      <td>NaN</td>\n",
       "      <td>NaN</td>\n",
       "      <td>1317.50</td>\n",
       "      <td>1550.00</td>\n",
       "      <td>NaN</td>\n",
       "      <td>NaN</td>\n",
       "      <td>NaN</td>\n",
       "    </tr>\n",
       "    <tr>\n",
       "      <th>44</th>\n",
       "      <td>Almaviva EPU 2015 375 ml</td>\n",
       "      <td>Tinto rico em aromas, apresenta notas de fruta...</td>\n",
       "      <td>Tinto</td>\n",
       "      <td>Almaviva</td>\n",
       "      <td>0.145</td>\n",
       "      <td>12 meses em barricas de carvalho francês.</td>\n",
       "      <td>2015.0</td>\n",
       "      <td>Seco</td>\n",
       "      <td>Rubi intenso</td>\n",
       "      <td>Groselha negra, amora, cereja, chocolate amarg...</td>\n",
       "      <td>...</td>\n",
       "      <td>Ancho na parrilla, risoto de funghi porcini, c...</td>\n",
       "      <td>https://wine.com.br/vinhos/almaviva-epu-2015-3...</td>\n",
       "      <td>375.00</td>\n",
       "      <td>NaN</td>\n",
       "      <td>NaN</td>\n",
       "      <td>212.41</td>\n",
       "      <td>237.40</td>\n",
       "      <td>NaN</td>\n",
       "      <td>NaN</td>\n",
       "      <td>NaN</td>\n",
       "    </tr>\n",
       "    <tr>\n",
       "      <th>...</th>\n",
       "      <td>...</td>\n",
       "      <td>...</td>\n",
       "      <td>...</td>\n",
       "      <td>...</td>\n",
       "      <td>...</td>\n",
       "      <td>...</td>\n",
       "      <td>...</td>\n",
       "      <td>...</td>\n",
       "      <td>...</td>\n",
       "      <td>...</td>\n",
       "      <td>...</td>\n",
       "      <td>...</td>\n",
       "      <td>...</td>\n",
       "      <td>...</td>\n",
       "      <td>...</td>\n",
       "      <td>...</td>\n",
       "      <td>...</td>\n",
       "      <td>...</td>\n",
       "      <td>...</td>\n",
       "      <td>...</td>\n",
       "      <td>...</td>\n",
       "    </tr>\n",
       "    <tr>\n",
       "      <th>3811</th>\n",
       "      <td>Espumante Jeroboam Chandon Rosé Brut 3 L</td>\n",
       "      <td>NaN</td>\n",
       "      <td>NaN</td>\n",
       "      <td>NaN</td>\n",
       "      <td>NaN</td>\n",
       "      <td>NaN</td>\n",
       "      <td>NaN</td>\n",
       "      <td>NaN</td>\n",
       "      <td>NaN</td>\n",
       "      <td>NaN</td>\n",
       "      <td>...</td>\n",
       "      <td>NaN</td>\n",
       "      <td>NaN</td>\n",
       "      <td>NaN</td>\n",
       "      <td>NaN</td>\n",
       "      <td>NaN</td>\n",
       "      <td>591.09</td>\n",
       "      <td>695.40</td>\n",
       "      <td>NaN</td>\n",
       "      <td>NaN</td>\n",
       "      <td>NaN</td>\n",
       "    </tr>\n",
       "    <tr>\n",
       "      <th>3812</th>\n",
       "      <td>370 Léguas Reserva D.O.C. Douro 2016</td>\n",
       "      <td>NaN</td>\n",
       "      <td>NaN</td>\n",
       "      <td>NaN</td>\n",
       "      <td>NaN</td>\n",
       "      <td>NaN</td>\n",
       "      <td>NaN</td>\n",
       "      <td>NaN</td>\n",
       "      <td>NaN</td>\n",
       "      <td>NaN</td>\n",
       "      <td>...</td>\n",
       "      <td>NaN</td>\n",
       "      <td>NaN</td>\n",
       "      <td>NaN</td>\n",
       "      <td>NaN</td>\n",
       "      <td>NaN</td>\n",
       "      <td>37.32</td>\n",
       "      <td>43.90</td>\n",
       "      <td>131.0</td>\n",
       "      <td>4.5</td>\n",
       "      <td>5.0</td>\n",
       "    </tr>\n",
       "    <tr>\n",
       "      <th>3813</th>\n",
       "      <td>Viña Carrasco Carmenere 2018</td>\n",
       "      <td>NaN</td>\n",
       "      <td>NaN</td>\n",
       "      <td>NaN</td>\n",
       "      <td>NaN</td>\n",
       "      <td>NaN</td>\n",
       "      <td>NaN</td>\n",
       "      <td>NaN</td>\n",
       "      <td>NaN</td>\n",
       "      <td>NaN</td>\n",
       "      <td>...</td>\n",
       "      <td>NaN</td>\n",
       "      <td>NaN</td>\n",
       "      <td>NaN</td>\n",
       "      <td>NaN</td>\n",
       "      <td>NaN</td>\n",
       "      <td>24.58</td>\n",
       "      <td>28.92</td>\n",
       "      <td>1.0</td>\n",
       "      <td>3.0</td>\n",
       "      <td>3.0</td>\n",
       "    </tr>\n",
       "    <tr>\n",
       "      <th>3814</th>\n",
       "      <td>Protos Rosé 2017</td>\n",
       "      <td>NaN</td>\n",
       "      <td>NaN</td>\n",
       "      <td>NaN</td>\n",
       "      <td>NaN</td>\n",
       "      <td>NaN</td>\n",
       "      <td>NaN</td>\n",
       "      <td>NaN</td>\n",
       "      <td>NaN</td>\n",
       "      <td>NaN</td>\n",
       "      <td>...</td>\n",
       "      <td>NaN</td>\n",
       "      <td>NaN</td>\n",
       "      <td>NaN</td>\n",
       "      <td>NaN</td>\n",
       "      <td>NaN</td>\n",
       "      <td>53.90</td>\n",
       "      <td>63.41</td>\n",
       "      <td>8.0</td>\n",
       "      <td>3.5</td>\n",
       "      <td>5.0</td>\n",
       "    </tr>\n",
       "    <tr>\n",
       "      <th>3815</th>\n",
       "      <td>Altivo Classic Tempranillo 2018</td>\n",
       "      <td>NaN</td>\n",
       "      <td>NaN</td>\n",
       "      <td>NaN</td>\n",
       "      <td>NaN</td>\n",
       "      <td>NaN</td>\n",
       "      <td>NaN</td>\n",
       "      <td>NaN</td>\n",
       "      <td>NaN</td>\n",
       "      <td>NaN</td>\n",
       "      <td>...</td>\n",
       "      <td>NaN</td>\n",
       "      <td>NaN</td>\n",
       "      <td>NaN</td>\n",
       "      <td>NaN</td>\n",
       "      <td>NaN</td>\n",
       "      <td>25.85</td>\n",
       "      <td>30.41</td>\n",
       "      <td>30.0</td>\n",
       "      <td>4.0</td>\n",
       "      <td>4.0</td>\n",
       "    </tr>\n",
       "  </tbody>\n",
       "</table>\n",
       "<p>746 rows × 23 columns</p>\n",
       "</div>"
      ],
      "text/plain": [
       "                                                 Nome  \\\n",
       "2                   5 Oros Crianza D.O.Ca. Rioja 2014   \n",
       "4     5 Oros Vendimia Seleccionada D.O.Ca. Rioja 2016   \n",
       "7                                       A Galet Tinto   \n",
       "39                                      Almaviva 2016   \n",
       "44                           Almaviva EPU 2015 375 ml   \n",
       "...                                               ...   \n",
       "3811         Espumante Jeroboam Chandon Rosé Brut 3 L   \n",
       "3812             370 Léguas Reserva D.O.C. Douro 2016   \n",
       "3813                     Viña Carrasco Carmenere 2018   \n",
       "3814                                 Protos Rosé 2017   \n",
       "3815                  Altivo Classic Tempranillo 2018   \n",
       "\n",
       "                                               Somelier   Tipo  \\\n",
       "2     Com presença de fruta e madeira, esse vinho é ...  Tinto   \n",
       "4     As uvas que deram vida a esse exemplar, foram ...  Tinto   \n",
       "7     Um blend tradicional da Espanha que surpreende...  Tinto   \n",
       "39    Pontuado por Robert Parker, James Suckling, Ja...  Tinto   \n",
       "44    Tinto rico em aromas, apresenta notas de fruta...  Tinto   \n",
       "...                                                 ...    ...   \n",
       "3811                                                NaN    NaN   \n",
       "3812                                                NaN    NaN   \n",
       "3813                                                NaN    NaN   \n",
       "3814                                                NaN    NaN   \n",
       "3815                                                NaN    NaN   \n",
       "\n",
       "                    Vinícola  Teor_Alcoólico  \\\n",
       "2     Bodegas Isidro Milagro           0.140   \n",
       "4     Bodegas Isidro Milagro           0.140   \n",
       "7          Bodegas D. Mateos           0.135   \n",
       "39                  Almaviva           0.140   \n",
       "44                  Almaviva           0.145   \n",
       "...                      ...             ...   \n",
       "3811                     NaN             NaN   \n",
       "3812                     NaN             NaN   \n",
       "3813                     NaN             NaN   \n",
       "3814                     NaN             NaN   \n",
       "3815                     NaN             NaN   \n",
       "\n",
       "                                         Amadurecimento   Safra Classificação  \\\n",
       "2     18 meses em barricas de carvalho francês e ame...  2014.0          Seco   \n",
       "4                   Não passa por barricas de carvalho.  2016.0          Seco   \n",
       "7     30% em barriques de 225ml francês usadas e 70%...     NaN          Seco   \n",
       "39           16 meses em barricas de carvalho francês.   2016.0          Seco   \n",
       "44            12 meses em barricas de carvalho francês.  2015.0          Seco   \n",
       "...                                                 ...     ...           ...   \n",
       "3811                                                NaN     NaN           NaN   \n",
       "3812                                                NaN     NaN           NaN   \n",
       "3813                                                NaN     NaN           NaN   \n",
       "3814                                                NaN     NaN           NaN   \n",
       "3815                                                NaN     NaN           NaN   \n",
       "\n",
       "            Visual                                           Olfativo  ...  \\\n",
       "2             Rubi          Frutas vermelhas, especiarias, amadeirado  ...   \n",
       "4             Rubi                    Frutas vermelhas, frutas negras  ...   \n",
       "7             Rubi  Frutas vermelhas, morango, framboesa e um toqu...  ...   \n",
       "39            Rubi  Ameixa, framboesa, cereja, groselha, ervas, es...  ...   \n",
       "44    Rubi intenso  Groselha negra, amora, cereja, chocolate amarg...  ...   \n",
       "...            ...                                                ...  ...   \n",
       "3811           NaN                                                NaN  ...   \n",
       "3812           NaN                                                NaN  ...   \n",
       "3813           NaN                                                NaN  ...   \n",
       "3814           NaN                                                NaN  ...   \n",
       "3815           NaN                                                NaN  ...   \n",
       "\n",
       "                                           Harmonização  \\\n",
       "2     Maminha ao forno, abobrinha recheada, risoto d...   \n",
       "4     Fraldinha recheada com parmesão e bacon, estro...   \n",
       "7     Carpaccio de carne, rosbife, risoto de parmesã...   \n",
       "39    Magret de pato, risoto de funghi, medalhão de ...   \n",
       "44    Ancho na parrilla, risoto de funghi porcini, c...   \n",
       "...                                                 ...   \n",
       "3811                                                NaN   \n",
       "3812                                                NaN   \n",
       "3813                                                NaN   \n",
       "3814                                                NaN   \n",
       "3815                                                NaN   \n",
       "\n",
       "                                                   Link  Volume     País  \\\n",
       "2     https://wine.com.br/vinhos/5-oros-crianza-d-o-...  750.00  Espanha   \n",
       "4     https://wine.com.br/vinhos/5-oros-vendimia-sel...  750.00  Espanha   \n",
       "7     https://wine.com.br/vinhos/a-galet-tinto/prod2...  750.00  Espanha   \n",
       "39    https://wine.com.br/vinhos/almaviva-2016/prod2...  750.00      NaN   \n",
       "44    https://wine.com.br/vinhos/almaviva-epu-2015-3...  375.00      NaN   \n",
       "...                                                 ...     ...      ...   \n",
       "3811                                                NaN     NaN      NaN   \n",
       "3812                                                NaN     NaN      NaN   \n",
       "3813                                                NaN     NaN      NaN   \n",
       "3814                                                NaN     NaN      NaN   \n",
       "3815                                                NaN     NaN      NaN   \n",
       "\n",
       "        Região Preço_Sócio Preço_Normal Avaliações  Pontuação  rating_cat  \n",
       "2        Rioja       71.90        84.59        9.0        4.5         5.0  \n",
       "4        Rioja       70.90        83.41        2.0        4.0         4.0  \n",
       "7     La Rioja       25.95        30.53        5.0        4.0         4.0  \n",
       "39         NaN     1317.50      1550.00        NaN        NaN         NaN  \n",
       "44         NaN      212.41       237.40        NaN        NaN         NaN  \n",
       "...        ...         ...          ...        ...        ...         ...  \n",
       "3811       NaN      591.09       695.40        NaN        NaN         NaN  \n",
       "3812       NaN       37.32        43.90      131.0        4.5         5.0  \n",
       "3813       NaN       24.58        28.92        1.0        3.0         3.0  \n",
       "3814       NaN       53.90        63.41        8.0        3.5         5.0  \n",
       "3815       NaN       25.85        30.41       30.0        4.0         4.0  \n",
       "\n",
       "[746 rows x 23 columns]"
      ]
     },
     "execution_count": 108,
     "metadata": {},
     "output_type": "execute_result"
    }
   ],
   "source": [
    "df[df.Preço_Normal.notna()]"
   ]
  },
  {
   "cell_type": "code",
   "execution_count": 106,
   "metadata": {},
   "outputs": [
    {
     "data": {
      "text/plain": [
       "(3708, 23)"
      ]
     },
     "execution_count": 106,
     "metadata": {},
     "output_type": "execute_result"
    }
   ],
   "source": [
    "df[df.Somelier.notna()].shape"
   ]
  },
  {
   "cell_type": "code",
   "execution_count": 107,
   "metadata": {},
   "outputs": [
    {
     "data": {
      "text/plain": [
       "(522, 23)"
      ]
     },
     "execution_count": 107,
     "metadata": {},
     "output_type": "execute_result"
    }
   ],
   "source": [
    "df[df.Avaliações.notna()].shape"
   ]
  },
  {
   "cell_type": "code",
   "execution_count": null,
   "metadata": {},
   "outputs": [],
   "source": []
  }
 ],
 "metadata": {
  "kernelspec": {
   "display_name": "wino",
   "language": "python",
   "name": "wino"
  },
  "language_info": {
   "codemirror_mode": {
    "name": "ipython",
    "version": 3
   },
   "file_extension": ".py",
   "mimetype": "text/x-python",
   "name": "python",
   "nbconvert_exporter": "python",
   "pygments_lexer": "ipython3",
   "version": "3.7.5"
  }
 },
 "nbformat": 4,
 "nbformat_minor": 4
}
