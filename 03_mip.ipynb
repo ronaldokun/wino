{
 "cells": [
  {
   "cell_type": "code",
   "execution_count": 358,
   "metadata": {},
   "outputs": [],
   "source": [
    "import pandas as pd\n",
    "from pulp import *\n",
    "from itertools import *\n",
    "from mip import *\n",
    "from partitions import *"
   ]
  },
  {
   "cell_type": "code",
   "execution_count": 343,
   "metadata": {},
   "outputs": [],
   "source": [
    "BUDGET = 1000000"
   ]
  },
  {
   "cell_type": "code",
   "execution_count": 344,
   "metadata": {},
   "outputs": [],
   "source": [
    "def get_data():\n",
    "    df = pd.read_csv('all_wines_cleaned.csv').sort_values(['Pontuação','Pontos_Total'], ascending=False)\n",
    "    #Incluir somente os vinhos disponíveis e com alguma pontuação, pois essas serão nossas variáveis de decisão principais\n",
    "    data = df[df.Preço_Normal.notna() & df.Pontos_Total != 0].copy().reset_index(drop=True)\n",
    "    #data.set_index('Nome', inplace=True)\n",
    "    return data"
   ]
  },
  {
   "cell_type": "code",
   "execution_count": 373,
   "metadata": {},
   "outputs": [],
   "source": [
    "data = get_data()"
   ]
  },
  {
   "cell_type": "code",
   "execution_count": 374,
   "metadata": {},
   "outputs": [],
   "source": [
    "data = data.sort_values('Pontos_Total', ascending=False)"
   ]
  },
  {
   "cell_type": "code",
   "execution_count": 375,
   "metadata": {},
   "outputs": [
    {
     "data": {
      "text/html": [
       "<div>\n",
       "<style scoped>\n",
       "    .dataframe tbody tr th:only-of-type {\n",
       "        vertical-align: middle;\n",
       "    }\n",
       "\n",
       "    .dataframe tbody tr th {\n",
       "        vertical-align: top;\n",
       "    }\n",
       "\n",
       "    .dataframe thead th {\n",
       "        text-align: right;\n",
       "    }\n",
       "</style>\n",
       "<table border=\"1\" class=\"dataframe\">\n",
       "  <thead>\n",
       "    <tr style=\"text-align: right;\">\n",
       "      <th></th>\n",
       "      <th>Nome</th>\n",
       "      <th>Link</th>\n",
       "      <th>País</th>\n",
       "      <th>Preço_Sócio</th>\n",
       "      <th>Preço_Normal</th>\n",
       "      <th>Pontuação</th>\n",
       "      <th>Avaliações</th>\n",
       "      <th>Somelier</th>\n",
       "      <th>Decantação</th>\n",
       "      <th>Olfativo</th>\n",
       "      <th>...</th>\n",
       "      <th>Vinícola</th>\n",
       "      <th>Tipo</th>\n",
       "      <th>Potencial_Guarda</th>\n",
       "      <th>Região</th>\n",
       "      <th>Preços_Cat</th>\n",
       "      <th>Pontuação_Cat</th>\n",
       "      <th>Estoque_Cat</th>\n",
       "      <th>Pontos_Total</th>\n",
       "      <th>Puro</th>\n",
       "      <th>Tipo_Cat</th>\n",
       "    </tr>\n",
       "  </thead>\n",
       "  <tbody>\n",
       "    <tr>\n",
       "      <th>194</th>\n",
       "      <td>Bear Flag Red Blend 2018</td>\n",
       "      <td>https://wine.com.br/vinhos/bear-flag-red-blend...</td>\n",
       "      <td>Estados Unidos</td>\n",
       "      <td>39.90</td>\n",
       "      <td>46.94</td>\n",
       "      <td>4.0</td>\n",
       "      <td>1014.0</td>\n",
       "      <td>O Bear Flag foi feito com o esforço em comum d...</td>\n",
       "      <td>NaN</td>\n",
       "      <td>Frutas negras, com um leve tostado e um toque ...</td>\n",
       "      <td>...</td>\n",
       "      <td>Bear Flag</td>\n",
       "      <td>Tinto</td>\n",
       "      <td>5.0</td>\n",
       "      <td>Califórnia</td>\n",
       "      <td>1.0</td>\n",
       "      <td>2</td>\n",
       "      <td>2</td>\n",
       "      <td>4056.0</td>\n",
       "      <td>0</td>\n",
       "      <td>NaN</td>\n",
       "    </tr>\n",
       "    <tr>\n",
       "      <th>195</th>\n",
       "      <td>Pedro Teixeira Colheita Selecionada Bairrada D...</td>\n",
       "      <td>https://wine.com.br/vinhos/pedro-teixeira-colh...</td>\n",
       "      <td>Portugal</td>\n",
       "      <td>34.90</td>\n",
       "      <td>41.06</td>\n",
       "      <td>4.0</td>\n",
       "      <td>389.0</td>\n",
       "      <td>O renomado enólogo Osvaldo Amado fez, neste vi...</td>\n",
       "      <td>NaN</td>\n",
       "      <td>Frutas vermelhas maduras, frutas em compota, e...</td>\n",
       "      <td>...</td>\n",
       "      <td>Adega de Cantanhede</td>\n",
       "      <td>Tinto</td>\n",
       "      <td>7.0</td>\n",
       "      <td>Bairrada</td>\n",
       "      <td>1.0</td>\n",
       "      <td>2</td>\n",
       "      <td>2</td>\n",
       "      <td>1556.0</td>\n",
       "      <td>0</td>\n",
       "      <td>NaN</td>\n",
       "    </tr>\n",
       "    <tr>\n",
       "      <th>196</th>\n",
       "      <td>Espumante Veuve D`Argent Blanc De Blancs Brut</td>\n",
       "      <td>https://wine.com.br/vinhos/espumante-veuve-d-a...</td>\n",
       "      <td>França</td>\n",
       "      <td>36.90</td>\n",
       "      <td>43.41</td>\n",
       "      <td>4.0</td>\n",
       "      <td>360.0</td>\n",
       "      <td>Frutas brancas como pera e maçã, delicadas not...</td>\n",
       "      <td>NaN</td>\n",
       "      <td>Frutas brancas como pera e maçã, delicadas not...</td>\n",
       "      <td>...</td>\n",
       "      <td>Veuve d'Argent</td>\n",
       "      <td>Espumante</td>\n",
       "      <td>2.0</td>\n",
       "      <td>Bourgogne</td>\n",
       "      <td>1.0</td>\n",
       "      <td>2</td>\n",
       "      <td>1</td>\n",
       "      <td>1440.0</td>\n",
       "      <td>0</td>\n",
       "      <td>Outros</td>\n",
       "    </tr>\n",
       "    <tr>\n",
       "      <th>197</th>\n",
       "      <td>Praça dos Marqueses Escolha I.G. Beira Atlânti...</td>\n",
       "      <td>https://wine.com.br/vinhos/praca-dos-marqueses...</td>\n",
       "      <td>Portugal</td>\n",
       "      <td>28.90</td>\n",
       "      <td>34.00</td>\n",
       "      <td>4.0</td>\n",
       "      <td>339.0</td>\n",
       "      <td>O nome Praça dos Marqueses é uma homenagem à p...</td>\n",
       "      <td>NaN</td>\n",
       "      <td>Frutas vermelhas, frutas negras, floral</td>\n",
       "      <td>...</td>\n",
       "      <td>Adega de Cantanhede</td>\n",
       "      <td>Tinto</td>\n",
       "      <td>5.0</td>\n",
       "      <td>Beira Atlântico</td>\n",
       "      <td>1.0</td>\n",
       "      <td>2</td>\n",
       "      <td>2</td>\n",
       "      <td>1356.0</td>\n",
       "      <td>0</td>\n",
       "      <td>NaN</td>\n",
       "    </tr>\n",
       "    <tr>\n",
       "      <th>63</th>\n",
       "      <td>Clos de Los Siete By Michel Rolland 2016</td>\n",
       "      <td>https://wine.com.br/vinhos/clos-de-los-siete-b...</td>\n",
       "      <td>Argentina</td>\n",
       "      <td>78.90</td>\n",
       "      <td>92.82</td>\n",
       "      <td>4.5</td>\n",
       "      <td>268.0</td>\n",
       "      <td>Pontuado com altas notas por James Suckling e ...</td>\n",
       "      <td>20.0</td>\n",
       "      <td>Amora, mirtilo, violeta, especiarias, amadeirado</td>\n",
       "      <td>...</td>\n",
       "      <td>Clos de los Siete</td>\n",
       "      <td>Tinto</td>\n",
       "      <td>10.0</td>\n",
       "      <td>Valle de Uco</td>\n",
       "      <td>2.0</td>\n",
       "      <td>2</td>\n",
       "      <td>2</td>\n",
       "      <td>1206.0</td>\n",
       "      <td>0</td>\n",
       "      <td>NaN</td>\n",
       "    </tr>\n",
       "    <tr>\n",
       "      <th>64</th>\n",
       "      <td>Toro Loco D.O.P. Utiel-Requena Tinto Superior ...</td>\n",
       "      <td>https://wine.com.br/vinhos/toro-loco-d-o-p-uti...</td>\n",
       "      <td>Espanha</td>\n",
       "      <td>24.90</td>\n",
       "      <td>29.29</td>\n",
       "      <td>4.5</td>\n",
       "      <td>261.0</td>\n",
       "      <td>Mais do que um vinho, uma companhia para qualq...</td>\n",
       "      <td>NaN</td>\n",
       "      <td>Frutas frescas, floral</td>\n",
       "      <td>...</td>\n",
       "      <td>BVC Bodegas</td>\n",
       "      <td>Tinto</td>\n",
       "      <td>4.0</td>\n",
       "      <td>Utiel</td>\n",
       "      <td>1.0</td>\n",
       "      <td>2</td>\n",
       "      <td>1</td>\n",
       "      <td>1174.5</td>\n",
       "      <td>0</td>\n",
       "      <td>NaN</td>\n",
       "    </tr>\n",
       "    <tr>\n",
       "      <th>198</th>\n",
       "      <td>Espumante Toro Loco D.O. Cava Brut</td>\n",
       "      <td>https://wine.com.br/vinhos/espumante-toro-loco...</td>\n",
       "      <td>Espanha</td>\n",
       "      <td>44.90</td>\n",
       "      <td>52.82</td>\n",
       "      <td>4.0</td>\n",
       "      <td>284.0</td>\n",
       "      <td>Com aromas de flores brancas, frutas frescas c...</td>\n",
       "      <td>NaN</td>\n",
       "      <td>Flores brancas, frutas frescas como maçã e per...</td>\n",
       "      <td>...</td>\n",
       "      <td>BVC Bodegas</td>\n",
       "      <td>Espumante</td>\n",
       "      <td>3.0</td>\n",
       "      <td>Utiel</td>\n",
       "      <td>1.0</td>\n",
       "      <td>2</td>\n",
       "      <td>1</td>\n",
       "      <td>1136.0</td>\n",
       "      <td>0</td>\n",
       "      <td>Outros</td>\n",
       "    </tr>\n",
       "    <tr>\n",
       "      <th>199</th>\n",
       "      <td>Viña Cosos D.O. Campo de Borja Garnacha Syrah ...</td>\n",
       "      <td>https://wine.com.br/vinhos/vina-cosos-d-o-camp...</td>\n",
       "      <td>Espanha</td>\n",
       "      <td>42.42</td>\n",
       "      <td>49.90</td>\n",
       "      <td>4.0</td>\n",
       "      <td>254.0</td>\n",
       "      <td>Mesmo a vinícola sendo fundada em 1984, a Garn...</td>\n",
       "      <td>NaN</td>\n",
       "      <td>Frutas vermelhas maduras, cerejas, ameixa e fl...</td>\n",
       "      <td>...</td>\n",
       "      <td>Bodegas Aragonesas</td>\n",
       "      <td>Tinto</td>\n",
       "      <td>5.0</td>\n",
       "      <td>Campo de Borja</td>\n",
       "      <td>1.0</td>\n",
       "      <td>2</td>\n",
       "      <td>2</td>\n",
       "      <td>1016.0</td>\n",
       "      <td>0</td>\n",
       "      <td>NaN</td>\n",
       "    </tr>\n",
       "    <tr>\n",
       "      <th>65</th>\n",
       "      <td>Casillero Reserva Limited Edition Cabernet Sau...</td>\n",
       "      <td>https://wine.com.br/vinhos/casillero-reserva-l...</td>\n",
       "      <td>NaN</td>\n",
       "      <td>44.90</td>\n",
       "      <td>52.82</td>\n",
       "      <td>4.5</td>\n",
       "      <td>203.0</td>\n",
       "      <td>Edição especial para o Halloween, esse Caberne...</td>\n",
       "      <td>NaN</td>\n",
       "      <td>Cassis, cereja, ameixa e notas de tostado</td>\n",
       "      <td>...</td>\n",
       "      <td>Concha y Toro</td>\n",
       "      <td>Tinto</td>\n",
       "      <td>4.0</td>\n",
       "      <td>NaN</td>\n",
       "      <td>1.0</td>\n",
       "      <td>2</td>\n",
       "      <td>1</td>\n",
       "      <td>913.5</td>\n",
       "      <td>1</td>\n",
       "      <td>NaN</td>\n",
       "    </tr>\n",
       "    <tr>\n",
       "      <th>66</th>\n",
       "      <td>Espumante Fantinel D.O.C. Prosecco Extra Dry</td>\n",
       "      <td>https://wine.com.br/vinhos/espumante-fantinel-...</td>\n",
       "      <td>Itália</td>\n",
       "      <td>54.90</td>\n",
       "      <td>64.59</td>\n",
       "      <td>4.5</td>\n",
       "      <td>187.0</td>\n",
       "      <td>Elaborado pelo método Charmat, com ótimo fresc...</td>\n",
       "      <td>NaN</td>\n",
       "      <td>Frutas cítricas, maçã verde, pêssego, floral</td>\n",
       "      <td>...</td>\n",
       "      <td>Fantinel</td>\n",
       "      <td>Espumante</td>\n",
       "      <td>3.0</td>\n",
       "      <td>Friuli</td>\n",
       "      <td>2.0</td>\n",
       "      <td>2</td>\n",
       "      <td>1</td>\n",
       "      <td>841.5</td>\n",
       "      <td>1</td>\n",
       "      <td>Outros</td>\n",
       "    </tr>\n",
       "  </tbody>\n",
       "</table>\n",
       "<p>10 rows × 29 columns</p>\n",
       "</div>"
      ],
      "text/plain": [
       "                                                  Nome  \\\n",
       "194                           Bear Flag Red Blend 2018   \n",
       "195  Pedro Teixeira Colheita Selecionada Bairrada D...   \n",
       "196      Espumante Veuve D`Argent Blanc De Blancs Brut   \n",
       "197  Praça dos Marqueses Escolha I.G. Beira Atlânti...   \n",
       "63            Clos de Los Siete By Michel Rolland 2016   \n",
       "64   Toro Loco D.O.P. Utiel-Requena Tinto Superior ...   \n",
       "198                 Espumante Toro Loco D.O. Cava Brut   \n",
       "199  Viña Cosos D.O. Campo de Borja Garnacha Syrah ...   \n",
       "65   Casillero Reserva Limited Edition Cabernet Sau...   \n",
       "66        Espumante Fantinel D.O.C. Prosecco Extra Dry   \n",
       "\n",
       "                                                  Link            País  \\\n",
       "194  https://wine.com.br/vinhos/bear-flag-red-blend...  Estados Unidos   \n",
       "195  https://wine.com.br/vinhos/pedro-teixeira-colh...        Portugal   \n",
       "196  https://wine.com.br/vinhos/espumante-veuve-d-a...          França   \n",
       "197  https://wine.com.br/vinhos/praca-dos-marqueses...        Portugal   \n",
       "63   https://wine.com.br/vinhos/clos-de-los-siete-b...       Argentina   \n",
       "64   https://wine.com.br/vinhos/toro-loco-d-o-p-uti...         Espanha   \n",
       "198  https://wine.com.br/vinhos/espumante-toro-loco...         Espanha   \n",
       "199  https://wine.com.br/vinhos/vina-cosos-d-o-camp...         Espanha   \n",
       "65   https://wine.com.br/vinhos/casillero-reserva-l...             NaN   \n",
       "66   https://wine.com.br/vinhos/espumante-fantinel-...          Itália   \n",
       "\n",
       "     Preço_Sócio  Preço_Normal  Pontuação  Avaliações  \\\n",
       "194        39.90         46.94        4.0      1014.0   \n",
       "195        34.90         41.06        4.0       389.0   \n",
       "196        36.90         43.41        4.0       360.0   \n",
       "197        28.90         34.00        4.0       339.0   \n",
       "63         78.90         92.82        4.5       268.0   \n",
       "64         24.90         29.29        4.5       261.0   \n",
       "198        44.90         52.82        4.0       284.0   \n",
       "199        42.42         49.90        4.0       254.0   \n",
       "65         44.90         52.82        4.5       203.0   \n",
       "66         54.90         64.59        4.5       187.0   \n",
       "\n",
       "                                              Somelier  Decantação  \\\n",
       "194  O Bear Flag foi feito com o esforço em comum d...         NaN   \n",
       "195  O renomado enólogo Osvaldo Amado fez, neste vi...         NaN   \n",
       "196  Frutas brancas como pera e maçã, delicadas not...         NaN   \n",
       "197  O nome Praça dos Marqueses é uma homenagem à p...         NaN   \n",
       "63   Pontuado com altas notas por James Suckling e ...        20.0   \n",
       "64   Mais do que um vinho, uma companhia para qualq...         NaN   \n",
       "198  Com aromas de flores brancas, frutas frescas c...         NaN   \n",
       "199  Mesmo a vinícola sendo fundada em 1984, a Garn...         NaN   \n",
       "65   Edição especial para o Halloween, esse Caberne...         NaN   \n",
       "66   Elaborado pelo método Charmat, com ótimo fresc...         NaN   \n",
       "\n",
       "                                              Olfativo  ...  \\\n",
       "194  Frutas negras, com um leve tostado e um toque ...  ...   \n",
       "195  Frutas vermelhas maduras, frutas em compota, e...  ...   \n",
       "196  Frutas brancas como pera e maçã, delicadas not...  ...   \n",
       "197            Frutas vermelhas, frutas negras, floral  ...   \n",
       "63    Amora, mirtilo, violeta, especiarias, amadeirado  ...   \n",
       "64                              Frutas frescas, floral  ...   \n",
       "198  Flores brancas, frutas frescas como maçã e per...  ...   \n",
       "199  Frutas vermelhas maduras, cerejas, ameixa e fl...  ...   \n",
       "65           Cassis, cereja, ameixa e notas de tostado  ...   \n",
       "66        Frutas cítricas, maçã verde, pêssego, floral  ...   \n",
       "\n",
       "                Vinícola       Tipo Potencial_Guarda           Região  \\\n",
       "194            Bear Flag      Tinto              5.0       Califórnia   \n",
       "195  Adega de Cantanhede      Tinto              7.0         Bairrada   \n",
       "196       Veuve d'Argent  Espumante              2.0        Bourgogne   \n",
       "197  Adega de Cantanhede      Tinto              5.0  Beira Atlântico   \n",
       "63     Clos de los Siete      Tinto             10.0     Valle de Uco   \n",
       "64           BVC Bodegas      Tinto              4.0            Utiel   \n",
       "198          BVC Bodegas  Espumante              3.0            Utiel   \n",
       "199   Bodegas Aragonesas      Tinto              5.0   Campo de Borja   \n",
       "65         Concha y Toro      Tinto              4.0              NaN   \n",
       "66              Fantinel  Espumante              3.0           Friuli   \n",
       "\n",
       "    Preços_Cat  Pontuação_Cat  Estoque_Cat  Pontos_Total  Puro Tipo_Cat  \n",
       "194        1.0              2            2        4056.0     0      NaN  \n",
       "195        1.0              2            2        1556.0     0      NaN  \n",
       "196        1.0              2            1        1440.0     0   Outros  \n",
       "197        1.0              2            2        1356.0     0      NaN  \n",
       "63         2.0              2            2        1206.0     0      NaN  \n",
       "64         1.0              2            1        1174.5     0      NaN  \n",
       "198        1.0              2            1        1136.0     0   Outros  \n",
       "199        1.0              2            2        1016.0     0      NaN  \n",
       "65         1.0              2            1         913.5     1      NaN  \n",
       "66         2.0              2            1         841.5     1   Outros  \n",
       "\n",
       "[10 rows x 29 columns]"
      ]
     },
     "execution_count": 375,
     "metadata": {},
     "output_type": "execute_result"
    }
   ],
   "source": [
    "data.head(10)"
   ]
  },
  {
   "cell_type": "code",
   "execution_count": 376,
   "metadata": {},
   "outputs": [],
   "source": [
    "vinhos = data.index.to_list()"
   ]
  },
  {
   "cell_type": "markdown",
   "metadata": {},
   "source": [
    "Os vinhos do catálogo possuem cerca de 15 por cento de desconto para os associados, i.e. `Preço_Normal ~ 0.85 * Preço_Sócio`\n",
    "\n",
    "Considerando como uma aproximação que no Preço Normal incida aproximadamente 25% do valor do Preço de Custo do Vinho, i.e. 10% do Preço_Sócio."
   ]
  },
  {
   "cell_type": "code",
   "execution_count": 377,
   "metadata": {},
   "outputs": [],
   "source": [
    "custo = data['Preço_Normal'] / 1.25"
   ]
  },
  {
   "cell_type": "code",
   "execution_count": 378,
   "metadata": {},
   "outputs": [],
   "source": [
    "data['Custo'] = custo"
   ]
  },
  {
   "cell_type": "code",
   "execution_count": 379,
   "metadata": {},
   "outputs": [],
   "source": [
    "custo = dict(zip(vinhos, data.Custo))"
   ]
  },
  {
   "cell_type": "code",
   "execution_count": 380,
   "metadata": {},
   "outputs": [],
   "source": [
    "preço = dict(zip(vinhos, data.Preço_Normal))"
   ]
  },
  {
   "cell_type": "code",
   "execution_count": 381,
   "metadata": {},
   "outputs": [],
   "source": [
    "pontos = dict(zip(vinhos, data.Pontuação))"
   ]
  },
  {
   "cell_type": "code",
   "execution_count": 382,
   "metadata": {},
   "outputs": [],
   "source": [
    "n_pontos = dict(zip(vinhos, data.Avaliações.to_list()))"
   ]
  },
  {
   "cell_type": "markdown",
   "metadata": {},
   "source": [
    "A coluna adicional `Total_Pontos = Pontuação * Avaliações` será usada como otimizador do vinho"
   ]
  },
  {
   "cell_type": "code",
   "execution_count": 383,
   "metadata": {},
   "outputs": [],
   "source": [
    "total_pontos = dict(zip(vinhos, data.Pontos_Total.to_list()))"
   ]
  },
  {
   "cell_type": "code",
   "execution_count": 384,
   "metadata": {},
   "outputs": [],
   "source": [
    "def return_solution(prob):   \n",
    "    return LpStatus[prob.status], {v:v.varValue for v in prob.variables() if v.varValue > 0}  "
   ]
  },
  {
   "cell_type": "markdown",
   "metadata": {},
   "source": [
    "# Solução Trivial\n",
    "Maximizar a pontuação total dentro do Orçamento"
   ]
  },
  {
   "cell_type": "code",
   "execution_count": 385,
   "metadata": {},
   "outputs": [],
   "source": [
    "prob = LpProblem(\"Maximizar somente a pontuação total\", LpMaximize)"
   ]
  },
  {
   "cell_type": "markdown",
   "metadata": {},
   "source": [
    "## Variável"
   ]
  },
  {
   "cell_type": "code",
   "execution_count": 386,
   "metadata": {},
   "outputs": [],
   "source": [
    "vinhos_var = LpVariable.dicts(\"Vinhos\", vinhos, lowBound=0, cat='Integer')"
   ]
  },
  {
   "cell_type": "markdown",
   "metadata": {},
   "source": [
    "## Objetiva"
   ]
  },
  {
   "cell_type": "code",
   "execution_count": 387,
   "metadata": {},
   "outputs": [],
   "source": [
    "prob += lpSum([total_pontos[i] * vinhos_var[i] for i in vinhos])"
   ]
  },
  {
   "cell_type": "markdown",
   "metadata": {},
   "source": [
    "## Constraints\n",
    "Orçamento"
   ]
  },
  {
   "cell_type": "code",
   "execution_count": 388,
   "metadata": {},
   "outputs": [],
   "source": [
    "prob += lpSum([custo[i] * vinhos_var[i] for i in vinhos]) <= BUDGET"
   ]
  },
  {
   "cell_type": "code",
   "execution_count": 389,
   "metadata": {},
   "outputs": [
    {
     "data": {
      "text/plain": [
       "1"
      ]
     },
     "execution_count": 389,
     "metadata": {},
     "output_type": "execute_result"
    }
   ],
   "source": [
    "prob.solve()"
   ]
  },
  {
   "cell_type": "code",
   "execution_count": 390,
   "metadata": {},
   "outputs": [],
   "source": [
    "status, solução = return_solution(prob)"
   ]
  },
  {
   "cell_type": "code",
   "execution_count": 391,
   "metadata": {},
   "outputs": [
    {
     "data": {
      "text/plain": [
       "{Vinhos_194: 26629.0, Vinhos_197: 1.0}"
      ]
     },
     "execution_count": 391,
     "metadata": {},
     "output_type": "execute_result"
    }
   ],
   "source": [
    "solução"
   ]
  },
  {
   "cell_type": "code",
   "execution_count": 392,
   "metadata": {},
   "outputs": [],
   "source": [
    "solução = {int(str(k).split('Vinhos_')[1]):v for k,v in solução.items()}"
   ]
  },
  {
   "cell_type": "code",
   "execution_count": 393,
   "metadata": {},
   "outputs": [
    {
     "data": {
      "text/plain": [
       "[194, 197]"
      ]
     },
     "execution_count": 393,
     "metadata": {},
     "output_type": "execute_result"
    }
   ],
   "source": [
    "list(solução.keys())"
   ]
  },
  {
   "cell_type": "code",
   "execution_count": 394,
   "metadata": {},
   "outputs": [],
   "source": [
    "solution = data.loc[solução.keys()].copy()"
   ]
  },
  {
   "cell_type": "code",
   "execution_count": 395,
   "metadata": {},
   "outputs": [],
   "source": [
    "solution['Quantidade'] = solução.values()"
   ]
  },
  {
   "cell_type": "code",
   "execution_count": 396,
   "metadata": {},
   "outputs": [
    {
     "data": {
      "text/html": [
       "<div>\n",
       "<style scoped>\n",
       "    .dataframe tbody tr th:only-of-type {\n",
       "        vertical-align: middle;\n",
       "    }\n",
       "\n",
       "    .dataframe tbody tr th {\n",
       "        vertical-align: top;\n",
       "    }\n",
       "\n",
       "    .dataframe thead th {\n",
       "        text-align: right;\n",
       "    }\n",
       "</style>\n",
       "<table border=\"1\" class=\"dataframe\">\n",
       "  <thead>\n",
       "    <tr style=\"text-align: right;\">\n",
       "      <th></th>\n",
       "      <th>Quantidade</th>\n",
       "      <th>Nome</th>\n",
       "      <th>Custo</th>\n",
       "      <th>Pontuação</th>\n",
       "      <th>Avaliações</th>\n",
       "    </tr>\n",
       "  </thead>\n",
       "  <tbody>\n",
       "    <tr>\n",
       "      <th>194</th>\n",
       "      <td>26629.0</td>\n",
       "      <td>Bear Flag Red Blend 2018</td>\n",
       "      <td>37.552</td>\n",
       "      <td>4.0</td>\n",
       "      <td>1014.0</td>\n",
       "    </tr>\n",
       "    <tr>\n",
       "      <th>197</th>\n",
       "      <td>1.0</td>\n",
       "      <td>Praça dos Marqueses Escolha I.G. Beira Atlânti...</td>\n",
       "      <td>27.200</td>\n",
       "      <td>4.0</td>\n",
       "      <td>339.0</td>\n",
       "    </tr>\n",
       "  </tbody>\n",
       "</table>\n",
       "</div>"
      ],
      "text/plain": [
       "     Quantidade                                               Nome   Custo  \\\n",
       "194     26629.0                           Bear Flag Red Blend 2018  37.552   \n",
       "197         1.0  Praça dos Marqueses Escolha I.G. Beira Atlânti...  27.200   \n",
       "\n",
       "     Pontuação  Avaliações  \n",
       "194        4.0      1014.0  \n",
       "197        4.0       339.0  "
      ]
     },
     "execution_count": 396,
     "metadata": {},
     "output_type": "execute_result"
    }
   ],
   "source": [
    "solution[[\"Quantidade\", 'Nome', 'Custo', 'Pontuação', 'Avaliações']]"
   ]
  },
  {
   "cell_type": "markdown",
   "metadata": {},
   "source": [
    "A solução é trivial porque retorna o máximo possível de vinhos com a pontuação máxima, o vinho californiano `Bear Flag Red Blend` e com o valor restante compra 1 garrafa do vinho mais barato mas com boas pontuações.\n",
    "\n",
    "Quantidade total do Estoque:"
   ]
  },
  {
   "cell_type": "code",
   "execution_count": 397,
   "metadata": {},
   "outputs": [
    {
     "data": {
      "text/plain": [
       "26630.0"
      ]
     },
     "execution_count": 397,
     "metadata": {},
     "output_type": "execute_result"
    }
   ],
   "source": [
    "sum(solution.Quantidade.to_list())"
   ]
  },
  {
   "cell_type": "markdown",
   "metadata": {},
   "source": [
    "## Solução 2\n",
    "Maximizar a pontuação total dentro do Orçamento mas limitar o número de garrafas à 5000."
   ]
  },
  {
   "cell_type": "code",
   "execution_count": 398,
   "metadata": {},
   "outputs": [],
   "source": [
    "prob = LpProblem(\"Limitar a quantidade à 5000\", LpMaximize)"
   ]
  },
  {
   "cell_type": "markdown",
   "metadata": {},
   "source": [
    "## Variável"
   ]
  },
  {
   "cell_type": "code",
   "execution_count": 399,
   "metadata": {},
   "outputs": [],
   "source": [
    "vinhos_var = LpVariable.dicts(\"Vinhos\", vinhos, lowBound=0, upBound=5000, cat='Integer')"
   ]
  },
  {
   "cell_type": "markdown",
   "metadata": {},
   "source": [
    "## Objetiva"
   ]
  },
  {
   "cell_type": "code",
   "execution_count": 400,
   "metadata": {},
   "outputs": [],
   "source": [
    "prob += lpSum([total_pontos[i] * vinhos_var[i] for i in vinhos])"
   ]
  },
  {
   "cell_type": "markdown",
   "metadata": {},
   "source": [
    "## Constraints\n",
    "Orçamento"
   ]
  },
  {
   "cell_type": "code",
   "execution_count": 401,
   "metadata": {},
   "outputs": [],
   "source": [
    "prob += lpSum([custo[i] * vinhos_var[i] for i in vinhos]) <= BUDGET"
   ]
  },
  {
   "cell_type": "code",
   "execution_count": 402,
   "metadata": {},
   "outputs": [
    {
     "data": {
      "text/plain": [
       "1"
      ]
     },
     "execution_count": 402,
     "metadata": {},
     "output_type": "execute_result"
    }
   ],
   "source": [
    "prob.solve()"
   ]
  },
  {
   "cell_type": "code",
   "execution_count": 403,
   "metadata": {},
   "outputs": [],
   "source": [
    "status, solução = return_solution(prob)"
   ]
  },
  {
   "cell_type": "code",
   "execution_count": 404,
   "metadata": {},
   "outputs": [],
   "source": [
    "solução = {int(str(k).split('Vinhos_')[1]):v for k,v in solução.items()}"
   ]
  },
  {
   "cell_type": "code",
   "execution_count": 405,
   "metadata": {},
   "outputs": [
    {
     "name": "stdout",
     "output_type": "stream",
     "text": [
      "Status: Optimal\n",
      "Solução Encontrada: {194: 5000.0, 195: 5000.0, 196: 5000.0, 197: 5000.0, 198: 4999.0, 199: 247.0, 200: 4.0, 64: 5000.0}\n"
     ]
    }
   ],
   "source": [
    "print(f'Status: {status}')\n",
    "print(f'Solução Encontrada: {solução}')"
   ]
  },
  {
   "cell_type": "code",
   "execution_count": 406,
   "metadata": {},
   "outputs": [],
   "source": [
    "solution = data.loc[solução.keys()].copy()"
   ]
  },
  {
   "cell_type": "code",
   "execution_count": 407,
   "metadata": {},
   "outputs": [],
   "source": [
    "solution['Quantidade'] = solução.values()"
   ]
  },
  {
   "cell_type": "code",
   "execution_count": 408,
   "metadata": {},
   "outputs": [
    {
     "data": {
      "text/html": [
       "<div>\n",
       "<style scoped>\n",
       "    .dataframe tbody tr th:only-of-type {\n",
       "        vertical-align: middle;\n",
       "    }\n",
       "\n",
       "    .dataframe tbody tr th {\n",
       "        vertical-align: top;\n",
       "    }\n",
       "\n",
       "    .dataframe thead th {\n",
       "        text-align: right;\n",
       "    }\n",
       "</style>\n",
       "<table border=\"1\" class=\"dataframe\">\n",
       "  <thead>\n",
       "    <tr style=\"text-align: right;\">\n",
       "      <th></th>\n",
       "      <th>Quantidade</th>\n",
       "      <th>Nome</th>\n",
       "      <th>Custo</th>\n",
       "      <th>Pontuação</th>\n",
       "      <th>Avaliações</th>\n",
       "    </tr>\n",
       "  </thead>\n",
       "  <tbody>\n",
       "    <tr>\n",
       "      <th>194</th>\n",
       "      <td>5000.0</td>\n",
       "      <td>Bear Flag Red Blend 2018</td>\n",
       "      <td>37.552</td>\n",
       "      <td>4.0</td>\n",
       "      <td>1014.0</td>\n",
       "    </tr>\n",
       "    <tr>\n",
       "      <th>195</th>\n",
       "      <td>5000.0</td>\n",
       "      <td>Pedro Teixeira Colheita Selecionada Bairrada D...</td>\n",
       "      <td>32.848</td>\n",
       "      <td>4.0</td>\n",
       "      <td>389.0</td>\n",
       "    </tr>\n",
       "    <tr>\n",
       "      <th>196</th>\n",
       "      <td>5000.0</td>\n",
       "      <td>Espumante Veuve D`Argent Blanc De Blancs Brut</td>\n",
       "      <td>34.728</td>\n",
       "      <td>4.0</td>\n",
       "      <td>360.0</td>\n",
       "    </tr>\n",
       "    <tr>\n",
       "      <th>197</th>\n",
       "      <td>5000.0</td>\n",
       "      <td>Praça dos Marqueses Escolha I.G. Beira Atlânti...</td>\n",
       "      <td>27.200</td>\n",
       "      <td>4.0</td>\n",
       "      <td>339.0</td>\n",
       "    </tr>\n",
       "    <tr>\n",
       "      <th>64</th>\n",
       "      <td>5000.0</td>\n",
       "      <td>Toro Loco D.O.P. Utiel-Requena Tinto Superior ...</td>\n",
       "      <td>23.432</td>\n",
       "      <td>4.5</td>\n",
       "      <td>261.0</td>\n",
       "    </tr>\n",
       "    <tr>\n",
       "      <th>198</th>\n",
       "      <td>4999.0</td>\n",
       "      <td>Espumante Toro Loco D.O. Cava Brut</td>\n",
       "      <td>42.256</td>\n",
       "      <td>4.0</td>\n",
       "      <td>284.0</td>\n",
       "    </tr>\n",
       "    <tr>\n",
       "      <th>199</th>\n",
       "      <td>247.0</td>\n",
       "      <td>Viña Cosos D.O. Campo de Borja Garnacha Syrah ...</td>\n",
       "      <td>39.920</td>\n",
       "      <td>4.0</td>\n",
       "      <td>254.0</td>\n",
       "    </tr>\n",
       "    <tr>\n",
       "      <th>200</th>\n",
       "      <td>4.0</td>\n",
       "      <td>Baron Philippe de Rothschild Mas Andes Caberne...</td>\n",
       "      <td>25.320</td>\n",
       "      <td>4.0</td>\n",
       "      <td>157.0</td>\n",
       "    </tr>\n",
       "  </tbody>\n",
       "</table>\n",
       "</div>"
      ],
      "text/plain": [
       "     Quantidade                                               Nome   Custo  \\\n",
       "194      5000.0                           Bear Flag Red Blend 2018  37.552   \n",
       "195      5000.0  Pedro Teixeira Colheita Selecionada Bairrada D...  32.848   \n",
       "196      5000.0      Espumante Veuve D`Argent Blanc De Blancs Brut  34.728   \n",
       "197      5000.0  Praça dos Marqueses Escolha I.G. Beira Atlânti...  27.200   \n",
       "64       5000.0  Toro Loco D.O.P. Utiel-Requena Tinto Superior ...  23.432   \n",
       "198      4999.0                 Espumante Toro Loco D.O. Cava Brut  42.256   \n",
       "199       247.0  Viña Cosos D.O. Campo de Borja Garnacha Syrah ...  39.920   \n",
       "200         4.0  Baron Philippe de Rothschild Mas Andes Caberne...  25.320   \n",
       "\n",
       "     Pontuação  Avaliações  \n",
       "194        4.0      1014.0  \n",
       "195        4.0       389.0  \n",
       "196        4.0       360.0  \n",
       "197        4.0       339.0  \n",
       "64         4.5       261.0  \n",
       "198        4.0       284.0  \n",
       "199        4.0       254.0  \n",
       "200        4.0       157.0  "
      ]
     },
     "execution_count": 408,
     "metadata": {},
     "output_type": "execute_result"
    }
   ],
   "source": [
    "solution[[\"Quantidade\", 'Nome', 'Custo', 'Pontuação', 'Avaliações']].sort_values(\"Quantidade\",ascending=False)"
   ]
  },
  {
   "cell_type": "markdown",
   "metadata": {},
   "source": [
    "Quantidade de Garrafas no Estoque"
   ]
  },
  {
   "cell_type": "code",
   "execution_count": 409,
   "metadata": {},
   "outputs": [
    {
     "data": {
      "text/plain": [
       "30250.0"
      ]
     },
     "execution_count": 409,
     "metadata": {},
     "output_type": "execute_result"
    }
   ],
   "source": [
    "sum(solution.Quantidade.to_list())"
   ]
  },
  {
   "cell_type": "markdown",
   "metadata": {},
   "source": [
    "A solução ainda é trivial porque há um catálogo muito pobre, seis vinhos somente com grande estoque e outros 2 com estoque baixo. No entanto a quantidade de garrafas é superior ao primeiro caso. Nada mais que ordenar pela quantidade de avaliações total."
   ]
  },
  {
   "cell_type": "markdown",
   "metadata": {},
   "source": [
    "## Solução 3\n",
    "Maximizar a Pontuação total e com pontuação mínima 4"
   ]
  },
  {
   "cell_type": "code",
   "execution_count": 410,
   "metadata": {},
   "outputs": [],
   "source": [
    "prob = LpProblem(\"Rastrear a Pontuação Mínima\", LpMaximize)"
   ]
  },
  {
   "cell_type": "markdown",
   "metadata": {},
   "source": [
    "## Variável\n",
    "Número de Garrafas Limitada à 5000 para evitar a solução trivial"
   ]
  },
  {
   "cell_type": "code",
   "execution_count": 411,
   "metadata": {},
   "outputs": [],
   "source": [
    "vinhos_var = LpVariable.dicts(\"Vinhos\", vinhos, lowBound=0, upBound=5000, cat='Integer')"
   ]
  },
  {
   "cell_type": "markdown",
   "metadata": {},
   "source": [
    "## Objetiva\n",
    "Maximizar a pontuação total"
   ]
  },
  {
   "cell_type": "code",
   "execution_count": 412,
   "metadata": {},
   "outputs": [],
   "source": [
    "prob += lpSum([total_pontos[i] * vinhos_var[i] for i in vinhos])"
   ]
  },
  {
   "cell_type": "markdown",
   "metadata": {},
   "source": [
    "## Constraints\n",
    "Orçamento"
   ]
  },
  {
   "cell_type": "code",
   "execution_count": 413,
   "metadata": {},
   "outputs": [],
   "source": [
    "prob += lpSum([custo[i] * vinhos_var[i] for i in vinhos]) <= BUDGET"
   ]
  },
  {
   "cell_type": "markdown",
   "metadata": {},
   "source": [
    "Pontuação Mínima deve ser 4"
   ]
  },
  {
   "cell_type": "code",
   "execution_count": 414,
   "metadata": {},
   "outputs": [],
   "source": [
    "prob += lpSum([pontos[i] * vinhos_var[i] for i in vinhos]) >= sum([4 * vinhos_var[i] for i in vinhos]) "
   ]
  },
  {
   "cell_type": "code",
   "execution_count": 415,
   "metadata": {},
   "outputs": [
    {
     "data": {
      "text/plain": [
       "1"
      ]
     },
     "execution_count": 415,
     "metadata": {},
     "output_type": "execute_result"
    }
   ],
   "source": [
    "prob.solve()"
   ]
  },
  {
   "cell_type": "code",
   "execution_count": 416,
   "metadata": {},
   "outputs": [],
   "source": [
    "status, solução = return_solution(prob)"
   ]
  },
  {
   "cell_type": "code",
   "execution_count": 417,
   "metadata": {},
   "outputs": [],
   "source": [
    "solução = {int(str(k).split('Vinhos_')[1]):v for k,v in solução.items()}"
   ]
  },
  {
   "cell_type": "code",
   "execution_count": 418,
   "metadata": {},
   "outputs": [
    {
     "name": "stdout",
     "output_type": "stream",
     "text": [
      "Status: Optimal\n",
      "Solução Encontrada: {194: 5000.0, 195: 5000.0, 196: 5000.0, 197: 5000.0, 198: 4999.0, 199: 247.0, 200: 4.0, 64: 5000.0}\n"
     ]
    }
   ],
   "source": [
    "print(f'Status: {status}')\n",
    "print(f'Solução Encontrada: {solução}')"
   ]
  },
  {
   "cell_type": "code",
   "execution_count": 419,
   "metadata": {},
   "outputs": [],
   "source": [
    "solution = data.loc[solução.keys()].copy()"
   ]
  },
  {
   "cell_type": "code",
   "execution_count": 420,
   "metadata": {},
   "outputs": [],
   "source": [
    "solution['Quantidade'] = solução.values()"
   ]
  },
  {
   "cell_type": "code",
   "execution_count": 421,
   "metadata": {},
   "outputs": [
    {
     "data": {
      "text/html": [
       "<div>\n",
       "<style scoped>\n",
       "    .dataframe tbody tr th:only-of-type {\n",
       "        vertical-align: middle;\n",
       "    }\n",
       "\n",
       "    .dataframe tbody tr th {\n",
       "        vertical-align: top;\n",
       "    }\n",
       "\n",
       "    .dataframe thead th {\n",
       "        text-align: right;\n",
       "    }\n",
       "</style>\n",
       "<table border=\"1\" class=\"dataframe\">\n",
       "  <thead>\n",
       "    <tr style=\"text-align: right;\">\n",
       "      <th></th>\n",
       "      <th>Quantidade</th>\n",
       "      <th>Nome</th>\n",
       "      <th>Custo</th>\n",
       "      <th>Pontuação</th>\n",
       "      <th>Avaliações</th>\n",
       "    </tr>\n",
       "  </thead>\n",
       "  <tbody>\n",
       "    <tr>\n",
       "      <th>194</th>\n",
       "      <td>5000.0</td>\n",
       "      <td>Bear Flag Red Blend 2018</td>\n",
       "      <td>37.552</td>\n",
       "      <td>4.0</td>\n",
       "      <td>1014.0</td>\n",
       "    </tr>\n",
       "    <tr>\n",
       "      <th>195</th>\n",
       "      <td>5000.0</td>\n",
       "      <td>Pedro Teixeira Colheita Selecionada Bairrada D...</td>\n",
       "      <td>32.848</td>\n",
       "      <td>4.0</td>\n",
       "      <td>389.0</td>\n",
       "    </tr>\n",
       "    <tr>\n",
       "      <th>196</th>\n",
       "      <td>5000.0</td>\n",
       "      <td>Espumante Veuve D`Argent Blanc De Blancs Brut</td>\n",
       "      <td>34.728</td>\n",
       "      <td>4.0</td>\n",
       "      <td>360.0</td>\n",
       "    </tr>\n",
       "    <tr>\n",
       "      <th>197</th>\n",
       "      <td>5000.0</td>\n",
       "      <td>Praça dos Marqueses Escolha I.G. Beira Atlânti...</td>\n",
       "      <td>27.200</td>\n",
       "      <td>4.0</td>\n",
       "      <td>339.0</td>\n",
       "    </tr>\n",
       "    <tr>\n",
       "      <th>64</th>\n",
       "      <td>5000.0</td>\n",
       "      <td>Toro Loco D.O.P. Utiel-Requena Tinto Superior ...</td>\n",
       "      <td>23.432</td>\n",
       "      <td>4.5</td>\n",
       "      <td>261.0</td>\n",
       "    </tr>\n",
       "    <tr>\n",
       "      <th>198</th>\n",
       "      <td>4999.0</td>\n",
       "      <td>Espumante Toro Loco D.O. Cava Brut</td>\n",
       "      <td>42.256</td>\n",
       "      <td>4.0</td>\n",
       "      <td>284.0</td>\n",
       "    </tr>\n",
       "    <tr>\n",
       "      <th>199</th>\n",
       "      <td>247.0</td>\n",
       "      <td>Viña Cosos D.O. Campo de Borja Garnacha Syrah ...</td>\n",
       "      <td>39.920</td>\n",
       "      <td>4.0</td>\n",
       "      <td>254.0</td>\n",
       "    </tr>\n",
       "    <tr>\n",
       "      <th>200</th>\n",
       "      <td>4.0</td>\n",
       "      <td>Baron Philippe de Rothschild Mas Andes Caberne...</td>\n",
       "      <td>25.320</td>\n",
       "      <td>4.0</td>\n",
       "      <td>157.0</td>\n",
       "    </tr>\n",
       "  </tbody>\n",
       "</table>\n",
       "</div>"
      ],
      "text/plain": [
       "     Quantidade                                               Nome   Custo  \\\n",
       "194      5000.0                           Bear Flag Red Blend 2018  37.552   \n",
       "195      5000.0  Pedro Teixeira Colheita Selecionada Bairrada D...  32.848   \n",
       "196      5000.0      Espumante Veuve D`Argent Blanc De Blancs Brut  34.728   \n",
       "197      5000.0  Praça dos Marqueses Escolha I.G. Beira Atlânti...  27.200   \n",
       "64       5000.0  Toro Loco D.O.P. Utiel-Requena Tinto Superior ...  23.432   \n",
       "198      4999.0                 Espumante Toro Loco D.O. Cava Brut  42.256   \n",
       "199       247.0  Viña Cosos D.O. Campo de Borja Garnacha Syrah ...  39.920   \n",
       "200         4.0  Baron Philippe de Rothschild Mas Andes Caberne...  25.320   \n",
       "\n",
       "     Pontuação  Avaliações  \n",
       "194        4.0      1014.0  \n",
       "195        4.0       389.0  \n",
       "196        4.0       360.0  \n",
       "197        4.0       339.0  \n",
       "64         4.5       261.0  \n",
       "198        4.0       284.0  \n",
       "199        4.0       254.0  \n",
       "200        4.0       157.0  "
      ]
     },
     "execution_count": 421,
     "metadata": {},
     "output_type": "execute_result"
    }
   ],
   "source": [
    "solution[[\"Quantidade\", 'Nome', 'Custo', 'Pontuação', 'Avaliações']].sort_values(\"Quantidade\",ascending=False)"
   ]
  },
  {
   "cell_type": "markdown",
   "metadata": {},
   "source": [
    "A solução encontrada é idêntica à solução 2 tendo em vista que já obedecia ao Constraint adicional."
   ]
  },
  {
   "cell_type": "markdown",
   "metadata": {},
   "source": [
    "## Solução 4"
   ]
  },
  {
   "cell_type": "code",
   "execution_count": 422,
   "metadata": {},
   "outputs": [],
   "source": [
    "prob = LpProblem(\"O preço como variável objetiva\", LpMaximize)"
   ]
  },
  {
   "cell_type": "markdown",
   "metadata": {},
   "source": [
    "## Variável\n",
    "Número de Garrafas Limitada à 5000 para evitar a solução trivial"
   ]
  },
  {
   "cell_type": "code",
   "execution_count": 423,
   "metadata": {},
   "outputs": [],
   "source": [
    "vinhos_var = LpVariable.dicts(\"Vinhos\", vinhos, lowBound=0, upBound=5000, cat='Integer')"
   ]
  },
  {
   "cell_type": "markdown",
   "metadata": {},
   "source": [
    "## Objetiva\n",
    "Maximizar a pontuação total"
   ]
  },
  {
   "cell_type": "code",
   "execution_count": 424,
   "metadata": {},
   "outputs": [],
   "source": [
    "prob += lpSum([vinhos_var[i] * 1./preço[i] for i in vinhos])"
   ]
  },
  {
   "cell_type": "markdown",
   "metadata": {},
   "source": [
    "## Constraints\n",
    "Orçamento"
   ]
  },
  {
   "cell_type": "code",
   "execution_count": 425,
   "metadata": {},
   "outputs": [],
   "source": [
    "prob += lpSum([custo[i] * vinhos_var[i] for i in vinhos]) <= BUDGET"
   ]
  },
  {
   "cell_type": "markdown",
   "metadata": {},
   "source": [
    "Para a Pontuação Mínima ser 4, devemos majorar a pontuação média por um valor maior"
   ]
  },
  {
   "cell_type": "code",
   "execution_count": 426,
   "metadata": {},
   "outputs": [],
   "source": [
    "prob += lpSum([pontos[i] * vinhos_var[i] for i in vinhos]) >= sum([4.5 * vinhos_var[i] for i in vinhos])  "
   ]
  },
  {
   "cell_type": "code",
   "execution_count": 427,
   "metadata": {},
   "outputs": [
    {
     "data": {
      "text/plain": [
       "1"
      ]
     },
     "execution_count": 427,
     "metadata": {},
     "output_type": "execute_result"
    }
   ],
   "source": [
    "prob.solve()"
   ]
  },
  {
   "cell_type": "code",
   "execution_count": 428,
   "metadata": {},
   "outputs": [],
   "source": [
    "status, solução = return_solution(prob)"
   ]
  },
  {
   "cell_type": "code",
   "execution_count": 429,
   "metadata": {},
   "outputs": [],
   "source": [
    "solução = {int(str(k).split('Vinhos_')[1]):v for k,v in solução.items()}"
   ]
  },
  {
   "cell_type": "code",
   "execution_count": 430,
   "metadata": {},
   "outputs": [
    {
     "name": "stdout",
     "output_type": "stream",
     "text": [
      "Status: Optimal\n",
      "Solução Encontrada: {121: 5000.0, 151: 5000.0, 160: 5000.0, 216: 5000.0, 295: 5000.0, 56: 5000.0, 62: 5000.0, 64: 5000.0, 74: 3404.0}\n"
     ]
    }
   ],
   "source": [
    "print(f'Status: {status}')\n",
    "print(f'Solução Encontrada: {solução}')"
   ]
  },
  {
   "cell_type": "code",
   "execution_count": 431,
   "metadata": {},
   "outputs": [],
   "source": [
    "solution = data.loc[solução.keys()].copy()"
   ]
  },
  {
   "cell_type": "code",
   "execution_count": 432,
   "metadata": {},
   "outputs": [],
   "source": [
    "solution['Quantidade'] = solução.values()"
   ]
  },
  {
   "cell_type": "code",
   "execution_count": 433,
   "metadata": {},
   "outputs": [
    {
     "data": {
      "text/html": [
       "<div>\n",
       "<style scoped>\n",
       "    .dataframe tbody tr th:only-of-type {\n",
       "        vertical-align: middle;\n",
       "    }\n",
       "\n",
       "    .dataframe tbody tr th {\n",
       "        vertical-align: top;\n",
       "    }\n",
       "\n",
       "    .dataframe thead th {\n",
       "        text-align: right;\n",
       "    }\n",
       "</style>\n",
       "<table border=\"1\" class=\"dataframe\">\n",
       "  <thead>\n",
       "    <tr style=\"text-align: right;\">\n",
       "      <th></th>\n",
       "      <th>Quantidade</th>\n",
       "      <th>Nome</th>\n",
       "      <th>Custo</th>\n",
       "      <th>Pontuação</th>\n",
       "      <th>Avaliações</th>\n",
       "    </tr>\n",
       "  </thead>\n",
       "  <tbody>\n",
       "    <tr>\n",
       "      <th>121</th>\n",
       "      <td>5000.0</td>\n",
       "      <td>Dark Horse Rosé Bubbles Lata 375ml</td>\n",
       "      <td>23.432</td>\n",
       "      <td>4.5</td>\n",
       "      <td>14.0</td>\n",
       "    </tr>\n",
       "    <tr>\n",
       "      <th>151</th>\n",
       "      <td>5000.0</td>\n",
       "      <td>Dark Horse Pinot Grigio Lata 375ml</td>\n",
       "      <td>23.432</td>\n",
       "      <td>4.5</td>\n",
       "      <td>8.0</td>\n",
       "    </tr>\n",
       "    <tr>\n",
       "      <th>160</th>\n",
       "      <td>5000.0</td>\n",
       "      <td>Dark Horse Rosé Lata 375ml</td>\n",
       "      <td>23.432</td>\n",
       "      <td>4.5</td>\n",
       "      <td>6.0</td>\n",
       "    </tr>\n",
       "    <tr>\n",
       "      <th>216</th>\n",
       "      <td>5000.0</td>\n",
       "      <td>Terralis Syrah Malbec 2018</td>\n",
       "      <td>20.608</td>\n",
       "      <td>4.0</td>\n",
       "      <td>55.0</td>\n",
       "    </tr>\n",
       "    <tr>\n",
       "      <th>295</th>\n",
       "      <td>5000.0</td>\n",
       "      <td>Espumante Baby Chandon Réserve Brut 187 ml.</td>\n",
       "      <td>22.496</td>\n",
       "      <td>4.0</td>\n",
       "      <td>14.0</td>\n",
       "    </tr>\n",
       "    <tr>\n",
       "      <th>56</th>\n",
       "      <td>5000.0</td>\n",
       "      <td>Frisante Miolo Moscatel Blanc</td>\n",
       "      <td>22.496</td>\n",
       "      <td>5.0</td>\n",
       "      <td>1.0</td>\n",
       "    </tr>\n",
       "    <tr>\n",
       "      <th>62</th>\n",
       "      <td>5000.0</td>\n",
       "      <td>Viña Carrasco Rosé 2018</td>\n",
       "      <td>23.432</td>\n",
       "      <td>5.0</td>\n",
       "      <td>1.0</td>\n",
       "    </tr>\n",
       "    <tr>\n",
       "      <th>64</th>\n",
       "      <td>5000.0</td>\n",
       "      <td>Toro Loco D.O.P. Utiel-Requena Tinto Superior ...</td>\n",
       "      <td>23.432</td>\n",
       "      <td>4.5</td>\n",
       "      <td>261.0</td>\n",
       "    </tr>\n",
       "    <tr>\n",
       "      <th>74</th>\n",
       "      <td>3404.0</td>\n",
       "      <td>Canepa Novísimo Merlot 2018</td>\n",
       "      <td>25.320</td>\n",
       "      <td>4.5</td>\n",
       "      <td>72.0</td>\n",
       "    </tr>\n",
       "  </tbody>\n",
       "</table>\n",
       "</div>"
      ],
      "text/plain": [
       "     Quantidade                                               Nome   Custo  \\\n",
       "121      5000.0                 Dark Horse Rosé Bubbles Lata 375ml  23.432   \n",
       "151      5000.0                 Dark Horse Pinot Grigio Lata 375ml  23.432   \n",
       "160      5000.0                         Dark Horse Rosé Lata 375ml  23.432   \n",
       "216      5000.0                         Terralis Syrah Malbec 2018  20.608   \n",
       "295      5000.0        Espumante Baby Chandon Réserve Brut 187 ml.  22.496   \n",
       "56       5000.0                      Frisante Miolo Moscatel Blanc  22.496   \n",
       "62       5000.0                            Viña Carrasco Rosé 2018  23.432   \n",
       "64       5000.0  Toro Loco D.O.P. Utiel-Requena Tinto Superior ...  23.432   \n",
       "74       3404.0                        Canepa Novísimo Merlot 2018  25.320   \n",
       "\n",
       "     Pontuação  Avaliações  \n",
       "121        4.5        14.0  \n",
       "151        4.5         8.0  \n",
       "160        4.5         6.0  \n",
       "216        4.0        55.0  \n",
       "295        4.0        14.0  \n",
       "56         5.0         1.0  \n",
       "62         5.0         1.0  \n",
       "64         4.5       261.0  \n",
       "74         4.5        72.0  "
      ]
     },
     "execution_count": 433,
     "metadata": {},
     "output_type": "execute_result"
    }
   ],
   "source": [
    "solution[[\"Quantidade\", 'Nome', 'Custo', 'Pontuação', 'Avaliações']].sort_values(\"Quantidade\",ascending=False)"
   ]
  },
  {
   "cell_type": "code",
   "execution_count": 7,
   "metadata": {},
   "outputs": [],
   "source": [
    "#data.index = data.index.str.replace(\" \", \"_\")"
   ]
  },
  {
   "cell_type": "markdown",
   "metadata": {},
   "source": [
    "Quantidade de Garrafas no Estoque"
   ]
  },
  {
   "cell_type": "code",
   "execution_count": 434,
   "metadata": {},
   "outputs": [
    {
     "data": {
      "text/plain": [
       "43404.0"
      ]
     },
     "execution_count": 434,
     "metadata": {},
     "output_type": "execute_result"
    }
   ],
   "source": [
    "sum(solution.Quantidade.to_list())"
   ]
  },
  {
   "cell_type": "markdown",
   "metadata": {},
   "source": [
    "Está claro que se não embutirmos constraints mais sofisticados somente temos soluções triviais, encontradas facilmente simplesmente ordenando  DataFrame"
   ]
  },
  {
   "cell_type": "markdown",
   "metadata": {},
   "source": [
    "## Solução 4\n",
    "* Minimizar o Custo como variável objetiva\n",
    "* Maximixar a Pontuação\n",
    "* Maximizar o nº de Avaliações"
   ]
  },
  {
   "cell_type": "code",
   "execution_count": 435,
   "metadata": {},
   "outputs": [],
   "source": [
    "prob = LpProblem(\"Maximo Pontuação, mínimo Preço\", LpMaximize)"
   ]
  },
  {
   "cell_type": "markdown",
   "metadata": {},
   "source": [
    "## Variável\n",
    "Número de Garrafas Limitada à 5000 para evitar a solução trivial"
   ]
  },
  {
   "cell_type": "code",
   "execution_count": 436,
   "metadata": {},
   "outputs": [],
   "source": [
    "vinhos_var = LpVariable.dicts(\"Vinhos\", vinhos, lowBound=0, upBound=5000, cat='Integer')"
   ]
  },
  {
   "cell_type": "markdown",
   "metadata": {},
   "source": [
    "## Objetiva\n",
    "Maximizar a pontuação total"
   ]
  },
  {
   "cell_type": "code",
   "execution_count": 437,
   "metadata": {},
   "outputs": [],
   "source": [
    "prob += lpSum([vinhos_var[i] * 1./preço[i] for i in vinhos])"
   ]
  },
  {
   "cell_type": "markdown",
   "metadata": {},
   "source": [
    "## Constraints\n",
    "Orçamento"
   ]
  },
  {
   "cell_type": "code",
   "execution_count": 438,
   "metadata": {},
   "outputs": [],
   "source": [
    "prob += lpSum([custo[i] * vinhos_var[i] for i in vinhos]) <= BUDGET"
   ]
  },
  {
   "cell_type": "markdown",
   "metadata": {},
   "source": [
    "Pontuação Mínima deve ser 4"
   ]
  },
  {
   "cell_type": "code",
   "execution_count": 439,
   "metadata": {},
   "outputs": [],
   "source": [
    "prob += lpSum([pontos[i] * vinhos_var[i] for i in vinhos]) >= 4.5 * sum([vinhos_var[i] for i in vinhos]) "
   ]
  },
  {
   "cell_type": "code",
   "execution_count": 440,
   "metadata": {},
   "outputs": [
    {
     "data": {
      "text/plain": [
       "1"
      ]
     },
     "execution_count": 440,
     "metadata": {},
     "output_type": "execute_result"
    }
   ],
   "source": [
    "prob.solve()"
   ]
  },
  {
   "cell_type": "code",
   "execution_count": 441,
   "metadata": {},
   "outputs": [],
   "source": [
    "status, solução = return_solution(prob)"
   ]
  },
  {
   "cell_type": "code",
   "execution_count": 442,
   "metadata": {},
   "outputs": [],
   "source": [
    "solução = {int(str(k).split('Vinhos_')[1]):v for k,v in solução.items()}"
   ]
  },
  {
   "cell_type": "code",
   "execution_count": 443,
   "metadata": {},
   "outputs": [
    {
     "name": "stdout",
     "output_type": "stream",
     "text": [
      "Status: Optimal\n",
      "Solução Encontrada: {121: 5000.0, 151: 5000.0, 160: 5000.0, 216: 5000.0, 295: 5000.0, 56: 5000.0, 62: 5000.0, 64: 5000.0, 74: 3404.0}\n"
     ]
    }
   ],
   "source": [
    "print(f'Status: {status}')\n",
    "print(f'Solução Encontrada: {solução}')"
   ]
  },
  {
   "cell_type": "code",
   "execution_count": 444,
   "metadata": {},
   "outputs": [],
   "source": [
    "solution = data.loc[solução.keys()].copy()"
   ]
  },
  {
   "cell_type": "code",
   "execution_count": 445,
   "metadata": {},
   "outputs": [],
   "source": [
    "solution['Quantidade'] = solução.values()"
   ]
  },
  {
   "cell_type": "code",
   "execution_count": 446,
   "metadata": {},
   "outputs": [
    {
     "data": {
      "text/html": [
       "<div>\n",
       "<style scoped>\n",
       "    .dataframe tbody tr th:only-of-type {\n",
       "        vertical-align: middle;\n",
       "    }\n",
       "\n",
       "    .dataframe tbody tr th {\n",
       "        vertical-align: top;\n",
       "    }\n",
       "\n",
       "    .dataframe thead th {\n",
       "        text-align: right;\n",
       "    }\n",
       "</style>\n",
       "<table border=\"1\" class=\"dataframe\">\n",
       "  <thead>\n",
       "    <tr style=\"text-align: right;\">\n",
       "      <th></th>\n",
       "      <th>Quantidade</th>\n",
       "      <th>Nome</th>\n",
       "      <th>Custo</th>\n",
       "      <th>Pontuação</th>\n",
       "      <th>Avaliações</th>\n",
       "    </tr>\n",
       "  </thead>\n",
       "  <tbody>\n",
       "    <tr>\n",
       "      <th>121</th>\n",
       "      <td>5000.0</td>\n",
       "      <td>Dark Horse Rosé Bubbles Lata 375ml</td>\n",
       "      <td>23.432</td>\n",
       "      <td>4.5</td>\n",
       "      <td>14.0</td>\n",
       "    </tr>\n",
       "    <tr>\n",
       "      <th>151</th>\n",
       "      <td>5000.0</td>\n",
       "      <td>Dark Horse Pinot Grigio Lata 375ml</td>\n",
       "      <td>23.432</td>\n",
       "      <td>4.5</td>\n",
       "      <td>8.0</td>\n",
       "    </tr>\n",
       "    <tr>\n",
       "      <th>160</th>\n",
       "      <td>5000.0</td>\n",
       "      <td>Dark Horse Rosé Lata 375ml</td>\n",
       "      <td>23.432</td>\n",
       "      <td>4.5</td>\n",
       "      <td>6.0</td>\n",
       "    </tr>\n",
       "    <tr>\n",
       "      <th>216</th>\n",
       "      <td>5000.0</td>\n",
       "      <td>Terralis Syrah Malbec 2018</td>\n",
       "      <td>20.608</td>\n",
       "      <td>4.0</td>\n",
       "      <td>55.0</td>\n",
       "    </tr>\n",
       "    <tr>\n",
       "      <th>295</th>\n",
       "      <td>5000.0</td>\n",
       "      <td>Espumante Baby Chandon Réserve Brut 187 ml.</td>\n",
       "      <td>22.496</td>\n",
       "      <td>4.0</td>\n",
       "      <td>14.0</td>\n",
       "    </tr>\n",
       "    <tr>\n",
       "      <th>56</th>\n",
       "      <td>5000.0</td>\n",
       "      <td>Frisante Miolo Moscatel Blanc</td>\n",
       "      <td>22.496</td>\n",
       "      <td>5.0</td>\n",
       "      <td>1.0</td>\n",
       "    </tr>\n",
       "    <tr>\n",
       "      <th>62</th>\n",
       "      <td>5000.0</td>\n",
       "      <td>Viña Carrasco Rosé 2018</td>\n",
       "      <td>23.432</td>\n",
       "      <td>5.0</td>\n",
       "      <td>1.0</td>\n",
       "    </tr>\n",
       "    <tr>\n",
       "      <th>64</th>\n",
       "      <td>5000.0</td>\n",
       "      <td>Toro Loco D.O.P. Utiel-Requena Tinto Superior ...</td>\n",
       "      <td>23.432</td>\n",
       "      <td>4.5</td>\n",
       "      <td>261.0</td>\n",
       "    </tr>\n",
       "    <tr>\n",
       "      <th>74</th>\n",
       "      <td>3404.0</td>\n",
       "      <td>Canepa Novísimo Merlot 2018</td>\n",
       "      <td>25.320</td>\n",
       "      <td>4.5</td>\n",
       "      <td>72.0</td>\n",
       "    </tr>\n",
       "  </tbody>\n",
       "</table>\n",
       "</div>"
      ],
      "text/plain": [
       "     Quantidade                                               Nome   Custo  \\\n",
       "121      5000.0                 Dark Horse Rosé Bubbles Lata 375ml  23.432   \n",
       "151      5000.0                 Dark Horse Pinot Grigio Lata 375ml  23.432   \n",
       "160      5000.0                         Dark Horse Rosé Lata 375ml  23.432   \n",
       "216      5000.0                         Terralis Syrah Malbec 2018  20.608   \n",
       "295      5000.0        Espumante Baby Chandon Réserve Brut 187 ml.  22.496   \n",
       "56       5000.0                      Frisante Miolo Moscatel Blanc  22.496   \n",
       "62       5000.0                            Viña Carrasco Rosé 2018  23.432   \n",
       "64       5000.0  Toro Loco D.O.P. Utiel-Requena Tinto Superior ...  23.432   \n",
       "74       3404.0                        Canepa Novísimo Merlot 2018  25.320   \n",
       "\n",
       "     Pontuação  Avaliações  \n",
       "121        4.5        14.0  \n",
       "151        4.5         8.0  \n",
       "160        4.5         6.0  \n",
       "216        4.0        55.0  \n",
       "295        4.0        14.0  \n",
       "56         5.0         1.0  \n",
       "62         5.0         1.0  \n",
       "64         4.5       261.0  \n",
       "74         4.5        72.0  "
      ]
     },
     "execution_count": 446,
     "metadata": {},
     "output_type": "execute_result"
    }
   ],
   "source": [
    "solution[[\"Quantidade\", 'Nome', 'Custo', 'Pontuação', 'Avaliações']].sort_values(\"Quantidade\",ascending=False)"
   ]
  },
  {
   "cell_type": "markdown",
   "metadata": {},
   "source": [
    "Quantidade de Garrafas no Estoque"
   ]
  },
  {
   "cell_type": "code",
   "execution_count": 447,
   "metadata": {},
   "outputs": [
    {
     "data": {
      "text/plain": [
       "43404.0"
      ]
     },
     "execution_count": 447,
     "metadata": {},
     "output_type": "execute_result"
    }
   ],
   "source": [
    "sum(solution.Quantidade.to_list())"
   ]
  },
  {
   "cell_type": "code",
   "execution_count": 448,
   "metadata": {},
   "outputs": [
    {
     "data": {
      "text/plain": [
       "True"
      ]
     },
     "execution_count": 448,
     "metadata": {},
     "output_type": "execute_result"
    }
   ],
   "source": [
    "sum(row.Quantidade * row.Custo for row in solution.itertuples()) <= BUDGET"
   ]
  },
  {
   "cell_type": "markdown",
   "metadata": {},
   "source": [
    "Está claro que se não embutirmos constraints mais sofisticados somente temos soluções triviais, encontradas facilmente simplesmente ordenando  DataFrame"
   ]
  },
  {
   "cell_type": "markdown",
   "metadata": {},
   "source": [
    "## Estratégia\n",
    "Os dados de negócio da wine.com são:\n",
    "* 100.000 clientes\n",
    "* 2 vinhos distintos por mês\n",
    "* 569 vinhos disponíveis\n",
    "* 3780 vinhos distintos no catálogo\n",
    "\n",
    "Mock-up de Negócios: 1% do escopo da wine com Orçamento de R$ 1.000.000\n",
    "* Projeção de 1000 Clientes\n",
    "* 2 vinhos por mês\n",
    "* Estoque para 6 meses\n",
    "\n",
    "Isso resulta inicialmente no mínimo de 12000 garrafas no estoque, 12 vinhos distintos. \n",
    "Vamos começar com essas condições iniciais."
   ]
  },
  {
   "cell_type": "markdown",
   "metadata": {},
   "source": [
    "Como devemos ter no mínimo 1000 garrafas de cada vinho escolhido, vamos modelar variáveis binárias indicando se um vinho foi escolhido para a compra. E essa compra será de 1000 vinhos."
   ]
  },
  {
   "cell_type": "code",
   "execution_count": 449,
   "metadata": {},
   "outputs": [],
   "source": [
    "data.set_index('Nome', inplace=True)"
   ]
  },
  {
   "cell_type": "code",
   "execution_count": 450,
   "metadata": {},
   "outputs": [],
   "source": [
    "vinhos = data.index.to_list()\n",
    "n = range(len(vinhos))\n",
    "custo = [float(i) for i in data.Custo.to_list()]\n",
    "pontos = [float(i) for i in data.Pontuação.to_list()]\n",
    "avaliação = [int(i) for i in data.Avaliações.to_list()]\n",
    "total_pontos = [int(i) for i in data.Pontos_Total.to_list()]\n",
    "guarda = []\n",
    "for i in data.Potencial_Guarda:\n",
    "    if not bool(i):\n",
    "        print(i)\n",
    "    else:\n",
    "        guarda.append(i)\n",
    "    NUM_WINE = 1000\n",
    "SOLUTIONS = {}"
   ]
  },
  {
   "cell_type": "code",
   "execution_count": 451,
   "metadata": {},
   "outputs": [
    {
     "data": {
      "text/plain": [
       "0"
      ]
     },
     "execution_count": 451,
     "metadata": {},
     "output_type": "execute_result"
    }
   ],
   "source": [
    "data.Potencial_Guarda.isna().sum()"
   ]
  },
  {
   "cell_type": "code",
   "execution_count": 452,
   "metadata": {},
   "outputs": [],
   "source": [
    "def return_solution(model):\n",
    "    model.max_gap = 0.05\n",
    "    status = model.optimize(max_seconds=300)\n",
    "    if status == OptimizationStatus.OPTIMAL:\n",
    "        print('optimal solution cost {} found'.format(model.objective_value))\n",
    "    elif status == OptimizationStatus.FEASIBLE:\n",
    "        print('sol.cost {} found, best possible: {}'.format(model.objective_value, model.objective_bound))\n",
    "    elif status == OptimizationStatus.NO_SOLUTION_FOUND:\n",
    "        print('no feasible solution found, lower bound is: {}'.format(model.objective_bound))\n",
    "    if status == OptimizationStatus.OPTIMAL or status == OptimizationStatus.FEASIBLE:\n",
    "        return {v.name:v.x for v in m.vars if abs(v.x) > 1e-6}\n",
    "    return None"
   ]
  },
  {
   "cell_type": "code",
   "execution_count": 524,
   "metadata": {},
   "outputs": [],
   "source": [
    "def safra_stats(df):\n",
    "    print(f'Nº de Vinhos Distintos: {df.shape[0]}')\n",
    "    print(f'Mediana do Preço: {df.Preço_Normal.median()}')\n",
    "    print(f'Mediana da Pontuação: {df.Pontuação.median()}')\n",
    "    print(f'Mediana do nº de Avaliações: {df.Avaliações. median()}')\n",
    "    print(f'Total do Orçamento Utilizado: {df.Custo.sum() * 1000:.2f}')\n",
    "    #print(f'Valor Bruto da Venda Avulsa: {df.Preço_Normal.sum() * 1000:.2f}')\n",
    "    #print(f'Valor Bruto da Venda aos Associados: {df.Preço_Sócio.sum() * 1000:.2f}')\n",
    "    print(f'Distribuição da Pontuação: \\n{df.Pontuação.value_counts(ascending=False)}')    \n",
    "    print(f'Distribuição do Potencial de Guarda: \\n{df.Potencial_Guarda.value_counts(ascending=False)}')    "
   ]
  },
  {
   "cell_type": "markdown",
   "metadata": {},
   "source": [
    "## Iteração I\n",
    "Maximiza Pontos Totais dentro do Orçamento com Avaliação no mínimo 4"
   ]
  },
  {
   "cell_type": "code",
   "execution_count": 454,
   "metadata": {},
   "outputs": [],
   "source": [
    "name = \"Maximiza Pontos Totais dentro do Orçamento com Avaliação no mínimo 4\"\n",
    "m = Model(name) # use GRB for Gurobi\n",
    "wines = [m.add_var(name=vinho, var_type=BINARY) for vinho in vinhos]"
   ]
  },
  {
   "cell_type": "markdown",
   "metadata": {},
   "source": [
    "Um modo de maximizar tanto a pontuação quanto o número de avaliações é maximizar a contagem total de pontos e ao mesmo tempo colocar um constraint na pontuação mínima."
   ]
  },
  {
   "cell_type": "code",
   "execution_count": 455,
   "metadata": {},
   "outputs": [],
   "source": [
    "m.objective = maximize(xsum(wines[i] * total_pontos[i] for i in n))\n",
    "m += xsum(wines[i] * custo[i] for i in n) <= BUDGET / NUM_WINE\n",
    "for i in n:\n",
    "    m += wines[i] * pontos[i] >= 4 * wines[i]"
   ]
  },
  {
   "cell_type": "markdown",
   "metadata": {},
   "source": [
    "Relaxação básica do orçamento, se tivermos um valor menor no orçamento do que o vinho mais barato não podemos comprar a safra"
   ]
  },
  {
   "cell_type": "code",
   "execution_count": 456,
   "metadata": {},
   "outputs": [],
   "source": [
    "m += xsum(wines[i] * custo[i] for i in n) >= BUDGET / NUM_WINE - data.Custo.min() + 1"
   ]
  },
  {
   "cell_type": "code",
   "execution_count": 457,
   "metadata": {},
   "outputs": [
    {
     "name": "stdout",
     "output_type": "stream",
     "text": [
      "optimal solution cost 20817.0 found\n"
     ]
    }
   ],
   "source": [
    "solução = return_solution(m)"
   ]
  },
  {
   "cell_type": "code",
   "execution_count": 458,
   "metadata": {},
   "outputs": [],
   "source": [
    "SOLUTIONS[name] = data.loc[solução.keys()].copy()\n",
    "df = SOLUTIONS[name]"
   ]
  },
  {
   "cell_type": "code",
   "execution_count": 459,
   "metadata": {},
   "outputs": [
    {
     "data": {
      "text/html": [
       "<div>\n",
       "<style scoped>\n",
       "    .dataframe tbody tr th:only-of-type {\n",
       "        vertical-align: middle;\n",
       "    }\n",
       "\n",
       "    .dataframe tbody tr th {\n",
       "        vertical-align: top;\n",
       "    }\n",
       "\n",
       "    .dataframe thead th {\n",
       "        text-align: right;\n",
       "    }\n",
       "</style>\n",
       "<table border=\"1\" class=\"dataframe\">\n",
       "  <thead>\n",
       "    <tr style=\"text-align: right;\">\n",
       "      <th></th>\n",
       "      <th>Custo</th>\n",
       "      <th>Preço_Normal</th>\n",
       "      <th>Preço_Sócio</th>\n",
       "      <th>Pontuação</th>\n",
       "      <th>Avaliações</th>\n",
       "      <th>Pontos_Total</th>\n",
       "      <th>Potencial_Guarda</th>\n",
       "    </tr>\n",
       "    <tr>\n",
       "      <th>Nome</th>\n",
       "      <th></th>\n",
       "      <th></th>\n",
       "      <th></th>\n",
       "      <th></th>\n",
       "      <th></th>\n",
       "      <th></th>\n",
       "      <th></th>\n",
       "    </tr>\n",
       "  </thead>\n",
       "  <tbody>\n",
       "    <tr>\n",
       "      <th>Espumante Veuve D`Argent Blanc De Blancs Brut</th>\n",
       "      <td>34.728</td>\n",
       "      <td>43.41</td>\n",
       "      <td>36.90</td>\n",
       "      <td>4.0</td>\n",
       "      <td>360.0</td>\n",
       "      <td>1440.0</td>\n",
       "      <td>2.0</td>\n",
       "    </tr>\n",
       "    <tr>\n",
       "      <th>Espumante Salton Moscatel</th>\n",
       "      <td>30.968</td>\n",
       "      <td>38.71</td>\n",
       "      <td>32.90</td>\n",
       "      <td>4.5</td>\n",
       "      <td>72.0</td>\n",
       "      <td>324.0</td>\n",
       "      <td>2.0</td>\n",
       "    </tr>\n",
       "    <tr>\n",
       "      <th>Palafitos de Mar Semi Sweet Rosé Cabernet Sauvignon/Syrah 2019</th>\n",
       "      <td>29.080</td>\n",
       "      <td>36.35</td>\n",
       "      <td>30.90</td>\n",
       "      <td>4.0</td>\n",
       "      <td>47.0</td>\n",
       "      <td>188.0</td>\n",
       "      <td>3.0</td>\n",
       "    </tr>\n",
       "    <tr>\n",
       "      <th>Canepa Novísimo Syrah 2018</th>\n",
       "      <td>25.320</td>\n",
       "      <td>31.65</td>\n",
       "      <td>26.90</td>\n",
       "      <td>4.0</td>\n",
       "      <td>53.0</td>\n",
       "      <td>212.0</td>\n",
       "      <td>3.0</td>\n",
       "    </tr>\n",
       "    <tr>\n",
       "      <th>Espumante Salton Brut</th>\n",
       "      <td>30.968</td>\n",
       "      <td>38.71</td>\n",
       "      <td>32.90</td>\n",
       "      <td>4.5</td>\n",
       "      <td>60.0</td>\n",
       "      <td>270.0</td>\n",
       "      <td>3.0</td>\n",
       "    </tr>\n",
       "    <tr>\n",
       "      <th>Espumante Toro Loco D.O. Cava Brut</th>\n",
       "      <td>42.256</td>\n",
       "      <td>52.82</td>\n",
       "      <td>44.90</td>\n",
       "      <td>4.0</td>\n",
       "      <td>284.0</td>\n",
       "      <td>1136.0</td>\n",
       "      <td>3.0</td>\n",
       "    </tr>\n",
       "    <tr>\n",
       "      <th>Espumante Fantinel D.O.C. Prosecco Extra Dry</th>\n",
       "      <td>51.672</td>\n",
       "      <td>64.59</td>\n",
       "      <td>54.90</td>\n",
       "      <td>4.5</td>\n",
       "      <td>187.0</td>\n",
       "      <td>841.5</td>\n",
       "      <td>3.0</td>\n",
       "    </tr>\n",
       "    <tr>\n",
       "      <th>Canepa Novísimo Merlot 2018</th>\n",
       "      <td>25.320</td>\n",
       "      <td>31.65</td>\n",
       "      <td>26.90</td>\n",
       "      <td>4.5</td>\n",
       "      <td>72.0</td>\n",
       "      <td>324.0</td>\n",
       "      <td>3.0</td>\n",
       "    </tr>\n",
       "    <tr>\n",
       "      <th>Espumante Louis Bouillot Rosé Brut</th>\n",
       "      <td>61.080</td>\n",
       "      <td>76.35</td>\n",
       "      <td>64.90</td>\n",
       "      <td>4.5</td>\n",
       "      <td>109.0</td>\n",
       "      <td>490.5</td>\n",
       "      <td>3.0</td>\n",
       "    </tr>\n",
       "    <tr>\n",
       "      <th>Terralis Syrah Malbec 2018</th>\n",
       "      <td>20.608</td>\n",
       "      <td>25.76</td>\n",
       "      <td>21.90</td>\n",
       "      <td>4.0</td>\n",
       "      <td>55.0</td>\n",
       "      <td>220.0</td>\n",
       "      <td>4.0</td>\n",
       "    </tr>\n",
       "    <tr>\n",
       "      <th>Urmeneta Carménère 2018</th>\n",
       "      <td>25.320</td>\n",
       "      <td>31.65</td>\n",
       "      <td>26.90</td>\n",
       "      <td>4.0</td>\n",
       "      <td>59.0</td>\n",
       "      <td>236.0</td>\n",
       "      <td>4.0</td>\n",
       "    </tr>\n",
       "    <tr>\n",
       "      <th>Dancing Flame Ojos del Salado Merlot 2018</th>\n",
       "      <td>24.376</td>\n",
       "      <td>30.47</td>\n",
       "      <td>25.90</td>\n",
       "      <td>4.0</td>\n",
       "      <td>70.0</td>\n",
       "      <td>280.0</td>\n",
       "      <td>4.0</td>\n",
       "    </tr>\n",
       "    <tr>\n",
       "      <th>Terralis Cabernet Merlot 2018</th>\n",
       "      <td>22.496</td>\n",
       "      <td>28.12</td>\n",
       "      <td>23.90</td>\n",
       "      <td>4.0</td>\n",
       "      <td>76.0</td>\n",
       "      <td>304.0</td>\n",
       "      <td>4.0</td>\n",
       "    </tr>\n",
       "    <tr>\n",
       "      <th>Corello D.O.C. Salice Salentino 2017</th>\n",
       "      <td>31.904</td>\n",
       "      <td>39.88</td>\n",
       "      <td>33.90</td>\n",
       "      <td>4.5</td>\n",
       "      <td>47.0</td>\n",
       "      <td>211.5</td>\n",
       "      <td>4.0</td>\n",
       "    </tr>\n",
       "    <tr>\n",
       "      <th>Roureda Levante D.O. Tarragona 2017</th>\n",
       "      <td>31.904</td>\n",
       "      <td>39.88</td>\n",
       "      <td>33.90</td>\n",
       "      <td>4.0</td>\n",
       "      <td>99.0</td>\n",
       "      <td>396.0</td>\n",
       "      <td>4.0</td>\n",
       "    </tr>\n",
       "    <tr>\n",
       "      <th>Baron Philippe de Rothschild Mas Andes Carménère 2018</th>\n",
       "      <td>25.320</td>\n",
       "      <td>31.65</td>\n",
       "      <td>26.90</td>\n",
       "      <td>4.0</td>\n",
       "      <td>143.0</td>\n",
       "      <td>572.0</td>\n",
       "      <td>4.0</td>\n",
       "    </tr>\n",
       "    <tr>\n",
       "      <th>Baron Philippe de Rothschild Mas Andes Cabernet Sauvignon 2018</th>\n",
       "      <td>25.320</td>\n",
       "      <td>31.65</td>\n",
       "      <td>26.90</td>\n",
       "      <td>4.0</td>\n",
       "      <td>157.0</td>\n",
       "      <td>628.0</td>\n",
       "      <td>4.0</td>\n",
       "    </tr>\n",
       "    <tr>\n",
       "      <th>Casillero Reserva Limited Edition Cabernet Sauvignon</th>\n",
       "      <td>42.256</td>\n",
       "      <td>52.82</td>\n",
       "      <td>44.90</td>\n",
       "      <td>4.5</td>\n",
       "      <td>203.0</td>\n",
       "      <td>913.5</td>\n",
       "      <td>4.0</td>\n",
       "    </tr>\n",
       "    <tr>\n",
       "      <th>Toro Loco D.O.P. Utiel-Requena Tinto Superior 2018</th>\n",
       "      <td>23.432</td>\n",
       "      <td>29.29</td>\n",
       "      <td>24.90</td>\n",
       "      <td>4.5</td>\n",
       "      <td>261.0</td>\n",
       "      <td>1174.5</td>\n",
       "      <td>4.0</td>\n",
       "    </tr>\n",
       "    <tr>\n",
       "      <th>Pérez Cruz GSM D.O. Valle del Maipo Andes 2016</th>\n",
       "      <td>52.608</td>\n",
       "      <td>65.76</td>\n",
       "      <td>55.90</td>\n",
       "      <td>4.5</td>\n",
       "      <td>81.0</td>\n",
       "      <td>364.5</td>\n",
       "      <td>5.0</td>\n",
       "    </tr>\n",
       "    <tr>\n",
       "      <th>Viña Cosos D.O. Campo de Borja Garnacha Syrah 2018</th>\n",
       "      <td>39.920</td>\n",
       "      <td>49.90</td>\n",
       "      <td>42.42</td>\n",
       "      <td>4.0</td>\n",
       "      <td>254.0</td>\n",
       "      <td>1016.0</td>\n",
       "      <td>5.0</td>\n",
       "    </tr>\n",
       "    <tr>\n",
       "      <th>Root: 1 Reserva Heritage Red 2018</th>\n",
       "      <td>33.792</td>\n",
       "      <td>42.24</td>\n",
       "      <td>35.90</td>\n",
       "      <td>4.5</td>\n",
       "      <td>56.0</td>\n",
       "      <td>252.0</td>\n",
       "      <td>5.0</td>\n",
       "    </tr>\n",
       "    <tr>\n",
       "      <th>Nederburg 56 Hundred Pinotage 2018</th>\n",
       "      <td>25.320</td>\n",
       "      <td>31.65</td>\n",
       "      <td>26.90</td>\n",
       "      <td>4.0</td>\n",
       "      <td>57.0</td>\n",
       "      <td>228.0</td>\n",
       "      <td>5.0</td>\n",
       "    </tr>\n",
       "    <tr>\n",
       "      <th>Praça dos Marqueses Escolha I.G. Beira Atlântico 2018</th>\n",
       "      <td>27.200</td>\n",
       "      <td>34.00</td>\n",
       "      <td>28.90</td>\n",
       "      <td>4.0</td>\n",
       "      <td>339.0</td>\n",
       "      <td>1356.0</td>\n",
       "      <td>5.0</td>\n",
       "    </tr>\n",
       "    <tr>\n",
       "      <th>Portas da Herdade Tinto 2018</th>\n",
       "      <td>27.200</td>\n",
       "      <td>34.00</td>\n",
       "      <td>28.90</td>\n",
       "      <td>4.0</td>\n",
       "      <td>53.0</td>\n",
       "      <td>212.0</td>\n",
       "      <td>5.0</td>\n",
       "    </tr>\n",
       "    <tr>\n",
       "      <th>Tenuta Sant`Antonio Scaia I.G.T. Veneto Corvina 2015</th>\n",
       "      <td>44.144</td>\n",
       "      <td>55.18</td>\n",
       "      <td>46.90</td>\n",
       "      <td>4.0</td>\n",
       "      <td>103.0</td>\n",
       "      <td>412.0</td>\n",
       "      <td>5.0</td>\n",
       "    </tr>\n",
       "    <tr>\n",
       "      <th>Bear Flag Red Blend 2018</th>\n",
       "      <td>37.552</td>\n",
       "      <td>46.94</td>\n",
       "      <td>39.90</td>\n",
       "      <td>4.0</td>\n",
       "      <td>1014.0</td>\n",
       "      <td>4056.0</td>\n",
       "      <td>5.0</td>\n",
       "    </tr>\n",
       "    <tr>\n",
       "      <th>Pedro Teixeira Colheita Selecionada Bairrada D.O.C 2018</th>\n",
       "      <td>32.848</td>\n",
       "      <td>41.06</td>\n",
       "      <td>34.90</td>\n",
       "      <td>4.0</td>\n",
       "      <td>389.0</td>\n",
       "      <td>1556.0</td>\n",
       "      <td>7.0</td>\n",
       "    </tr>\n",
       "    <tr>\n",
       "      <th>Clos de Los Siete By Michel Rolland 2016</th>\n",
       "      <td>74.256</td>\n",
       "      <td>92.82</td>\n",
       "      <td>78.90</td>\n",
       "      <td>4.5</td>\n",
       "      <td>268.0</td>\n",
       "      <td>1206.0</td>\n",
       "      <td>10.0</td>\n",
       "    </tr>\n",
       "  </tbody>\n",
       "</table>\n",
       "</div>"
      ],
      "text/plain": [
       "                                                     Custo  Preço_Normal  \\\n",
       "Nome                                                                       \n",
       "Espumante Veuve D`Argent Blanc De Blancs Brut       34.728         43.41   \n",
       "Espumante Salton Moscatel                           30.968         38.71   \n",
       "Palafitos de Mar Semi Sweet Rosé Cabernet Sauvi...  29.080         36.35   \n",
       "Canepa Novísimo Syrah 2018                          25.320         31.65   \n",
       "Espumante Salton Brut                               30.968         38.71   \n",
       "Espumante Toro Loco D.O. Cava Brut                  42.256         52.82   \n",
       "Espumante Fantinel D.O.C. Prosecco Extra Dry        51.672         64.59   \n",
       "Canepa Novísimo Merlot 2018                         25.320         31.65   \n",
       "Espumante Louis Bouillot Rosé Brut                  61.080         76.35   \n",
       "Terralis Syrah Malbec 2018                          20.608         25.76   \n",
       "Urmeneta Carménère 2018                             25.320         31.65   \n",
       "Dancing Flame Ojos del Salado Merlot 2018           24.376         30.47   \n",
       "Terralis Cabernet Merlot 2018                       22.496         28.12   \n",
       "Corello D.O.C. Salice Salentino 2017                31.904         39.88   \n",
       "Roureda Levante D.O. Tarragona 2017                 31.904         39.88   \n",
       "Baron Philippe de Rothschild Mas Andes Carménèr...  25.320         31.65   \n",
       "Baron Philippe de Rothschild Mas Andes Cabernet...  25.320         31.65   \n",
       "Casillero Reserva Limited Edition Cabernet Sauv...  42.256         52.82   \n",
       "Toro Loco D.O.P. Utiel-Requena Tinto Superior 2018  23.432         29.29   \n",
       "Pérez Cruz GSM D.O. Valle del Maipo Andes 2016      52.608         65.76   \n",
       "Viña Cosos D.O. Campo de Borja Garnacha Syrah 2018  39.920         49.90   \n",
       "Root: 1 Reserva Heritage Red 2018                   33.792         42.24   \n",
       "Nederburg 56 Hundred Pinotage 2018                  25.320         31.65   \n",
       "Praça dos Marqueses Escolha I.G. Beira Atlântic...  27.200         34.00   \n",
       "Portas da Herdade Tinto 2018                        27.200         34.00   \n",
       "Tenuta Sant`Antonio Scaia I.G.T. Veneto Corvina...  44.144         55.18   \n",
       "Bear Flag Red Blend 2018                            37.552         46.94   \n",
       "Pedro Teixeira Colheita Selecionada Bairrada D....  32.848         41.06   \n",
       "Clos de Los Siete By Michel Rolland 2016            74.256         92.82   \n",
       "\n",
       "                                                    Preço_Sócio  Pontuação  \\\n",
       "Nome                                                                         \n",
       "Espumante Veuve D`Argent Blanc De Blancs Brut             36.90        4.0   \n",
       "Espumante Salton Moscatel                                 32.90        4.5   \n",
       "Palafitos de Mar Semi Sweet Rosé Cabernet Sauvi...        30.90        4.0   \n",
       "Canepa Novísimo Syrah 2018                                26.90        4.0   \n",
       "Espumante Salton Brut                                     32.90        4.5   \n",
       "Espumante Toro Loco D.O. Cava Brut                        44.90        4.0   \n",
       "Espumante Fantinel D.O.C. Prosecco Extra Dry              54.90        4.5   \n",
       "Canepa Novísimo Merlot 2018                               26.90        4.5   \n",
       "Espumante Louis Bouillot Rosé Brut                        64.90        4.5   \n",
       "Terralis Syrah Malbec 2018                                21.90        4.0   \n",
       "Urmeneta Carménère 2018                                   26.90        4.0   \n",
       "Dancing Flame Ojos del Salado Merlot 2018                 25.90        4.0   \n",
       "Terralis Cabernet Merlot 2018                             23.90        4.0   \n",
       "Corello D.O.C. Salice Salentino 2017                      33.90        4.5   \n",
       "Roureda Levante D.O. Tarragona 2017                       33.90        4.0   \n",
       "Baron Philippe de Rothschild Mas Andes Carménèr...        26.90        4.0   \n",
       "Baron Philippe de Rothschild Mas Andes Cabernet...        26.90        4.0   \n",
       "Casillero Reserva Limited Edition Cabernet Sauv...        44.90        4.5   \n",
       "Toro Loco D.O.P. Utiel-Requena Tinto Superior 2018        24.90        4.5   \n",
       "Pérez Cruz GSM D.O. Valle del Maipo Andes 2016            55.90        4.5   \n",
       "Viña Cosos D.O. Campo de Borja Garnacha Syrah 2018        42.42        4.0   \n",
       "Root: 1 Reserva Heritage Red 2018                         35.90        4.5   \n",
       "Nederburg 56 Hundred Pinotage 2018                        26.90        4.0   \n",
       "Praça dos Marqueses Escolha I.G. Beira Atlântic...        28.90        4.0   \n",
       "Portas da Herdade Tinto 2018                              28.90        4.0   \n",
       "Tenuta Sant`Antonio Scaia I.G.T. Veneto Corvina...        46.90        4.0   \n",
       "Bear Flag Red Blend 2018                                  39.90        4.0   \n",
       "Pedro Teixeira Colheita Selecionada Bairrada D....        34.90        4.0   \n",
       "Clos de Los Siete By Michel Rolland 2016                  78.90        4.5   \n",
       "\n",
       "                                                    Avaliações  Pontos_Total  \\\n",
       "Nome                                                                           \n",
       "Espumante Veuve D`Argent Blanc De Blancs Brut            360.0        1440.0   \n",
       "Espumante Salton Moscatel                                 72.0         324.0   \n",
       "Palafitos de Mar Semi Sweet Rosé Cabernet Sauvi...        47.0         188.0   \n",
       "Canepa Novísimo Syrah 2018                                53.0         212.0   \n",
       "Espumante Salton Brut                                     60.0         270.0   \n",
       "Espumante Toro Loco D.O. Cava Brut                       284.0        1136.0   \n",
       "Espumante Fantinel D.O.C. Prosecco Extra Dry             187.0         841.5   \n",
       "Canepa Novísimo Merlot 2018                               72.0         324.0   \n",
       "Espumante Louis Bouillot Rosé Brut                       109.0         490.5   \n",
       "Terralis Syrah Malbec 2018                                55.0         220.0   \n",
       "Urmeneta Carménère 2018                                   59.0         236.0   \n",
       "Dancing Flame Ojos del Salado Merlot 2018                 70.0         280.0   \n",
       "Terralis Cabernet Merlot 2018                             76.0         304.0   \n",
       "Corello D.O.C. Salice Salentino 2017                      47.0         211.5   \n",
       "Roureda Levante D.O. Tarragona 2017                       99.0         396.0   \n",
       "Baron Philippe de Rothschild Mas Andes Carménèr...       143.0         572.0   \n",
       "Baron Philippe de Rothschild Mas Andes Cabernet...       157.0         628.0   \n",
       "Casillero Reserva Limited Edition Cabernet Sauv...       203.0         913.5   \n",
       "Toro Loco D.O.P. Utiel-Requena Tinto Superior 2018       261.0        1174.5   \n",
       "Pérez Cruz GSM D.O. Valle del Maipo Andes 2016            81.0         364.5   \n",
       "Viña Cosos D.O. Campo de Borja Garnacha Syrah 2018       254.0        1016.0   \n",
       "Root: 1 Reserva Heritage Red 2018                         56.0         252.0   \n",
       "Nederburg 56 Hundred Pinotage 2018                        57.0         228.0   \n",
       "Praça dos Marqueses Escolha I.G. Beira Atlântic...       339.0        1356.0   \n",
       "Portas da Herdade Tinto 2018                              53.0         212.0   \n",
       "Tenuta Sant`Antonio Scaia I.G.T. Veneto Corvina...       103.0         412.0   \n",
       "Bear Flag Red Blend 2018                                1014.0        4056.0   \n",
       "Pedro Teixeira Colheita Selecionada Bairrada D....       389.0        1556.0   \n",
       "Clos de Los Siete By Michel Rolland 2016                 268.0        1206.0   \n",
       "\n",
       "                                                    Potencial_Guarda  \n",
       "Nome                                                                  \n",
       "Espumante Veuve D`Argent Blanc De Blancs Brut                    2.0  \n",
       "Espumante Salton Moscatel                                        2.0  \n",
       "Palafitos de Mar Semi Sweet Rosé Cabernet Sauvi...               3.0  \n",
       "Canepa Novísimo Syrah 2018                                       3.0  \n",
       "Espumante Salton Brut                                            3.0  \n",
       "Espumante Toro Loco D.O. Cava Brut                               3.0  \n",
       "Espumante Fantinel D.O.C. Prosecco Extra Dry                     3.0  \n",
       "Canepa Novísimo Merlot 2018                                      3.0  \n",
       "Espumante Louis Bouillot Rosé Brut                               3.0  \n",
       "Terralis Syrah Malbec 2018                                       4.0  \n",
       "Urmeneta Carménère 2018                                          4.0  \n",
       "Dancing Flame Ojos del Salado Merlot 2018                        4.0  \n",
       "Terralis Cabernet Merlot 2018                                    4.0  \n",
       "Corello D.O.C. Salice Salentino 2017                             4.0  \n",
       "Roureda Levante D.O. Tarragona 2017                              4.0  \n",
       "Baron Philippe de Rothschild Mas Andes Carménèr...               4.0  \n",
       "Baron Philippe de Rothschild Mas Andes Cabernet...               4.0  \n",
       "Casillero Reserva Limited Edition Cabernet Sauv...               4.0  \n",
       "Toro Loco D.O.P. Utiel-Requena Tinto Superior 2018               4.0  \n",
       "Pérez Cruz GSM D.O. Valle del Maipo Andes 2016                   5.0  \n",
       "Viña Cosos D.O. Campo de Borja Garnacha Syrah 2018               5.0  \n",
       "Root: 1 Reserva Heritage Red 2018                                5.0  \n",
       "Nederburg 56 Hundred Pinotage 2018                               5.0  \n",
       "Praça dos Marqueses Escolha I.G. Beira Atlântic...               5.0  \n",
       "Portas da Herdade Tinto 2018                                     5.0  \n",
       "Tenuta Sant`Antonio Scaia I.G.T. Veneto Corvina...               5.0  \n",
       "Bear Flag Red Blend 2018                                         5.0  \n",
       "Pedro Teixeira Colheita Selecionada Bairrada D....               7.0  \n",
       "Clos de Los Siete By Michel Rolland 2016                        10.0  "
      ]
     },
     "execution_count": 459,
     "metadata": {},
     "output_type": "execute_result"
    }
   ],
   "source": [
    "df[['Custo', 'Preço_Normal', 'Preço_Sócio', 'Pontuação', 'Avaliações', 'Pontos_Total', 'Potencial_Guarda']].sort_values(\"Potencial_Guarda\")"
   ]
  },
  {
   "cell_type": "code",
   "execution_count": 460,
   "metadata": {},
   "outputs": [
    {
     "name": "stdout",
     "output_type": "stream",
     "text": [
      "Nº de Vinhos Distintos: 29\n",
      "Mediana da Pontuação: 4.0\n",
      "Distribuição da Pontuação: \n",
      "4.0    18\n",
      "4.5    11\n",
      "Name: Pontuação, dtype: int64\n",
      "Mediana do nº de Avaliações: 99.0\n",
      "Total do Orçamento Utilizado: 999168.00\n",
      "Distribuição do Potencial de Guarda: \n",
      "4.0     10\n",
      "5.0      8\n",
      "3.0      7\n",
      "2.0      2\n",
      "10.0     1\n",
      "7.0      1\n",
      "Name: Potencial_Guarda, dtype: int64\n"
     ]
    }
   ],
   "source": [
    "safra_stats(df)"
   ]
  },
  {
   "cell_type": "markdown",
   "metadata": {},
   "source": [
    "A solução encontrada atende aos requisitos impostos para 14 meses, no entanto temos vários pontos de melhoria:\n",
    "* Vinhos com potencial de guarda baixo, i.e. de 2 e 3 anos\n",
    " * Aumentar o Constraint para o Potencial de Guarda\n",
    "* Utilizar o máximo possível do Orçamento"
   ]
  },
  {
   "cell_type": "markdown",
   "metadata": {},
   "source": [
    "## Iteração II\n",
    "Maximiza o número de Avaliações com Pontuação no mínimo 4 dentro do Orçamento e com `constraint` rígido no Orçamento"
   ]
  },
  {
   "cell_type": "code",
   "execution_count": 467,
   "metadata": {},
   "outputs": [],
   "source": [
    "name = \"Maximiza o número de Avaliações com Pontuação no mínimo 4 dentro do Orçamento\"\n",
    "m = Model(name) # use GRB for Gurobi\n",
    "wines = [m.add_var(name=vinho, var_type=BINARY) for vinho in vinhos]"
   ]
  },
  {
   "cell_type": "markdown",
   "metadata": {},
   "source": [
    "Trocar a pontuação total pelo número de Avaliações"
   ]
  },
  {
   "cell_type": "code",
   "execution_count": 468,
   "metadata": {},
   "outputs": [],
   "source": [
    "m.objective = maximize(xsum(wines[i] * avaliação[i] for i in n))"
   ]
  },
  {
   "cell_type": "markdown",
   "metadata": {},
   "source": [
    "Colocar um limitante inferior *constraint* mais rígido ao Orçamento"
   ]
  },
  {
   "cell_type": "code",
   "execution_count": 469,
   "metadata": {},
   "outputs": [],
   "source": [
    "m += xsum(wines[i] * custo[i] for i in n) <= BUDGET / NUM_WINE"
   ]
  },
  {
   "cell_type": "markdown",
   "metadata": {},
   "source": [
    "Relaxação básica do orçamento, se tivermos um valor menor no orçamento do que o vinho mais barato não podemos comprar a safra"
   ]
  },
  {
   "cell_type": "code",
   "execution_count": 470,
   "metadata": {},
   "outputs": [],
   "source": [
    "m += xsum(wines[i] * custo[i] for i in n) >= (BUDGET / NUM_WINE) - data.Custo.min() + 1e-6"
   ]
  },
  {
   "cell_type": "markdown",
   "metadata": {},
   "source": [
    "Aumentar o *constraint* da pontuação"
   ]
  },
  {
   "cell_type": "code",
   "execution_count": 471,
   "metadata": {},
   "outputs": [],
   "source": [
    "for i in n:\n",
    "    m += wines[i] * pontos[i] >= 4 * wines[i]"
   ]
  },
  {
   "cell_type": "code",
   "execution_count": 472,
   "metadata": {},
   "outputs": [
    {
     "name": "stdout",
     "output_type": "stream",
     "text": [
      "optimal solution cost 5042.0 found\n"
     ]
    }
   ],
   "source": [
    "solução = return_solution(m)"
   ]
  },
  {
   "cell_type": "code",
   "execution_count": 473,
   "metadata": {},
   "outputs": [],
   "source": [
    "SOLUTIONS[name] = data.loc[solução.keys()].copy()\n",
    "df = SOLUTIONS[name]"
   ]
  },
  {
   "cell_type": "code",
   "execution_count": 474,
   "metadata": {},
   "outputs": [
    {
     "data": {
      "text/html": [
       "<div>\n",
       "<style scoped>\n",
       "    .dataframe tbody tr th:only-of-type {\n",
       "        vertical-align: middle;\n",
       "    }\n",
       "\n",
       "    .dataframe tbody tr th {\n",
       "        vertical-align: top;\n",
       "    }\n",
       "\n",
       "    .dataframe thead th {\n",
       "        text-align: right;\n",
       "    }\n",
       "</style>\n",
       "<table border=\"1\" class=\"dataframe\">\n",
       "  <thead>\n",
       "    <tr style=\"text-align: right;\">\n",
       "      <th></th>\n",
       "      <th>Custo</th>\n",
       "      <th>Preço_Normal</th>\n",
       "      <th>Preço_Sócio</th>\n",
       "      <th>Pontuação</th>\n",
       "      <th>Avaliações</th>\n",
       "      <th>Pontos_Total</th>\n",
       "      <th>Potencial_Guarda</th>\n",
       "    </tr>\n",
       "    <tr>\n",
       "      <th>Nome</th>\n",
       "      <th></th>\n",
       "      <th></th>\n",
       "      <th></th>\n",
       "      <th></th>\n",
       "      <th></th>\n",
       "      <th></th>\n",
       "      <th></th>\n",
       "    </tr>\n",
       "  </thead>\n",
       "  <tbody>\n",
       "    <tr>\n",
       "      <th>Espumante Veuve D`Argent Blanc De Blancs Brut</th>\n",
       "      <td>34.728</td>\n",
       "      <td>43.41</td>\n",
       "      <td>36.90</td>\n",
       "      <td>4.0</td>\n",
       "      <td>360.0</td>\n",
       "      <td>1440.0</td>\n",
       "      <td>2.0</td>\n",
       "    </tr>\n",
       "    <tr>\n",
       "      <th>Espumante Salton Moscatel</th>\n",
       "      <td>30.968</td>\n",
       "      <td>38.71</td>\n",
       "      <td>32.90</td>\n",
       "      <td>4.5</td>\n",
       "      <td>72.0</td>\n",
       "      <td>324.0</td>\n",
       "      <td>2.0</td>\n",
       "    </tr>\n",
       "    <tr>\n",
       "      <th>Espumante Salton Brut</th>\n",
       "      <td>30.968</td>\n",
       "      <td>38.71</td>\n",
       "      <td>32.90</td>\n",
       "      <td>4.5</td>\n",
       "      <td>60.0</td>\n",
       "      <td>270.0</td>\n",
       "      <td>3.0</td>\n",
       "    </tr>\n",
       "    <tr>\n",
       "      <th>Canepa Novísimo Merlot 2018</th>\n",
       "      <td>25.320</td>\n",
       "      <td>31.65</td>\n",
       "      <td>26.90</td>\n",
       "      <td>4.5</td>\n",
       "      <td>72.0</td>\n",
       "      <td>324.0</td>\n",
       "      <td>3.0</td>\n",
       "    </tr>\n",
       "    <tr>\n",
       "      <th>Espumante Toro Loco D.O. Cava Brut</th>\n",
       "      <td>42.256</td>\n",
       "      <td>52.82</td>\n",
       "      <td>44.90</td>\n",
       "      <td>4.0</td>\n",
       "      <td>284.0</td>\n",
       "      <td>1136.0</td>\n",
       "      <td>3.0</td>\n",
       "    </tr>\n",
       "    <tr>\n",
       "      <th>Canepa Novísimo Syrah 2018</th>\n",
       "      <td>25.320</td>\n",
       "      <td>31.65</td>\n",
       "      <td>26.90</td>\n",
       "      <td>4.0</td>\n",
       "      <td>53.0</td>\n",
       "      <td>212.0</td>\n",
       "      <td>3.0</td>\n",
       "    </tr>\n",
       "    <tr>\n",
       "      <th>Espumante Louis Bouillot Rosé Brut</th>\n",
       "      <td>61.080</td>\n",
       "      <td>76.35</td>\n",
       "      <td>64.90</td>\n",
       "      <td>4.5</td>\n",
       "      <td>109.0</td>\n",
       "      <td>490.5</td>\n",
       "      <td>3.0</td>\n",
       "    </tr>\n",
       "    <tr>\n",
       "      <th>Espumante Fantinel D.O.C. Prosecco Extra Dry</th>\n",
       "      <td>51.672</td>\n",
       "      <td>64.59</td>\n",
       "      <td>54.90</td>\n",
       "      <td>4.5</td>\n",
       "      <td>187.0</td>\n",
       "      <td>841.5</td>\n",
       "      <td>3.0</td>\n",
       "    </tr>\n",
       "    <tr>\n",
       "      <th>Dancing Flame Ojos del Salado Merlot 2018</th>\n",
       "      <td>24.376</td>\n",
       "      <td>30.47</td>\n",
       "      <td>25.90</td>\n",
       "      <td>4.0</td>\n",
       "      <td>70.0</td>\n",
       "      <td>280.0</td>\n",
       "      <td>4.0</td>\n",
       "    </tr>\n",
       "    <tr>\n",
       "      <th>Terralis Cabernet Merlot 2018</th>\n",
       "      <td>22.496</td>\n",
       "      <td>28.12</td>\n",
       "      <td>23.90</td>\n",
       "      <td>4.0</td>\n",
       "      <td>76.0</td>\n",
       "      <td>304.0</td>\n",
       "      <td>4.0</td>\n",
       "    </tr>\n",
       "    <tr>\n",
       "      <th>Baron Philippe de Rothschild Mas Andes Carménère 2018</th>\n",
       "      <td>25.320</td>\n",
       "      <td>31.65</td>\n",
       "      <td>26.90</td>\n",
       "      <td>4.0</td>\n",
       "      <td>143.0</td>\n",
       "      <td>572.0</td>\n",
       "      <td>4.0</td>\n",
       "    </tr>\n",
       "    <tr>\n",
       "      <th>Roureda Levante D.O. Tarragona 2017</th>\n",
       "      <td>31.904</td>\n",
       "      <td>39.88</td>\n",
       "      <td>33.90</td>\n",
       "      <td>4.0</td>\n",
       "      <td>99.0</td>\n",
       "      <td>396.0</td>\n",
       "      <td>4.0</td>\n",
       "    </tr>\n",
       "    <tr>\n",
       "      <th>Casillero Reserva Limited Edition Cabernet Sauvignon</th>\n",
       "      <td>42.256</td>\n",
       "      <td>52.82</td>\n",
       "      <td>44.90</td>\n",
       "      <td>4.5</td>\n",
       "      <td>203.0</td>\n",
       "      <td>913.5</td>\n",
       "      <td>4.0</td>\n",
       "    </tr>\n",
       "    <tr>\n",
       "      <th>Toro Loco D.O.P. Utiel-Requena Tinto Superior 2018</th>\n",
       "      <td>23.432</td>\n",
       "      <td>29.29</td>\n",
       "      <td>24.90</td>\n",
       "      <td>4.5</td>\n",
       "      <td>261.0</td>\n",
       "      <td>1174.5</td>\n",
       "      <td>4.0</td>\n",
       "    </tr>\n",
       "    <tr>\n",
       "      <th>Urmeneta Carménère 2018</th>\n",
       "      <td>25.320</td>\n",
       "      <td>31.65</td>\n",
       "      <td>26.90</td>\n",
       "      <td>4.0</td>\n",
       "      <td>59.0</td>\n",
       "      <td>236.0</td>\n",
       "      <td>4.0</td>\n",
       "    </tr>\n",
       "    <tr>\n",
       "      <th>Terralis Syrah Malbec 2018</th>\n",
       "      <td>20.608</td>\n",
       "      <td>25.76</td>\n",
       "      <td>21.90</td>\n",
       "      <td>4.0</td>\n",
       "      <td>55.0</td>\n",
       "      <td>220.0</td>\n",
       "      <td>4.0</td>\n",
       "    </tr>\n",
       "    <tr>\n",
       "      <th>Alfacinha RL 2018</th>\n",
       "      <td>39.440</td>\n",
       "      <td>49.30</td>\n",
       "      <td>41.91</td>\n",
       "      <td>4.0</td>\n",
       "      <td>69.0</td>\n",
       "      <td>276.0</td>\n",
       "      <td>4.0</td>\n",
       "    </tr>\n",
       "    <tr>\n",
       "      <th>Baron Philippe de Rothschild Mas Andes Cabernet Sauvignon 2018</th>\n",
       "      <td>25.320</td>\n",
       "      <td>31.65</td>\n",
       "      <td>26.90</td>\n",
       "      <td>4.0</td>\n",
       "      <td>157.0</td>\n",
       "      <td>628.0</td>\n",
       "      <td>4.0</td>\n",
       "    </tr>\n",
       "    <tr>\n",
       "      <th>Root: 1 Reserva Heritage Red 2018</th>\n",
       "      <td>33.792</td>\n",
       "      <td>42.24</td>\n",
       "      <td>35.90</td>\n",
       "      <td>4.5</td>\n",
       "      <td>56.0</td>\n",
       "      <td>252.0</td>\n",
       "      <td>5.0</td>\n",
       "    </tr>\n",
       "    <tr>\n",
       "      <th>Que Guapo Malbec Blend 2017</th>\n",
       "      <td>37.552</td>\n",
       "      <td>46.94</td>\n",
       "      <td>39.90</td>\n",
       "      <td>4.0</td>\n",
       "      <td>63.0</td>\n",
       "      <td>252.0</td>\n",
       "      <td>5.0</td>\n",
       "    </tr>\n",
       "    <tr>\n",
       "      <th>Nederburg 56 Hundred Pinotage 2018</th>\n",
       "      <td>25.320</td>\n",
       "      <td>31.65</td>\n",
       "      <td>26.90</td>\n",
       "      <td>4.0</td>\n",
       "      <td>57.0</td>\n",
       "      <td>228.0</td>\n",
       "      <td>5.0</td>\n",
       "    </tr>\n",
       "    <tr>\n",
       "      <th>Bear Flag Red Blend 2018</th>\n",
       "      <td>37.552</td>\n",
       "      <td>46.94</td>\n",
       "      <td>39.90</td>\n",
       "      <td>4.0</td>\n",
       "      <td>1014.0</td>\n",
       "      <td>4056.0</td>\n",
       "      <td>5.0</td>\n",
       "    </tr>\n",
       "    <tr>\n",
       "      <th>Viña Cosos D.O. Campo de Borja Garnacha Syrah 2018</th>\n",
       "      <td>39.920</td>\n",
       "      <td>49.90</td>\n",
       "      <td>42.42</td>\n",
       "      <td>4.0</td>\n",
       "      <td>254.0</td>\n",
       "      <td>1016.0</td>\n",
       "      <td>5.0</td>\n",
       "    </tr>\n",
       "    <tr>\n",
       "      <th>Praça dos Marqueses Escolha I.G. Beira Atlântico 2018</th>\n",
       "      <td>27.200</td>\n",
       "      <td>34.00</td>\n",
       "      <td>28.90</td>\n",
       "      <td>4.0</td>\n",
       "      <td>339.0</td>\n",
       "      <td>1356.0</td>\n",
       "      <td>5.0</td>\n",
       "    </tr>\n",
       "    <tr>\n",
       "      <th>Tenuta Sant`Antonio Scaia I.G.T. Veneto Corvina 2015</th>\n",
       "      <td>44.144</td>\n",
       "      <td>55.18</td>\n",
       "      <td>46.90</td>\n",
       "      <td>4.0</td>\n",
       "      <td>103.0</td>\n",
       "      <td>412.0</td>\n",
       "      <td>5.0</td>\n",
       "    </tr>\n",
       "    <tr>\n",
       "      <th>Portas da Herdade Tinto 2018</th>\n",
       "      <td>27.200</td>\n",
       "      <td>34.00</td>\n",
       "      <td>28.90</td>\n",
       "      <td>4.0</td>\n",
       "      <td>53.0</td>\n",
       "      <td>212.0</td>\n",
       "      <td>5.0</td>\n",
       "    </tr>\n",
       "    <tr>\n",
       "      <th>Quinta de São João Cuvée RB Tinto 2017</th>\n",
       "      <td>32.848</td>\n",
       "      <td>41.06</td>\n",
       "      <td>34.90</td>\n",
       "      <td>4.0</td>\n",
       "      <td>57.0</td>\n",
       "      <td>228.0</td>\n",
       "      <td>6.0</td>\n",
       "    </tr>\n",
       "    <tr>\n",
       "      <th>Pedro Teixeira Colheita Selecionada Bairrada D.O.C 2018</th>\n",
       "      <td>32.848</td>\n",
       "      <td>41.06</td>\n",
       "      <td>34.90</td>\n",
       "      <td>4.0</td>\n",
       "      <td>389.0</td>\n",
       "      <td>1556.0</td>\n",
       "      <td>7.0</td>\n",
       "    </tr>\n",
       "    <tr>\n",
       "      <th>Clos de Los Siete By Michel Rolland 2016</th>\n",
       "      <td>74.256</td>\n",
       "      <td>92.82</td>\n",
       "      <td>78.90</td>\n",
       "      <td>4.5</td>\n",
       "      <td>268.0</td>\n",
       "      <td>1206.0</td>\n",
       "      <td>10.0</td>\n",
       "    </tr>\n",
       "  </tbody>\n",
       "</table>\n",
       "</div>"
      ],
      "text/plain": [
       "                                                     Custo  Preço_Normal  \\\n",
       "Nome                                                                       \n",
       "Espumante Veuve D`Argent Blanc De Blancs Brut       34.728         43.41   \n",
       "Espumante Salton Moscatel                           30.968         38.71   \n",
       "Espumante Salton Brut                               30.968         38.71   \n",
       "Canepa Novísimo Merlot 2018                         25.320         31.65   \n",
       "Espumante Toro Loco D.O. Cava Brut                  42.256         52.82   \n",
       "Canepa Novísimo Syrah 2018                          25.320         31.65   \n",
       "Espumante Louis Bouillot Rosé Brut                  61.080         76.35   \n",
       "Espumante Fantinel D.O.C. Prosecco Extra Dry        51.672         64.59   \n",
       "Dancing Flame Ojos del Salado Merlot 2018           24.376         30.47   \n",
       "Terralis Cabernet Merlot 2018                       22.496         28.12   \n",
       "Baron Philippe de Rothschild Mas Andes Carménèr...  25.320         31.65   \n",
       "Roureda Levante D.O. Tarragona 2017                 31.904         39.88   \n",
       "Casillero Reserva Limited Edition Cabernet Sauv...  42.256         52.82   \n",
       "Toro Loco D.O.P. Utiel-Requena Tinto Superior 2018  23.432         29.29   \n",
       "Urmeneta Carménère 2018                             25.320         31.65   \n",
       "Terralis Syrah Malbec 2018                          20.608         25.76   \n",
       "Alfacinha RL 2018                                   39.440         49.30   \n",
       "Baron Philippe de Rothschild Mas Andes Cabernet...  25.320         31.65   \n",
       "Root: 1 Reserva Heritage Red 2018                   33.792         42.24   \n",
       "Que Guapo Malbec Blend 2017                         37.552         46.94   \n",
       "Nederburg 56 Hundred Pinotage 2018                  25.320         31.65   \n",
       "Bear Flag Red Blend 2018                            37.552         46.94   \n",
       "Viña Cosos D.O. Campo de Borja Garnacha Syrah 2018  39.920         49.90   \n",
       "Praça dos Marqueses Escolha I.G. Beira Atlântic...  27.200         34.00   \n",
       "Tenuta Sant`Antonio Scaia I.G.T. Veneto Corvina...  44.144         55.18   \n",
       "Portas da Herdade Tinto 2018                        27.200         34.00   \n",
       "Quinta de São João Cuvée RB Tinto 2017              32.848         41.06   \n",
       "Pedro Teixeira Colheita Selecionada Bairrada D....  32.848         41.06   \n",
       "Clos de Los Siete By Michel Rolland 2016            74.256         92.82   \n",
       "\n",
       "                                                    Preço_Sócio  Pontuação  \\\n",
       "Nome                                                                         \n",
       "Espumante Veuve D`Argent Blanc De Blancs Brut             36.90        4.0   \n",
       "Espumante Salton Moscatel                                 32.90        4.5   \n",
       "Espumante Salton Brut                                     32.90        4.5   \n",
       "Canepa Novísimo Merlot 2018                               26.90        4.5   \n",
       "Espumante Toro Loco D.O. Cava Brut                        44.90        4.0   \n",
       "Canepa Novísimo Syrah 2018                                26.90        4.0   \n",
       "Espumante Louis Bouillot Rosé Brut                        64.90        4.5   \n",
       "Espumante Fantinel D.O.C. Prosecco Extra Dry              54.90        4.5   \n",
       "Dancing Flame Ojos del Salado Merlot 2018                 25.90        4.0   \n",
       "Terralis Cabernet Merlot 2018                             23.90        4.0   \n",
       "Baron Philippe de Rothschild Mas Andes Carménèr...        26.90        4.0   \n",
       "Roureda Levante D.O. Tarragona 2017                       33.90        4.0   \n",
       "Casillero Reserva Limited Edition Cabernet Sauv...        44.90        4.5   \n",
       "Toro Loco D.O.P. Utiel-Requena Tinto Superior 2018        24.90        4.5   \n",
       "Urmeneta Carménère 2018                                   26.90        4.0   \n",
       "Terralis Syrah Malbec 2018                                21.90        4.0   \n",
       "Alfacinha RL 2018                                         41.91        4.0   \n",
       "Baron Philippe de Rothschild Mas Andes Cabernet...        26.90        4.0   \n",
       "Root: 1 Reserva Heritage Red 2018                         35.90        4.5   \n",
       "Que Guapo Malbec Blend 2017                               39.90        4.0   \n",
       "Nederburg 56 Hundred Pinotage 2018                        26.90        4.0   \n",
       "Bear Flag Red Blend 2018                                  39.90        4.0   \n",
       "Viña Cosos D.O. Campo de Borja Garnacha Syrah 2018        42.42        4.0   \n",
       "Praça dos Marqueses Escolha I.G. Beira Atlântic...        28.90        4.0   \n",
       "Tenuta Sant`Antonio Scaia I.G.T. Veneto Corvina...        46.90        4.0   \n",
       "Portas da Herdade Tinto 2018                              28.90        4.0   \n",
       "Quinta de São João Cuvée RB Tinto 2017                    34.90        4.0   \n",
       "Pedro Teixeira Colheita Selecionada Bairrada D....        34.90        4.0   \n",
       "Clos de Los Siete By Michel Rolland 2016                  78.90        4.5   \n",
       "\n",
       "                                                    Avaliações  Pontos_Total  \\\n",
       "Nome                                                                           \n",
       "Espumante Veuve D`Argent Blanc De Blancs Brut            360.0        1440.0   \n",
       "Espumante Salton Moscatel                                 72.0         324.0   \n",
       "Espumante Salton Brut                                     60.0         270.0   \n",
       "Canepa Novísimo Merlot 2018                               72.0         324.0   \n",
       "Espumante Toro Loco D.O. Cava Brut                       284.0        1136.0   \n",
       "Canepa Novísimo Syrah 2018                                53.0         212.0   \n",
       "Espumante Louis Bouillot Rosé Brut                       109.0         490.5   \n",
       "Espumante Fantinel D.O.C. Prosecco Extra Dry             187.0         841.5   \n",
       "Dancing Flame Ojos del Salado Merlot 2018                 70.0         280.0   \n",
       "Terralis Cabernet Merlot 2018                             76.0         304.0   \n",
       "Baron Philippe de Rothschild Mas Andes Carménèr...       143.0         572.0   \n",
       "Roureda Levante D.O. Tarragona 2017                       99.0         396.0   \n",
       "Casillero Reserva Limited Edition Cabernet Sauv...       203.0         913.5   \n",
       "Toro Loco D.O.P. Utiel-Requena Tinto Superior 2018       261.0        1174.5   \n",
       "Urmeneta Carménère 2018                                   59.0         236.0   \n",
       "Terralis Syrah Malbec 2018                                55.0         220.0   \n",
       "Alfacinha RL 2018                                         69.0         276.0   \n",
       "Baron Philippe de Rothschild Mas Andes Cabernet...       157.0         628.0   \n",
       "Root: 1 Reserva Heritage Red 2018                         56.0         252.0   \n",
       "Que Guapo Malbec Blend 2017                               63.0         252.0   \n",
       "Nederburg 56 Hundred Pinotage 2018                        57.0         228.0   \n",
       "Bear Flag Red Blend 2018                                1014.0        4056.0   \n",
       "Viña Cosos D.O. Campo de Borja Garnacha Syrah 2018       254.0        1016.0   \n",
       "Praça dos Marqueses Escolha I.G. Beira Atlântic...       339.0        1356.0   \n",
       "Tenuta Sant`Antonio Scaia I.G.T. Veneto Corvina...       103.0         412.0   \n",
       "Portas da Herdade Tinto 2018                              53.0         212.0   \n",
       "Quinta de São João Cuvée RB Tinto 2017                    57.0         228.0   \n",
       "Pedro Teixeira Colheita Selecionada Bairrada D....       389.0        1556.0   \n",
       "Clos de Los Siete By Michel Rolland 2016                 268.0        1206.0   \n",
       "\n",
       "                                                    Potencial_Guarda  \n",
       "Nome                                                                  \n",
       "Espumante Veuve D`Argent Blanc De Blancs Brut                    2.0  \n",
       "Espumante Salton Moscatel                                        2.0  \n",
       "Espumante Salton Brut                                            3.0  \n",
       "Canepa Novísimo Merlot 2018                                      3.0  \n",
       "Espumante Toro Loco D.O. Cava Brut                               3.0  \n",
       "Canepa Novísimo Syrah 2018                                       3.0  \n",
       "Espumante Louis Bouillot Rosé Brut                               3.0  \n",
       "Espumante Fantinel D.O.C. Prosecco Extra Dry                     3.0  \n",
       "Dancing Flame Ojos del Salado Merlot 2018                        4.0  \n",
       "Terralis Cabernet Merlot 2018                                    4.0  \n",
       "Baron Philippe de Rothschild Mas Andes Carménèr...               4.0  \n",
       "Roureda Levante D.O. Tarragona 2017                              4.0  \n",
       "Casillero Reserva Limited Edition Cabernet Sauv...               4.0  \n",
       "Toro Loco D.O.P. Utiel-Requena Tinto Superior 2018               4.0  \n",
       "Urmeneta Carménère 2018                                          4.0  \n",
       "Terralis Syrah Malbec 2018                                       4.0  \n",
       "Alfacinha RL 2018                                                4.0  \n",
       "Baron Philippe de Rothschild Mas Andes Cabernet...               4.0  \n",
       "Root: 1 Reserva Heritage Red 2018                                5.0  \n",
       "Que Guapo Malbec Blend 2017                                      5.0  \n",
       "Nederburg 56 Hundred Pinotage 2018                               5.0  \n",
       "Bear Flag Red Blend 2018                                         5.0  \n",
       "Viña Cosos D.O. Campo de Borja Garnacha Syrah 2018               5.0  \n",
       "Praça dos Marqueses Escolha I.G. Beira Atlântic...               5.0  \n",
       "Tenuta Sant`Antonio Scaia I.G.T. Veneto Corvina...               5.0  \n",
       "Portas da Herdade Tinto 2018                                     5.0  \n",
       "Quinta de São João Cuvée RB Tinto 2017                           6.0  \n",
       "Pedro Teixeira Colheita Selecionada Bairrada D....               7.0  \n",
       "Clos de Los Siete By Michel Rolland 2016                        10.0  "
      ]
     },
     "execution_count": 474,
     "metadata": {},
     "output_type": "execute_result"
    }
   ],
   "source": [
    "df[['Custo', 'Preço_Normal', 'Preço_Sócio', 'Pontuação', 'Avaliações', 'Pontos_Total', 'Potencial_Guarda']].sort_values(\"Potencial_Guarda\")"
   ]
  },
  {
   "cell_type": "code",
   "execution_count": 475,
   "metadata": {},
   "outputs": [
    {
     "name": "stdout",
     "output_type": "stream",
     "text": [
      "Nº de Vinhos Distintos: 29\n",
      "Mediana da Pontuação: 4.0\n",
      "Distribuição da Pontuação: \n",
      "4.0    20\n",
      "4.5     9\n",
      "Name: Pontuação, dtype: int64\n",
      "Mediana do nº de Avaliações: 99.0\n",
      "Total do Orçamento Utilizado: 995416.00\n",
      "Distribuição do Potencial de Guarda: \n",
      "4.0     10\n",
      "5.0      8\n",
      "3.0      6\n",
      "2.0      2\n",
      "6.0      1\n",
      "10.0     1\n",
      "7.0      1\n",
      "Name: Potencial_Guarda, dtype: int64\n"
     ]
    }
   ],
   "source": [
    "safra_stats(df)"
   ]
  },
  {
   "cell_type": "markdown",
   "metadata": {},
   "source": [
    "Conseguimos alocar quase integralmente o orçamento com uma solução ótima, com pontuação mínima 4 e alto número de avaliações médio, no entanto ainda temos alguns vinhos com poucas avaliações, vamos incluir mais um constraint rígido ao potencial de guarda e número de avaliações."
   ]
  },
  {
   "cell_type": "markdown",
   "metadata": {},
   "source": [
    "## Iteração III\n",
    "Maximiza o número de Avaliações\n",
    " * Pontuação no mínimo 4\n",
    " * Número de Avaliações mínimas 10\n",
    " * Potencial de Guarda mínimo 5\n",
    " * Utilização máxima do Orçamento"
   ]
  },
  {
   "cell_type": "code",
   "execution_count": 526,
   "metadata": {},
   "outputs": [],
   "source": [
    "name = \"Maximiza Avaliações, Pontuação mínima 4, Avaliações mínimas 10, Potencial de Guarda 5 e utilização máxima do Orçamento\"\n",
    "m = Model(name) # use GRB for Gurobi\n",
    "wines = [m.add_var(name=vinho, var_type=BINARY) for vinho in vinhos]"
   ]
  },
  {
   "cell_type": "markdown",
   "metadata": {},
   "source": [
    "Trocar a pontuação total pelo número de Avaliações"
   ]
  },
  {
   "cell_type": "code",
   "execution_count": 527,
   "metadata": {},
   "outputs": [],
   "source": [
    "m.objective = maximize(xsum(wines[i] * avaliação[i] for i in n))"
   ]
  },
  {
   "cell_type": "markdown",
   "metadata": {},
   "source": [
    "Colocar um limitante inferior *constraint* mais rígido ao Orçamento"
   ]
  },
  {
   "cell_type": "code",
   "execution_count": 528,
   "metadata": {},
   "outputs": [],
   "source": [
    "m += xsum(wines[i] * custo[i] for i in n) <= BUDGET / NUM_WINE"
   ]
  },
  {
   "cell_type": "markdown",
   "metadata": {},
   "source": [
    "Relaxação básica do orçamento, se tivermos um valor menor no orçamento do que o vinho mais barato não podemos comprar a safra"
   ]
  },
  {
   "cell_type": "code",
   "execution_count": 529,
   "metadata": {},
   "outputs": [],
   "source": [
    "m += xsum(wines[i] * custo[i] for i in n) >= (BUDGET / NUM_WINE)"
   ]
  },
  {
   "cell_type": "markdown",
   "metadata": {},
   "source": [
    "Pontuação Mínima 4 para todos os vinhos"
   ]
  },
  {
   "cell_type": "code",
   "execution_count": 530,
   "metadata": {},
   "outputs": [],
   "source": [
    "for i in n:\n",
    "    m += wines[i] * pontos[i] >= 4 * wines[i]"
   ]
  },
  {
   "cell_type": "markdown",
   "metadata": {},
   "source": [
    "Numero de Avaliações"
   ]
  },
  {
   "cell_type": "code",
   "execution_count": 531,
   "metadata": {},
   "outputs": [],
   "source": [
    "for i in n:\n",
    "    m += wines[i] * avaliação[i] >= wines[i] * 10"
   ]
  },
  {
   "cell_type": "markdown",
   "metadata": {},
   "source": [
    "Potencial Guarda no Mínimo 5"
   ]
  },
  {
   "cell_type": "code",
   "execution_count": 532,
   "metadata": {},
   "outputs": [],
   "source": [
    "for i in n:\n",
    "    m += wines[i] * guarda[i] >= wines[i] * 5"
   ]
  },
  {
   "cell_type": "code",
   "execution_count": 533,
   "metadata": {},
   "outputs": [
    {
     "name": "stdout",
     "output_type": "stream",
     "text": [
      "optimal solution cost -3357.0 found\n"
     ]
    }
   ],
   "source": [
    "solução = return_solution(m)"
   ]
  },
  {
   "cell_type": "code",
   "execution_count": 534,
   "metadata": {},
   "outputs": [],
   "source": [
    "SOLUTIONS[name] = data.loc[solução.keys()].copy()\n",
    "df = SOLUTIONS[name]"
   ]
  },
  {
   "cell_type": "code",
   "execution_count": 535,
   "metadata": {},
   "outputs": [
    {
     "data": {
      "text/html": [
       "<div>\n",
       "<style scoped>\n",
       "    .dataframe tbody tr th:only-of-type {\n",
       "        vertical-align: middle;\n",
       "    }\n",
       "\n",
       "    .dataframe tbody tr th {\n",
       "        vertical-align: top;\n",
       "    }\n",
       "\n",
       "    .dataframe thead th {\n",
       "        text-align: right;\n",
       "    }\n",
       "</style>\n",
       "<table border=\"1\" class=\"dataframe\">\n",
       "  <thead>\n",
       "    <tr style=\"text-align: right;\">\n",
       "      <th></th>\n",
       "      <th>Custo</th>\n",
       "      <th>Preço_Normal</th>\n",
       "      <th>Preço_Sócio</th>\n",
       "      <th>Pontuação</th>\n",
       "      <th>Avaliações</th>\n",
       "      <th>Pontos_Total</th>\n",
       "      <th>Potencial_Guarda</th>\n",
       "    </tr>\n",
       "    <tr>\n",
       "      <th>Nome</th>\n",
       "      <th></th>\n",
       "      <th></th>\n",
       "      <th></th>\n",
       "      <th></th>\n",
       "      <th></th>\n",
       "      <th></th>\n",
       "      <th></th>\n",
       "    </tr>\n",
       "  </thead>\n",
       "  <tbody>\n",
       "    <tr>\n",
       "      <th>Bear Flag Red Blend 2018</th>\n",
       "      <td>37.552</td>\n",
       "      <td>46.94</td>\n",
       "      <td>39.90</td>\n",
       "      <td>4.0</td>\n",
       "      <td>1014.0</td>\n",
       "      <td>4056.0</td>\n",
       "      <td>5.0</td>\n",
       "    </tr>\n",
       "    <tr>\n",
       "      <th>Portas da Herdade Tinto 2018</th>\n",
       "      <td>27.200</td>\n",
       "      <td>34.00</td>\n",
       "      <td>28.90</td>\n",
       "      <td>4.0</td>\n",
       "      <td>53.0</td>\n",
       "      <td>212.0</td>\n",
       "      <td>5.0</td>\n",
       "    </tr>\n",
       "    <tr>\n",
       "      <th>Genio Español Roble D.O.P. Jumilla Monastrell 2016</th>\n",
       "      <td>41.320</td>\n",
       "      <td>51.65</td>\n",
       "      <td>43.90</td>\n",
       "      <td>4.0</td>\n",
       "      <td>56.0</td>\n",
       "      <td>224.0</td>\n",
       "      <td>5.0</td>\n",
       "    </tr>\n",
       "    <tr>\n",
       "      <th>Nederburg 56 Hundred Pinotage 2018</th>\n",
       "      <td>25.320</td>\n",
       "      <td>31.65</td>\n",
       "      <td>26.90</td>\n",
       "      <td>4.0</td>\n",
       "      <td>57.0</td>\n",
       "      <td>228.0</td>\n",
       "      <td>5.0</td>\n",
       "    </tr>\n",
       "    <tr>\n",
       "      <th>Pájaro de Buen Agüero D.O.P. Cariñena G 2018</th>\n",
       "      <td>78.616</td>\n",
       "      <td>98.27</td>\n",
       "      <td>83.53</td>\n",
       "      <td>4.0</td>\n",
       "      <td>60.0</td>\n",
       "      <td>240.0</td>\n",
       "      <td>5.0</td>\n",
       "    </tr>\n",
       "    <tr>\n",
       "      <th>Que Guapo Malbec Blend 2017</th>\n",
       "      <td>37.552</td>\n",
       "      <td>46.94</td>\n",
       "      <td>39.90</td>\n",
       "      <td>4.0</td>\n",
       "      <td>63.0</td>\n",
       "      <td>252.0</td>\n",
       "      <td>5.0</td>\n",
       "    </tr>\n",
       "    <tr>\n",
       "      <th>Root: 1 Reserva Heritage Red 2018</th>\n",
       "      <td>33.792</td>\n",
       "      <td>42.24</td>\n",
       "      <td>35.90</td>\n",
       "      <td>4.5</td>\n",
       "      <td>56.0</td>\n",
       "      <td>252.0</td>\n",
       "      <td>5.0</td>\n",
       "    </tr>\n",
       "    <tr>\n",
       "      <th>La Mora D.O.C. Maremma Toscana Rosso 2015</th>\n",
       "      <td>46.968</td>\n",
       "      <td>58.71</td>\n",
       "      <td>49.90</td>\n",
       "      <td>4.5</td>\n",
       "      <td>60.0</td>\n",
       "      <td>270.0</td>\n",
       "      <td>5.0</td>\n",
       "    </tr>\n",
       "    <tr>\n",
       "      <th>Finca Traversa Tannat 2018</th>\n",
       "      <td>24.376</td>\n",
       "      <td>30.47</td>\n",
       "      <td>25.90</td>\n",
       "      <td>4.0</td>\n",
       "      <td>37.0</td>\n",
       "      <td>148.0</td>\n",
       "      <td>5.0</td>\n",
       "    </tr>\n",
       "    <tr>\n",
       "      <th>Miguel Torres Hemisferio Sur Reserva Carménère 2017</th>\n",
       "      <td>32.848</td>\n",
       "      <td>41.06</td>\n",
       "      <td>34.90</td>\n",
       "      <td>4.5</td>\n",
       "      <td>32.0</td>\n",
       "      <td>144.0</td>\n",
       "      <td>5.0</td>\n",
       "    </tr>\n",
       "    <tr>\n",
       "      <th>Enclos du Wine Hunter Bordeaux Supérieur 2018</th>\n",
       "      <td>62.968</td>\n",
       "      <td>78.71</td>\n",
       "      <td>66.90</td>\n",
       "      <td>4.5</td>\n",
       "      <td>77.0</td>\n",
       "      <td>346.5</td>\n",
       "      <td>5.0</td>\n",
       "    </tr>\n",
       "    <tr>\n",
       "      <th>Pérez Cruz GSM D.O. Valle del Maipo Andes 2016</th>\n",
       "      <td>52.608</td>\n",
       "      <td>65.76</td>\n",
       "      <td>55.90</td>\n",
       "      <td>4.5</td>\n",
       "      <td>81.0</td>\n",
       "      <td>364.5</td>\n",
       "      <td>5.0</td>\n",
       "    </tr>\n",
       "    <tr>\n",
       "      <th>Tenuta Sant`Antonio Scaia I.G.T. Veneto Corvina 2015</th>\n",
       "      <td>44.144</td>\n",
       "      <td>55.18</td>\n",
       "      <td>46.90</td>\n",
       "      <td>4.0</td>\n",
       "      <td>103.0</td>\n",
       "      <td>412.0</td>\n",
       "      <td>5.0</td>\n",
       "    </tr>\n",
       "    <tr>\n",
       "      <th>Viña Cosos D.O. Campo de Borja Garnacha Syrah 2018</th>\n",
       "      <td>39.920</td>\n",
       "      <td>49.90</td>\n",
       "      <td>42.42</td>\n",
       "      <td>4.0</td>\n",
       "      <td>254.0</td>\n",
       "      <td>1016.0</td>\n",
       "      <td>5.0</td>\n",
       "    </tr>\n",
       "    <tr>\n",
       "      <th>Praça dos Marqueses Escolha I.G. Beira Atlântico 2018</th>\n",
       "      <td>27.200</td>\n",
       "      <td>34.00</td>\n",
       "      <td>28.90</td>\n",
       "      <td>4.0</td>\n",
       "      <td>339.0</td>\n",
       "      <td>1356.0</td>\n",
       "      <td>5.0</td>\n",
       "    </tr>\n",
       "    <tr>\n",
       "      <th>Chant du Coq Sélection Jean Vincent Bideau 2016</th>\n",
       "      <td>78.616</td>\n",
       "      <td>98.27</td>\n",
       "      <td>83.53</td>\n",
       "      <td>4.5</td>\n",
       "      <td>72.0</td>\n",
       "      <td>324.0</td>\n",
       "      <td>5.0</td>\n",
       "    </tr>\n",
       "    <tr>\n",
       "      <th>Sueño D.O. Ribera Del Júcar Tempranillo 2013</th>\n",
       "      <td>75.120</td>\n",
       "      <td>93.90</td>\n",
       "      <td>79.82</td>\n",
       "      <td>4.0</td>\n",
       "      <td>115.0</td>\n",
       "      <td>460.0</td>\n",
       "      <td>6.0</td>\n",
       "    </tr>\n",
       "    <tr>\n",
       "      <th>Quinta de São João Cuvée RB Tinto 2017</th>\n",
       "      <td>32.848</td>\n",
       "      <td>41.06</td>\n",
       "      <td>34.90</td>\n",
       "      <td>4.0</td>\n",
       "      <td>57.0</td>\n",
       "      <td>228.0</td>\n",
       "      <td>6.0</td>\n",
       "    </tr>\n",
       "    <tr>\n",
       "      <th>Pavillon Saint Pierre Réserve 2016</th>\n",
       "      <td>47.904</td>\n",
       "      <td>59.88</td>\n",
       "      <td>50.90</td>\n",
       "      <td>4.0</td>\n",
       "      <td>47.0</td>\n",
       "      <td>188.0</td>\n",
       "      <td>6.0</td>\n",
       "    </tr>\n",
       "    <tr>\n",
       "      <th>Pedro Teixeira Colheita Selecionada Bairrada D.O.C 2018</th>\n",
       "      <td>32.848</td>\n",
       "      <td>41.06</td>\n",
       "      <td>34.90</td>\n",
       "      <td>4.0</td>\n",
       "      <td>389.0</td>\n",
       "      <td>1556.0</td>\n",
       "      <td>7.0</td>\n",
       "    </tr>\n",
       "    <tr>\n",
       "      <th>Esteban Martín Reserva D.O.P. Cariñena 2014</th>\n",
       "      <td>46.024</td>\n",
       "      <td>57.53</td>\n",
       "      <td>48.90</td>\n",
       "      <td>4.5</td>\n",
       "      <td>67.0</td>\n",
       "      <td>301.5</td>\n",
       "      <td>8.0</td>\n",
       "    </tr>\n",
       "    <tr>\n",
       "      <th>Clos de Los Siete By Michel Rolland 2016</th>\n",
       "      <td>74.256</td>\n",
       "      <td>92.82</td>\n",
       "      <td>78.90</td>\n",
       "      <td>4.5</td>\n",
       "      <td>268.0</td>\n",
       "      <td>1206.0</td>\n",
       "      <td>10.0</td>\n",
       "    </tr>\n",
       "  </tbody>\n",
       "</table>\n",
       "</div>"
      ],
      "text/plain": [
       "                                                     Custo  Preço_Normal  \\\n",
       "Nome                                                                       \n",
       "Bear Flag Red Blend 2018                            37.552         46.94   \n",
       "Portas da Herdade Tinto 2018                        27.200         34.00   \n",
       "Genio Español Roble D.O.P. Jumilla Monastrell 2016  41.320         51.65   \n",
       "Nederburg 56 Hundred Pinotage 2018                  25.320         31.65   \n",
       "Pájaro de Buen Agüero D.O.P. Cariñena G 2018        78.616         98.27   \n",
       "Que Guapo Malbec Blend 2017                         37.552         46.94   \n",
       "Root: 1 Reserva Heritage Red 2018                   33.792         42.24   \n",
       "La Mora D.O.C. Maremma Toscana Rosso 2015           46.968         58.71   \n",
       "Finca Traversa Tannat 2018                          24.376         30.47   \n",
       "Miguel Torres Hemisferio Sur Reserva Carménère ...  32.848         41.06   \n",
       "Enclos du Wine Hunter Bordeaux Supérieur 2018       62.968         78.71   \n",
       "Pérez Cruz GSM D.O. Valle del Maipo Andes 2016      52.608         65.76   \n",
       "Tenuta Sant`Antonio Scaia I.G.T. Veneto Corvina...  44.144         55.18   \n",
       "Viña Cosos D.O. Campo de Borja Garnacha Syrah 2018  39.920         49.90   \n",
       "Praça dos Marqueses Escolha I.G. Beira Atlântic...  27.200         34.00   \n",
       "Chant du Coq Sélection Jean Vincent Bideau 2016     78.616         98.27   \n",
       "Sueño D.O. Ribera Del Júcar Tempranillo 2013        75.120         93.90   \n",
       "Quinta de São João Cuvée RB Tinto 2017              32.848         41.06   \n",
       "Pavillon Saint Pierre Réserve 2016                  47.904         59.88   \n",
       "Pedro Teixeira Colheita Selecionada Bairrada D....  32.848         41.06   \n",
       "Esteban Martín Reserva D.O.P. Cariñena 2014         46.024         57.53   \n",
       "Clos de Los Siete By Michel Rolland 2016            74.256         92.82   \n",
       "\n",
       "                                                    Preço_Sócio  Pontuação  \\\n",
       "Nome                                                                         \n",
       "Bear Flag Red Blend 2018                                  39.90        4.0   \n",
       "Portas da Herdade Tinto 2018                              28.90        4.0   \n",
       "Genio Español Roble D.O.P. Jumilla Monastrell 2016        43.90        4.0   \n",
       "Nederburg 56 Hundred Pinotage 2018                        26.90        4.0   \n",
       "Pájaro de Buen Agüero D.O.P. Cariñena G 2018              83.53        4.0   \n",
       "Que Guapo Malbec Blend 2017                               39.90        4.0   \n",
       "Root: 1 Reserva Heritage Red 2018                         35.90        4.5   \n",
       "La Mora D.O.C. Maremma Toscana Rosso 2015                 49.90        4.5   \n",
       "Finca Traversa Tannat 2018                                25.90        4.0   \n",
       "Miguel Torres Hemisferio Sur Reserva Carménère ...        34.90        4.5   \n",
       "Enclos du Wine Hunter Bordeaux Supérieur 2018             66.90        4.5   \n",
       "Pérez Cruz GSM D.O. Valle del Maipo Andes 2016            55.90        4.5   \n",
       "Tenuta Sant`Antonio Scaia I.G.T. Veneto Corvina...        46.90        4.0   \n",
       "Viña Cosos D.O. Campo de Borja Garnacha Syrah 2018        42.42        4.0   \n",
       "Praça dos Marqueses Escolha I.G. Beira Atlântic...        28.90        4.0   \n",
       "Chant du Coq Sélection Jean Vincent Bideau 2016           83.53        4.5   \n",
       "Sueño D.O. Ribera Del Júcar Tempranillo 2013              79.82        4.0   \n",
       "Quinta de São João Cuvée RB Tinto 2017                    34.90        4.0   \n",
       "Pavillon Saint Pierre Réserve 2016                        50.90        4.0   \n",
       "Pedro Teixeira Colheita Selecionada Bairrada D....        34.90        4.0   \n",
       "Esteban Martín Reserva D.O.P. Cariñena 2014               48.90        4.5   \n",
       "Clos de Los Siete By Michel Rolland 2016                  78.90        4.5   \n",
       "\n",
       "                                                    Avaliações  Pontos_Total  \\\n",
       "Nome                                                                           \n",
       "Bear Flag Red Blend 2018                                1014.0        4056.0   \n",
       "Portas da Herdade Tinto 2018                              53.0         212.0   \n",
       "Genio Español Roble D.O.P. Jumilla Monastrell 2016        56.0         224.0   \n",
       "Nederburg 56 Hundred Pinotage 2018                        57.0         228.0   \n",
       "Pájaro de Buen Agüero D.O.P. Cariñena G 2018              60.0         240.0   \n",
       "Que Guapo Malbec Blend 2017                               63.0         252.0   \n",
       "Root: 1 Reserva Heritage Red 2018                         56.0         252.0   \n",
       "La Mora D.O.C. Maremma Toscana Rosso 2015                 60.0         270.0   \n",
       "Finca Traversa Tannat 2018                                37.0         148.0   \n",
       "Miguel Torres Hemisferio Sur Reserva Carménère ...        32.0         144.0   \n",
       "Enclos du Wine Hunter Bordeaux Supérieur 2018             77.0         346.5   \n",
       "Pérez Cruz GSM D.O. Valle del Maipo Andes 2016            81.0         364.5   \n",
       "Tenuta Sant`Antonio Scaia I.G.T. Veneto Corvina...       103.0         412.0   \n",
       "Viña Cosos D.O. Campo de Borja Garnacha Syrah 2018       254.0        1016.0   \n",
       "Praça dos Marqueses Escolha I.G. Beira Atlântic...       339.0        1356.0   \n",
       "Chant du Coq Sélection Jean Vincent Bideau 2016           72.0         324.0   \n",
       "Sueño D.O. Ribera Del Júcar Tempranillo 2013             115.0         460.0   \n",
       "Quinta de São João Cuvée RB Tinto 2017                    57.0         228.0   \n",
       "Pavillon Saint Pierre Réserve 2016                        47.0         188.0   \n",
       "Pedro Teixeira Colheita Selecionada Bairrada D....       389.0        1556.0   \n",
       "Esteban Martín Reserva D.O.P. Cariñena 2014               67.0         301.5   \n",
       "Clos de Los Siete By Michel Rolland 2016                 268.0        1206.0   \n",
       "\n",
       "                                                    Potencial_Guarda  \n",
       "Nome                                                                  \n",
       "Bear Flag Red Blend 2018                                         5.0  \n",
       "Portas da Herdade Tinto 2018                                     5.0  \n",
       "Genio Español Roble D.O.P. Jumilla Monastrell 2016               5.0  \n",
       "Nederburg 56 Hundred Pinotage 2018                               5.0  \n",
       "Pájaro de Buen Agüero D.O.P. Cariñena G 2018                     5.0  \n",
       "Que Guapo Malbec Blend 2017                                      5.0  \n",
       "Root: 1 Reserva Heritage Red 2018                                5.0  \n",
       "La Mora D.O.C. Maremma Toscana Rosso 2015                        5.0  \n",
       "Finca Traversa Tannat 2018                                       5.0  \n",
       "Miguel Torres Hemisferio Sur Reserva Carménère ...               5.0  \n",
       "Enclos du Wine Hunter Bordeaux Supérieur 2018                    5.0  \n",
       "Pérez Cruz GSM D.O. Valle del Maipo Andes 2016                   5.0  \n",
       "Tenuta Sant`Antonio Scaia I.G.T. Veneto Corvina...               5.0  \n",
       "Viña Cosos D.O. Campo de Borja Garnacha Syrah 2018               5.0  \n",
       "Praça dos Marqueses Escolha I.G. Beira Atlântic...               5.0  \n",
       "Chant du Coq Sélection Jean Vincent Bideau 2016                  5.0  \n",
       "Sueño D.O. Ribera Del Júcar Tempranillo 2013                     6.0  \n",
       "Quinta de São João Cuvée RB Tinto 2017                           6.0  \n",
       "Pavillon Saint Pierre Réserve 2016                               6.0  \n",
       "Pedro Teixeira Colheita Selecionada Bairrada D....               7.0  \n",
       "Esteban Martín Reserva D.O.P. Cariñena 2014                      8.0  \n",
       "Clos de Los Siete By Michel Rolland 2016                        10.0  "
      ]
     },
     "execution_count": 535,
     "metadata": {},
     "output_type": "execute_result"
    }
   ],
   "source": [
    "df[['Custo', 'Preço_Normal', 'Preço_Sócio', 'Pontuação', 'Avaliações', 'Pontos_Total', 'Potencial_Guarda']].sort_values(\"Potencial_Guarda\")"
   ]
  },
  {
   "cell_type": "code",
   "execution_count": 536,
   "metadata": {},
   "outputs": [
    {
     "name": "stdout",
     "output_type": "stream",
     "text": [
      "Nº de Vinhos Distintos: 22\n",
      "Mediana do Preço: 50.775\n",
      "Mediana da Pontuação: 4.0\n",
      "Mediana do nº de Avaliações: 65.0\n",
      "Total do Orçamento Utilizado: 1000000.00\n",
      "Distribuição da Pontuação: \n",
      "4.0    14\n",
      "4.5     8\n",
      "Name: Pontuação, dtype: int64\n",
      "Distribuição do Potencial de Guarda: \n",
      "5.0     16\n",
      "6.0      3\n",
      "8.0      1\n",
      "10.0     1\n",
      "7.0      1\n",
      "Name: Potencial_Guarda, dtype: int64\n"
     ]
    }
   ],
   "source": [
    "safra_stats(df)"
   ]
  },
  {
   "cell_type": "markdown",
   "metadata": {},
   "source": [
    "Conseguimos alocar **integralmente** o orçamento, com uma solução ótima, o que é mais impressionante, com 22 vinhos distintos, i.e. uma safra para 11 meses, com pontuação mínima 4, Número de Avaliações Mínimas 10 e potencial de guarda no mínimo 5 para os vinhos disponíveis"
   ]
  },
  {
   "cell_type": "markdown",
   "metadata": {},
   "source": [
    "## Iteração IV\n",
    "Minimiza o preço\n",
    " * Pontuação no mínimo 4\n",
    " * Número de Avaliações mínimas 10\n",
    " * Potencial de Guarda mínimo 5\n",
    " * Utilização máxima do Orçamento"
   ]
  },
  {
   "cell_type": "code",
   "execution_count": 511,
   "metadata": {},
   "outputs": [],
   "source": [
    "name = \"Minimiza o Custo, Pontuação mínima 4, Avaliações mínimas 10, Potencial de Guarda 5 e utilização máxima do Orçamento\"\n",
    "m = Model(name) # use GRB for Gurobi\n",
    "wines = [m.add_var(name=vinho, var_type=BINARY) for vinho in vinhos]"
   ]
  },
  {
   "cell_type": "markdown",
   "metadata": {},
   "source": [
    "Função Objetiva de Minimizar o Custo"
   ]
  },
  {
   "cell_type": "code",
   "execution_count": 512,
   "metadata": {},
   "outputs": [],
   "source": [
    "m.objective = maximize(xsum(wines[i] * 1./custo[i] for i in n))"
   ]
  },
  {
   "cell_type": "markdown",
   "metadata": {},
   "source": [
    "Colocar um limitante inferior *constraint* mais rígido ao Orçamento"
   ]
  },
  {
   "cell_type": "code",
   "execution_count": 513,
   "metadata": {},
   "outputs": [],
   "source": [
    "m += xsum(wines[i] * custo[i] for i in n) <= BUDGET / NUM_WINE"
   ]
  },
  {
   "cell_type": "markdown",
   "metadata": {},
   "source": [
    "Relaxação básica do orçamento, se tivermos um valor menor no orçamento do que o vinho mais barato não podemos comprar a safra"
   ]
  },
  {
   "cell_type": "code",
   "execution_count": 514,
   "metadata": {},
   "outputs": [],
   "source": [
    "m += xsum(wines[i] * custo[i] for i in n) >= (BUDGET / NUM_WINE) - data.Custo.min()"
   ]
  },
  {
   "cell_type": "markdown",
   "metadata": {},
   "source": [
    "Pontuação Mínima 4 para todos os vinhos"
   ]
  },
  {
   "cell_type": "code",
   "execution_count": 515,
   "metadata": {},
   "outputs": [],
   "source": [
    "for i in n:\n",
    "    m += wines[i] * pontos[i] >= 4 * wines[i]"
   ]
  },
  {
   "cell_type": "markdown",
   "metadata": {},
   "source": [
    "Numero de Avaliações"
   ]
  },
  {
   "cell_type": "code",
   "execution_count": 516,
   "metadata": {},
   "outputs": [],
   "source": [
    "for i in n:\n",
    "    m += wines[i] * avaliação[i] >= wines[i] * 10"
   ]
  },
  {
   "cell_type": "markdown",
   "metadata": {},
   "source": [
    "Potencial Guarda no Mínimo 5"
   ]
  },
  {
   "cell_type": "code",
   "execution_count": 517,
   "metadata": {},
   "outputs": [],
   "source": [
    "for i in n:\n",
    "    m += wines[i] * guarda[i] >= wines[i] * 5"
   ]
  },
  {
   "cell_type": "code",
   "execution_count": 518,
   "metadata": {},
   "outputs": [
    {
     "name": "stdout",
     "output_type": "stream",
     "text": [
      "optimal solution cost 0.8207418726019119 found\n"
     ]
    }
   ],
   "source": [
    "solução = return_solution(m)"
   ]
  },
  {
   "cell_type": "code",
   "execution_count": 519,
   "metadata": {},
   "outputs": [],
   "source": [
    "SOLUTIONS[name] = data.loc[solução.keys()].copy()\n",
    "df = SOLUTIONS[name]"
   ]
  },
  {
   "cell_type": "code",
   "execution_count": 520,
   "metadata": {},
   "outputs": [
    {
     "data": {
      "text/html": [
       "<div>\n",
       "<style scoped>\n",
       "    .dataframe tbody tr th:only-of-type {\n",
       "        vertical-align: middle;\n",
       "    }\n",
       "\n",
       "    .dataframe tbody tr th {\n",
       "        vertical-align: top;\n",
       "    }\n",
       "\n",
       "    .dataframe thead th {\n",
       "        text-align: right;\n",
       "    }\n",
       "</style>\n",
       "<table border=\"1\" class=\"dataframe\">\n",
       "  <thead>\n",
       "    <tr style=\"text-align: right;\">\n",
       "      <th></th>\n",
       "      <th>Custo</th>\n",
       "      <th>Preço_Normal</th>\n",
       "      <th>Preço_Sócio</th>\n",
       "      <th>Pontuação</th>\n",
       "      <th>Avaliações</th>\n",
       "      <th>Pontos_Total</th>\n",
       "      <th>Potencial_Guarda</th>\n",
       "    </tr>\n",
       "    <tr>\n",
       "      <th>Nome</th>\n",
       "      <th></th>\n",
       "      <th></th>\n",
       "      <th></th>\n",
       "      <th></th>\n",
       "      <th></th>\n",
       "      <th></th>\n",
       "      <th></th>\n",
       "    </tr>\n",
       "  </thead>\n",
       "  <tbody>\n",
       "    <tr>\n",
       "      <th>Bear Flag Red Blend 2018</th>\n",
       "      <td>37.552</td>\n",
       "      <td>46.94</td>\n",
       "      <td>39.90</td>\n",
       "      <td>4.0</td>\n",
       "      <td>1014.0</td>\n",
       "      <td>4056.0</td>\n",
       "      <td>5.0</td>\n",
       "    </tr>\n",
       "    <tr>\n",
       "      <th>Altivo Vineyard Selection Cabernet Sauvignon 2017</th>\n",
       "      <td>40.376</td>\n",
       "      <td>50.47</td>\n",
       "      <td>42.90</td>\n",
       "      <td>4.0</td>\n",
       "      <td>16.0</td>\n",
       "      <td>64.0</td>\n",
       "      <td>5.0</td>\n",
       "    </tr>\n",
       "    <tr>\n",
       "      <th>Infame Reserva Cabernet Sauvignon 2017</th>\n",
       "      <td>43.200</td>\n",
       "      <td>54.00</td>\n",
       "      <td>45.90</td>\n",
       "      <td>4.0</td>\n",
       "      <td>16.0</td>\n",
       "      <td>64.0</td>\n",
       "      <td>5.0</td>\n",
       "    </tr>\n",
       "    <tr>\n",
       "      <th>Señorío de Ayud Cabernet Sauvignon Syrah 2018</th>\n",
       "      <td>27.200</td>\n",
       "      <td>34.00</td>\n",
       "      <td>28.90</td>\n",
       "      <td>4.5</td>\n",
       "      <td>15.0</td>\n",
       "      <td>67.5</td>\n",
       "      <td>5.0</td>\n",
       "    </tr>\n",
       "    <tr>\n",
       "      <th>Casillero del Diablo Cabernet Sauvignon/Merlot 2018</th>\n",
       "      <td>45.080</td>\n",
       "      <td>56.35</td>\n",
       "      <td>47.90</td>\n",
       "      <td>4.5</td>\n",
       "      <td>16.0</td>\n",
       "      <td>72.0</td>\n",
       "      <td>5.0</td>\n",
       "    </tr>\n",
       "    <tr>\n",
       "      <th>Señorío De Ayud Garnacha Syrah 2018</th>\n",
       "      <td>30.968</td>\n",
       "      <td>38.71</td>\n",
       "      <td>32.90</td>\n",
       "      <td>4.0</td>\n",
       "      <td>18.0</td>\n",
       "      <td>72.0</td>\n",
       "      <td>5.0</td>\n",
       "    </tr>\n",
       "    <tr>\n",
       "      <th>Vale da Coruja RL Tinto 2016</th>\n",
       "      <td>33.792</td>\n",
       "      <td>42.24</td>\n",
       "      <td>35.90</td>\n",
       "      <td>4.0</td>\n",
       "      <td>18.0</td>\n",
       "      <td>72.0</td>\n",
       "      <td>5.0</td>\n",
       "    </tr>\n",
       "    <tr>\n",
       "      <th>La Chamiza Malbec 2018</th>\n",
       "      <td>30.024</td>\n",
       "      <td>37.53</td>\n",
       "      <td>31.90</td>\n",
       "      <td>4.0</td>\n",
       "      <td>25.0</td>\n",
       "      <td>100.0</td>\n",
       "      <td>5.0</td>\n",
       "    </tr>\n",
       "    <tr>\n",
       "      <th>Bobal deSanjuan Viñas Viejas D.O.P. Utiel-Requena 2016</th>\n",
       "      <td>44.144</td>\n",
       "      <td>55.18</td>\n",
       "      <td>46.90</td>\n",
       "      <td>4.0</td>\n",
       "      <td>27.0</td>\n",
       "      <td>108.0</td>\n",
       "      <td>5.0</td>\n",
       "    </tr>\n",
       "    <tr>\n",
       "      <th>Miguel Torres Hemisferio Sur Reserva Cabernet Sauvignon 2016</th>\n",
       "      <td>32.848</td>\n",
       "      <td>41.06</td>\n",
       "      <td>34.90</td>\n",
       "      <td>4.0</td>\n",
       "      <td>31.0</td>\n",
       "      <td>124.0</td>\n",
       "      <td>5.0</td>\n",
       "    </tr>\n",
       "    <tr>\n",
       "      <th>Miguel Torres Hemisferio Sur Reserva Carménère 2017</th>\n",
       "      <td>32.848</td>\n",
       "      <td>41.06</td>\n",
       "      <td>34.90</td>\n",
       "      <td>4.5</td>\n",
       "      <td>32.0</td>\n",
       "      <td>144.0</td>\n",
       "      <td>5.0</td>\n",
       "    </tr>\n",
       "    <tr>\n",
       "      <th>Finca Traversa Tannat 2018</th>\n",
       "      <td>24.376</td>\n",
       "      <td>30.47</td>\n",
       "      <td>25.90</td>\n",
       "      <td>4.0</td>\n",
       "      <td>37.0</td>\n",
       "      <td>148.0</td>\n",
       "      <td>5.0</td>\n",
       "    </tr>\n",
       "    <tr>\n",
       "      <th>Rasante Malbec / Cabernet Sauvignon 2018</th>\n",
       "      <td>37.520</td>\n",
       "      <td>46.90</td>\n",
       "      <td>39.87</td>\n",
       "      <td>4.0</td>\n",
       "      <td>12.0</td>\n",
       "      <td>48.0</td>\n",
       "      <td>5.0</td>\n",
       "    </tr>\n",
       "    <tr>\n",
       "      <th>JP Azeitão Seleção do Enólogo Tinto 2018</th>\n",
       "      <td>29.080</td>\n",
       "      <td>36.35</td>\n",
       "      <td>30.90</td>\n",
       "      <td>4.0</td>\n",
       "      <td>38.0</td>\n",
       "      <td>152.0</td>\n",
       "      <td>5.0</td>\n",
       "    </tr>\n",
       "    <tr>\n",
       "      <th>Señorío De Ayud Garnacha Syrah 2017</th>\n",
       "      <td>41.280</td>\n",
       "      <td>51.60</td>\n",
       "      <td>43.86</td>\n",
       "      <td>4.0</td>\n",
       "      <td>44.0</td>\n",
       "      <td>176.0</td>\n",
       "      <td>5.0</td>\n",
       "    </tr>\n",
       "    <tr>\n",
       "      <th>Portas da Herdade Tinto 2018</th>\n",
       "      <td>27.200</td>\n",
       "      <td>34.00</td>\n",
       "      <td>28.90</td>\n",
       "      <td>4.0</td>\n",
       "      <td>53.0</td>\n",
       "      <td>212.0</td>\n",
       "      <td>5.0</td>\n",
       "    </tr>\n",
       "    <tr>\n",
       "      <th>Genio Español Roble D.O.P. Jumilla Monastrell 2016</th>\n",
       "      <td>41.320</td>\n",
       "      <td>51.65</td>\n",
       "      <td>43.90</td>\n",
       "      <td>4.0</td>\n",
       "      <td>56.0</td>\n",
       "      <td>224.0</td>\n",
       "      <td>5.0</td>\n",
       "    </tr>\n",
       "    <tr>\n",
       "      <th>Nederburg 56 Hundred Pinotage 2018</th>\n",
       "      <td>25.320</td>\n",
       "      <td>31.65</td>\n",
       "      <td>26.90</td>\n",
       "      <td>4.0</td>\n",
       "      <td>57.0</td>\n",
       "      <td>228.0</td>\n",
       "      <td>5.0</td>\n",
       "    </tr>\n",
       "    <tr>\n",
       "      <th>Que Guapo Malbec Blend 2017</th>\n",
       "      <td>37.552</td>\n",
       "      <td>46.94</td>\n",
       "      <td>39.90</td>\n",
       "      <td>4.0</td>\n",
       "      <td>63.0</td>\n",
       "      <td>252.0</td>\n",
       "      <td>5.0</td>\n",
       "    </tr>\n",
       "    <tr>\n",
       "      <th>Root: 1 Reserva Heritage Red 2018</th>\n",
       "      <td>33.792</td>\n",
       "      <td>42.24</td>\n",
       "      <td>35.90</td>\n",
       "      <td>4.5</td>\n",
       "      <td>56.0</td>\n",
       "      <td>252.0</td>\n",
       "      <td>5.0</td>\n",
       "    </tr>\n",
       "    <tr>\n",
       "      <th>Tenuta Sant`Antonio Scaia I.G.T. Veneto Corvina 2015</th>\n",
       "      <td>44.144</td>\n",
       "      <td>55.18</td>\n",
       "      <td>46.90</td>\n",
       "      <td>4.0</td>\n",
       "      <td>103.0</td>\n",
       "      <td>412.0</td>\n",
       "      <td>5.0</td>\n",
       "    </tr>\n",
       "    <tr>\n",
       "      <th>Viña Cosos D.O. Campo de Borja Garnacha Syrah 2018</th>\n",
       "      <td>39.920</td>\n",
       "      <td>49.90</td>\n",
       "      <td>42.42</td>\n",
       "      <td>4.0</td>\n",
       "      <td>254.0</td>\n",
       "      <td>1016.0</td>\n",
       "      <td>5.0</td>\n",
       "    </tr>\n",
       "    <tr>\n",
       "      <th>Praça dos Marqueses Escolha I.G. Beira Atlântico 2018</th>\n",
       "      <td>27.200</td>\n",
       "      <td>34.00</td>\n",
       "      <td>28.90</td>\n",
       "      <td>4.0</td>\n",
       "      <td>339.0</td>\n",
       "      <td>1356.0</td>\n",
       "      <td>5.0</td>\n",
       "    </tr>\n",
       "    <tr>\n",
       "      <th>Urmeneta Reserva Cabernet Sauvignon 2018</th>\n",
       "      <td>40.376</td>\n",
       "      <td>50.47</td>\n",
       "      <td>42.90</td>\n",
       "      <td>4.0</td>\n",
       "      <td>12.0</td>\n",
       "      <td>48.0</td>\n",
       "      <td>5.0</td>\n",
       "    </tr>\n",
       "    <tr>\n",
       "      <th>Quinta de São João Cuvée RB Tinto 2017</th>\n",
       "      <td>32.848</td>\n",
       "      <td>41.06</td>\n",
       "      <td>34.90</td>\n",
       "      <td>4.0</td>\n",
       "      <td>57.0</td>\n",
       "      <td>228.0</td>\n",
       "      <td>6.0</td>\n",
       "    </tr>\n",
       "    <tr>\n",
       "      <th>Mosaiko 2015</th>\n",
       "      <td>37.552</td>\n",
       "      <td>46.94</td>\n",
       "      <td>39.90</td>\n",
       "      <td>4.0</td>\n",
       "      <td>18.0</td>\n",
       "      <td>72.0</td>\n",
       "      <td>6.0</td>\n",
       "    </tr>\n",
       "    <tr>\n",
       "      <th>Root: 1 Casablanca Valley Pinot Noir 2018</th>\n",
       "      <td>34.728</td>\n",
       "      <td>43.41</td>\n",
       "      <td>36.90</td>\n",
       "      <td>4.0</td>\n",
       "      <td>39.0</td>\n",
       "      <td>156.0</td>\n",
       "      <td>6.0</td>\n",
       "    </tr>\n",
       "    <tr>\n",
       "      <th>Pedro Teixeira Colheita Selecionada Bairrada D.O.C 2018</th>\n",
       "      <td>32.848</td>\n",
       "      <td>41.06</td>\n",
       "      <td>34.90</td>\n",
       "      <td>4.0</td>\n",
       "      <td>389.0</td>\n",
       "      <td>1556.0</td>\n",
       "      <td>7.0</td>\n",
       "    </tr>\n",
       "  </tbody>\n",
       "</table>\n",
       "</div>"
      ],
      "text/plain": [
       "                                                     Custo  Preço_Normal  \\\n",
       "Nome                                                                       \n",
       "Bear Flag Red Blend 2018                            37.552         46.94   \n",
       "Altivo Vineyard Selection Cabernet Sauvignon 2017   40.376         50.47   \n",
       "Infame Reserva Cabernet Sauvignon 2017              43.200         54.00   \n",
       "Señorío de Ayud Cabernet Sauvignon Syrah 2018       27.200         34.00   \n",
       "Casillero del Diablo Cabernet Sauvignon/Merlot ...  45.080         56.35   \n",
       "Señorío De Ayud Garnacha Syrah 2018                 30.968         38.71   \n",
       "Vale da Coruja RL Tinto 2016                        33.792         42.24   \n",
       "La Chamiza Malbec 2018                              30.024         37.53   \n",
       "Bobal deSanjuan Viñas Viejas D.O.P. Utiel-Reque...  44.144         55.18   \n",
       "Miguel Torres Hemisferio Sur Reserva Cabernet S...  32.848         41.06   \n",
       "Miguel Torres Hemisferio Sur Reserva Carménère ...  32.848         41.06   \n",
       "Finca Traversa Tannat 2018                          24.376         30.47   \n",
       "Rasante Malbec / Cabernet Sauvignon 2018            37.520         46.90   \n",
       "JP Azeitão Seleção do Enólogo Tinto 2018            29.080         36.35   \n",
       "Señorío De Ayud Garnacha Syrah 2017                 41.280         51.60   \n",
       "Portas da Herdade Tinto 2018                        27.200         34.00   \n",
       "Genio Español Roble D.O.P. Jumilla Monastrell 2016  41.320         51.65   \n",
       "Nederburg 56 Hundred Pinotage 2018                  25.320         31.65   \n",
       "Que Guapo Malbec Blend 2017                         37.552         46.94   \n",
       "Root: 1 Reserva Heritage Red 2018                   33.792         42.24   \n",
       "Tenuta Sant`Antonio Scaia I.G.T. Veneto Corvina...  44.144         55.18   \n",
       "Viña Cosos D.O. Campo de Borja Garnacha Syrah 2018  39.920         49.90   \n",
       "Praça dos Marqueses Escolha I.G. Beira Atlântic...  27.200         34.00   \n",
       "Urmeneta Reserva Cabernet Sauvignon 2018            40.376         50.47   \n",
       "Quinta de São João Cuvée RB Tinto 2017              32.848         41.06   \n",
       "Mosaiko 2015                                        37.552         46.94   \n",
       "Root: 1 Casablanca Valley Pinot Noir 2018           34.728         43.41   \n",
       "Pedro Teixeira Colheita Selecionada Bairrada D....  32.848         41.06   \n",
       "\n",
       "                                                    Preço_Sócio  Pontuação  \\\n",
       "Nome                                                                         \n",
       "Bear Flag Red Blend 2018                                  39.90        4.0   \n",
       "Altivo Vineyard Selection Cabernet Sauvignon 2017         42.90        4.0   \n",
       "Infame Reserva Cabernet Sauvignon 2017                    45.90        4.0   \n",
       "Señorío de Ayud Cabernet Sauvignon Syrah 2018             28.90        4.5   \n",
       "Casillero del Diablo Cabernet Sauvignon/Merlot ...        47.90        4.5   \n",
       "Señorío De Ayud Garnacha Syrah 2018                       32.90        4.0   \n",
       "Vale da Coruja RL Tinto 2016                              35.90        4.0   \n",
       "La Chamiza Malbec 2018                                    31.90        4.0   \n",
       "Bobal deSanjuan Viñas Viejas D.O.P. Utiel-Reque...        46.90        4.0   \n",
       "Miguel Torres Hemisferio Sur Reserva Cabernet S...        34.90        4.0   \n",
       "Miguel Torres Hemisferio Sur Reserva Carménère ...        34.90        4.5   \n",
       "Finca Traversa Tannat 2018                                25.90        4.0   \n",
       "Rasante Malbec / Cabernet Sauvignon 2018                  39.87        4.0   \n",
       "JP Azeitão Seleção do Enólogo Tinto 2018                  30.90        4.0   \n",
       "Señorío De Ayud Garnacha Syrah 2017                       43.86        4.0   \n",
       "Portas da Herdade Tinto 2018                              28.90        4.0   \n",
       "Genio Español Roble D.O.P. Jumilla Monastrell 2016        43.90        4.0   \n",
       "Nederburg 56 Hundred Pinotage 2018                        26.90        4.0   \n",
       "Que Guapo Malbec Blend 2017                               39.90        4.0   \n",
       "Root: 1 Reserva Heritage Red 2018                         35.90        4.5   \n",
       "Tenuta Sant`Antonio Scaia I.G.T. Veneto Corvina...        46.90        4.0   \n",
       "Viña Cosos D.O. Campo de Borja Garnacha Syrah 2018        42.42        4.0   \n",
       "Praça dos Marqueses Escolha I.G. Beira Atlântic...        28.90        4.0   \n",
       "Urmeneta Reserva Cabernet Sauvignon 2018                  42.90        4.0   \n",
       "Quinta de São João Cuvée RB Tinto 2017                    34.90        4.0   \n",
       "Mosaiko 2015                                              39.90        4.0   \n",
       "Root: 1 Casablanca Valley Pinot Noir 2018                 36.90        4.0   \n",
       "Pedro Teixeira Colheita Selecionada Bairrada D....        34.90        4.0   \n",
       "\n",
       "                                                    Avaliações  Pontos_Total  \\\n",
       "Nome                                                                           \n",
       "Bear Flag Red Blend 2018                                1014.0        4056.0   \n",
       "Altivo Vineyard Selection Cabernet Sauvignon 2017         16.0          64.0   \n",
       "Infame Reserva Cabernet Sauvignon 2017                    16.0          64.0   \n",
       "Señorío de Ayud Cabernet Sauvignon Syrah 2018             15.0          67.5   \n",
       "Casillero del Diablo Cabernet Sauvignon/Merlot ...        16.0          72.0   \n",
       "Señorío De Ayud Garnacha Syrah 2018                       18.0          72.0   \n",
       "Vale da Coruja RL Tinto 2016                              18.0          72.0   \n",
       "La Chamiza Malbec 2018                                    25.0         100.0   \n",
       "Bobal deSanjuan Viñas Viejas D.O.P. Utiel-Reque...        27.0         108.0   \n",
       "Miguel Torres Hemisferio Sur Reserva Cabernet S...        31.0         124.0   \n",
       "Miguel Torres Hemisferio Sur Reserva Carménère ...        32.0         144.0   \n",
       "Finca Traversa Tannat 2018                                37.0         148.0   \n",
       "Rasante Malbec / Cabernet Sauvignon 2018                  12.0          48.0   \n",
       "JP Azeitão Seleção do Enólogo Tinto 2018                  38.0         152.0   \n",
       "Señorío De Ayud Garnacha Syrah 2017                       44.0         176.0   \n",
       "Portas da Herdade Tinto 2018                              53.0         212.0   \n",
       "Genio Español Roble D.O.P. Jumilla Monastrell 2016        56.0         224.0   \n",
       "Nederburg 56 Hundred Pinotage 2018                        57.0         228.0   \n",
       "Que Guapo Malbec Blend 2017                               63.0         252.0   \n",
       "Root: 1 Reserva Heritage Red 2018                         56.0         252.0   \n",
       "Tenuta Sant`Antonio Scaia I.G.T. Veneto Corvina...       103.0         412.0   \n",
       "Viña Cosos D.O. Campo de Borja Garnacha Syrah 2018       254.0        1016.0   \n",
       "Praça dos Marqueses Escolha I.G. Beira Atlântic...       339.0        1356.0   \n",
       "Urmeneta Reserva Cabernet Sauvignon 2018                  12.0          48.0   \n",
       "Quinta de São João Cuvée RB Tinto 2017                    57.0         228.0   \n",
       "Mosaiko 2015                                              18.0          72.0   \n",
       "Root: 1 Casablanca Valley Pinot Noir 2018                 39.0         156.0   \n",
       "Pedro Teixeira Colheita Selecionada Bairrada D....       389.0        1556.0   \n",
       "\n",
       "                                                    Potencial_Guarda  \n",
       "Nome                                                                  \n",
       "Bear Flag Red Blend 2018                                         5.0  \n",
       "Altivo Vineyard Selection Cabernet Sauvignon 2017                5.0  \n",
       "Infame Reserva Cabernet Sauvignon 2017                           5.0  \n",
       "Señorío de Ayud Cabernet Sauvignon Syrah 2018                    5.0  \n",
       "Casillero del Diablo Cabernet Sauvignon/Merlot ...               5.0  \n",
       "Señorío De Ayud Garnacha Syrah 2018                              5.0  \n",
       "Vale da Coruja RL Tinto 2016                                     5.0  \n",
       "La Chamiza Malbec 2018                                           5.0  \n",
       "Bobal deSanjuan Viñas Viejas D.O.P. Utiel-Reque...               5.0  \n",
       "Miguel Torres Hemisferio Sur Reserva Cabernet S...               5.0  \n",
       "Miguel Torres Hemisferio Sur Reserva Carménère ...               5.0  \n",
       "Finca Traversa Tannat 2018                                       5.0  \n",
       "Rasante Malbec / Cabernet Sauvignon 2018                         5.0  \n",
       "JP Azeitão Seleção do Enólogo Tinto 2018                         5.0  \n",
       "Señorío De Ayud Garnacha Syrah 2017                              5.0  \n",
       "Portas da Herdade Tinto 2018                                     5.0  \n",
       "Genio Español Roble D.O.P. Jumilla Monastrell 2016               5.0  \n",
       "Nederburg 56 Hundred Pinotage 2018                               5.0  \n",
       "Que Guapo Malbec Blend 2017                                      5.0  \n",
       "Root: 1 Reserva Heritage Red 2018                                5.0  \n",
       "Tenuta Sant`Antonio Scaia I.G.T. Veneto Corvina...               5.0  \n",
       "Viña Cosos D.O. Campo de Borja Garnacha Syrah 2018               5.0  \n",
       "Praça dos Marqueses Escolha I.G. Beira Atlântic...               5.0  \n",
       "Urmeneta Reserva Cabernet Sauvignon 2018                         5.0  \n",
       "Quinta de São João Cuvée RB Tinto 2017                           6.0  \n",
       "Mosaiko 2015                                                     6.0  \n",
       "Root: 1 Casablanca Valley Pinot Noir 2018                        6.0  \n",
       "Pedro Teixeira Colheita Selecionada Bairrada D....               7.0  "
      ]
     },
     "execution_count": 520,
     "metadata": {},
     "output_type": "execute_result"
    }
   ],
   "source": [
    "df[['Custo', 'Preço_Normal', 'Preço_Sócio', 'Pontuação', 'Avaliações', 'Pontos_Total', 'Potencial_Guarda']].sort_values(\"Potencial_Guarda\")"
   ]
  },
  {
   "cell_type": "code",
   "execution_count": 525,
   "metadata": {},
   "outputs": [
    {
     "name": "stdout",
     "output_type": "stream",
     "text": [
      "Nº de Vinhos Distintos: 28\n",
      "Mediana do Preço: 42.825\n",
      "Mediana da Pontuação: 4.0\n",
      "Mediana do nº de Avaliações: 37.5\n",
      "Total do Orçamento Utilizado: 985088.00\n",
      "Distribuição da Pontuação: \n",
      "4.0    24\n",
      "4.5     4\n",
      "Name: Pontuação, dtype: int64\n",
      "Distribuição do Potencial de Guarda: \n",
      "5.0    24\n",
      "6.0     3\n",
      "7.0     1\n",
      "Name: Potencial_Guarda, dtype: int64\n"
     ]
    }
   ],
   "source": [
    "safra_stats(df)"
   ]
  },
  {
   "cell_type": "markdown",
   "metadata": {},
   "source": [
    "Conseguimos alocar o máximo possível dentro do orçamento com uma solução ótima, com 28 vinhos distintos, i.e. uma safra para 14 meses, com pontuação mínima 4, Número de Avaliações Mínimas 10 e potencial de guarda no mínimo 5 para os vinhos disponíveis. Como tentamos minimizar o Preço, o preço médio cai. O número de avaliações também diminui drasticamente do modelo anterior, significando que não necessariamente que os vinhos mais baratos são os mais populares. Os vinhos mais populares são aqueles que são baratos _o suficiente_ e bons claro porque não basta ser barato."
   ]
  },
  {
   "cell_type": "code",
   "execution_count": null,
   "metadata": {},
   "outputs": [],
   "source": []
  }
 ],
 "metadata": {
  "kernelspec": {
   "display_name": "wino",
   "language": "python",
   "name": "wino"
  },
  "language_info": {
   "codemirror_mode": {
    "name": "ipython",
    "version": 3
   },
   "file_extension": ".py",
   "mimetype": "text/x-python",
   "name": "python",
   "nbconvert_exporter": "python",
   "pygments_lexer": "ipython3",
   "version": "3.7.5"
  }
 },
 "nbformat": 4,
 "nbformat_minor": 4
}
