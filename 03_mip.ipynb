{
 "cells": [
  {
   "cell_type": "code",
   "execution_count": 1,
   "metadata": {},
   "outputs": [
    {
     "name": "stdout",
     "output_type": "stream",
     "text": [
      "Using Python-MIP package version 1.7.3\n"
     ]
    }
   ],
   "source": [
    "import pandas as pd\n",
    "from pulp import *\n",
    "from itertools import *\n",
    "from mip import *\n",
    "from partitions import *"
   ]
  },
  {
   "cell_type": "code",
   "execution_count": 2,
   "metadata": {},
   "outputs": [],
   "source": [
    "BUDGET = 1000000"
   ]
  },
  {
   "cell_type": "code",
   "execution_count": 3,
   "metadata": {},
   "outputs": [],
   "source": [
    "def get_data():\n",
    "    df = pd.read_csv('all_wines_cleaned.csv').sort_values(['Pontuação','Pontos_Total'], ascending=False)\n",
    "    #Incluir somente os vinhos disponíveis e com alguma pontuação, pois essas serão nossas variáveis de decisão principais\n",
    "    data = df[df.Preço_Normal.notna() & df.Pontos_Total != 0].copy().reset_index(drop=True)\n",
    "    #data.set_index('Nome', inplace=True)\n",
    "    return data"
   ]
  },
  {
   "cell_type": "code",
   "execution_count": 4,
   "metadata": {},
   "outputs": [],
   "source": [
    "data = get_data()"
   ]
  },
  {
   "cell_type": "code",
   "execution_count": 5,
   "metadata": {},
   "outputs": [],
   "source": [
    "data = data.sort_values('Pontos_Total', ascending=False)"
   ]
  },
  {
   "cell_type": "code",
   "execution_count": 6,
   "metadata": {},
   "outputs": [
    {
     "data": {
      "text/html": [
       "<div>\n",
       "<style scoped>\n",
       "    .dataframe tbody tr th:only-of-type {\n",
       "        vertical-align: middle;\n",
       "    }\n",
       "\n",
       "    .dataframe tbody tr th {\n",
       "        vertical-align: top;\n",
       "    }\n",
       "\n",
       "    .dataframe thead th {\n",
       "        text-align: right;\n",
       "    }\n",
       "</style>\n",
       "<table border=\"1\" class=\"dataframe\">\n",
       "  <thead>\n",
       "    <tr style=\"text-align: right;\">\n",
       "      <th></th>\n",
       "      <th>Nome</th>\n",
       "      <th>Link</th>\n",
       "      <th>País</th>\n",
       "      <th>Preço_Sócio</th>\n",
       "      <th>Preço_Normal</th>\n",
       "      <th>Pontuação</th>\n",
       "      <th>Avaliações</th>\n",
       "      <th>Somelier</th>\n",
       "      <th>Decantação</th>\n",
       "      <th>Olfativo</th>\n",
       "      <th>...</th>\n",
       "      <th>Tipo</th>\n",
       "      <th>Potencial_Guarda</th>\n",
       "      <th>Região</th>\n",
       "      <th>Preços_Cat</th>\n",
       "      <th>Pontuação_Cat</th>\n",
       "      <th>Estoque_Cat</th>\n",
       "      <th>Seco</th>\n",
       "      <th>Pontos_Total</th>\n",
       "      <th>Desc_Sócio</th>\n",
       "      <th>Puro</th>\n",
       "    </tr>\n",
       "  </thead>\n",
       "  <tbody>\n",
       "    <tr>\n",
       "      <th>194</th>\n",
       "      <td>Bear Flag Red Blend 2018</td>\n",
       "      <td>https://wine.com.br/vinhos/bear-flag-red-blend...</td>\n",
       "      <td>Estados Unidos</td>\n",
       "      <td>39.90</td>\n",
       "      <td>46.94</td>\n",
       "      <td>4.0</td>\n",
       "      <td>1014.0</td>\n",
       "      <td>O Bear Flag foi feito com o esforço em comum d...</td>\n",
       "      <td>NaN</td>\n",
       "      <td>Frutas negras, com um leve tostado e um toque ...</td>\n",
       "      <td>...</td>\n",
       "      <td>Tinto</td>\n",
       "      <td>5.0</td>\n",
       "      <td>Califórnia</td>\n",
       "      <td>1.0</td>\n",
       "      <td>2</td>\n",
       "      <td>2</td>\n",
       "      <td>1</td>\n",
       "      <td>4056.0</td>\n",
       "      <td>0.149979</td>\n",
       "      <td>0</td>\n",
       "    </tr>\n",
       "    <tr>\n",
       "      <th>195</th>\n",
       "      <td>Pedro Teixeira Colheita Selecionada Bairrada D...</td>\n",
       "      <td>https://wine.com.br/vinhos/pedro-teixeira-colh...</td>\n",
       "      <td>Portugal</td>\n",
       "      <td>34.90</td>\n",
       "      <td>41.06</td>\n",
       "      <td>4.0</td>\n",
       "      <td>389.0</td>\n",
       "      <td>O renomado enólogo Osvaldo Amado fez, neste vi...</td>\n",
       "      <td>NaN</td>\n",
       "      <td>Frutas vermelhas maduras, frutas em compota, e...</td>\n",
       "      <td>...</td>\n",
       "      <td>Tinto</td>\n",
       "      <td>7.0</td>\n",
       "      <td>Bairrada</td>\n",
       "      <td>1.0</td>\n",
       "      <td>2</td>\n",
       "      <td>2</td>\n",
       "      <td>0</td>\n",
       "      <td>1556.0</td>\n",
       "      <td>0.150024</td>\n",
       "      <td>0</td>\n",
       "    </tr>\n",
       "    <tr>\n",
       "      <th>196</th>\n",
       "      <td>Espumante Veuve D`Argent Blanc De Blancs Brut</td>\n",
       "      <td>https://wine.com.br/vinhos/espumante-veuve-d-a...</td>\n",
       "      <td>França</td>\n",
       "      <td>36.90</td>\n",
       "      <td>43.41</td>\n",
       "      <td>4.0</td>\n",
       "      <td>360.0</td>\n",
       "      <td>Frutas brancas como pera e maçã, delicadas not...</td>\n",
       "      <td>NaN</td>\n",
       "      <td>Frutas brancas como pera e maçã, delicadas not...</td>\n",
       "      <td>...</td>\n",
       "      <td>Espumante</td>\n",
       "      <td>2.0</td>\n",
       "      <td>Bourgogne</td>\n",
       "      <td>1.0</td>\n",
       "      <td>2</td>\n",
       "      <td>1</td>\n",
       "      <td>0</td>\n",
       "      <td>1440.0</td>\n",
       "      <td>0.149965</td>\n",
       "      <td>0</td>\n",
       "    </tr>\n",
       "    <tr>\n",
       "      <th>197</th>\n",
       "      <td>Praça dos Marqueses Escolha I.G. Beira Atlânti...</td>\n",
       "      <td>https://wine.com.br/vinhos/praca-dos-marqueses...</td>\n",
       "      <td>Portugal</td>\n",
       "      <td>28.90</td>\n",
       "      <td>34.00</td>\n",
       "      <td>4.0</td>\n",
       "      <td>339.0</td>\n",
       "      <td>O nome Praça dos Marqueses é uma homenagem à p...</td>\n",
       "      <td>NaN</td>\n",
       "      <td>Frutas vermelhas, frutas negras, floral</td>\n",
       "      <td>...</td>\n",
       "      <td>Tinto</td>\n",
       "      <td>5.0</td>\n",
       "      <td>Beira Atlântico</td>\n",
       "      <td>1.0</td>\n",
       "      <td>2</td>\n",
       "      <td>2</td>\n",
       "      <td>0</td>\n",
       "      <td>1356.0</td>\n",
       "      <td>0.150000</td>\n",
       "      <td>0</td>\n",
       "    </tr>\n",
       "    <tr>\n",
       "      <th>63</th>\n",
       "      <td>Clos de Los Siete By Michel Rolland 2016</td>\n",
       "      <td>https://wine.com.br/vinhos/clos-de-los-siete-b...</td>\n",
       "      <td>Argentina</td>\n",
       "      <td>78.90</td>\n",
       "      <td>92.82</td>\n",
       "      <td>4.5</td>\n",
       "      <td>268.0</td>\n",
       "      <td>Pontuado com altas notas por James Suckling e ...</td>\n",
       "      <td>20.0</td>\n",
       "      <td>Amora, mirtilo, violeta, especiarias, amadeirado</td>\n",
       "      <td>...</td>\n",
       "      <td>Tinto</td>\n",
       "      <td>10.0</td>\n",
       "      <td>Valle de Uco</td>\n",
       "      <td>2.0</td>\n",
       "      <td>2</td>\n",
       "      <td>2</td>\n",
       "      <td>1</td>\n",
       "      <td>1206.0</td>\n",
       "      <td>0.149968</td>\n",
       "      <td>0</td>\n",
       "    </tr>\n",
       "    <tr>\n",
       "      <th>64</th>\n",
       "      <td>Toro Loco D.O.P. Utiel-Requena Tinto Superior ...</td>\n",
       "      <td>https://wine.com.br/vinhos/toro-loco-d-o-p-uti...</td>\n",
       "      <td>Espanha</td>\n",
       "      <td>24.90</td>\n",
       "      <td>29.29</td>\n",
       "      <td>4.5</td>\n",
       "      <td>261.0</td>\n",
       "      <td>Mais do que um vinho, uma companhia para qualq...</td>\n",
       "      <td>NaN</td>\n",
       "      <td>Frutas frescas, floral</td>\n",
       "      <td>...</td>\n",
       "      <td>Tinto</td>\n",
       "      <td>4.0</td>\n",
       "      <td>Utiel</td>\n",
       "      <td>1.0</td>\n",
       "      <td>2</td>\n",
       "      <td>1</td>\n",
       "      <td>0</td>\n",
       "      <td>1174.5</td>\n",
       "      <td>0.149881</td>\n",
       "      <td>0</td>\n",
       "    </tr>\n",
       "    <tr>\n",
       "      <th>198</th>\n",
       "      <td>Espumante Toro Loco D.O. Cava Brut</td>\n",
       "      <td>https://wine.com.br/vinhos/espumante-toro-loco...</td>\n",
       "      <td>Espanha</td>\n",
       "      <td>44.90</td>\n",
       "      <td>52.82</td>\n",
       "      <td>4.0</td>\n",
       "      <td>284.0</td>\n",
       "      <td>Com aromas de flores brancas, frutas frescas c...</td>\n",
       "      <td>NaN</td>\n",
       "      <td>Flores brancas, frutas frescas como maçã e per...</td>\n",
       "      <td>...</td>\n",
       "      <td>Espumante</td>\n",
       "      <td>3.0</td>\n",
       "      <td>Utiel</td>\n",
       "      <td>1.0</td>\n",
       "      <td>2</td>\n",
       "      <td>1</td>\n",
       "      <td>0</td>\n",
       "      <td>1136.0</td>\n",
       "      <td>0.149943</td>\n",
       "      <td>0</td>\n",
       "    </tr>\n",
       "    <tr>\n",
       "      <th>199</th>\n",
       "      <td>Viña Cosos D.O. Campo de Borja Garnacha Syrah ...</td>\n",
       "      <td>https://wine.com.br/vinhos/vina-cosos-d-o-camp...</td>\n",
       "      <td>Espanha</td>\n",
       "      <td>42.42</td>\n",
       "      <td>49.90</td>\n",
       "      <td>4.0</td>\n",
       "      <td>254.0</td>\n",
       "      <td>Mesmo a vinícola sendo fundada em 1984, a Garn...</td>\n",
       "      <td>NaN</td>\n",
       "      <td>Frutas vermelhas maduras, cerejas, ameixa e fl...</td>\n",
       "      <td>...</td>\n",
       "      <td>Tinto</td>\n",
       "      <td>5.0</td>\n",
       "      <td>Campo de Borja</td>\n",
       "      <td>1.0</td>\n",
       "      <td>2</td>\n",
       "      <td>2</td>\n",
       "      <td>1</td>\n",
       "      <td>1016.0</td>\n",
       "      <td>0.149900</td>\n",
       "      <td>0</td>\n",
       "    </tr>\n",
       "    <tr>\n",
       "      <th>65</th>\n",
       "      <td>Casillero Reserva Limited Edition Cabernet Sau...</td>\n",
       "      <td>https://wine.com.br/vinhos/casillero-reserva-l...</td>\n",
       "      <td>NaN</td>\n",
       "      <td>44.90</td>\n",
       "      <td>52.82</td>\n",
       "      <td>4.5</td>\n",
       "      <td>203.0</td>\n",
       "      <td>Edição especial para o Halloween, esse Caberne...</td>\n",
       "      <td>NaN</td>\n",
       "      <td>Cassis, cereja, ameixa e notas de tostado</td>\n",
       "      <td>...</td>\n",
       "      <td>Tinto</td>\n",
       "      <td>4.0</td>\n",
       "      <td>NaN</td>\n",
       "      <td>1.0</td>\n",
       "      <td>2</td>\n",
       "      <td>1</td>\n",
       "      <td>1</td>\n",
       "      <td>913.5</td>\n",
       "      <td>0.149943</td>\n",
       "      <td>1</td>\n",
       "    </tr>\n",
       "    <tr>\n",
       "      <th>66</th>\n",
       "      <td>Espumante Fantinel D.O.C. Prosecco Extra Dry</td>\n",
       "      <td>https://wine.com.br/vinhos/espumante-fantinel-...</td>\n",
       "      <td>Itália</td>\n",
       "      <td>54.90</td>\n",
       "      <td>64.59</td>\n",
       "      <td>4.5</td>\n",
       "      <td>187.0</td>\n",
       "      <td>Elaborado pelo método Charmat, com ótimo fresc...</td>\n",
       "      <td>NaN</td>\n",
       "      <td>Frutas cítricas, maçã verde, pêssego, floral</td>\n",
       "      <td>...</td>\n",
       "      <td>Espumante</td>\n",
       "      <td>3.0</td>\n",
       "      <td>Friuli</td>\n",
       "      <td>2.0</td>\n",
       "      <td>2</td>\n",
       "      <td>1</td>\n",
       "      <td>1</td>\n",
       "      <td>841.5</td>\n",
       "      <td>0.150023</td>\n",
       "      <td>1</td>\n",
       "    </tr>\n",
       "  </tbody>\n",
       "</table>\n",
       "<p>10 rows × 30 columns</p>\n",
       "</div>"
      ],
      "text/plain": [
       "                                                  Nome  \\\n",
       "194                           Bear Flag Red Blend 2018   \n",
       "195  Pedro Teixeira Colheita Selecionada Bairrada D...   \n",
       "196      Espumante Veuve D`Argent Blanc De Blancs Brut   \n",
       "197  Praça dos Marqueses Escolha I.G. Beira Atlânti...   \n",
       "63            Clos de Los Siete By Michel Rolland 2016   \n",
       "64   Toro Loco D.O.P. Utiel-Requena Tinto Superior ...   \n",
       "198                 Espumante Toro Loco D.O. Cava Brut   \n",
       "199  Viña Cosos D.O. Campo de Borja Garnacha Syrah ...   \n",
       "65   Casillero Reserva Limited Edition Cabernet Sau...   \n",
       "66        Espumante Fantinel D.O.C. Prosecco Extra Dry   \n",
       "\n",
       "                                                  Link            País  \\\n",
       "194  https://wine.com.br/vinhos/bear-flag-red-blend...  Estados Unidos   \n",
       "195  https://wine.com.br/vinhos/pedro-teixeira-colh...        Portugal   \n",
       "196  https://wine.com.br/vinhos/espumante-veuve-d-a...          França   \n",
       "197  https://wine.com.br/vinhos/praca-dos-marqueses...        Portugal   \n",
       "63   https://wine.com.br/vinhos/clos-de-los-siete-b...       Argentina   \n",
       "64   https://wine.com.br/vinhos/toro-loco-d-o-p-uti...         Espanha   \n",
       "198  https://wine.com.br/vinhos/espumante-toro-loco...         Espanha   \n",
       "199  https://wine.com.br/vinhos/vina-cosos-d-o-camp...         Espanha   \n",
       "65   https://wine.com.br/vinhos/casillero-reserva-l...             NaN   \n",
       "66   https://wine.com.br/vinhos/espumante-fantinel-...          Itália   \n",
       "\n",
       "     Preço_Sócio  Preço_Normal  Pontuação  Avaliações  \\\n",
       "194        39.90         46.94        4.0      1014.0   \n",
       "195        34.90         41.06        4.0       389.0   \n",
       "196        36.90         43.41        4.0       360.0   \n",
       "197        28.90         34.00        4.0       339.0   \n",
       "63         78.90         92.82        4.5       268.0   \n",
       "64         24.90         29.29        4.5       261.0   \n",
       "198        44.90         52.82        4.0       284.0   \n",
       "199        42.42         49.90        4.0       254.0   \n",
       "65         44.90         52.82        4.5       203.0   \n",
       "66         54.90         64.59        4.5       187.0   \n",
       "\n",
       "                                              Somelier  Decantação  \\\n",
       "194  O Bear Flag foi feito com o esforço em comum d...         NaN   \n",
       "195  O renomado enólogo Osvaldo Amado fez, neste vi...         NaN   \n",
       "196  Frutas brancas como pera e maçã, delicadas not...         NaN   \n",
       "197  O nome Praça dos Marqueses é uma homenagem à p...         NaN   \n",
       "63   Pontuado com altas notas por James Suckling e ...        20.0   \n",
       "64   Mais do que um vinho, uma companhia para qualq...         NaN   \n",
       "198  Com aromas de flores brancas, frutas frescas c...         NaN   \n",
       "199  Mesmo a vinícola sendo fundada em 1984, a Garn...         NaN   \n",
       "65   Edição especial para o Halloween, esse Caberne...         NaN   \n",
       "66   Elaborado pelo método Charmat, com ótimo fresc...         NaN   \n",
       "\n",
       "                                              Olfativo  ...       Tipo  \\\n",
       "194  Frutas negras, com um leve tostado e um toque ...  ...      Tinto   \n",
       "195  Frutas vermelhas maduras, frutas em compota, e...  ...      Tinto   \n",
       "196  Frutas brancas como pera e maçã, delicadas not...  ...  Espumante   \n",
       "197            Frutas vermelhas, frutas negras, floral  ...      Tinto   \n",
       "63    Amora, mirtilo, violeta, especiarias, amadeirado  ...      Tinto   \n",
       "64                              Frutas frescas, floral  ...      Tinto   \n",
       "198  Flores brancas, frutas frescas como maçã e per...  ...  Espumante   \n",
       "199  Frutas vermelhas maduras, cerejas, ameixa e fl...  ...      Tinto   \n",
       "65           Cassis, cereja, ameixa e notas de tostado  ...      Tinto   \n",
       "66        Frutas cítricas, maçã verde, pêssego, floral  ...  Espumante   \n",
       "\n",
       "    Potencial_Guarda           Região Preços_Cat Pontuação_Cat  Estoque_Cat  \\\n",
       "194              5.0       Califórnia        1.0             2            2   \n",
       "195              7.0         Bairrada        1.0             2            2   \n",
       "196              2.0        Bourgogne        1.0             2            1   \n",
       "197              5.0  Beira Atlântico        1.0             2            2   \n",
       "63              10.0     Valle de Uco        2.0             2            2   \n",
       "64               4.0            Utiel        1.0             2            1   \n",
       "198              3.0            Utiel        1.0             2            1   \n",
       "199              5.0   Campo de Borja        1.0             2            2   \n",
       "65               4.0              NaN        1.0             2            1   \n",
       "66               3.0           Friuli        2.0             2            1   \n",
       "\n",
       "     Seco Pontos_Total  Desc_Sócio Puro  \n",
       "194     1       4056.0    0.149979    0  \n",
       "195     0       1556.0    0.150024    0  \n",
       "196     0       1440.0    0.149965    0  \n",
       "197     0       1356.0    0.150000    0  \n",
       "63      1       1206.0    0.149968    0  \n",
       "64      0       1174.5    0.149881    0  \n",
       "198     0       1136.0    0.149943    0  \n",
       "199     1       1016.0    0.149900    0  \n",
       "65      1        913.5    0.149943    1  \n",
       "66      1        841.5    0.150023    1  \n",
       "\n",
       "[10 rows x 30 columns]"
      ]
     },
     "execution_count": 6,
     "metadata": {},
     "output_type": "execute_result"
    }
   ],
   "source": [
    "data.head(10)"
   ]
  },
  {
   "cell_type": "code",
   "execution_count": 7,
   "metadata": {},
   "outputs": [],
   "source": [
    "vinhos = data.index.to_list()"
   ]
  },
  {
   "cell_type": "markdown",
   "metadata": {},
   "source": [
    "Os vinhos do catálogo possuem cerca de 15 por cento de desconto para os associados, i.e. `Preço_Normal ~ 0.85 * Preço_Sócio`\n",
    "\n",
    "Considerando como uma aproximação que no Preço Normal incida aproximadamente 25% do valor do Preço de Custo do Vinho, i.e. 10% do Preço_Sócio."
   ]
  },
  {
   "cell_type": "code",
   "execution_count": 8,
   "metadata": {},
   "outputs": [],
   "source": [
    "custo = data['Preço_Normal'] / 1.25"
   ]
  },
  {
   "cell_type": "code",
   "execution_count": 9,
   "metadata": {},
   "outputs": [],
   "source": [
    "data['Custo'] = custo"
   ]
  },
  {
   "cell_type": "markdown",
   "metadata": {},
   "source": [
    "Como devemos ter no mínimo 1000 garrafas de cada vinho escolhido, vamos modelar variáveis binárias indicando se um vinho foi escolhido para a compra. E essa compra é de 1000 vinhos."
   ]
  },
  {
   "cell_type": "code",
   "execution_count": 13,
   "metadata": {},
   "outputs": [],
   "source": [
    "custo = dict(zip(vinhos, data.Custo))"
   ]
  },
  {
   "cell_type": "code",
   "execution_count": 14,
   "metadata": {},
   "outputs": [],
   "source": [
    "preço = dict(zip(vinhos, data.Preço_Normal))"
   ]
  },
  {
   "cell_type": "code",
   "execution_count": 15,
   "metadata": {},
   "outputs": [],
   "source": [
    "pontos = dict(zip(vinhos, data.Pontuação))"
   ]
  },
  {
   "cell_type": "code",
   "execution_count": 16,
   "metadata": {},
   "outputs": [],
   "source": [
    "n_pontos = dict(zip(vinhos, data.Avaliações.to_list()))"
   ]
  },
  {
   "cell_type": "markdown",
   "metadata": {},
   "source": [
    "A coluna adicional `Total_Pontos = Pontuação * Avaliações` será usada como otimizador do vinho"
   ]
  },
  {
   "cell_type": "code",
   "execution_count": 17,
   "metadata": {},
   "outputs": [],
   "source": [
    "total_pontos = dict(zip(vinhos, data.Pontos_Total.to_list()))"
   ]
  },
  {
   "cell_type": "code",
   "execution_count": 18,
   "metadata": {},
   "outputs": [],
   "source": [
    "def return_solution(prob):   \n",
    "    return LpStatus[prob.status], {v:v.varValue for v in prob.variables() if v.varValue > 0}  "
   ]
  },
  {
   "cell_type": "markdown",
   "metadata": {},
   "source": [
    "# Solução Trivial\n",
    "Maximizar a pontuação total dentro do Orçamento"
   ]
  },
  {
   "cell_type": "code",
   "execution_count": 167,
   "metadata": {},
   "outputs": [],
   "source": [
    "prob = LpProblem(\"Maximizar somente a pontuação total\", LpMaximize)"
   ]
  },
  {
   "cell_type": "markdown",
   "metadata": {},
   "source": [
    "## Variável"
   ]
  },
  {
   "cell_type": "code",
   "execution_count": 18,
   "metadata": {},
   "outputs": [],
   "source": [
    "vinhos_var = LpVariable.dicts(\"Vinhos\", vinhos, lowBound=0, cat='Integer')"
   ]
  },
  {
   "cell_type": "markdown",
   "metadata": {},
   "source": [
    "## Objetiva"
   ]
  },
  {
   "cell_type": "code",
   "execution_count": 19,
   "metadata": {},
   "outputs": [],
   "source": [
    "prob += lpSum([total_pontos[i] * vinhos_var[i] for i in vinhos])"
   ]
  },
  {
   "cell_type": "markdown",
   "metadata": {},
   "source": [
    "## Constraints\n",
    "Orçamento"
   ]
  },
  {
   "cell_type": "code",
   "execution_count": 20,
   "metadata": {},
   "outputs": [],
   "source": [
    "prob += lpSum([custo[i] * vinhos_var[i] for i in vinhos]) <= BUDGET"
   ]
  },
  {
   "cell_type": "code",
   "execution_count": 21,
   "metadata": {},
   "outputs": [
    {
     "data": {
      "text/plain": [
       "1"
      ]
     },
     "execution_count": 21,
     "metadata": {},
     "output_type": "execute_result"
    }
   ],
   "source": [
    "prob.solve()"
   ]
  },
  {
   "cell_type": "code",
   "execution_count": 22,
   "metadata": {},
   "outputs": [],
   "source": [
    "status, solução = return_solution(prob)"
   ]
  },
  {
   "cell_type": "code",
   "execution_count": 23,
   "metadata": {},
   "outputs": [
    {
     "data": {
      "text/plain": [
       "{Vinhos_194: 26629.0, Vinhos_197: 1.0}"
      ]
     },
     "execution_count": 23,
     "metadata": {},
     "output_type": "execute_result"
    }
   ],
   "source": [
    "solução"
   ]
  },
  {
   "cell_type": "code",
   "execution_count": 24,
   "metadata": {},
   "outputs": [],
   "source": [
    "solução = {int(str(k).split('Vinhos_')[1]):v for k,v in solução.items()}"
   ]
  },
  {
   "cell_type": "code",
   "execution_count": 25,
   "metadata": {},
   "outputs": [
    {
     "data": {
      "text/plain": [
       "[194, 197]"
      ]
     },
     "execution_count": 25,
     "metadata": {},
     "output_type": "execute_result"
    }
   ],
   "source": [
    "list(solução.keys())"
   ]
  },
  {
   "cell_type": "code",
   "execution_count": 26,
   "metadata": {},
   "outputs": [],
   "source": [
    "solution = data.loc[solução.keys()].copy()"
   ]
  },
  {
   "cell_type": "code",
   "execution_count": 27,
   "metadata": {},
   "outputs": [],
   "source": [
    "solution['Quantidade'] = solução.values()"
   ]
  },
  {
   "cell_type": "code",
   "execution_count": 28,
   "metadata": {},
   "outputs": [
    {
     "data": {
      "text/html": [
       "<div>\n",
       "<style scoped>\n",
       "    .dataframe tbody tr th:only-of-type {\n",
       "        vertical-align: middle;\n",
       "    }\n",
       "\n",
       "    .dataframe tbody tr th {\n",
       "        vertical-align: top;\n",
       "    }\n",
       "\n",
       "    .dataframe thead th {\n",
       "        text-align: right;\n",
       "    }\n",
       "</style>\n",
       "<table border=\"1\" class=\"dataframe\">\n",
       "  <thead>\n",
       "    <tr style=\"text-align: right;\">\n",
       "      <th></th>\n",
       "      <th>Quantidade</th>\n",
       "      <th>Nome</th>\n",
       "      <th>Custo</th>\n",
       "      <th>Pontuação</th>\n",
       "      <th>Avaliações</th>\n",
       "    </tr>\n",
       "  </thead>\n",
       "  <tbody>\n",
       "    <tr>\n",
       "      <th>194</th>\n",
       "      <td>26629.0</td>\n",
       "      <td>Bear Flag Red Blend 2018</td>\n",
       "      <td>37.552</td>\n",
       "      <td>4.0</td>\n",
       "      <td>1014.0</td>\n",
       "    </tr>\n",
       "    <tr>\n",
       "      <th>197</th>\n",
       "      <td>1.0</td>\n",
       "      <td>Praça dos Marqueses Escolha I.G. Beira Atlânti...</td>\n",
       "      <td>27.200</td>\n",
       "      <td>4.0</td>\n",
       "      <td>339.0</td>\n",
       "    </tr>\n",
       "  </tbody>\n",
       "</table>\n",
       "</div>"
      ],
      "text/plain": [
       "     Quantidade                                               Nome   Custo  \\\n",
       "194     26629.0                           Bear Flag Red Blend 2018  37.552   \n",
       "197         1.0  Praça dos Marqueses Escolha I.G. Beira Atlânti...  27.200   \n",
       "\n",
       "     Pontuação  Avaliações  \n",
       "194        4.0      1014.0  \n",
       "197        4.0       339.0  "
      ]
     },
     "execution_count": 28,
     "metadata": {},
     "output_type": "execute_result"
    }
   ],
   "source": [
    "solution[[\"Quantidade\", 'Nome', 'Custo', 'Pontuação', 'Avaliações']]"
   ]
  },
  {
   "cell_type": "markdown",
   "metadata": {},
   "source": [
    "A solução é trivial porque retorna o máximo possível de vinhos com a pontuação máxima, o vinho californiano `Bear Flag Red Blend` e com o valor restante compra 1 garrafa do vinho mais barato mas com boas pontuações.\n",
    "\n",
    "Quantidade total do Estoque:"
   ]
  },
  {
   "cell_type": "code",
   "execution_count": 29,
   "metadata": {},
   "outputs": [
    {
     "data": {
      "text/plain": [
       "26630.0"
      ]
     },
     "execution_count": 29,
     "metadata": {},
     "output_type": "execute_result"
    }
   ],
   "source": [
    "sum(solution.Quantidade.to_list())"
   ]
  },
  {
   "cell_type": "markdown",
   "metadata": {},
   "source": [
    "## Solução 2\n",
    "Maximizar a pontuação total dentro do Orçamento mas limitar o número de garrafas à 5000."
   ]
  },
  {
   "cell_type": "code",
   "execution_count": 30,
   "metadata": {},
   "outputs": [],
   "source": [
    "prob = LpProblem(\"Limitar a quantidade à 5000\", LpMaximize)"
   ]
  },
  {
   "cell_type": "markdown",
   "metadata": {},
   "source": [
    "## Variável"
   ]
  },
  {
   "cell_type": "code",
   "execution_count": 31,
   "metadata": {},
   "outputs": [],
   "source": [
    "vinhos_var = LpVariable.dicts(\"Vinhos\", vinhos, lowBound=0, upBound=5000, cat='Integer')"
   ]
  },
  {
   "cell_type": "markdown",
   "metadata": {},
   "source": [
    "## Objetiva"
   ]
  },
  {
   "cell_type": "code",
   "execution_count": 32,
   "metadata": {},
   "outputs": [],
   "source": [
    "prob += lpSum([total_pontos[i] * vinhos_var[i] for i in vinhos])"
   ]
  },
  {
   "cell_type": "markdown",
   "metadata": {},
   "source": [
    "## Constraints\n",
    "Orçamento"
   ]
  },
  {
   "cell_type": "code",
   "execution_count": 33,
   "metadata": {},
   "outputs": [],
   "source": [
    "prob += lpSum([custo[i] * vinhos_var[i] for i in vinhos]) <= BUDGET"
   ]
  },
  {
   "cell_type": "code",
   "execution_count": 34,
   "metadata": {},
   "outputs": [
    {
     "data": {
      "text/plain": [
       "1"
      ]
     },
     "execution_count": 34,
     "metadata": {},
     "output_type": "execute_result"
    }
   ],
   "source": [
    "prob.solve()"
   ]
  },
  {
   "cell_type": "code",
   "execution_count": 35,
   "metadata": {},
   "outputs": [],
   "source": [
    "status, solução = return_solution(prob)"
   ]
  },
  {
   "cell_type": "code",
   "execution_count": 36,
   "metadata": {},
   "outputs": [],
   "source": [
    "solução = {int(str(k).split('Vinhos_')[1]):v for k,v in solução.items()}"
   ]
  },
  {
   "cell_type": "code",
   "execution_count": 37,
   "metadata": {},
   "outputs": [
    {
     "name": "stdout",
     "output_type": "stream",
     "text": [
      "Status: Optimal\n",
      "Solução Encontrada: {194: 5000.0, 195: 5000.0, 196: 5000.0, 197: 5000.0, 198: 4999.0, 199: 247.0, 200: 4.0, 64: 5000.0}\n"
     ]
    }
   ],
   "source": [
    "print(f'Status: {status}')\n",
    "print(f'Solução Encontrada: {solução}')"
   ]
  },
  {
   "cell_type": "code",
   "execution_count": 38,
   "metadata": {},
   "outputs": [],
   "source": [
    "solution = data.loc[solução.keys()].copy()"
   ]
  },
  {
   "cell_type": "code",
   "execution_count": 39,
   "metadata": {},
   "outputs": [],
   "source": [
    "solution['Quantidade'] = solução.values()"
   ]
  },
  {
   "cell_type": "code",
   "execution_count": 40,
   "metadata": {},
   "outputs": [
    {
     "data": {
      "text/html": [
       "<div>\n",
       "<style scoped>\n",
       "    .dataframe tbody tr th:only-of-type {\n",
       "        vertical-align: middle;\n",
       "    }\n",
       "\n",
       "    .dataframe tbody tr th {\n",
       "        vertical-align: top;\n",
       "    }\n",
       "\n",
       "    .dataframe thead th {\n",
       "        text-align: right;\n",
       "    }\n",
       "</style>\n",
       "<table border=\"1\" class=\"dataframe\">\n",
       "  <thead>\n",
       "    <tr style=\"text-align: right;\">\n",
       "      <th></th>\n",
       "      <th>Quantidade</th>\n",
       "      <th>Nome</th>\n",
       "      <th>Custo</th>\n",
       "      <th>Pontuação</th>\n",
       "      <th>Avaliações</th>\n",
       "    </tr>\n",
       "  </thead>\n",
       "  <tbody>\n",
       "    <tr>\n",
       "      <th>194</th>\n",
       "      <td>5000.0</td>\n",
       "      <td>Bear Flag Red Blend 2018</td>\n",
       "      <td>37.552</td>\n",
       "      <td>4.0</td>\n",
       "      <td>1014.0</td>\n",
       "    </tr>\n",
       "    <tr>\n",
       "      <th>195</th>\n",
       "      <td>5000.0</td>\n",
       "      <td>Pedro Teixeira Colheita Selecionada Bairrada D...</td>\n",
       "      <td>32.848</td>\n",
       "      <td>4.0</td>\n",
       "      <td>389.0</td>\n",
       "    </tr>\n",
       "    <tr>\n",
       "      <th>196</th>\n",
       "      <td>5000.0</td>\n",
       "      <td>Espumante Veuve D`Argent Blanc De Blancs Brut</td>\n",
       "      <td>34.728</td>\n",
       "      <td>4.0</td>\n",
       "      <td>360.0</td>\n",
       "    </tr>\n",
       "    <tr>\n",
       "      <th>197</th>\n",
       "      <td>5000.0</td>\n",
       "      <td>Praça dos Marqueses Escolha I.G. Beira Atlânti...</td>\n",
       "      <td>27.200</td>\n",
       "      <td>4.0</td>\n",
       "      <td>339.0</td>\n",
       "    </tr>\n",
       "    <tr>\n",
       "      <th>64</th>\n",
       "      <td>5000.0</td>\n",
       "      <td>Toro Loco D.O.P. Utiel-Requena Tinto Superior ...</td>\n",
       "      <td>23.432</td>\n",
       "      <td>4.5</td>\n",
       "      <td>261.0</td>\n",
       "    </tr>\n",
       "    <tr>\n",
       "      <th>198</th>\n",
       "      <td>4999.0</td>\n",
       "      <td>Espumante Toro Loco D.O. Cava Brut</td>\n",
       "      <td>42.256</td>\n",
       "      <td>4.0</td>\n",
       "      <td>284.0</td>\n",
       "    </tr>\n",
       "    <tr>\n",
       "      <th>199</th>\n",
       "      <td>247.0</td>\n",
       "      <td>Viña Cosos D.O. Campo de Borja Garnacha Syrah ...</td>\n",
       "      <td>39.920</td>\n",
       "      <td>4.0</td>\n",
       "      <td>254.0</td>\n",
       "    </tr>\n",
       "    <tr>\n",
       "      <th>200</th>\n",
       "      <td>4.0</td>\n",
       "      <td>Baron Philippe de Rothschild Mas Andes Caberne...</td>\n",
       "      <td>25.320</td>\n",
       "      <td>4.0</td>\n",
       "      <td>157.0</td>\n",
       "    </tr>\n",
       "  </tbody>\n",
       "</table>\n",
       "</div>"
      ],
      "text/plain": [
       "     Quantidade                                               Nome   Custo  \\\n",
       "194      5000.0                           Bear Flag Red Blend 2018  37.552   \n",
       "195      5000.0  Pedro Teixeira Colheita Selecionada Bairrada D...  32.848   \n",
       "196      5000.0      Espumante Veuve D`Argent Blanc De Blancs Brut  34.728   \n",
       "197      5000.0  Praça dos Marqueses Escolha I.G. Beira Atlânti...  27.200   \n",
       "64       5000.0  Toro Loco D.O.P. Utiel-Requena Tinto Superior ...  23.432   \n",
       "198      4999.0                 Espumante Toro Loco D.O. Cava Brut  42.256   \n",
       "199       247.0  Viña Cosos D.O. Campo de Borja Garnacha Syrah ...  39.920   \n",
       "200         4.0  Baron Philippe de Rothschild Mas Andes Caberne...  25.320   \n",
       "\n",
       "     Pontuação  Avaliações  \n",
       "194        4.0      1014.0  \n",
       "195        4.0       389.0  \n",
       "196        4.0       360.0  \n",
       "197        4.0       339.0  \n",
       "64         4.5       261.0  \n",
       "198        4.0       284.0  \n",
       "199        4.0       254.0  \n",
       "200        4.0       157.0  "
      ]
     },
     "execution_count": 40,
     "metadata": {},
     "output_type": "execute_result"
    }
   ],
   "source": [
    "solution[[\"Quantidade\", 'Nome', 'Custo', 'Pontuação', 'Avaliações']].sort_values(\"Quantidade\",ascending=False)"
   ]
  },
  {
   "cell_type": "markdown",
   "metadata": {},
   "source": [
    "Quantidade de Garrafas no Estoque"
   ]
  },
  {
   "cell_type": "code",
   "execution_count": 41,
   "metadata": {},
   "outputs": [
    {
     "data": {
      "text/plain": [
       "30250.0"
      ]
     },
     "execution_count": 41,
     "metadata": {},
     "output_type": "execute_result"
    }
   ],
   "source": [
    "sum(solution.Quantidade.to_list())"
   ]
  },
  {
   "cell_type": "markdown",
   "metadata": {},
   "source": [
    "A solução ainda é trivial porque há um catálogo muito pobre, seis vinhos somente com grande estoque e outros 2 com estoque baixo. No entanto a quantidade de garrafas é superior ao primeiro caso. Nada mais que ordenar pela quantidade de avaliações total."
   ]
  },
  {
   "cell_type": "markdown",
   "metadata": {},
   "source": [
    "## Solução 3\n",
    "Maximizar a Pontuação total e com pontuação mínima 4"
   ]
  },
  {
   "cell_type": "code",
   "execution_count": 42,
   "metadata": {},
   "outputs": [],
   "source": [
    "prob = LpProblem(\"Rastrear a Pontuação Mínima\", LpMaximize)"
   ]
  },
  {
   "cell_type": "markdown",
   "metadata": {},
   "source": [
    "## Variável\n",
    "Número de Garrafas Limitada à 5000 para evitar a solução trivial"
   ]
  },
  {
   "cell_type": "code",
   "execution_count": 43,
   "metadata": {},
   "outputs": [],
   "source": [
    "vinhos_var = LpVariable.dicts(\"Vinhos\", vinhos, lowBound=0, upBound=5000, cat='Integer')"
   ]
  },
  {
   "cell_type": "markdown",
   "metadata": {},
   "source": [
    "## Objetiva\n",
    "Maximizar a pontuação total"
   ]
  },
  {
   "cell_type": "code",
   "execution_count": 44,
   "metadata": {},
   "outputs": [],
   "source": [
    "prob += lpSum([total_pontos[i] * vinhos_var[i] for i in vinhos])"
   ]
  },
  {
   "cell_type": "markdown",
   "metadata": {},
   "source": [
    "## Constraints\n",
    "Orçamento"
   ]
  },
  {
   "cell_type": "code",
   "execution_count": 45,
   "metadata": {},
   "outputs": [],
   "source": [
    "prob += lpSum([custo[i] * vinhos_var[i] for i in vinhos]) <= BUDGET"
   ]
  },
  {
   "cell_type": "markdown",
   "metadata": {},
   "source": [
    "Pontuação Mínima deve ser 4"
   ]
  },
  {
   "cell_type": "code",
   "execution_count": 46,
   "metadata": {},
   "outputs": [],
   "source": [
    "prob += lpSum([pontos[i] * vinhos_var[i] for i in vinhos]) >= sum([4 * vinhos_var[i] for i in vinhos]) "
   ]
  },
  {
   "cell_type": "code",
   "execution_count": 47,
   "metadata": {},
   "outputs": [
    {
     "data": {
      "text/plain": [
       "1"
      ]
     },
     "execution_count": 47,
     "metadata": {},
     "output_type": "execute_result"
    }
   ],
   "source": [
    "prob.solve()"
   ]
  },
  {
   "cell_type": "code",
   "execution_count": 48,
   "metadata": {},
   "outputs": [],
   "source": [
    "status, solução = return_solution(prob)"
   ]
  },
  {
   "cell_type": "code",
   "execution_count": 49,
   "metadata": {},
   "outputs": [],
   "source": [
    "solução = {int(str(k).split('Vinhos_')[1]):v for k,v in solução.items()}"
   ]
  },
  {
   "cell_type": "code",
   "execution_count": 50,
   "metadata": {},
   "outputs": [
    {
     "name": "stdout",
     "output_type": "stream",
     "text": [
      "Status: Optimal\n",
      "Solução Encontrada: {194: 5000.0, 195: 5000.0, 196: 5000.0, 197: 5000.0, 198: 4999.0, 199: 247.0, 200: 4.0, 64: 5000.0}\n"
     ]
    }
   ],
   "source": [
    "print(f'Status: {status}')\n",
    "print(f'Solução Encontrada: {solução}')"
   ]
  },
  {
   "cell_type": "code",
   "execution_count": 51,
   "metadata": {},
   "outputs": [],
   "source": [
    "solution = data.loc[solução.keys()].copy()"
   ]
  },
  {
   "cell_type": "code",
   "execution_count": 52,
   "metadata": {},
   "outputs": [],
   "source": [
    "solution['Quantidade'] = solução.values()"
   ]
  },
  {
   "cell_type": "code",
   "execution_count": 53,
   "metadata": {},
   "outputs": [
    {
     "data": {
      "text/html": [
       "<div>\n",
       "<style scoped>\n",
       "    .dataframe tbody tr th:only-of-type {\n",
       "        vertical-align: middle;\n",
       "    }\n",
       "\n",
       "    .dataframe tbody tr th {\n",
       "        vertical-align: top;\n",
       "    }\n",
       "\n",
       "    .dataframe thead th {\n",
       "        text-align: right;\n",
       "    }\n",
       "</style>\n",
       "<table border=\"1\" class=\"dataframe\">\n",
       "  <thead>\n",
       "    <tr style=\"text-align: right;\">\n",
       "      <th></th>\n",
       "      <th>Quantidade</th>\n",
       "      <th>Nome</th>\n",
       "      <th>Custo</th>\n",
       "      <th>Pontuação</th>\n",
       "      <th>Avaliações</th>\n",
       "    </tr>\n",
       "  </thead>\n",
       "  <tbody>\n",
       "    <tr>\n",
       "      <th>194</th>\n",
       "      <td>5000.0</td>\n",
       "      <td>Bear Flag Red Blend 2018</td>\n",
       "      <td>37.552</td>\n",
       "      <td>4.0</td>\n",
       "      <td>1014.0</td>\n",
       "    </tr>\n",
       "    <tr>\n",
       "      <th>195</th>\n",
       "      <td>5000.0</td>\n",
       "      <td>Pedro Teixeira Colheita Selecionada Bairrada D...</td>\n",
       "      <td>32.848</td>\n",
       "      <td>4.0</td>\n",
       "      <td>389.0</td>\n",
       "    </tr>\n",
       "    <tr>\n",
       "      <th>196</th>\n",
       "      <td>5000.0</td>\n",
       "      <td>Espumante Veuve D`Argent Blanc De Blancs Brut</td>\n",
       "      <td>34.728</td>\n",
       "      <td>4.0</td>\n",
       "      <td>360.0</td>\n",
       "    </tr>\n",
       "    <tr>\n",
       "      <th>197</th>\n",
       "      <td>5000.0</td>\n",
       "      <td>Praça dos Marqueses Escolha I.G. Beira Atlânti...</td>\n",
       "      <td>27.200</td>\n",
       "      <td>4.0</td>\n",
       "      <td>339.0</td>\n",
       "    </tr>\n",
       "    <tr>\n",
       "      <th>64</th>\n",
       "      <td>5000.0</td>\n",
       "      <td>Toro Loco D.O.P. Utiel-Requena Tinto Superior ...</td>\n",
       "      <td>23.432</td>\n",
       "      <td>4.5</td>\n",
       "      <td>261.0</td>\n",
       "    </tr>\n",
       "    <tr>\n",
       "      <th>198</th>\n",
       "      <td>4999.0</td>\n",
       "      <td>Espumante Toro Loco D.O. Cava Brut</td>\n",
       "      <td>42.256</td>\n",
       "      <td>4.0</td>\n",
       "      <td>284.0</td>\n",
       "    </tr>\n",
       "    <tr>\n",
       "      <th>199</th>\n",
       "      <td>247.0</td>\n",
       "      <td>Viña Cosos D.O. Campo de Borja Garnacha Syrah ...</td>\n",
       "      <td>39.920</td>\n",
       "      <td>4.0</td>\n",
       "      <td>254.0</td>\n",
       "    </tr>\n",
       "    <tr>\n",
       "      <th>200</th>\n",
       "      <td>4.0</td>\n",
       "      <td>Baron Philippe de Rothschild Mas Andes Caberne...</td>\n",
       "      <td>25.320</td>\n",
       "      <td>4.0</td>\n",
       "      <td>157.0</td>\n",
       "    </tr>\n",
       "  </tbody>\n",
       "</table>\n",
       "</div>"
      ],
      "text/plain": [
       "     Quantidade                                               Nome   Custo  \\\n",
       "194      5000.0                           Bear Flag Red Blend 2018  37.552   \n",
       "195      5000.0  Pedro Teixeira Colheita Selecionada Bairrada D...  32.848   \n",
       "196      5000.0      Espumante Veuve D`Argent Blanc De Blancs Brut  34.728   \n",
       "197      5000.0  Praça dos Marqueses Escolha I.G. Beira Atlânti...  27.200   \n",
       "64       5000.0  Toro Loco D.O.P. Utiel-Requena Tinto Superior ...  23.432   \n",
       "198      4999.0                 Espumante Toro Loco D.O. Cava Brut  42.256   \n",
       "199       247.0  Viña Cosos D.O. Campo de Borja Garnacha Syrah ...  39.920   \n",
       "200         4.0  Baron Philippe de Rothschild Mas Andes Caberne...  25.320   \n",
       "\n",
       "     Pontuação  Avaliações  \n",
       "194        4.0      1014.0  \n",
       "195        4.0       389.0  \n",
       "196        4.0       360.0  \n",
       "197        4.0       339.0  \n",
       "64         4.5       261.0  \n",
       "198        4.0       284.0  \n",
       "199        4.0       254.0  \n",
       "200        4.0       157.0  "
      ]
     },
     "execution_count": 53,
     "metadata": {},
     "output_type": "execute_result"
    }
   ],
   "source": [
    "solution[[\"Quantidade\", 'Nome', 'Custo', 'Pontuação', 'Avaliações']].sort_values(\"Quantidade\",ascending=False)"
   ]
  },
  {
   "cell_type": "markdown",
   "metadata": {},
   "source": [
    "A solução encontrada é idêntica à solução 2 tendo em vista que já obedecia ao Constraint adicional."
   ]
  },
  {
   "cell_type": "markdown",
   "metadata": {},
   "source": [
    "## Solução 4"
   ]
  },
  {
   "cell_type": "code",
   "execution_count": 83,
   "metadata": {},
   "outputs": [],
   "source": [
    "prob = LpProblem(\"O preço como variável objetiva\", LpMaximize)"
   ]
  },
  {
   "cell_type": "markdown",
   "metadata": {},
   "source": [
    "## Variável\n",
    "Número de Garrafas Limitada à 5000 para evitar a solução trivial"
   ]
  },
  {
   "cell_type": "code",
   "execution_count": 84,
   "metadata": {},
   "outputs": [],
   "source": [
    "vinhos_var = LpVariable.dicts(\"Vinhos\", vinhos, lowBound=0, upBound=5000, cat='Integer')"
   ]
  },
  {
   "cell_type": "markdown",
   "metadata": {},
   "source": [
    "## Objetiva\n",
    "Maximizar a pontuação total"
   ]
  },
  {
   "cell_type": "code",
   "execution_count": 85,
   "metadata": {},
   "outputs": [],
   "source": [
    "prob += lpSum([vinhos_var[i] * 1./preço[i] for i in vinhos])"
   ]
  },
  {
   "cell_type": "markdown",
   "metadata": {},
   "source": [
    "## Constraints\n",
    "Orçamento"
   ]
  },
  {
   "cell_type": "code",
   "execution_count": 86,
   "metadata": {},
   "outputs": [],
   "source": [
    "prob += lpSum([custo[i] * vinhos_var[i] for i in vinhos]) <= BUDGET"
   ]
  },
  {
   "cell_type": "markdown",
   "metadata": {},
   "source": [
    "Para a Pontuação Mínima ser 4, devemos majorar a pontuação média por um valor maior"
   ]
  },
  {
   "cell_type": "code",
   "execution_count": 96,
   "metadata": {},
   "outputs": [],
   "source": [
    "prob += lpSum([pontos[i] * vinhos_var[i] for i in vinhos]) >= sum([4.5 * vinhos_var[i] for i in vinhos])  "
   ]
  },
  {
   "cell_type": "code",
   "execution_count": 97,
   "metadata": {},
   "outputs": [
    {
     "data": {
      "text/plain": [
       "1"
      ]
     },
     "execution_count": 97,
     "metadata": {},
     "output_type": "execute_result"
    }
   ],
   "source": [
    "prob.solve()"
   ]
  },
  {
   "cell_type": "code",
   "execution_count": 98,
   "metadata": {},
   "outputs": [],
   "source": [
    "status, solução = return_solution(prob)"
   ]
  },
  {
   "cell_type": "code",
   "execution_count": 99,
   "metadata": {},
   "outputs": [],
   "source": [
    "solução = {int(str(k).split('Vinhos_')[1]):v for k,v in solução.items()}"
   ]
  },
  {
   "cell_type": "code",
   "execution_count": 100,
   "metadata": {},
   "outputs": [
    {
     "name": "stdout",
     "output_type": "stream",
     "text": [
      "Status: Optimal\n",
      "Solução Encontrada: {121: 5000.0, 151: 5000.0, 153: 3404.0, 160: 5000.0, 216: 5000.0, 295: 5000.0, 56: 5000.0, 62: 5000.0, 64: 5000.0}\n"
     ]
    }
   ],
   "source": [
    "print(f'Status: {status}')\n",
    "print(f'Solução Encontrada: {solução}')"
   ]
  },
  {
   "cell_type": "code",
   "execution_count": 101,
   "metadata": {},
   "outputs": [],
   "source": [
    "solution = data.loc[solução.keys()].copy()"
   ]
  },
  {
   "cell_type": "code",
   "execution_count": 102,
   "metadata": {},
   "outputs": [],
   "source": [
    "solution['Quantidade'] = solução.values()"
   ]
  },
  {
   "cell_type": "code",
   "execution_count": 103,
   "metadata": {},
   "outputs": [
    {
     "data": {
      "text/html": [
       "<div>\n",
       "<style scoped>\n",
       "    .dataframe tbody tr th:only-of-type {\n",
       "        vertical-align: middle;\n",
       "    }\n",
       "\n",
       "    .dataframe tbody tr th {\n",
       "        vertical-align: top;\n",
       "    }\n",
       "\n",
       "    .dataframe thead th {\n",
       "        text-align: right;\n",
       "    }\n",
       "</style>\n",
       "<table border=\"1\" class=\"dataframe\">\n",
       "  <thead>\n",
       "    <tr style=\"text-align: right;\">\n",
       "      <th></th>\n",
       "      <th>Quantidade</th>\n",
       "      <th>Nome</th>\n",
       "      <th>Custo</th>\n",
       "      <th>Pontuação</th>\n",
       "      <th>Avaliações</th>\n",
       "    </tr>\n",
       "  </thead>\n",
       "  <tbody>\n",
       "    <tr>\n",
       "      <th>121</th>\n",
       "      <td>5000.0</td>\n",
       "      <td>Dark Horse Rosé Bubbles Lata 375ml</td>\n",
       "      <td>23.432</td>\n",
       "      <td>4.5</td>\n",
       "      <td>14.0</td>\n",
       "    </tr>\n",
       "    <tr>\n",
       "      <th>151</th>\n",
       "      <td>5000.0</td>\n",
       "      <td>Dark Horse Pinot Grigio Lata 375ml</td>\n",
       "      <td>23.432</td>\n",
       "      <td>4.5</td>\n",
       "      <td>8.0</td>\n",
       "    </tr>\n",
       "    <tr>\n",
       "      <th>160</th>\n",
       "      <td>5000.0</td>\n",
       "      <td>Dark Horse Rosé Lata 375ml</td>\n",
       "      <td>23.432</td>\n",
       "      <td>4.5</td>\n",
       "      <td>6.0</td>\n",
       "    </tr>\n",
       "    <tr>\n",
       "      <th>216</th>\n",
       "      <td>5000.0</td>\n",
       "      <td>Terralis Syrah Malbec 2018</td>\n",
       "      <td>20.608</td>\n",
       "      <td>4.0</td>\n",
       "      <td>55.0</td>\n",
       "    </tr>\n",
       "    <tr>\n",
       "      <th>295</th>\n",
       "      <td>5000.0</td>\n",
       "      <td>Espumante Baby Chandon Réserve Brut 187 ml.</td>\n",
       "      <td>22.496</td>\n",
       "      <td>4.0</td>\n",
       "      <td>14.0</td>\n",
       "    </tr>\n",
       "    <tr>\n",
       "      <th>56</th>\n",
       "      <td>5000.0</td>\n",
       "      <td>Frisante Miolo Moscatel Blanc</td>\n",
       "      <td>22.496</td>\n",
       "      <td>5.0</td>\n",
       "      <td>1.0</td>\n",
       "    </tr>\n",
       "    <tr>\n",
       "      <th>62</th>\n",
       "      <td>5000.0</td>\n",
       "      <td>Viña Carrasco Rosé 2018</td>\n",
       "      <td>23.432</td>\n",
       "      <td>5.0</td>\n",
       "      <td>1.0</td>\n",
       "    </tr>\n",
       "    <tr>\n",
       "      <th>64</th>\n",
       "      <td>5000.0</td>\n",
       "      <td>Toro Loco D.O.P. Utiel-Requena Tinto Superior ...</td>\n",
       "      <td>23.432</td>\n",
       "      <td>4.5</td>\n",
       "      <td>261.0</td>\n",
       "    </tr>\n",
       "    <tr>\n",
       "      <th>153</th>\n",
       "      <td>3404.0</td>\n",
       "      <td>Canepa Novísimo Carménère 2019</td>\n",
       "      <td>25.320</td>\n",
       "      <td>4.5</td>\n",
       "      <td>7.0</td>\n",
       "    </tr>\n",
       "  </tbody>\n",
       "</table>\n",
       "</div>"
      ],
      "text/plain": [
       "     Quantidade                                               Nome   Custo  \\\n",
       "121      5000.0                 Dark Horse Rosé Bubbles Lata 375ml  23.432   \n",
       "151      5000.0                 Dark Horse Pinot Grigio Lata 375ml  23.432   \n",
       "160      5000.0                         Dark Horse Rosé Lata 375ml  23.432   \n",
       "216      5000.0                         Terralis Syrah Malbec 2018  20.608   \n",
       "295      5000.0        Espumante Baby Chandon Réserve Brut 187 ml.  22.496   \n",
       "56       5000.0                      Frisante Miolo Moscatel Blanc  22.496   \n",
       "62       5000.0                            Viña Carrasco Rosé 2018  23.432   \n",
       "64       5000.0  Toro Loco D.O.P. Utiel-Requena Tinto Superior ...  23.432   \n",
       "153      3404.0                     Canepa Novísimo Carménère 2019  25.320   \n",
       "\n",
       "     Pontuação  Avaliações  \n",
       "121        4.5        14.0  \n",
       "151        4.5         8.0  \n",
       "160        4.5         6.0  \n",
       "216        4.0        55.0  \n",
       "295        4.0        14.0  \n",
       "56         5.0         1.0  \n",
       "62         5.0         1.0  \n",
       "64         4.5       261.0  \n",
       "153        4.5         7.0  "
      ]
     },
     "execution_count": 103,
     "metadata": {},
     "output_type": "execute_result"
    }
   ],
   "source": [
    "solution[[\"Quantidade\", 'Nome', 'Custo', 'Pontuação', 'Avaliações']].sort_values(\"Quantidade\",ascending=False)"
   ]
  },
  {
   "cell_type": "code",
   "execution_count": 7,
   "metadata": {},
   "outputs": [],
   "source": [
    "#data.index = data.index.str.replace(\" \", \"_\")"
   ]
  },
  {
   "cell_type": "markdown",
   "metadata": {},
   "source": [
    "Quantidade de Garrafas no Estoque"
   ]
  },
  {
   "cell_type": "code",
   "execution_count": 105,
   "metadata": {},
   "outputs": [
    {
     "data": {
      "text/plain": [
       "43404.0"
      ]
     },
     "execution_count": 105,
     "metadata": {},
     "output_type": "execute_result"
    }
   ],
   "source": [
    "sum(solution.Quantidade.to_list())"
   ]
  },
  {
   "cell_type": "markdown",
   "metadata": {},
   "source": [
    "Está claro que se não embutirmos constraints mais sofisticados somente temos soluções triviais, encontradas facilmente simplesmente ordenando  DataFrame"
   ]
  },
  {
   "cell_type": "markdown",
   "metadata": {},
   "source": [
    "## Solução 4\n",
    "* Minimizar o Custo como variável objetiva\n",
    "* Maximixar a Pontuação\n",
    "* Maximizar o nº de Avaliações"
   ]
  },
  {
   "cell_type": "code",
   "execution_count": 250,
   "metadata": {},
   "outputs": [
    {
     "name": "stderr",
     "output_type": "stream",
     "text": [
      "/home/ronaldo/.local/share/virtualenvs/wino-rEbptTiD/lib/python3.7/site-packages/pulp/pulp.py:1137: UserWarning: Spaces are not permitted in the name. Converted to '_'\n",
      "  warnings.warn(\"Spaces are not permitted in the name. Converted to '_'\")\n"
     ]
    }
   ],
   "source": [
    "prob = LpProblem(\"Maximo Pontuação, mínimo Preço\", LpMaximize)"
   ]
  },
  {
   "cell_type": "markdown",
   "metadata": {},
   "source": [
    "## Variável\n",
    "Número de Garrafas Limitada à 5000 para evitar a solução trivial"
   ]
  },
  {
   "cell_type": "code",
   "execution_count": 251,
   "metadata": {},
   "outputs": [],
   "source": [
    "vinhos_var = LpVariable.dicts(\"Vinhos\", vinhos, lowBound=0, upBound=5000, cat='Integer')"
   ]
  },
  {
   "cell_type": "markdown",
   "metadata": {},
   "source": [
    "## Objetiva\n",
    "Maximizar a pontuação total"
   ]
  },
  {
   "cell_type": "code",
   "execution_count": 252,
   "metadata": {},
   "outputs": [],
   "source": [
    "prob += lpSum([vinhos_var[i] * 1./preço[i] for i in vinhos])"
   ]
  },
  {
   "cell_type": "markdown",
   "metadata": {},
   "source": [
    "## Constraints\n",
    "Orçamento"
   ]
  },
  {
   "cell_type": "code",
   "execution_count": 253,
   "metadata": {},
   "outputs": [],
   "source": [
    "prob += lpSum([custo[i] * vinhos_var[i] for i in vinhos]) <= BUDGET"
   ]
  },
  {
   "cell_type": "markdown",
   "metadata": {},
   "source": [
    "Pontuação Mínima deve ser 4"
   ]
  },
  {
   "cell_type": "code",
   "execution_count": 254,
   "metadata": {},
   "outputs": [],
   "source": [
    "prob += lpSum([pontos[i] * vinhos_var[i] for i in vinhos]) >= 4.5 * sum([vinhos_var[i] for i in vinhos]) "
   ]
  },
  {
   "cell_type": "code",
   "execution_count": 255,
   "metadata": {},
   "outputs": [
    {
     "data": {
      "text/plain": [
       "1"
      ]
     },
     "execution_count": 255,
     "metadata": {},
     "output_type": "execute_result"
    }
   ],
   "source": [
    "prob.solve()"
   ]
  },
  {
   "cell_type": "code",
   "execution_count": 256,
   "metadata": {},
   "outputs": [],
   "source": [
    "status, solução = return_solution(prob)"
   ]
  },
  {
   "cell_type": "code",
   "execution_count": 257,
   "metadata": {},
   "outputs": [],
   "source": [
    "solução = {int(str(k).split('Vinhos_')[1]):v for k,v in solução.items()}"
   ]
  },
  {
   "cell_type": "code",
   "execution_count": 258,
   "metadata": {},
   "outputs": [
    {
     "name": "stdout",
     "output_type": "stream",
     "text": [
      "Status: Optimal\n",
      "Solução Encontrada: {241: 2.0, 260: 5000.0, 280: 5000.0, 345: 5000.0, 471: 2350.0, 500: 5000.0, 502: 5000.0, 503: 2350.0, 62: 5000.0}\n"
     ]
    }
   ],
   "source": [
    "print(f'Status: {status}')\n",
    "print(f'Solução Encontrada: {solução}')"
   ]
  },
  {
   "cell_type": "code",
   "execution_count": 259,
   "metadata": {},
   "outputs": [],
   "source": [
    "solution = data.loc[solução.keys()].copy()"
   ]
  },
  {
   "cell_type": "code",
   "execution_count": 260,
   "metadata": {},
   "outputs": [],
   "source": [
    "solution['Quantidade'] = solução.values()"
   ]
  },
  {
   "cell_type": "code",
   "execution_count": 261,
   "metadata": {},
   "outputs": [
    {
     "data": {
      "text/html": [
       "<div>\n",
       "<style scoped>\n",
       "    .dataframe tbody tr th:only-of-type {\n",
       "        vertical-align: middle;\n",
       "    }\n",
       "\n",
       "    .dataframe tbody tr th {\n",
       "        vertical-align: top;\n",
       "    }\n",
       "\n",
       "    .dataframe thead th {\n",
       "        text-align: right;\n",
       "    }\n",
       "</style>\n",
       "<table border=\"1\" class=\"dataframe\">\n",
       "  <thead>\n",
       "    <tr style=\"text-align: right;\">\n",
       "      <th></th>\n",
       "      <th>Quantidade</th>\n",
       "      <th>Nome</th>\n",
       "      <th>Custo</th>\n",
       "      <th>Pontuação</th>\n",
       "      <th>Avaliações</th>\n",
       "    </tr>\n",
       "  </thead>\n",
       "  <tbody>\n",
       "    <tr>\n",
       "      <th>260</th>\n",
       "      <td>5000.0</td>\n",
       "      <td>Nederburg 56 Hundred Pinot Grigio 2018</td>\n",
       "      <td>25.320</td>\n",
       "      <td>4.0</td>\n",
       "      <td>25.0</td>\n",
       "    </tr>\n",
       "    <tr>\n",
       "      <th>280</th>\n",
       "      <td>5000.0</td>\n",
       "      <td>Mosaiko 2015</td>\n",
       "      <td>37.552</td>\n",
       "      <td>4.0</td>\n",
       "      <td>18.0</td>\n",
       "    </tr>\n",
       "    <tr>\n",
       "      <th>345</th>\n",
       "      <td>5000.0</td>\n",
       "      <td>Dark Horse Brut Bubbles Lata 375ml</td>\n",
       "      <td>23.432</td>\n",
       "      <td>4.0</td>\n",
       "      <td>7.0</td>\n",
       "    </tr>\n",
       "    <tr>\n",
       "      <th>500</th>\n",
       "      <td>5000.0</td>\n",
       "      <td>Viña Pelequen Cabernet Sauvignon/Carmenere Syr...</td>\n",
       "      <td>26.256</td>\n",
       "      <td>3.5</td>\n",
       "      <td>2.0</td>\n",
       "    </tr>\n",
       "    <tr>\n",
       "      <th>502</th>\n",
       "      <td>5000.0</td>\n",
       "      <td>Viña Carrasco Chardonnay 2018</td>\n",
       "      <td>23.432</td>\n",
       "      <td>3.5</td>\n",
       "      <td>2.0</td>\n",
       "    </tr>\n",
       "    <tr>\n",
       "      <th>62</th>\n",
       "      <td>5000.0</td>\n",
       "      <td>Viña Carrasco Rosé 2018</td>\n",
       "      <td>23.432</td>\n",
       "      <td>5.0</td>\n",
       "      <td>1.0</td>\n",
       "    </tr>\n",
       "    <tr>\n",
       "      <th>471</th>\n",
       "      <td>2350.0</td>\n",
       "      <td>Dark Horse Sauvignon Blanc Lata 375ml</td>\n",
       "      <td>23.432</td>\n",
       "      <td>3.5</td>\n",
       "      <td>6.0</td>\n",
       "    </tr>\n",
       "    <tr>\n",
       "      <th>503</th>\n",
       "      <td>2350.0</td>\n",
       "      <td>Zenithwirl Cabernet Sauvignon 2018</td>\n",
       "      <td>30.024</td>\n",
       "      <td>3.0</td>\n",
       "      <td>46.0</td>\n",
       "    </tr>\n",
       "    <tr>\n",
       "      <th>241</th>\n",
       "      <td>2.0</td>\n",
       "      <td>Canepa Novísimo Sauvignon Blanc 2018</td>\n",
       "      <td>35.680</td>\n",
       "      <td>4.0</td>\n",
       "      <td>34.0</td>\n",
       "    </tr>\n",
       "  </tbody>\n",
       "</table>\n",
       "</div>"
      ],
      "text/plain": [
       "     Quantidade                                               Nome   Custo  \\\n",
       "260      5000.0             Nederburg 56 Hundred Pinot Grigio 2018  25.320   \n",
       "280      5000.0                                       Mosaiko 2015  37.552   \n",
       "345      5000.0                 Dark Horse Brut Bubbles Lata 375ml  23.432   \n",
       "500      5000.0  Viña Pelequen Cabernet Sauvignon/Carmenere Syr...  26.256   \n",
       "502      5000.0                      Viña Carrasco Chardonnay 2018  23.432   \n",
       "62       5000.0                            Viña Carrasco Rosé 2018  23.432   \n",
       "471      2350.0              Dark Horse Sauvignon Blanc Lata 375ml  23.432   \n",
       "503      2350.0                 Zenithwirl Cabernet Sauvignon 2018  30.024   \n",
       "241         2.0               Canepa Novísimo Sauvignon Blanc 2018  35.680   \n",
       "\n",
       "     Pontuação  Avaliações  \n",
       "260        4.0        25.0  \n",
       "280        4.0        18.0  \n",
       "345        4.0         7.0  \n",
       "500        3.5         2.0  \n",
       "502        3.5         2.0  \n",
       "62         5.0         1.0  \n",
       "471        3.5         6.0  \n",
       "503        3.0        46.0  \n",
       "241        4.0        34.0  "
      ]
     },
     "execution_count": 261,
     "metadata": {},
     "output_type": "execute_result"
    }
   ],
   "source": [
    "solution[[\"Quantidade\", 'Nome', 'Custo', 'Pontuação', 'Avaliações']].sort_values(\"Quantidade\",ascending=False)"
   ]
  },
  {
   "cell_type": "markdown",
   "metadata": {},
   "source": [
    "Quantidade de Garrafas no Estoque"
   ]
  },
  {
   "cell_type": "code",
   "execution_count": 262,
   "metadata": {},
   "outputs": [
    {
     "data": {
      "text/plain": [
       "34702.0"
      ]
     },
     "execution_count": 262,
     "metadata": {},
     "output_type": "execute_result"
    }
   ],
   "source": [
    "sum(solution.Quantidade.to_list())"
   ]
  },
  {
   "cell_type": "code",
   "execution_count": 265,
   "metadata": {},
   "outputs": [
    {
     "data": {
      "text/plain": [
       "True"
      ]
     },
     "execution_count": 265,
     "metadata": {},
     "output_type": "execute_result"
    }
   ],
   "source": [
    "sum(row.Quantidade * row.Custo for row in solution.itertuples()) <= BUDGET"
   ]
  },
  {
   "cell_type": "markdown",
   "metadata": {},
   "source": [
    "Está claro que se não embutirmos constraints mais sofisticados somente temos soluções triviais, encontradas facilmente simplesmente ordenando  DataFrame"
   ]
  },
  {
   "cell_type": "markdown",
   "metadata": {},
   "source": [
    "## Estratégia\n",
    "Os dados de negócio da wine.com são:\n",
    "* 100.000 clientes\n",
    "* 2 vinhos distintos por mês\n",
    "* 569 vinhos disponíveis\n",
    "* 3780 vinhos distintos no catálogo\n",
    "\n",
    "Mock-up de Negócios: 1% do escopo da wine com Orçamento de R$ 1.000.000\n",
    "* Projeção de 1000 Clientes\n",
    "* 2 vinhos por mês\n",
    "* Estoque para 6 meses\n",
    "\n",
    "Isso resulta inicialmente no mínimo de 12000 garrafas no estoque, 12 vinhos distintos e no mínimo de 1000 garrafas por vinho. \n",
    "Vamos começar com essas condições iniciais."
   ]
  },
  {
   "cell_type": "code",
   "execution_count": 10,
   "metadata": {},
   "outputs": [],
   "source": [
    "data.set_index('Nome', inplace=True)"
   ]
  },
  {
   "cell_type": "code",
   "execution_count": 11,
   "metadata": {},
   "outputs": [],
   "source": [
    "vinhos = data.index.to_list()\n",
    "n = range(len(vinhos))\n",
    "custo = [float(i) for i in data.Custo.to_list()]\n",
    "pontos = [float(i) for i in data.Pontuação.to_list()]\n",
    "avaliação = [int(i) for i in data.Avaliações.to_list()]\n",
    "total_pontos = [int(i) for i in data.Pontos_Total.to_list()]\n",
    "NUM_WINE = 1000"
   ]
  },
  {
   "cell_type": "code",
   "execution_count": 12,
   "metadata": {},
   "outputs": [],
   "source": [
    "m = Model('Competidor') # use GRB for Gurobi"
   ]
  },
  {
   "cell_type": "code",
   "execution_count": 13,
   "metadata": {},
   "outputs": [],
   "source": [
    "wines = [m.add_var(name=vinho, var_type=BINARY) for vinho in vinhos]"
   ]
  },
  {
   "cell_type": "code",
   "execution_count": 14,
   "metadata": {},
   "outputs": [],
   "source": [
    "m.objective = maximize(xsum(wines[i] * total_pontos[i] for i in n))"
   ]
  },
  {
   "cell_type": "code",
   "execution_count": 15,
   "metadata": {},
   "outputs": [],
   "source": [
    "m += xsum(wines[i] * custo[i] for i in n) <= BUDGET / NUM_WINE"
   ]
  },
  {
   "cell_type": "code",
   "execution_count": 16,
   "metadata": {},
   "outputs": [],
   "source": [
    "m += xsum(wines[i] * avaliação[i] >= 4 for i in n) >= xsum(1 * wines[i] for i in n)"
   ]
  },
  {
   "cell_type": "markdown",
   "metadata": {},
   "source": [
    "Relaxação básica do orçamento, se tivermos um valor menor no orçamento do que o vinho mais barato não podemos comprar a safra"
   ]
  },
  {
   "cell_type": "code",
   "execution_count": 398,
   "metadata": {},
   "outputs": [],
   "source": [
    "#m += xsum(wines[i] * custo[i] for i in n) >= BUDGET / NUM_WINE - data.Custo.min()"
   ]
  },
  {
   "cell_type": "code",
   "execution_count": 17,
   "metadata": {},
   "outputs": [
    {
     "name": "stdout",
     "output_type": "stream",
     "text": [
      "optimal solution cost 21188.0 found\n",
      "solution:\n",
      "Bear Flag Red Blend 2018 : 1\n",
      "Pedro Teixeira Colheita Selecionada Bairrada D.O.C 2018 : 1\n",
      "Espumante Veuve D`Argent Blanc De Blancs Brut : 1\n",
      "Praça dos Marqueses Escolha I.G. Beira Atlântico 2018 : 1\n",
      "Clos de Los Siete By Michel Rolland 2016 : 1\n",
      "Toro Loco D.O.P. Utiel-Requena Tinto Superior 2018 : 1\n",
      "Espumante Toro Loco D.O. Cava Brut : 1\n",
      "Viña Cosos D.O. Campo de Borja Garnacha Syrah 2018 : 1\n",
      "Casillero Reserva Limited Edition Cabernet Sauvignon : 1\n",
      "Espumante Fantinel D.O.C. Prosecco Extra Dry : 1\n",
      "Baron Philippe de Rothschild Mas Andes Cabernet Sauvignon 2018 : 1\n",
      "Baron Philippe de Rothschild Mas Andes Carménère 2018 : 1\n",
      "Espumante Louis Bouillot Rosé Brut : 1\n",
      "Sardelli D.O.C.G. Chianti 2016 : 1\n",
      "Tenuta Sant`Antonio Scaia I.G.T. Veneto Corvina 2015 : 1\n",
      "Roureda Levante D.O. Tarragona 2017 : 1\n",
      "Pérez Cruz GSM D.O. Valle del Maipo Andes 2016 : 1\n",
      "Dancing Flame Ojos del Salado Shiraz 2018 : 1\n",
      "Espumante Salton Moscatel : 1\n",
      "Canepa Novísimo Merlot 2018 : 1\n",
      "Terralis Cabernet Merlot 2018 : 1\n",
      "Dancing Flame Ojos del Salado Merlot 2018 : 1\n",
      "Espumante Salton Brut : 1\n",
      "Root: 1 Reserva Heritage Red 2018 : 1\n",
      "Urmeneta Carménère 2018 : 1\n",
      "Nederburg 56 Hundred Pinotage 2018 : 1\n",
      "Terralis Syrah Malbec 2018 : 1\n",
      "Canepa Novísimo Syrah 2018 : 1\n",
      "Portas da Herdade Tinto 2018 : 1\n"
     ]
    }
   ],
   "source": [
    "m.max_gap = 0.05\n",
    "status = m.optimize(max_seconds=300)\n",
    "if status == OptimizationStatus.OPTIMAL:\n",
    "    print('optimal solution cost {} found'.format(m.objective_value))\n",
    "elif status == OptimizationStatus.FEASIBLE:\n",
    "    print('sol.cost {} found, best possible: {}'.format(m.objective_value, m.objective_bound))\n",
    "elif status == OptimizationStatus.NO_SOLUTION_FOUND:\n",
    "    print('no feasible solution found, lower bound is: {}'.format(m.objective_bound))\n",
    "if status == OptimizationStatus.OPTIMAL or status == OptimizationStatus.FEASIBLE:\n",
    "    print('solution:')\n",
    "    for v in m.vars:\n",
    "        if abs(v.x) > 1e-6: # only printing non-zeros\n",
    "            print('{} : {}'.format(v.name, v.x))"
   ]
  },
  {
   "cell_type": "code",
   "execution_count": 18,
   "metadata": {},
   "outputs": [],
   "source": [
    "solução = {v.name:v.x for v in m.vars if abs(v.x) > 1e-6}"
   ]
  },
  {
   "cell_type": "code",
   "execution_count": 19,
   "metadata": {},
   "outputs": [],
   "source": [
    "solution = data.loc[solução.keys()].copy()"
   ]
  },
  {
   "cell_type": "code",
   "execution_count": 26,
   "metadata": {},
   "outputs": [
    {
     "data": {
      "text/html": [
       "<div>\n",
       "<style scoped>\n",
       "    .dataframe tbody tr th:only-of-type {\n",
       "        vertical-align: middle;\n",
       "    }\n",
       "\n",
       "    .dataframe tbody tr th {\n",
       "        vertical-align: top;\n",
       "    }\n",
       "\n",
       "    .dataframe thead th {\n",
       "        text-align: right;\n",
       "    }\n",
       "</style>\n",
       "<table border=\"1\" class=\"dataframe\">\n",
       "  <thead>\n",
       "    <tr style=\"text-align: right;\">\n",
       "      <th></th>\n",
       "      <th>Custo</th>\n",
       "      <th>Preço_Normal</th>\n",
       "      <th>Preço_Sócio</th>\n",
       "      <th>Pontuação</th>\n",
       "      <th>Avaliações</th>\n",
       "      <th>Pontos_Total</th>\n",
       "      <th>Potencial_Guarda</th>\n",
       "    </tr>\n",
       "    <tr>\n",
       "      <th>Nome</th>\n",
       "      <th></th>\n",
       "      <th></th>\n",
       "      <th></th>\n",
       "      <th></th>\n",
       "      <th></th>\n",
       "      <th></th>\n",
       "      <th></th>\n",
       "    </tr>\n",
       "  </thead>\n",
       "  <tbody>\n",
       "    <tr>\n",
       "      <th>Espumante Veuve D`Argent Blanc De Blancs Brut</th>\n",
       "      <td>34.728</td>\n",
       "      <td>43.41</td>\n",
       "      <td>36.90</td>\n",
       "      <td>4.0</td>\n",
       "      <td>360.0</td>\n",
       "      <td>1440.0</td>\n",
       "      <td>2.0</td>\n",
       "    </tr>\n",
       "    <tr>\n",
       "      <th>Espumante Salton Moscatel</th>\n",
       "      <td>30.968</td>\n",
       "      <td>38.71</td>\n",
       "      <td>32.90</td>\n",
       "      <td>4.5</td>\n",
       "      <td>72.0</td>\n",
       "      <td>324.0</td>\n",
       "      <td>2.0</td>\n",
       "    </tr>\n",
       "    <tr>\n",
       "      <th>Canepa Novísimo Merlot 2018</th>\n",
       "      <td>25.320</td>\n",
       "      <td>31.65</td>\n",
       "      <td>26.90</td>\n",
       "      <td>4.5</td>\n",
       "      <td>72.0</td>\n",
       "      <td>324.0</td>\n",
       "      <td>3.0</td>\n",
       "    </tr>\n",
       "    <tr>\n",
       "      <th>Espumante Salton Brut</th>\n",
       "      <td>30.968</td>\n",
       "      <td>38.71</td>\n",
       "      <td>32.90</td>\n",
       "      <td>4.5</td>\n",
       "      <td>60.0</td>\n",
       "      <td>270.0</td>\n",
       "      <td>3.0</td>\n",
       "    </tr>\n",
       "    <tr>\n",
       "      <th>Espumante Toro Loco D.O. Cava Brut</th>\n",
       "      <td>42.256</td>\n",
       "      <td>52.82</td>\n",
       "      <td>44.90</td>\n",
       "      <td>4.0</td>\n",
       "      <td>284.0</td>\n",
       "      <td>1136.0</td>\n",
       "      <td>3.0</td>\n",
       "    </tr>\n",
       "    <tr>\n",
       "      <th>Canepa Novísimo Syrah 2018</th>\n",
       "      <td>25.320</td>\n",
       "      <td>31.65</td>\n",
       "      <td>26.90</td>\n",
       "      <td>4.0</td>\n",
       "      <td>53.0</td>\n",
       "      <td>212.0</td>\n",
       "      <td>3.0</td>\n",
       "    </tr>\n",
       "    <tr>\n",
       "      <th>Espumante Fantinel D.O.C. Prosecco Extra Dry</th>\n",
       "      <td>51.672</td>\n",
       "      <td>64.59</td>\n",
       "      <td>54.90</td>\n",
       "      <td>4.5</td>\n",
       "      <td>187.0</td>\n",
       "      <td>841.5</td>\n",
       "      <td>3.0</td>\n",
       "    </tr>\n",
       "    <tr>\n",
       "      <th>Espumante Louis Bouillot Rosé Brut</th>\n",
       "      <td>61.080</td>\n",
       "      <td>76.35</td>\n",
       "      <td>64.90</td>\n",
       "      <td>4.5</td>\n",
       "      <td>109.0</td>\n",
       "      <td>490.5</td>\n",
       "      <td>3.0</td>\n",
       "    </tr>\n",
       "    <tr>\n",
       "      <th>Baron Philippe de Rothschild Mas Andes Cabernet Sauvignon 2018</th>\n",
       "      <td>25.320</td>\n",
       "      <td>31.65</td>\n",
       "      <td>26.90</td>\n",
       "      <td>4.0</td>\n",
       "      <td>157.0</td>\n",
       "      <td>628.0</td>\n",
       "      <td>4.0</td>\n",
       "    </tr>\n",
       "    <tr>\n",
       "      <th>Dancing Flame Ojos del Salado Shiraz 2018</th>\n",
       "      <td>24.376</td>\n",
       "      <td>30.47</td>\n",
       "      <td>25.90</td>\n",
       "      <td>3.5</td>\n",
       "      <td>96.0</td>\n",
       "      <td>336.0</td>\n",
       "      <td>4.0</td>\n",
       "    </tr>\n",
       "    <tr>\n",
       "      <th>Roureda Levante D.O. Tarragona 2017</th>\n",
       "      <td>31.904</td>\n",
       "      <td>39.88</td>\n",
       "      <td>33.90</td>\n",
       "      <td>4.0</td>\n",
       "      <td>99.0</td>\n",
       "      <td>396.0</td>\n",
       "      <td>4.0</td>\n",
       "    </tr>\n",
       "    <tr>\n",
       "      <th>Sardelli D.O.C.G. Chianti 2016</th>\n",
       "      <td>33.792</td>\n",
       "      <td>42.24</td>\n",
       "      <td>35.90</td>\n",
       "      <td>3.5</td>\n",
       "      <td>124.0</td>\n",
       "      <td>434.0</td>\n",
       "      <td>4.0</td>\n",
       "    </tr>\n",
       "    <tr>\n",
       "      <th>Dancing Flame Ojos del Salado Merlot 2018</th>\n",
       "      <td>24.376</td>\n",
       "      <td>30.47</td>\n",
       "      <td>25.90</td>\n",
       "      <td>4.0</td>\n",
       "      <td>70.0</td>\n",
       "      <td>280.0</td>\n",
       "      <td>4.0</td>\n",
       "    </tr>\n",
       "    <tr>\n",
       "      <th>Terralis Cabernet Merlot 2018</th>\n",
       "      <td>22.496</td>\n",
       "      <td>28.12</td>\n",
       "      <td>23.90</td>\n",
       "      <td>4.0</td>\n",
       "      <td>76.0</td>\n",
       "      <td>304.0</td>\n",
       "      <td>4.0</td>\n",
       "    </tr>\n",
       "    <tr>\n",
       "      <th>Casillero Reserva Limited Edition Cabernet Sauvignon</th>\n",
       "      <td>42.256</td>\n",
       "      <td>52.82</td>\n",
       "      <td>44.90</td>\n",
       "      <td>4.5</td>\n",
       "      <td>203.0</td>\n",
       "      <td>913.5</td>\n",
       "      <td>4.0</td>\n",
       "    </tr>\n",
       "    <tr>\n",
       "      <th>Toro Loco D.O.P. Utiel-Requena Tinto Superior 2018</th>\n",
       "      <td>23.432</td>\n",
       "      <td>29.29</td>\n",
       "      <td>24.90</td>\n",
       "      <td>4.5</td>\n",
       "      <td>261.0</td>\n",
       "      <td>1174.5</td>\n",
       "      <td>4.0</td>\n",
       "    </tr>\n",
       "    <tr>\n",
       "      <th>Urmeneta Carménère 2018</th>\n",
       "      <td>25.320</td>\n",
       "      <td>31.65</td>\n",
       "      <td>26.90</td>\n",
       "      <td>4.0</td>\n",
       "      <td>59.0</td>\n",
       "      <td>236.0</td>\n",
       "      <td>4.0</td>\n",
       "    </tr>\n",
       "    <tr>\n",
       "      <th>Terralis Syrah Malbec 2018</th>\n",
       "      <td>20.608</td>\n",
       "      <td>25.76</td>\n",
       "      <td>21.90</td>\n",
       "      <td>4.0</td>\n",
       "      <td>55.0</td>\n",
       "      <td>220.0</td>\n",
       "      <td>4.0</td>\n",
       "    </tr>\n",
       "    <tr>\n",
       "      <th>Baron Philippe de Rothschild Mas Andes Carménère 2018</th>\n",
       "      <td>25.320</td>\n",
       "      <td>31.65</td>\n",
       "      <td>26.90</td>\n",
       "      <td>4.0</td>\n",
       "      <td>143.0</td>\n",
       "      <td>572.0</td>\n",
       "      <td>4.0</td>\n",
       "    </tr>\n",
       "    <tr>\n",
       "      <th>Root: 1 Reserva Heritage Red 2018</th>\n",
       "      <td>33.792</td>\n",
       "      <td>42.24</td>\n",
       "      <td>35.90</td>\n",
       "      <td>4.5</td>\n",
       "      <td>56.0</td>\n",
       "      <td>252.0</td>\n",
       "      <td>5.0</td>\n",
       "    </tr>\n",
       "    <tr>\n",
       "      <th>Nederburg 56 Hundred Pinotage 2018</th>\n",
       "      <td>25.320</td>\n",
       "      <td>31.65</td>\n",
       "      <td>26.90</td>\n",
       "      <td>4.0</td>\n",
       "      <td>57.0</td>\n",
       "      <td>228.0</td>\n",
       "      <td>5.0</td>\n",
       "    </tr>\n",
       "    <tr>\n",
       "      <th>Bear Flag Red Blend 2018</th>\n",
       "      <td>37.552</td>\n",
       "      <td>46.94</td>\n",
       "      <td>39.90</td>\n",
       "      <td>4.0</td>\n",
       "      <td>1014.0</td>\n",
       "      <td>4056.0</td>\n",
       "      <td>5.0</td>\n",
       "    </tr>\n",
       "    <tr>\n",
       "      <th>Tenuta Sant`Antonio Scaia I.G.T. Veneto Corvina 2015</th>\n",
       "      <td>44.144</td>\n",
       "      <td>55.18</td>\n",
       "      <td>46.90</td>\n",
       "      <td>4.0</td>\n",
       "      <td>103.0</td>\n",
       "      <td>412.0</td>\n",
       "      <td>5.0</td>\n",
       "    </tr>\n",
       "    <tr>\n",
       "      <th>Viña Cosos D.O. Campo de Borja Garnacha Syrah 2018</th>\n",
       "      <td>39.920</td>\n",
       "      <td>49.90</td>\n",
       "      <td>42.42</td>\n",
       "      <td>4.0</td>\n",
       "      <td>254.0</td>\n",
       "      <td>1016.0</td>\n",
       "      <td>5.0</td>\n",
       "    </tr>\n",
       "    <tr>\n",
       "      <th>Praça dos Marqueses Escolha I.G. Beira Atlântico 2018</th>\n",
       "      <td>27.200</td>\n",
       "      <td>34.00</td>\n",
       "      <td>28.90</td>\n",
       "      <td>4.0</td>\n",
       "      <td>339.0</td>\n",
       "      <td>1356.0</td>\n",
       "      <td>5.0</td>\n",
       "    </tr>\n",
       "    <tr>\n",
       "      <th>Pérez Cruz GSM D.O. Valle del Maipo Andes 2016</th>\n",
       "      <td>52.608</td>\n",
       "      <td>65.76</td>\n",
       "      <td>55.90</td>\n",
       "      <td>4.5</td>\n",
       "      <td>81.0</td>\n",
       "      <td>364.5</td>\n",
       "      <td>5.0</td>\n",
       "    </tr>\n",
       "    <tr>\n",
       "      <th>Portas da Herdade Tinto 2018</th>\n",
       "      <td>27.200</td>\n",
       "      <td>34.00</td>\n",
       "      <td>28.90</td>\n",
       "      <td>4.0</td>\n",
       "      <td>53.0</td>\n",
       "      <td>212.0</td>\n",
       "      <td>5.0</td>\n",
       "    </tr>\n",
       "    <tr>\n",
       "      <th>Pedro Teixeira Colheita Selecionada Bairrada D.O.C 2018</th>\n",
       "      <td>32.848</td>\n",
       "      <td>41.06</td>\n",
       "      <td>34.90</td>\n",
       "      <td>4.0</td>\n",
       "      <td>389.0</td>\n",
       "      <td>1556.0</td>\n",
       "      <td>7.0</td>\n",
       "    </tr>\n",
       "    <tr>\n",
       "      <th>Clos de Los Siete By Michel Rolland 2016</th>\n",
       "      <td>74.256</td>\n",
       "      <td>92.82</td>\n",
       "      <td>78.90</td>\n",
       "      <td>4.5</td>\n",
       "      <td>268.0</td>\n",
       "      <td>1206.0</td>\n",
       "      <td>10.0</td>\n",
       "    </tr>\n",
       "  </tbody>\n",
       "</table>\n",
       "</div>"
      ],
      "text/plain": [
       "                                                     Custo  Preço_Normal  \\\n",
       "Nome                                                                       \n",
       "Espumante Veuve D`Argent Blanc De Blancs Brut       34.728         43.41   \n",
       "Espumante Salton Moscatel                           30.968         38.71   \n",
       "Canepa Novísimo Merlot 2018                         25.320         31.65   \n",
       "Espumante Salton Brut                               30.968         38.71   \n",
       "Espumante Toro Loco D.O. Cava Brut                  42.256         52.82   \n",
       "Canepa Novísimo Syrah 2018                          25.320         31.65   \n",
       "Espumante Fantinel D.O.C. Prosecco Extra Dry        51.672         64.59   \n",
       "Espumante Louis Bouillot Rosé Brut                  61.080         76.35   \n",
       "Baron Philippe de Rothschild Mas Andes Cabernet...  25.320         31.65   \n",
       "Dancing Flame Ojos del Salado Shiraz 2018           24.376         30.47   \n",
       "Roureda Levante D.O. Tarragona 2017                 31.904         39.88   \n",
       "Sardelli D.O.C.G. Chianti 2016                      33.792         42.24   \n",
       "Dancing Flame Ojos del Salado Merlot 2018           24.376         30.47   \n",
       "Terralis Cabernet Merlot 2018                       22.496         28.12   \n",
       "Casillero Reserva Limited Edition Cabernet Sauv...  42.256         52.82   \n",
       "Toro Loco D.O.P. Utiel-Requena Tinto Superior 2018  23.432         29.29   \n",
       "Urmeneta Carménère 2018                             25.320         31.65   \n",
       "Terralis Syrah Malbec 2018                          20.608         25.76   \n",
       "Baron Philippe de Rothschild Mas Andes Carménèr...  25.320         31.65   \n",
       "Root: 1 Reserva Heritage Red 2018                   33.792         42.24   \n",
       "Nederburg 56 Hundred Pinotage 2018                  25.320         31.65   \n",
       "Bear Flag Red Blend 2018                            37.552         46.94   \n",
       "Tenuta Sant`Antonio Scaia I.G.T. Veneto Corvina...  44.144         55.18   \n",
       "Viña Cosos D.O. Campo de Borja Garnacha Syrah 2018  39.920         49.90   \n",
       "Praça dos Marqueses Escolha I.G. Beira Atlântic...  27.200         34.00   \n",
       "Pérez Cruz GSM D.O. Valle del Maipo Andes 2016      52.608         65.76   \n",
       "Portas da Herdade Tinto 2018                        27.200         34.00   \n",
       "Pedro Teixeira Colheita Selecionada Bairrada D....  32.848         41.06   \n",
       "Clos de Los Siete By Michel Rolland 2016            74.256         92.82   \n",
       "\n",
       "                                                    Preço_Sócio  Pontuação  \\\n",
       "Nome                                                                         \n",
       "Espumante Veuve D`Argent Blanc De Blancs Brut             36.90        4.0   \n",
       "Espumante Salton Moscatel                                 32.90        4.5   \n",
       "Canepa Novísimo Merlot 2018                               26.90        4.5   \n",
       "Espumante Salton Brut                                     32.90        4.5   \n",
       "Espumante Toro Loco D.O. Cava Brut                        44.90        4.0   \n",
       "Canepa Novísimo Syrah 2018                                26.90        4.0   \n",
       "Espumante Fantinel D.O.C. Prosecco Extra Dry              54.90        4.5   \n",
       "Espumante Louis Bouillot Rosé Brut                        64.90        4.5   \n",
       "Baron Philippe de Rothschild Mas Andes Cabernet...        26.90        4.0   \n",
       "Dancing Flame Ojos del Salado Shiraz 2018                 25.90        3.5   \n",
       "Roureda Levante D.O. Tarragona 2017                       33.90        4.0   \n",
       "Sardelli D.O.C.G. Chianti 2016                            35.90        3.5   \n",
       "Dancing Flame Ojos del Salado Merlot 2018                 25.90        4.0   \n",
       "Terralis Cabernet Merlot 2018                             23.90        4.0   \n",
       "Casillero Reserva Limited Edition Cabernet Sauv...        44.90        4.5   \n",
       "Toro Loco D.O.P. Utiel-Requena Tinto Superior 2018        24.90        4.5   \n",
       "Urmeneta Carménère 2018                                   26.90        4.0   \n",
       "Terralis Syrah Malbec 2018                                21.90        4.0   \n",
       "Baron Philippe de Rothschild Mas Andes Carménèr...        26.90        4.0   \n",
       "Root: 1 Reserva Heritage Red 2018                         35.90        4.5   \n",
       "Nederburg 56 Hundred Pinotage 2018                        26.90        4.0   \n",
       "Bear Flag Red Blend 2018                                  39.90        4.0   \n",
       "Tenuta Sant`Antonio Scaia I.G.T. Veneto Corvina...        46.90        4.0   \n",
       "Viña Cosos D.O. Campo de Borja Garnacha Syrah 2018        42.42        4.0   \n",
       "Praça dos Marqueses Escolha I.G. Beira Atlântic...        28.90        4.0   \n",
       "Pérez Cruz GSM D.O. Valle del Maipo Andes 2016            55.90        4.5   \n",
       "Portas da Herdade Tinto 2018                              28.90        4.0   \n",
       "Pedro Teixeira Colheita Selecionada Bairrada D....        34.90        4.0   \n",
       "Clos de Los Siete By Michel Rolland 2016                  78.90        4.5   \n",
       "\n",
       "                                                    Avaliações  Pontos_Total  \\\n",
       "Nome                                                                           \n",
       "Espumante Veuve D`Argent Blanc De Blancs Brut            360.0        1440.0   \n",
       "Espumante Salton Moscatel                                 72.0         324.0   \n",
       "Canepa Novísimo Merlot 2018                               72.0         324.0   \n",
       "Espumante Salton Brut                                     60.0         270.0   \n",
       "Espumante Toro Loco D.O. Cava Brut                       284.0        1136.0   \n",
       "Canepa Novísimo Syrah 2018                                53.0         212.0   \n",
       "Espumante Fantinel D.O.C. Prosecco Extra Dry             187.0         841.5   \n",
       "Espumante Louis Bouillot Rosé Brut                       109.0         490.5   \n",
       "Baron Philippe de Rothschild Mas Andes Cabernet...       157.0         628.0   \n",
       "Dancing Flame Ojos del Salado Shiraz 2018                 96.0         336.0   \n",
       "Roureda Levante D.O. Tarragona 2017                       99.0         396.0   \n",
       "Sardelli D.O.C.G. Chianti 2016                           124.0         434.0   \n",
       "Dancing Flame Ojos del Salado Merlot 2018                 70.0         280.0   \n",
       "Terralis Cabernet Merlot 2018                             76.0         304.0   \n",
       "Casillero Reserva Limited Edition Cabernet Sauv...       203.0         913.5   \n",
       "Toro Loco D.O.P. Utiel-Requena Tinto Superior 2018       261.0        1174.5   \n",
       "Urmeneta Carménère 2018                                   59.0         236.0   \n",
       "Terralis Syrah Malbec 2018                                55.0         220.0   \n",
       "Baron Philippe de Rothschild Mas Andes Carménèr...       143.0         572.0   \n",
       "Root: 1 Reserva Heritage Red 2018                         56.0         252.0   \n",
       "Nederburg 56 Hundred Pinotage 2018                        57.0         228.0   \n",
       "Bear Flag Red Blend 2018                                1014.0        4056.0   \n",
       "Tenuta Sant`Antonio Scaia I.G.T. Veneto Corvina...       103.0         412.0   \n",
       "Viña Cosos D.O. Campo de Borja Garnacha Syrah 2018       254.0        1016.0   \n",
       "Praça dos Marqueses Escolha I.G. Beira Atlântic...       339.0        1356.0   \n",
       "Pérez Cruz GSM D.O. Valle del Maipo Andes 2016            81.0         364.5   \n",
       "Portas da Herdade Tinto 2018                              53.0         212.0   \n",
       "Pedro Teixeira Colheita Selecionada Bairrada D....       389.0        1556.0   \n",
       "Clos de Los Siete By Michel Rolland 2016                 268.0        1206.0   \n",
       "\n",
       "                                                    Potencial_Guarda  \n",
       "Nome                                                                  \n",
       "Espumante Veuve D`Argent Blanc De Blancs Brut                    2.0  \n",
       "Espumante Salton Moscatel                                        2.0  \n",
       "Canepa Novísimo Merlot 2018                                      3.0  \n",
       "Espumante Salton Brut                                            3.0  \n",
       "Espumante Toro Loco D.O. Cava Brut                               3.0  \n",
       "Canepa Novísimo Syrah 2018                                       3.0  \n",
       "Espumante Fantinel D.O.C. Prosecco Extra Dry                     3.0  \n",
       "Espumante Louis Bouillot Rosé Brut                               3.0  \n",
       "Baron Philippe de Rothschild Mas Andes Cabernet...               4.0  \n",
       "Dancing Flame Ojos del Salado Shiraz 2018                        4.0  \n",
       "Roureda Levante D.O. Tarragona 2017                              4.0  \n",
       "Sardelli D.O.C.G. Chianti 2016                                   4.0  \n",
       "Dancing Flame Ojos del Salado Merlot 2018                        4.0  \n",
       "Terralis Cabernet Merlot 2018                                    4.0  \n",
       "Casillero Reserva Limited Edition Cabernet Sauv...               4.0  \n",
       "Toro Loco D.O.P. Utiel-Requena Tinto Superior 2018               4.0  \n",
       "Urmeneta Carménère 2018                                          4.0  \n",
       "Terralis Syrah Malbec 2018                                       4.0  \n",
       "Baron Philippe de Rothschild Mas Andes Carménèr...               4.0  \n",
       "Root: 1 Reserva Heritage Red 2018                                5.0  \n",
       "Nederburg 56 Hundred Pinotage 2018                               5.0  \n",
       "Bear Flag Red Blend 2018                                         5.0  \n",
       "Tenuta Sant`Antonio Scaia I.G.T. Veneto Corvina...               5.0  \n",
       "Viña Cosos D.O. Campo de Borja Garnacha Syrah 2018               5.0  \n",
       "Praça dos Marqueses Escolha I.G. Beira Atlântic...               5.0  \n",
       "Pérez Cruz GSM D.O. Valle del Maipo Andes 2016                   5.0  \n",
       "Portas da Herdade Tinto 2018                                     5.0  \n",
       "Pedro Teixeira Colheita Selecionada Bairrada D....               7.0  \n",
       "Clos de Los Siete By Michel Rolland 2016                        10.0  "
      ]
     },
     "execution_count": 26,
     "metadata": {},
     "output_type": "execute_result"
    }
   ],
   "source": [
    "solution[['Custo', 'Preço_Normal', 'Preço_Sócio', 'Pontuação', 'Avaliações', 'Pontos_Total', 'Potencial_Guarda']].sort_values(\"Potencial_Guarda\")"
   ]
  },
  {
   "cell_type": "code",
   "execution_count": 23,
   "metadata": {},
   "outputs": [
    {
     "data": {
      "text/plain": [
       "(29, 31)"
      ]
     },
     "execution_count": 23,
     "metadata": {},
     "output_type": "execute_result"
    }
   ],
   "source": [
    "solution.shape"
   ]
  },
  {
   "cell_type": "code",
   "execution_count": 22,
   "metadata": {},
   "outputs": [
    {
     "data": {
      "text/plain": [
       "True"
      ]
     },
     "execution_count": 22,
     "metadata": {},
     "output_type": "execute_result"
    }
   ],
   "source": [
    "sum(row.Quantidade * row.Custo for row in solution.itertuples()) * 1000 < BUDGET"
   ]
  },
  {
   "cell_type": "code",
   "execution_count": 28,
   "metadata": {},
   "outputs": [
    {
     "name": "stdout",
     "output_type": "stream",
     "text": [
      "selected items: [0, 3]\n"
     ]
    }
   ],
   "source": [
    "p = [10, 13, 18, 31, 7, 15]\n",
    "w = [11, 15, 20, 35, 10, 33]\n",
    "c, I = 47, range(len(w))\n",
    "\n",
    "m = Model('knapsack')\n",
    "\n",
    "x = [m.add_var(var_type=BINARY) for i in I]\n",
    "\n",
    "m.objective = maximize(xsum(p[i] * x[i] for i in I))\n",
    "\n",
    "m += xsum(w[i] * x[i] for i in I) <= c\n",
    "\n",
    "m.optimize()\n",
    "\n",
    "selected = [i for i in I if x[i].x >= 0.99]\n",
    "print('selected items: {}'.format(selected))"
   ]
  },
  {
   "cell_type": "code",
   "execution_count": null,
   "metadata": {},
   "outputs": [],
   "source": [
    "prob = LpProblem(\"Maximização_do_Catálogo\", LpMinimize)"
   ]
  },
  {
   "cell_type": "code",
   "execution_count": null,
   "metadata": {},
   "outputs": [],
   "source": [
    "vinho_vars = LpVariable.dicts(\"Vinhos\", vinhos, lowBound=0, cat='Continous')"
   ]
  },
  {
   "cell_type": "code",
   "execution_count": null,
   "metadata": {},
   "outputs": [],
   "source": [
    "prob += lpSum([total_pontos[i]* vinho_vars[i] for i in vinho_vars])"
   ]
  },
  {
   "cell_type": "markdown",
   "metadata": {},
   "source": [
    "Orçamento"
   ]
  },
  {
   "cell_type": "code",
   "execution_count": null,
   "metadata": {},
   "outputs": [],
   "source": [
    "prob += lpSum([custo[i] * vinho_vars[i] for i in vinho_vars]) <= BUDGET"
   ]
  },
  {
   "cell_type": "code",
   "execution_count": null,
   "metadata": {},
   "outputs": [],
   "source": [
    "prob.solve()"
   ]
  },
  {
   "cell_type": "code",
   "execution_count": null,
   "metadata": {},
   "outputs": [],
   "source": [
    "for v in prob.variables():\n",
    "    print(v.name, \"=\", v.varValue)"
   ]
  },
  {
   "cell_type": "code",
   "execution_count": null,
   "metadata": {},
   "outputs": [],
   "source": []
  },
  {
   "cell_type": "code",
   "execution_count": null,
   "metadata": {},
   "outputs": [],
   "source": [
    "pontos.sum()"
   ]
  },
  {
   "cell_type": "code",
   "execution_count": null,
   "metadata": {},
   "outputs": [],
   "source": [
    "n_pontos.sum()"
   ]
  },
  {
   "cell_type": "markdown",
   "metadata": {},
   "source": [
    "Primeiramente vamos ver o que temos só minimizando o custo dentro do Orçamento."
   ]
  },
  {
   "cell_type": "code",
   "execution_count": null,
   "metadata": {},
   "outputs": [],
   "source": []
  },
  {
   "cell_type": "code",
   "execution_count": null,
   "metadata": {},
   "outputs": [],
   "source": [
    "vinhos_possiveis = [tuple(c) for c in allcombinations(vinhos, len(vinhos))]"
   ]
  },
  {
   "cell_type": "code",
   "execution_count": null,
   "metadata": {},
   "outputs": [],
   "source": [
    "import pulp\n",
    "\n",
    "max_tables = 5\n",
    "max_table_size = 4\n",
    "guests = 'A B C D E F G I J K L M N O P Q R'.split()\n",
    "\n",
    "def happiness(table):\n",
    "    \"\"\"\n",
    "    Find the happiness of the table\n",
    "    - by calculating the maximum distance between the letters\n",
    "    \"\"\"\n",
    "    return abs(ord(table[0]) - ord(table[-1]))\n",
    "                \n",
    "#create list of all possible tables\n",
    "possible_tables = [tuple(c) for c in pulp.allcombinations(guests, \n",
    "                                        max_table_size)]\n",
    "\n",
    "#create a binary variable to state that a table setting is used\n",
    "x = pulp.LpVariable.dicts('table', possible_tables, \n",
    "                            lowBound = 0,\n",
    "                            upBound = 1,\n",
    "                            cat = pulp.LpInteger)\n",
    "\n",
    "seating_model = pulp.LpProblem(\"Wedding Seating Model\", pulp.LpMinimize)\n",
    "\n",
    "seating_model += sum([happiness(table) * x[table] for table in possible_tables])\n",
    "\n",
    "#specify the maximum number of tables\n",
    "seating_model += sum([x[table] for table in possible_tables]) <= max_tables, \\\n",
    "                            \"Maximum_number_of_tables\"\n",
    "\n",
    "#A guest must seated at one and only one table\n",
    "for guest in guests:\n",
    "    seating_model += sum([x[table] for table in possible_tables\n",
    "                                if guest in table]) == 1, \"Must_seat_%s\"%guest\n",
    "\n",
    "seating_model.solve()\n",
    "\n",
    "print(\"The choosen tables are out of a total of %s:\"%len(possible_tables))\n",
    "for table in possible_tables:\n",
    "    if x[table].value() == 1.0:\n",
    "        print(table)"
   ]
  },
  {
   "cell_type": "code",
   "execution_count": null,
   "metadata": {},
   "outputs": [],
   "source": [
    "ord('M') - ord('N')"
   ]
  },
  {
   "cell_type": "code",
   "execution_count": null,
   "metadata": {},
   "outputs": [],
   "source": [
    "from partitions import get_partitions_ruskey as getpart"
   ]
  },
  {
   "cell_type": "code",
   "execution_count": null,
   "metadata": {},
   "outputs": [],
   "source": [
    "for i, p in enumerate(getpart(data.index.values)):\n",
    "    if i == 1000:\n",
    "        break\n",
    "    print(len(p))"
   ]
  },
  {
   "cell_type": "code",
   "execution_count": null,
   "metadata": {},
   "outputs": [],
   "source": []
  }
 ],
 "metadata": {
  "kernelspec": {
   "display_name": "wino",
   "language": "python",
   "name": "wino"
  },
  "language_info": {
   "codemirror_mode": {
    "name": "ipython",
    "version": 3
   },
   "file_extension": ".py",
   "mimetype": "text/x-python",
   "name": "python",
   "nbconvert_exporter": "python",
   "pygments_lexer": "ipython3",
   "version": "3.7.4"
  }
 },
 "nbformat": 4,
 "nbformat_minor": 4
}
