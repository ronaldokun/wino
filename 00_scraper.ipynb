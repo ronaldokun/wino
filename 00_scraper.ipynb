{
 "cells": [
  {
   "cell_type": "code",
   "execution_count": null,
   "metadata": {},
   "outputs": [],
   "source": [
    "# default_exp crawler"
   ]
  },
  {
   "cell_type": "markdown",
   "metadata": {},
   "source": [
    "# Crawler\n",
    "> This repository aims to explore the catalog available at wine.com.br, do some exploratory analysis in it and \n",
    "create initially a toy recommendation engine / wine classifier and pricing tool. "
   ]
  },
  {
   "cell_type": "code",
   "execution_count": null,
   "metadata": {},
   "outputs": [],
   "source": [
    "#hide\n",
    "from nbdev.showdoc import *\n",
    "import scrapy\n",
    "from fire import Fire\n",
    "from bs4 import BeautifulSoup as soup\n",
    "from scrapy.crawler import CrawlerProcess\n",
    "from scrapy.linkextractors.lxmlhtml import LxmlLinkExtractor\n",
    "\n",
    "prefix = 'https://wine.com.br'\n",
    "url_short = 'https://www.wine.com.br/browse.ep?cID=100851&exibirEsgotados=true&listagem=horizontal&sorter=featuredProducts-desc&filters=cVINHOS'"
   ]
  },
  {
   "cell_type": "code",
   "execution_count": null,
   "metadata": {},
   "outputs": [],
   "source": [
    "CATALOG = '//article/div[2]'\n",
    "NEXT = '/html/body/div[6]/div/div[2]/div[2]/div/div[4]/div'"
   ]
  },
  {
   "cell_type": "code",
   "execution_count": null,
   "metadata": {},
   "outputs": [],
   "source": [
    "link_extract =   LxmlLinkExtractor(restrict_text='Próxima >>')    "
   ]
  },
  {
   "cell_type": "code",
   "execution_count": null,
   "metadata": {},
   "outputs": [],
   "source": [
    "# Create the Spider class\n",
    "class WineSpider(scrapy.Spider):\n",
    "    name = \"winespider\"\n",
    "    def start_requests(self):\n",
    "        yield scrapy.Request(url = url_short, callback = self.parse_page)\n",
    "    \n",
    "    def parse_page(self, response):\n",
    "        wine_list = response.xpath(CATALOG)\n",
    "        for block in wine_list:\n",
    "            yield { 'wine': block.css('div > a::attr(\"title\")').get(),\n",
    "                    'link': prefix + block.css('div > a::attr(\"href\")').get()\n",
    "                  }\n",
    "        \n",
    "        #next_page = response.xpath(f\"{NEXT}//a[./text()='Próxima >>']\").get()\n",
    "        next_page = response.xpath(\"//a[contains(text(), 'Próxima')]/href\").get()\n",
    "        \n",
    "        \n",
    "        if next_page is not None:\n",
    "            yield response.follow(next_page, self.parse_page)\n",
    "        \n",
    "    # Second parsing method\n",
    "    def parse_pages(self, response):\n",
    "        crs_title = response.xpath('//h1[contains(@class,\"title\")]/text()')\n",
    "        crs_title_ext = crs_title.extract_first().strip()\n",
    "        ch_titles = response.css('p.course__description::text')\n",
    "        ch_titles_ext = [t.strip() for t in ch_titles.extract()]\n",
    "        dc_dict[ crs_title_ext ] = ch_titles_ext"
   ]
  },
  {
   "cell_type": "code",
   "execution_count": null,
   "metadata": {},
   "outputs": [
    {
     "name": "stderr",
     "output_type": "stream",
     "text": [
      "2020-02-16 17:11:57 [scrapy.utils.log] INFO: Scrapy 1.8.0 started (bot: scrapybot)\n",
      "2020-02-16 17:11:57 [scrapy.utils.log] INFO: Versions: lxml 4.5.0.0, libxml2 2.9.10, cssselect 1.1.0, parsel 1.5.2, w3lib 1.21.0, Twisted 19.10.0, Python 3.7.4 (default, Aug 13 2019, 20:35:49) - [GCC 7.3.0], pyOpenSSL 19.1.0 (OpenSSL 1.1.1d  10 Sep 2019), cryptography 2.8, Platform Linux-4.10.0-38-generic-x86_64-with-debian-stretch-sid\n",
      "2020-02-16 17:11:57 [scrapy.crawler] INFO: Overridden settings: {}\n",
      "2020-02-16 17:11:57 [scrapy.extensions.telnet] INFO: Telnet Password: 6d6c61681a4ac7bc\n",
      "2020-02-16 17:11:57 [scrapy.middleware] INFO: Enabled extensions:\n",
      "['scrapy.extensions.corestats.CoreStats',\n",
      " 'scrapy.extensions.telnet.TelnetConsole',\n",
      " 'scrapy.extensions.memusage.MemoryUsage',\n",
      " 'scrapy.extensions.logstats.LogStats']\n",
      "2020-02-16 17:11:57 [scrapy.middleware] INFO: Enabled downloader middlewares:\n",
      "['scrapy.downloadermiddlewares.httpauth.HttpAuthMiddleware',\n",
      " 'scrapy.downloadermiddlewares.downloadtimeout.DownloadTimeoutMiddleware',\n",
      " 'scrapy.downloadermiddlewares.defaultheaders.DefaultHeadersMiddleware',\n",
      " 'scrapy.downloadermiddlewares.useragent.UserAgentMiddleware',\n",
      " 'scrapy.downloadermiddlewares.retry.RetryMiddleware',\n",
      " 'scrapy.downloadermiddlewares.redirect.MetaRefreshMiddleware',\n",
      " 'scrapy.downloadermiddlewares.httpcompression.HttpCompressionMiddleware',\n",
      " 'scrapy.downloadermiddlewares.redirect.RedirectMiddleware',\n",
      " 'scrapy.downloadermiddlewares.cookies.CookiesMiddleware',\n",
      " 'scrapy.downloadermiddlewares.httpproxy.HttpProxyMiddleware',\n",
      " 'scrapy.downloadermiddlewares.stats.DownloaderStats']\n",
      "2020-02-16 17:11:57 [scrapy.middleware] INFO: Enabled spider middlewares:\n",
      "['scrapy.spidermiddlewares.httperror.HttpErrorMiddleware',\n",
      " 'scrapy.spidermiddlewares.offsite.OffsiteMiddleware',\n",
      " 'scrapy.spidermiddlewares.referer.RefererMiddleware',\n",
      " 'scrapy.spidermiddlewares.urllength.UrlLengthMiddleware',\n",
      " 'scrapy.spidermiddlewares.depth.DepthMiddleware']\n",
      "2020-02-16 17:11:57 [scrapy.middleware] INFO: Enabled item pipelines:\n",
      "[]\n",
      "2020-02-16 17:11:57 [scrapy.core.engine] INFO: Spider opened\n",
      "2020-02-16 17:11:57 [scrapy.extensions.logstats] INFO: Crawled 0 pages (at 0 pages/min), scraped 0 items (at 0 items/min)\n",
      "2020-02-16 17:11:57 [scrapy.extensions.telnet] INFO: Telnet console listening on 127.0.0.1:6023\n",
      "2020-02-16 17:12:00 [scrapy.core.engine] DEBUG: Crawled (200) <GET https://www.wine.com.br/browse.ep?cID=100851&exibirEsgotados=true&listagem=horizontal&sorter=featuredProducts-desc&filters=cVINHOS> (referer: None)\n",
      "2020-02-16 17:12:00 [scrapy.core.scraper] DEBUG: Scraped from <200 https://www.wine.com.br/browse.ep?cID=100851&exibirEsgotados=true&listagem=horizontal&sorter=featuredProducts-desc&filters=cVINHOS>\n",
      "{'wine': '\\n      ', 'link': 'https://wine.com.br/vinhos/champagne-montaudon-brut/prod3170.html'}\n",
      "2020-02-16 17:12:00 [scrapy.core.scraper] DEBUG: Scraped from <200 https://www.wine.com.br/browse.ep?cID=100851&exibirEsgotados=true&listagem=horizontal&sorter=featuredProducts-desc&filters=cVINHOS>\n",
      "{'wine': '\\n      ', 'link': 'https://wine.com.br/vinhos/canepa-novisimo-cabernet-sauvignon-2017/prod19252.html'}\n",
      "2020-02-16 17:12:00 [scrapy.core.scraper] DEBUG: Scraped from <200 https://www.wine.com.br/browse.ep?cID=100851&exibirEsgotados=true&listagem=horizontal&sorter=featuredProducts-desc&filters=cVINHOS>\n",
      "{'wine': '\\n      ', 'link': 'https://wine.com.br/vinhos/frisante-porta-soprana-lambrusco-i-g-p-emilia-branco-amabile-suave/prod6944.html'}\n",
      "2020-02-16 17:12:00 [scrapy.core.scraper] DEBUG: Scraped from <200 https://www.wine.com.br/browse.ep?cID=100851&exibirEsgotados=true&listagem=horizontal&sorter=featuredProducts-desc&filters=cVINHOS>\n",
      "{'wine': '\\n      ', 'link': 'https://wine.com.br/vinhos/maison-le-star-rose-on-ice/prod18479.html'}\n",
      "2020-02-16 17:12:00 [scrapy.core.scraper] DEBUG: Scraped from <200 https://www.wine.com.br/browse.ep?cID=100851&exibirEsgotados=true&listagem=horizontal&sorter=featuredProducts-desc&filters=cVINHOS>\n",
      "{'wine': '\\n      ', 'link': 'https://wine.com.br/vinhos/gerard-bertrand-grand-terroir-a-o-p-les-aspres-2015/prod19395.html'}\n",
      "2020-02-16 17:12:00 [scrapy.core.scraper] DEBUG: Scraped from <200 https://www.wine.com.br/browse.ep?cID=100851&exibirEsgotados=true&listagem=horizontal&sorter=featuredProducts-desc&filters=cVINHOS>\n",
      "{'wine': '\\n      ', 'link': 'https://wine.com.br/vinhos/punta-paramo-malbec-2018/prod20965.html'}\n",
      "2020-02-16 17:12:00 [scrapy.core.scraper] DEBUG: Scraped from <200 https://www.wine.com.br/browse.ep?cID=100851&exibirEsgotados=true&listagem=horizontal&sorter=featuredProducts-desc&filters=cVINHOS>\n",
      "{'wine': '\\n      ', 'link': 'https://wine.com.br/vinhos/mad-chief-chardonnay-2018/prod22742.html'}\n",
      "2020-02-16 17:12:00 [scrapy.core.scraper] DEBUG: Scraped from <200 https://www.wine.com.br/browse.ep?cID=100851&exibirEsgotados=true&listagem=horizontal&sorter=featuredProducts-desc&filters=cVINHOS>\n",
      "{'wine': '\\n      ', 'link': 'https://wine.com.br/vinhos/clos-dalian-crianza-d-o-terra-alta-garnacha-tinta-2015/prod22803.html'}\n",
      "2020-02-16 17:12:00 [scrapy.core.scraper] DEBUG: Scraped from <200 https://www.wine.com.br/browse.ep?cID=100851&exibirEsgotados=true&listagem=horizontal&sorter=featuredProducts-desc&filters=cVINHOS>\n",
      "{'wine': '\\n      ', 'link': 'https://wine.com.br/vinhos/espumante-series-by-salton-moscatel/prod22774.html'}\n",
      "2020-02-16 17:12:01 [scrapy.core.engine] INFO: Closing spider (finished)\n",
      "2020-02-16 17:12:01 [scrapy.statscollectors] INFO: Dumping Scrapy stats:\n",
      "{'downloader/request_bytes': 320,\n",
      " 'downloader/request_count': 1,\n",
      " 'downloader/request_method_count/GET': 1,\n",
      " 'downloader/response_bytes': 29196,\n",
      " 'downloader/response_count': 1,\n",
      " 'downloader/response_status_count/200': 1,\n",
      " 'elapsed_time_seconds': 3.611084,\n",
      " 'finish_reason': 'finished',\n",
      " 'finish_time': datetime.datetime(2020, 2, 16, 20, 12, 1, 7481),\n",
      " 'item_scraped_count': 9,\n",
      " 'log_count/DEBUG': 10,\n",
      " 'log_count/INFO': 10,\n",
      " 'memusage/max': 91979776,\n",
      " 'memusage/startup': 91979776,\n",
      " 'response_received_count': 1,\n",
      " 'scheduler/dequeued': 1,\n",
      " 'scheduler/dequeued/memory': 1,\n",
      " 'scheduler/enqueued': 1,\n",
      " 'scheduler/enqueued/memory': 1,\n",
      " 'start_time': datetime.datetime(2020, 2, 16, 20, 11, 57, 396397)}\n",
      "2020-02-16 17:12:01 [scrapy.core.engine] INFO: Spider closed (finished)\n",
      "\u001b[1m\u001b[31mERROR: \u001b[0mCould not consume arg: -f\n",
      "Usage: ipykernel_launcher.py\n",
      "\n",
      "For detailed information on this command, run:\n",
      "  ipykernel_launcher.py --help\n"
     ]
    },
    {
     "ename": "FireExit",
     "evalue": "2",
     "output_type": "error",
     "traceback": [
      "An exception has occurred, use %tb to see the full traceback.\n",
      "\u001b[0;31mFireExit\u001b[0m\u001b[0;31m:\u001b[0m 2\n"
     ]
    },
    {
     "name": "stderr",
     "output_type": "stream",
     "text": [
      "2020-02-16 17:12:01 [py.warnings] WARNING: /home/ronaldo/.local/share/virtualenvs/wino-rEbptTiD/lib/python3.7/site-packages/IPython/core/interactiveshell.py:3339: UserWarning: To exit: use 'exit', 'quit', or Ctrl-D.\n",
      "  warn(\"To exit: use 'exit', 'quit', or Ctrl-D.\", stacklevel=1)\n",
      "\n"
     ]
    }
   ],
   "source": [
    "# Initialize the dictionary **outside** of the Spider class\n",
    "dc_dict = dict()\n",
    "\n",
    "\n",
    "def crawl():\n",
    "    # Run the Spider\n",
    "    process = CrawlerProcess()\n",
    "    process.crawl(WineSpider)\n",
    "    process.start()\n",
    "\n",
    "if __name__ == '__main__':\n",
    "    Fire(crawl)"
   ]
  },
  {
   "cell_type": "code",
   "execution_count": null,
   "metadata": {},
   "outputs": [],
   "source": []
  }
 ],
 "metadata": {
  "jupytext": {
   "formats": "ipynb,py:light",
   "text_representation": {
    "extension": ".py",
    "format_name": "percent",
    "format_version": "1.2",
    "jupytext_version": "1.2.3"
   }
  },
  "kernelspec": {
   "display_name": "wino",
   "language": "python",
   "name": "wino"
  }
 },
 "nbformat": 4,
 "nbformat_minor": 4
}
